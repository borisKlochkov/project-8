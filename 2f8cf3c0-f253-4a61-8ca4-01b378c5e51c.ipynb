{
 "cells": [
  {
   "cell_type": "markdown",
   "metadata": {},
   "source": [
    "<font color='blue' size=5><b>Комментарий ревьюера</b></font>\n",
    "\n",
    "<font color='blue'>Привет, Борис! Меня зовут Павел Григорьев, и я буду проверять этот проект.<br>Моя основная цель - не указать на совершённые тобой ошибки, а поделиться своим опытом и помочь тебе совершенствоваться как профессионалу.<br>Спасибо за проделанную работу! Предлагаю общаться на «ты».</font>\n",
    "<details>\n",
    "\t<summary><u>Инструкция по организационным моментам (кликабельно)</u></summary>\n",
    "<font color='blue'>Я буду использовать различные цвета, чтобы было удобнее воспринимать мои комментарии:</font>\n",
    "\n",
    "\n",
    "---\n",
    "\n",
    "\n",
    "<font color='blue'>синий текст - просто текст комментария</font>\n",
    "\n",
    "<font color='green'>✔️ и зеленый текст - все отлично</font>\n",
    "\n",
    "<font color='orange'>⚠️ и оранжевый текст - сделано все правильно, однако есть рекомендации, на что стоит обратить внимание</font>\n",
    "\n",
    "<font color='red'>❌ и красный текст - есть недочеты</font>\n",
    "\n",
    "\n",
    "</details>    \n",
    "    </br>\n",
    "<font color='blue'>Пожалуйста, не удаляй мои комментарии в случае возврата работы, так будет проще разобраться, какие были недочеты, а также сразу увидеть исправленное. </font>\n",
    "\n",
    "Ответы на мои комментарии лучше тоже помечать.\n",
    "Например: <font color='purple'><b>Комментарий студента</b></font>\n",
    "\n",
    "<font color='blue'><b>Давай смотреть, что получилось!</b></font>"
   ]
  },
  {
   "cell_type": "markdown",
   "metadata": {
    "toc": true
   },
   "source": [
    "<h1>Содержание<span class=\"tocSkip\"></span></h1>\n",
    "<div class=\"toc\"><ul class=\"toc-item\"><li><span><a href=\"#Подготовка-данных\" data-toc-modified-id=\"Подготовка-данных-1\"><span class=\"toc-item-num\">1&nbsp;&nbsp;</span>Подготовка данных</a></span></li><li><span><a href=\"#Анализ-данных\" data-toc-modified-id=\"Анализ-данных-2\"><span class=\"toc-item-num\">2&nbsp;&nbsp;</span>Анализ данных</a></span></li><li><span><a href=\"#Модель\" data-toc-modified-id=\"Модель-3\"><span class=\"toc-item-num\">3&nbsp;&nbsp;</span>Модель</a></span></li></ul></div>"
   ]
  },
  {
   "cell_type": "markdown",
   "metadata": {},
   "source": [
    "# Восстановление золота из руды"
   ]
  },
  {
   "cell_type": "markdown",
   "metadata": {},
   "source": [
    "Подготовьте прототип модели машинного обучения для «Цифры». Компания разрабатывает решения для эффективной работы промышленных предприятий.\n",
    "\n",
    "Модель должна предсказать коэффициент восстановления золота из золотосодержащей руды. Используйте данные с параметрами добычи и очистки. \n",
    "\n",
    "Модель поможет оптимизировать производство, чтобы не запускать предприятие с убыточными характеристиками.\n",
    "\n",
    "Вам нужно:\n",
    "\n",
    "1. Подготовить данные;\n",
    "2. Провести исследовательский анализ данных;\n",
    "3. Построить и обучить модель.\n",
    "\n",
    "Чтобы выполнить проект, обращайтесь к библиотекам *pandas*, *matplotlib* и *sklearn.* Вам поможет их документация."
   ]
  },
  {
   "cell_type": "markdown",
   "metadata": {},
   "source": [
    "## Подготовка данных"
   ]
  },
  {
   "cell_type": "code",
   "execution_count": 1,
   "metadata": {},
   "outputs": [],
   "source": [
    "import matplotlib.pyplot as plt\n",
    "import seaborn as sns\n",
    "import numpy as np\n",
    "import pandas as pd\n",
    "import warnings\n",
    "from sklearn.model_selection import train_test_split\n",
    "from sklearn.preprocessing import StandardScaler\n",
    "from sklearn.metrics import r2_score\n",
    "from sklearn.metrics import mean_absolute_error\n",
    "from sklearn.preprocessing import PolynomialFeatures\n",
    "from sklearn.linear_model import LinearRegression\n",
    "from sklearn.linear_model import Ridge\n",
    "from sklearn.tree import DecisionTreeRegressor\n",
    "from sklearn.ensemble import ExtraTreesRegressor\n",
    "from sklearn.model_selection import cross_val_score\n",
    "from sklearn.model_selection import GridSearchCV\n",
    "from sklearn.pipeline import Pipeline\n",
    "from sklearn.metrics import fbeta_score, make_scorer\n",
    "from sklearn.ensemble import RandomForestClassifier\n",
    "from sklearn.ensemble import RandomForestRegressor\n",
    "from sklearn.dummy import DummyRegressor"
   ]
  },
  {
   "cell_type": "markdown",
   "metadata": {},
   "source": [
    "<font color='blue'><b>Комментарий ревьюера: </b></font> ✔️\\\n",
    "<font color='green'> Хорошее оформление импортов! \\\n",
    "Импорты собраны в одной ячейке, сгрупированы по функциональности. Можно ещё разделить группы пустой строкой.</font>"
   ]
  },
  {
   "cell_type": "code",
   "execution_count": 2,
   "metadata": {},
   "outputs": [],
   "source": [
    "gold_industry_train = pd.read_csv(\n",
    "    \"/datasets/gold_industry_train.csv\",\n",
    ")\n",
    "gold_industry_test = pd.read_csv(\n",
    "    \"/datasets/gold_industry_test.csv\",\n",
    ")\n",
    "gold_industry_full = pd.read_csv(\"/datasets/gold_industry_full.csv\")"
   ]
  },
  {
   "cell_type": "code",
   "execution_count": 3,
   "metadata": {
    "scrolled": true
   },
   "outputs": [
    {
     "name": "stdout",
     "output_type": "stream",
     "text": [
      "<class 'pandas.core.frame.DataFrame'>\n",
      "RangeIndex: 14579 entries, 0 to 14578\n",
      "Data columns (total 87 columns):\n",
      " #   Column                                              Non-Null Count  Dtype  \n",
      "---  ------                                              --------------  -----  \n",
      " 0   date                                                14579 non-null  object \n",
      " 1   rougher.input.feed_au                               14579 non-null  float64\n",
      " 2   rougher.input.feed_ag                               14579 non-null  float64\n",
      " 3   rougher.input.feed_pb                               14507 non-null  float64\n",
      " 4   rougher.input.feed_sol                              14502 non-null  float64\n",
      " 5   rougher.input.feed_rate                             14572 non-null  float64\n",
      " 6   rougher.input.feed_size                             14478 non-null  float64\n",
      " 7   rougher.input.floatbank10_sulfate                   14548 non-null  float64\n",
      " 8   rougher.input.floatbank10_xanthate                  14572 non-null  float64\n",
      " 9   rougher.state.floatbank10_a_air                     14579 non-null  float64\n",
      " 10  rougher.state.floatbank10_a_level                   14579 non-null  float64\n",
      " 11  rougher.state.floatbank10_b_air                     14579 non-null  float64\n",
      " 12  rougher.state.floatbank10_b_level                   14579 non-null  float64\n",
      " 13  rougher.state.floatbank10_c_air                     14579 non-null  float64\n",
      " 14  rougher.state.floatbank10_c_level                   14579 non-null  float64\n",
      " 15  rougher.state.floatbank10_d_air                     14579 non-null  float64\n",
      " 16  rougher.state.floatbank10_d_level                   14579 non-null  float64\n",
      " 17  rougher.state.floatbank10_e_air                     14150 non-null  float64\n",
      " 18  rougher.state.floatbank10_e_level                   14579 non-null  float64\n",
      " 19  rougher.state.floatbank10_f_air                     14579 non-null  float64\n",
      " 20  rougher.state.floatbank10_f_level                   14579 non-null  float64\n",
      " 21  rougher.input.floatbank11_sulfate                   14543 non-null  float64\n",
      " 22  rougher.input.floatbank11_xanthate                  14172 non-null  float64\n",
      " 23  rougher.calculation.sulfate_to_au_concentrate       14578 non-null  float64\n",
      " 24  rougher.calculation.floatbank10_sulfate_to_au_feed  14578 non-null  float64\n",
      " 25  rougher.calculation.floatbank11_sulfate_to_au_feed  14578 non-null  float64\n",
      " 26  rougher.calculation.au_pb_ratio                     14579 non-null  float64\n",
      " 27  rougher.output.concentrate_au                       14579 non-null  float64\n",
      " 28  rougher.output.concentrate_ag                       14579 non-null  float64\n",
      " 29  rougher.output.concentrate_pb                       14579 non-null  float64\n",
      " 30  rougher.output.concentrate_sol                      14561 non-null  float64\n",
      " 31  rougher.output.recovery                             14579 non-null  float64\n",
      " 32  rougher.output.tail_au                              14579 non-null  float64\n",
      " 33  rougher.output.tail_ag                              14578 non-null  float64\n",
      " 34  rougher.output.tail_pb                              14579 non-null  float64\n",
      " 35  rougher.output.tail_sol                             14579 non-null  float64\n",
      " 36  primary_cleaner.input.sulfate                       14556 non-null  float64\n",
      " 37  primary_cleaner.input.depressant                    14551 non-null  float64\n",
      " 38  primary_cleaner.input.feed_size                     14579 non-null  float64\n",
      " 39  primary_cleaner.input.xanthate                      14518 non-null  float64\n",
      " 40  primary_cleaner.state.floatbank8_a_air              14576 non-null  float64\n",
      " 41  primary_cleaner.state.floatbank8_a_level            14579 non-null  float64\n",
      " 42  primary_cleaner.state.floatbank8_b_air              14576 non-null  float64\n",
      " 43  primary_cleaner.state.floatbank8_b_level            14579 non-null  float64\n",
      " 44  primary_cleaner.state.floatbank8_c_air              14579 non-null  float64\n",
      " 45  primary_cleaner.state.floatbank8_c_level            14579 non-null  float64\n",
      " 46  primary_cleaner.state.floatbank8_d_air              14578 non-null  float64\n",
      " 47  primary_cleaner.state.floatbank8_d_level            14579 non-null  float64\n",
      " 48  primary_cleaner.output.concentrate_au               14579 non-null  float64\n",
      " 49  primary_cleaner.output.concentrate_ag               14579 non-null  float64\n",
      " 50  primary_cleaner.output.concentrate_pb               14491 non-null  float64\n",
      " 51  primary_cleaner.output.concentrate_sol              14314 non-null  float64\n",
      " 52  primary_cleaner.output.tail_au                      14579 non-null  float64\n",
      " 53  primary_cleaner.output.tail_ag                      14575 non-null  float64\n",
      " 54  primary_cleaner.output.tail_pb                      14573 non-null  float64\n",
      " 55  primary_cleaner.output.tail_sol                     14534 non-null  float64\n",
      " 56  secondary_cleaner.state.floatbank2_a_air            14485 non-null  float64\n",
      " 57  secondary_cleaner.state.floatbank2_a_level          14579 non-null  float64\n",
      " 58  secondary_cleaner.state.floatbank2_b_air            14557 non-null  float64\n",
      " 59  secondary_cleaner.state.floatbank2_b_level          14579 non-null  float64\n",
      " 60  secondary_cleaner.state.floatbank3_a_air            14567 non-null  float64\n",
      " 61  secondary_cleaner.state.floatbank3_a_level          14579 non-null  float64\n",
      " 62  secondary_cleaner.state.floatbank3_b_air            14579 non-null  float64\n",
      " 63  secondary_cleaner.state.floatbank3_b_level          14579 non-null  float64\n",
      " 64  secondary_cleaner.state.floatbank4_a_air            14574 non-null  float64\n",
      " 65  secondary_cleaner.state.floatbank4_a_level          14579 non-null  float64\n",
      " 66  secondary_cleaner.state.floatbank4_b_air            14579 non-null  float64\n",
      " 67  secondary_cleaner.state.floatbank4_b_level          14579 non-null  float64\n",
      " 68  secondary_cleaner.state.floatbank5_a_air            14579 non-null  float64\n",
      " 69  secondary_cleaner.state.floatbank5_a_level          14579 non-null  float64\n",
      " 70  secondary_cleaner.state.floatbank5_b_air            14579 non-null  float64\n",
      " 71  secondary_cleaner.state.floatbank5_b_level          14579 non-null  float64\n",
      " 72  secondary_cleaner.state.floatbank6_a_air            14578 non-null  float64\n",
      " 73  secondary_cleaner.state.floatbank6_a_level          14579 non-null  float64\n",
      " 74  secondary_cleaner.output.tail_au                    14579 non-null  float64\n",
      " 75  secondary_cleaner.output.tail_ag                    14578 non-null  float64\n",
      " 76  secondary_cleaner.output.tail_pb                    14575 non-null  float64\n",
      " 77  secondary_cleaner.output.tail_sol                   13659 non-null  float64\n",
      " 78  final.output.concentrate_au                         14579 non-null  float64\n",
      " 79  final.output.concentrate_ag                         14578 non-null  float64\n",
      " 80  final.output.concentrate_pb                         14578 non-null  float64\n",
      " 81  final.output.concentrate_sol                        14387 non-null  float64\n",
      " 82  final.output.recovery                               14579 non-null  float64\n",
      " 83  final.output.tail_au                                14579 non-null  float64\n",
      " 84  final.output.tail_ag                                14578 non-null  float64\n",
      " 85  final.output.tail_pb                                14504 non-null  float64\n",
      " 86  final.output.tail_sol                               14574 non-null  float64\n",
      "dtypes: float64(86), object(1)\n",
      "memory usage: 9.7+ MB\n"
     ]
    }
   ],
   "source": [
    "\n",
    "gold_industry_train.info()"
   ]
  },
  {
   "cell_type": "code",
   "execution_count": 4,
   "metadata": {},
   "outputs": [
    {
     "name": "stdout",
     "output_type": "stream",
     "text": [
      "<class 'pandas.core.frame.DataFrame'>\n",
      "RangeIndex: 4860 entries, 0 to 4859\n",
      "Data columns (total 53 columns):\n",
      " #   Column                                      Non-Null Count  Dtype  \n",
      "---  ------                                      --------------  -----  \n",
      " 0   date                                        4860 non-null   object \n",
      " 1   rougher.input.feed_au                       4860 non-null   float64\n",
      " 2   rougher.input.feed_ag                       4860 non-null   float64\n",
      " 3   rougher.input.feed_pb                       4832 non-null   float64\n",
      " 4   rougher.input.feed_sol                      4838 non-null   float64\n",
      " 5   rougher.input.feed_rate                     4856 non-null   float64\n",
      " 6   rougher.input.feed_size                     4816 non-null   float64\n",
      " 7   rougher.input.floatbank10_sulfate           4857 non-null   float64\n",
      " 8   rougher.input.floatbank10_xanthate          4859 non-null   float64\n",
      " 9   rougher.state.floatbank10_a_air             4859 non-null   float64\n",
      " 10  rougher.state.floatbank10_a_level           4859 non-null   float64\n",
      " 11  rougher.state.floatbank10_b_air             4859 non-null   float64\n",
      " 12  rougher.state.floatbank10_b_level           4859 non-null   float64\n",
      " 13  rougher.state.floatbank10_c_air             4859 non-null   float64\n",
      " 14  rougher.state.floatbank10_c_level           4859 non-null   float64\n",
      " 15  rougher.state.floatbank10_d_air             4860 non-null   float64\n",
      " 16  rougher.state.floatbank10_d_level           4860 non-null   float64\n",
      " 17  rougher.state.floatbank10_e_air             4853 non-null   float64\n",
      " 18  rougher.state.floatbank10_e_level           4860 non-null   float64\n",
      " 19  rougher.state.floatbank10_f_air             4860 non-null   float64\n",
      " 20  rougher.state.floatbank10_f_level           4860 non-null   float64\n",
      " 21  rougher.input.floatbank11_sulfate           4852 non-null   float64\n",
      " 22  rougher.input.floatbank11_xanthate          4814 non-null   float64\n",
      " 23  primary_cleaner.input.sulfate               4859 non-null   float64\n",
      " 24  primary_cleaner.input.depressant            4851 non-null   float64\n",
      " 25  primary_cleaner.input.feed_size             4860 non-null   float64\n",
      " 26  primary_cleaner.input.xanthate              4817 non-null   float64\n",
      " 27  primary_cleaner.state.floatbank8_a_air      4859 non-null   float64\n",
      " 28  primary_cleaner.state.floatbank8_a_level    4859 non-null   float64\n",
      " 29  primary_cleaner.state.floatbank8_b_air      4859 non-null   float64\n",
      " 30  primary_cleaner.state.floatbank8_b_level    4859 non-null   float64\n",
      " 31  primary_cleaner.state.floatbank8_c_air      4858 non-null   float64\n",
      " 32  primary_cleaner.state.floatbank8_c_level    4859 non-null   float64\n",
      " 33  primary_cleaner.state.floatbank8_d_air      4858 non-null   float64\n",
      " 34  primary_cleaner.state.floatbank8_d_level    4859 non-null   float64\n",
      " 35  secondary_cleaner.state.floatbank2_a_air    4734 non-null   float64\n",
      " 36  secondary_cleaner.state.floatbank2_a_level  4859 non-null   float64\n",
      " 37  secondary_cleaner.state.floatbank2_b_air    4859 non-null   float64\n",
      " 38  secondary_cleaner.state.floatbank2_b_level  4859 non-null   float64\n",
      " 39  secondary_cleaner.state.floatbank3_a_air    4859 non-null   float64\n",
      " 40  secondary_cleaner.state.floatbank3_a_level  4859 non-null   float64\n",
      " 41  secondary_cleaner.state.floatbank3_b_air    4859 non-null   float64\n",
      " 42  secondary_cleaner.state.floatbank3_b_level  4859 non-null   float64\n",
      " 43  secondary_cleaner.state.floatbank4_a_air    4859 non-null   float64\n",
      " 44  secondary_cleaner.state.floatbank4_a_level  4859 non-null   float64\n",
      " 45  secondary_cleaner.state.floatbank4_b_air    4859 non-null   float64\n",
      " 46  secondary_cleaner.state.floatbank4_b_level  4859 non-null   float64\n",
      " 47  secondary_cleaner.state.floatbank5_a_air    4859 non-null   float64\n",
      " 48  secondary_cleaner.state.floatbank5_a_level  4859 non-null   float64\n",
      " 49  secondary_cleaner.state.floatbank5_b_air    4859 non-null   float64\n",
      " 50  secondary_cleaner.state.floatbank5_b_level  4859 non-null   float64\n",
      " 51  secondary_cleaner.state.floatbank6_a_air    4859 non-null   float64\n",
      " 52  secondary_cleaner.state.floatbank6_a_level  4859 non-null   float64\n",
      "dtypes: float64(52), object(1)\n",
      "memory usage: 2.0+ MB\n"
     ]
    }
   ],
   "source": [
    "\n",
    "gold_industry_test.info()"
   ]
  },
  {
   "cell_type": "code",
   "execution_count": 5,
   "metadata": {},
   "outputs": [
    {
     "name": "stdout",
     "output_type": "stream",
     "text": [
      "<class 'pandas.core.frame.DataFrame'>\n",
      "RangeIndex: 19439 entries, 0 to 19438\n",
      "Data columns (total 87 columns):\n",
      " #   Column                                              Non-Null Count  Dtype  \n",
      "---  ------                                              --------------  -----  \n",
      " 0   date                                                19439 non-null  object \n",
      " 1   rougher.input.feed_au                               19439 non-null  float64\n",
      " 2   rougher.input.feed_ag                               19439 non-null  float64\n",
      " 3   rougher.input.feed_pb                               19339 non-null  float64\n",
      " 4   rougher.input.feed_sol                              19340 non-null  float64\n",
      " 5   rougher.input.feed_rate                             19428 non-null  float64\n",
      " 6   rougher.input.feed_size                             19294 non-null  float64\n",
      " 7   rougher.input.floatbank10_sulfate                   19405 non-null  float64\n",
      " 8   rougher.input.floatbank10_xanthate                  19431 non-null  float64\n",
      " 9   rougher.state.floatbank10_a_air                     19438 non-null  float64\n",
      " 10  rougher.state.floatbank10_a_level                   19438 non-null  float64\n",
      " 11  rougher.state.floatbank10_b_air                     19438 non-null  float64\n",
      " 12  rougher.state.floatbank10_b_level                   19438 non-null  float64\n",
      " 13  rougher.state.floatbank10_c_air                     19438 non-null  float64\n",
      " 14  rougher.state.floatbank10_c_level                   19438 non-null  float64\n",
      " 15  rougher.state.floatbank10_d_air                     19439 non-null  float64\n",
      " 16  rougher.state.floatbank10_d_level                   19439 non-null  float64\n",
      " 17  rougher.state.floatbank10_e_air                     19003 non-null  float64\n",
      " 18  rougher.state.floatbank10_e_level                   19439 non-null  float64\n",
      " 19  rougher.state.floatbank10_f_air                     19439 non-null  float64\n",
      " 20  rougher.state.floatbank10_f_level                   19439 non-null  float64\n",
      " 21  rougher.input.floatbank11_sulfate                   19395 non-null  float64\n",
      " 22  rougher.input.floatbank11_xanthate                  18986 non-null  float64\n",
      " 23  rougher.calculation.sulfate_to_au_concentrate       19437 non-null  float64\n",
      " 24  rougher.calculation.floatbank10_sulfate_to_au_feed  19437 non-null  float64\n",
      " 25  rougher.calculation.floatbank11_sulfate_to_au_feed  19437 non-null  float64\n",
      " 26  rougher.calculation.au_pb_ratio                     19439 non-null  float64\n",
      " 27  rougher.output.concentrate_au                       19439 non-null  float64\n",
      " 28  rougher.output.concentrate_ag                       19439 non-null  float64\n",
      " 29  rougher.output.concentrate_pb                       19439 non-null  float64\n",
      " 30  rougher.output.concentrate_sol                      19416 non-null  float64\n",
      " 31  rougher.output.recovery                             19439 non-null  float64\n",
      " 32  rougher.output.tail_au                              19439 non-null  float64\n",
      " 33  rougher.output.tail_ag                              19438 non-null  float64\n",
      " 34  rougher.output.tail_pb                              19439 non-null  float64\n",
      " 35  rougher.output.tail_sol                             19439 non-null  float64\n",
      " 36  primary_cleaner.input.sulfate                       19415 non-null  float64\n",
      " 37  primary_cleaner.input.depressant                    19402 non-null  float64\n",
      " 38  primary_cleaner.input.feed_size                     19439 non-null  float64\n",
      " 39  primary_cleaner.input.xanthate                      19335 non-null  float64\n",
      " 40  primary_cleaner.state.floatbank8_a_air              19435 non-null  float64\n",
      " 41  primary_cleaner.state.floatbank8_a_level            19438 non-null  float64\n",
      " 42  primary_cleaner.state.floatbank8_b_air              19435 non-null  float64\n",
      " 43  primary_cleaner.state.floatbank8_b_level            19438 non-null  float64\n",
      " 44  primary_cleaner.state.floatbank8_c_air              19437 non-null  float64\n",
      " 45  primary_cleaner.state.floatbank8_c_level            19438 non-null  float64\n",
      " 46  primary_cleaner.state.floatbank8_d_air              19436 non-null  float64\n",
      " 47  primary_cleaner.state.floatbank8_d_level            19438 non-null  float64\n",
      " 48  primary_cleaner.output.concentrate_au               19439 non-null  float64\n",
      " 49  primary_cleaner.output.concentrate_ag               19439 non-null  float64\n",
      " 50  primary_cleaner.output.concentrate_pb               19323 non-null  float64\n",
      " 51  primary_cleaner.output.concentrate_sol              19069 non-null  float64\n",
      " 52  primary_cleaner.output.tail_au                      19439 non-null  float64\n",
      " 53  primary_cleaner.output.tail_ag                      19435 non-null  float64\n",
      " 54  primary_cleaner.output.tail_pb                      19418 non-null  float64\n",
      " 55  primary_cleaner.output.tail_sol                     19377 non-null  float64\n",
      " 56  secondary_cleaner.state.floatbank2_a_air            19219 non-null  float64\n",
      " 57  secondary_cleaner.state.floatbank2_a_level          19438 non-null  float64\n",
      " 58  secondary_cleaner.state.floatbank2_b_air            19416 non-null  float64\n",
      " 59  secondary_cleaner.state.floatbank2_b_level          19438 non-null  float64\n",
      " 60  secondary_cleaner.state.floatbank3_a_air            19426 non-null  float64\n",
      " 61  secondary_cleaner.state.floatbank3_a_level          19438 non-null  float64\n",
      " 62  secondary_cleaner.state.floatbank3_b_air            19438 non-null  float64\n",
      " 63  secondary_cleaner.state.floatbank3_b_level          19438 non-null  float64\n",
      " 64  secondary_cleaner.state.floatbank4_a_air            19433 non-null  float64\n",
      " 65  secondary_cleaner.state.floatbank4_a_level          19438 non-null  float64\n",
      " 66  secondary_cleaner.state.floatbank4_b_air            19438 non-null  float64\n",
      " 67  secondary_cleaner.state.floatbank4_b_level          19438 non-null  float64\n",
      " 68  secondary_cleaner.state.floatbank5_a_air            19438 non-null  float64\n",
      " 69  secondary_cleaner.state.floatbank5_a_level          19438 non-null  float64\n",
      " 70  secondary_cleaner.state.floatbank5_b_air            19438 non-null  float64\n",
      " 71  secondary_cleaner.state.floatbank5_b_level          19438 non-null  float64\n",
      " 72  secondary_cleaner.state.floatbank6_a_air            19437 non-null  float64\n",
      " 73  secondary_cleaner.state.floatbank6_a_level          19438 non-null  float64\n",
      " 74  secondary_cleaner.output.tail_au                    19439 non-null  float64\n",
      " 75  secondary_cleaner.output.tail_ag                    19437 non-null  float64\n",
      " 76  secondary_cleaner.output.tail_pb                    19427 non-null  float64\n",
      " 77  secondary_cleaner.output.tail_sol                   17691 non-null  float64\n",
      " 78  final.output.concentrate_au                         19439 non-null  float64\n",
      " 79  final.output.concentrate_ag                         19438 non-null  float64\n",
      " 80  final.output.concentrate_pb                         19438 non-null  float64\n",
      " 81  final.output.concentrate_sol                        19228 non-null  float64\n",
      " 82  final.output.recovery                               19439 non-null  float64\n",
      " 83  final.output.tail_au                                19439 non-null  float64\n",
      " 84  final.output.tail_ag                                19438 non-null  float64\n",
      " 85  final.output.tail_pb                                19338 non-null  float64\n",
      " 86  final.output.tail_sol                               19433 non-null  float64\n",
      "dtypes: float64(86), object(1)\n",
      "memory usage: 12.9+ MB\n"
     ]
    }
   ],
   "source": [
    "\n",
    "gold_industry_full.info()"
   ]
  },
  {
   "cell_type": "markdown",
   "metadata": {},
   "source": [
    "Изучим данные методом describe"
   ]
  },
  {
   "cell_type": "code",
   "execution_count": 6,
   "metadata": {},
   "outputs": [
    {
     "data": {
      "text/html": [
       "<div>\n",
       "<style scoped>\n",
       "    .dataframe tbody tr th:only-of-type {\n",
       "        vertical-align: middle;\n",
       "    }\n",
       "\n",
       "    .dataframe tbody tr th {\n",
       "        vertical-align: top;\n",
       "    }\n",
       "\n",
       "    .dataframe thead th {\n",
       "        text-align: right;\n",
       "    }\n",
       "</style>\n",
       "<table border=\"1\" class=\"dataframe\">\n",
       "  <thead>\n",
       "    <tr style=\"text-align: right;\">\n",
       "      <th></th>\n",
       "      <th>rougher.input.feed_au</th>\n",
       "      <th>rougher.input.feed_ag</th>\n",
       "      <th>rougher.input.feed_pb</th>\n",
       "      <th>rougher.input.feed_sol</th>\n",
       "      <th>rougher.input.feed_rate</th>\n",
       "      <th>rougher.input.feed_size</th>\n",
       "      <th>rougher.input.floatbank10_sulfate</th>\n",
       "      <th>rougher.input.floatbank10_xanthate</th>\n",
       "      <th>rougher.state.floatbank10_a_air</th>\n",
       "      <th>rougher.state.floatbank10_a_level</th>\n",
       "      <th>...</th>\n",
       "      <th>secondary_cleaner.output.tail_sol</th>\n",
       "      <th>final.output.concentrate_au</th>\n",
       "      <th>final.output.concentrate_ag</th>\n",
       "      <th>final.output.concentrate_pb</th>\n",
       "      <th>final.output.concentrate_sol</th>\n",
       "      <th>final.output.recovery</th>\n",
       "      <th>final.output.tail_au</th>\n",
       "      <th>final.output.tail_ag</th>\n",
       "      <th>final.output.tail_pb</th>\n",
       "      <th>final.output.tail_sol</th>\n",
       "    </tr>\n",
       "  </thead>\n",
       "  <tbody>\n",
       "    <tr>\n",
       "      <th>count</th>\n",
       "      <td>14579.000000</td>\n",
       "      <td>14579.000000</td>\n",
       "      <td>14507.000000</td>\n",
       "      <td>14502.000000</td>\n",
       "      <td>14572.000000</td>\n",
       "      <td>14478.000000</td>\n",
       "      <td>14548.000000</td>\n",
       "      <td>14572.000000</td>\n",
       "      <td>14579.000000</td>\n",
       "      <td>14579.000000</td>\n",
       "      <td>...</td>\n",
       "      <td>13659.000000</td>\n",
       "      <td>14579.000000</td>\n",
       "      <td>14578.000000</td>\n",
       "      <td>14578.000000</td>\n",
       "      <td>14387.000000</td>\n",
       "      <td>14579.000000</td>\n",
       "      <td>14579.000000</td>\n",
       "      <td>14578.000000</td>\n",
       "      <td>14504.000000</td>\n",
       "      <td>14574.000000</td>\n",
       "    </tr>\n",
       "    <tr>\n",
       "      <th>mean</th>\n",
       "      <td>8.352941</td>\n",
       "      <td>8.877460</td>\n",
       "      <td>3.604221</td>\n",
       "      <td>36.561420</td>\n",
       "      <td>474.332784</td>\n",
       "      <td>58.922712</td>\n",
       "      <td>12.427399</td>\n",
       "      <td>5.994854</td>\n",
       "      <td>1104.208278</td>\n",
       "      <td>-379.367166</td>\n",
       "      <td>...</td>\n",
       "      <td>7.111347</td>\n",
       "      <td>43.979499</td>\n",
       "      <td>5.192145</td>\n",
       "      <td>9.923809</td>\n",
       "      <td>9.566676</td>\n",
       "      <td>66.759066</td>\n",
       "      <td>3.087939</td>\n",
       "      <td>9.731972</td>\n",
       "      <td>2.719985</td>\n",
       "      <td>10.612745</td>\n",
       "    </tr>\n",
       "    <tr>\n",
       "      <th>std</th>\n",
       "      <td>1.934376</td>\n",
       "      <td>1.922536</td>\n",
       "      <td>1.056063</td>\n",
       "      <td>5.209823</td>\n",
       "      <td>108.503552</td>\n",
       "      <td>22.407410</td>\n",
       "      <td>3.428939</td>\n",
       "      <td>1.152873</td>\n",
       "      <td>162.235606</td>\n",
       "      <td>94.652311</td>\n",
       "      <td>...</td>\n",
       "      <td>3.909951</td>\n",
       "      <td>5.471437</td>\n",
       "      <td>1.388014</td>\n",
       "      <td>1.706976</td>\n",
       "      <td>2.805654</td>\n",
       "      <td>10.619709</td>\n",
       "      <td>0.915187</td>\n",
       "      <td>2.358143</td>\n",
       "      <td>0.958929</td>\n",
       "      <td>2.871075</td>\n",
       "    </tr>\n",
       "    <tr>\n",
       "      <th>min</th>\n",
       "      <td>0.010000</td>\n",
       "      <td>0.010000</td>\n",
       "      <td>0.010000</td>\n",
       "      <td>0.010000</td>\n",
       "      <td>0.002986</td>\n",
       "      <td>0.049194</td>\n",
       "      <td>0.001083</td>\n",
       "      <td>0.000568</td>\n",
       "      <td>-0.042069</td>\n",
       "      <td>-657.949759</td>\n",
       "      <td>...</td>\n",
       "      <td>0.000000</td>\n",
       "      <td>0.000000</td>\n",
       "      <td>0.000000</td>\n",
       "      <td>0.000000</td>\n",
       "      <td>0.000000</td>\n",
       "      <td>0.000000</td>\n",
       "      <td>0.000000</td>\n",
       "      <td>0.000000</td>\n",
       "      <td>0.000000</td>\n",
       "      <td>0.000000</td>\n",
       "    </tr>\n",
       "    <tr>\n",
       "      <th>25%</th>\n",
       "      <td>6.932996</td>\n",
       "      <td>7.341922</td>\n",
       "      <td>2.880490</td>\n",
       "      <td>34.093951</td>\n",
       "      <td>411.048483</td>\n",
       "      <td>47.278490</td>\n",
       "      <td>10.002832</td>\n",
       "      <td>5.304167</td>\n",
       "      <td>999.644856</td>\n",
       "      <td>-499.861797</td>\n",
       "      <td>...</td>\n",
       "      <td>3.784897</td>\n",
       "      <td>43.345906</td>\n",
       "      <td>4.283347</td>\n",
       "      <td>9.103183</td>\n",
       "      <td>7.860030</td>\n",
       "      <td>63.114596</td>\n",
       "      <td>2.505287</td>\n",
       "      <td>8.088928</td>\n",
       "      <td>2.036512</td>\n",
       "      <td>9.013412</td>\n",
       "    </tr>\n",
       "    <tr>\n",
       "      <th>50%</th>\n",
       "      <td>8.225284</td>\n",
       "      <td>8.715859</td>\n",
       "      <td>3.532399</td>\n",
       "      <td>37.097511</td>\n",
       "      <td>498.187968</td>\n",
       "      <td>54.361187</td>\n",
       "      <td>12.003320</td>\n",
       "      <td>6.003053</td>\n",
       "      <td>1000.982624</td>\n",
       "      <td>-300.314199</td>\n",
       "      <td>...</td>\n",
       "      <td>7.629968</td>\n",
       "      <td>44.975014</td>\n",
       "      <td>5.118647</td>\n",
       "      <td>10.046455</td>\n",
       "      <td>9.301970</td>\n",
       "      <td>67.962788</td>\n",
       "      <td>3.029238</td>\n",
       "      <td>9.818512</td>\n",
       "      <td>2.774847</td>\n",
       "      <td>10.670515</td>\n",
       "    </tr>\n",
       "    <tr>\n",
       "      <th>75%</th>\n",
       "      <td>9.832210</td>\n",
       "      <td>10.255843</td>\n",
       "      <td>4.257282</td>\n",
       "      <td>39.899799</td>\n",
       "      <td>549.586552</td>\n",
       "      <td>64.464926</td>\n",
       "      <td>14.929903</td>\n",
       "      <td>6.796632</td>\n",
       "      <td>1292.663971</td>\n",
       "      <td>-299.989315</td>\n",
       "      <td>...</td>\n",
       "      <td>10.367050</td>\n",
       "      <td>46.275153</td>\n",
       "      <td>5.925380</td>\n",
       "      <td>10.981203</td>\n",
       "      <td>11.001573</td>\n",
       "      <td>72.598187</td>\n",
       "      <td>3.614098</td>\n",
       "      <td>11.169187</td>\n",
       "      <td>3.353845</td>\n",
       "      <td>12.130827</td>\n",
       "    </tr>\n",
       "    <tr>\n",
       "      <th>max</th>\n",
       "      <td>13.731330</td>\n",
       "      <td>14.596026</td>\n",
       "      <td>7.052325</td>\n",
       "      <td>53.475325</td>\n",
       "      <td>717.508837</td>\n",
       "      <td>484.967466</td>\n",
       "      <td>36.118275</td>\n",
       "      <td>9.703448</td>\n",
       "      <td>1512.299531</td>\n",
       "      <td>-273.776101</td>\n",
       "      <td>...</td>\n",
       "      <td>26.000772</td>\n",
       "      <td>52.756638</td>\n",
       "      <td>16.001945</td>\n",
       "      <td>16.705297</td>\n",
       "      <td>19.423912</td>\n",
       "      <td>100.000000</td>\n",
       "      <td>8.245022</td>\n",
       "      <td>19.552149</td>\n",
       "      <td>5.804178</td>\n",
       "      <td>22.317730</td>\n",
       "    </tr>\n",
       "  </tbody>\n",
       "</table>\n",
       "<p>8 rows × 86 columns</p>\n",
       "</div>"
      ],
      "text/plain": [
       "       rougher.input.feed_au  rougher.input.feed_ag  rougher.input.feed_pb  \\\n",
       "count           14579.000000           14579.000000           14507.000000   \n",
       "mean                8.352941               8.877460               3.604221   \n",
       "std                 1.934376               1.922536               1.056063   \n",
       "min                 0.010000               0.010000               0.010000   \n",
       "25%                 6.932996               7.341922               2.880490   \n",
       "50%                 8.225284               8.715859               3.532399   \n",
       "75%                 9.832210              10.255843               4.257282   \n",
       "max                13.731330              14.596026               7.052325   \n",
       "\n",
       "       rougher.input.feed_sol  rougher.input.feed_rate  \\\n",
       "count            14502.000000             14572.000000   \n",
       "mean                36.561420               474.332784   \n",
       "std                  5.209823               108.503552   \n",
       "min                  0.010000                 0.002986   \n",
       "25%                 34.093951               411.048483   \n",
       "50%                 37.097511               498.187968   \n",
       "75%                 39.899799               549.586552   \n",
       "max                 53.475325               717.508837   \n",
       "\n",
       "       rougher.input.feed_size  rougher.input.floatbank10_sulfate  \\\n",
       "count             14478.000000                       14548.000000   \n",
       "mean                 58.922712                          12.427399   \n",
       "std                  22.407410                           3.428939   \n",
       "min                   0.049194                           0.001083   \n",
       "25%                  47.278490                          10.002832   \n",
       "50%                  54.361187                          12.003320   \n",
       "75%                  64.464926                          14.929903   \n",
       "max                 484.967466                          36.118275   \n",
       "\n",
       "       rougher.input.floatbank10_xanthate  rougher.state.floatbank10_a_air  \\\n",
       "count                        14572.000000                     14579.000000   \n",
       "mean                             5.994854                      1104.208278   \n",
       "std                              1.152873                       162.235606   \n",
       "min                              0.000568                        -0.042069   \n",
       "25%                              5.304167                       999.644856   \n",
       "50%                              6.003053                      1000.982624   \n",
       "75%                              6.796632                      1292.663971   \n",
       "max                              9.703448                      1512.299531   \n",
       "\n",
       "       rougher.state.floatbank10_a_level  ...  \\\n",
       "count                       14579.000000  ...   \n",
       "mean                         -379.367166  ...   \n",
       "std                            94.652311  ...   \n",
       "min                          -657.949759  ...   \n",
       "25%                          -499.861797  ...   \n",
       "50%                          -300.314199  ...   \n",
       "75%                          -299.989315  ...   \n",
       "max                          -273.776101  ...   \n",
       "\n",
       "       secondary_cleaner.output.tail_sol  final.output.concentrate_au  \\\n",
       "count                       13659.000000                 14579.000000   \n",
       "mean                            7.111347                    43.979499   \n",
       "std                             3.909951                     5.471437   \n",
       "min                             0.000000                     0.000000   \n",
       "25%                             3.784897                    43.345906   \n",
       "50%                             7.629968                    44.975014   \n",
       "75%                            10.367050                    46.275153   \n",
       "max                            26.000772                    52.756638   \n",
       "\n",
       "       final.output.concentrate_ag  final.output.concentrate_pb  \\\n",
       "count                 14578.000000                 14578.000000   \n",
       "mean                      5.192145                     9.923809   \n",
       "std                       1.388014                     1.706976   \n",
       "min                       0.000000                     0.000000   \n",
       "25%                       4.283347                     9.103183   \n",
       "50%                       5.118647                    10.046455   \n",
       "75%                       5.925380                    10.981203   \n",
       "max                      16.001945                    16.705297   \n",
       "\n",
       "       final.output.concentrate_sol  final.output.recovery  \\\n",
       "count                  14387.000000           14579.000000   \n",
       "mean                       9.566676              66.759066   \n",
       "std                        2.805654              10.619709   \n",
       "min                        0.000000               0.000000   \n",
       "25%                        7.860030              63.114596   \n",
       "50%                        9.301970              67.962788   \n",
       "75%                       11.001573              72.598187   \n",
       "max                       19.423912             100.000000   \n",
       "\n",
       "       final.output.tail_au  final.output.tail_ag  final.output.tail_pb  \\\n",
       "count          14579.000000          14578.000000          14504.000000   \n",
       "mean               3.087939              9.731972              2.719985   \n",
       "std                0.915187              2.358143              0.958929   \n",
       "min                0.000000              0.000000              0.000000   \n",
       "25%                2.505287              8.088928              2.036512   \n",
       "50%                3.029238              9.818512              2.774847   \n",
       "75%                3.614098             11.169187              3.353845   \n",
       "max                8.245022             19.552149              5.804178   \n",
       "\n",
       "       final.output.tail_sol  \n",
       "count           14574.000000  \n",
       "mean               10.612745  \n",
       "std                 2.871075  \n",
       "min                 0.000000  \n",
       "25%                 9.013412  \n",
       "50%                10.670515  \n",
       "75%                12.130827  \n",
       "max                22.317730  \n",
       "\n",
       "[8 rows x 86 columns]"
      ]
     },
     "metadata": {},
     "output_type": "display_data"
    }
   ],
   "source": [
    "display(gold_industry_train.describe())"
   ]
  },
  {
   "cell_type": "code",
   "execution_count": 7,
   "metadata": {},
   "outputs": [
    {
     "data": {
      "text/html": [
       "<div>\n",
       "<style scoped>\n",
       "    .dataframe tbody tr th:only-of-type {\n",
       "        vertical-align: middle;\n",
       "    }\n",
       "\n",
       "    .dataframe tbody tr th {\n",
       "        vertical-align: top;\n",
       "    }\n",
       "\n",
       "    .dataframe thead th {\n",
       "        text-align: right;\n",
       "    }\n",
       "</style>\n",
       "<table border=\"1\" class=\"dataframe\">\n",
       "  <thead>\n",
       "    <tr style=\"text-align: right;\">\n",
       "      <th></th>\n",
       "      <th>rougher.input.feed_au</th>\n",
       "      <th>rougher.input.feed_ag</th>\n",
       "      <th>rougher.input.feed_pb</th>\n",
       "      <th>rougher.input.feed_sol</th>\n",
       "      <th>rougher.input.feed_rate</th>\n",
       "      <th>rougher.input.feed_size</th>\n",
       "      <th>rougher.input.floatbank10_sulfate</th>\n",
       "      <th>rougher.input.floatbank10_xanthate</th>\n",
       "      <th>rougher.state.floatbank10_a_air</th>\n",
       "      <th>rougher.state.floatbank10_a_level</th>\n",
       "      <th>...</th>\n",
       "      <th>secondary_cleaner.state.floatbank4_a_air</th>\n",
       "      <th>secondary_cleaner.state.floatbank4_a_level</th>\n",
       "      <th>secondary_cleaner.state.floatbank4_b_air</th>\n",
       "      <th>secondary_cleaner.state.floatbank4_b_level</th>\n",
       "      <th>secondary_cleaner.state.floatbank5_a_air</th>\n",
       "      <th>secondary_cleaner.state.floatbank5_a_level</th>\n",
       "      <th>secondary_cleaner.state.floatbank5_b_air</th>\n",
       "      <th>secondary_cleaner.state.floatbank5_b_level</th>\n",
       "      <th>secondary_cleaner.state.floatbank6_a_air</th>\n",
       "      <th>secondary_cleaner.state.floatbank6_a_level</th>\n",
       "    </tr>\n",
       "  </thead>\n",
       "  <tbody>\n",
       "    <tr>\n",
       "      <th>count</th>\n",
       "      <td>4860.000000</td>\n",
       "      <td>4860.000000</td>\n",
       "      <td>4832.000000</td>\n",
       "      <td>4838.000000</td>\n",
       "      <td>4856.000000</td>\n",
       "      <td>4816.000000</td>\n",
       "      <td>4857.000000</td>\n",
       "      <td>4859.000000</td>\n",
       "      <td>4859.000000</td>\n",
       "      <td>4859.000000</td>\n",
       "      <td>...</td>\n",
       "      <td>4.859000e+03</td>\n",
       "      <td>4859.000000</td>\n",
       "      <td>4.859000e+03</td>\n",
       "      <td>4859.000000</td>\n",
       "      <td>4859.000000</td>\n",
       "      <td>4859.000000</td>\n",
       "      <td>4859.000000</td>\n",
       "      <td>4859.000000</td>\n",
       "      <td>4859.000000</td>\n",
       "      <td>4859.000000</td>\n",
       "    </tr>\n",
       "    <tr>\n",
       "      <th>mean</th>\n",
       "      <td>8.005584</td>\n",
       "      <td>8.547348</td>\n",
       "      <td>3.579662</td>\n",
       "      <td>37.095864</td>\n",
       "      <td>490.285103</td>\n",
       "      <td>59.113400</td>\n",
       "      <td>12.055735</td>\n",
       "      <td>6.101308</td>\n",
       "      <td>1108.635895</td>\n",
       "      <td>-368.340127</td>\n",
       "      <td>...</td>\n",
       "      <td>1.985770e+01</td>\n",
       "      <td>-488.665140</td>\n",
       "      <td>1.557025e+01</td>\n",
       "      <td>-464.176507</td>\n",
       "      <td>16.594103</td>\n",
       "      <td>-490.815250</td>\n",
       "      <td>12.945971</td>\n",
       "      <td>-489.583564</td>\n",
       "      <td>19.053888</td>\n",
       "      <td>-504.678924</td>\n",
       "    </tr>\n",
       "    <tr>\n",
       "      <th>std</th>\n",
       "      <td>1.993590</td>\n",
       "      <td>1.958601</td>\n",
       "      <td>1.029377</td>\n",
       "      <td>4.926284</td>\n",
       "      <td>94.371623</td>\n",
       "      <td>19.125122</td>\n",
       "      <td>3.407642</td>\n",
       "      <td>1.042754</td>\n",
       "      <td>156.493143</td>\n",
       "      <td>91.155929</td>\n",
       "      <td>...</td>\n",
       "      <td>5.913105e+00</td>\n",
       "      <td>44.392714</td>\n",
       "      <td>4.927361e+00</td>\n",
       "      <td>65.706994</td>\n",
       "      <td>5.724305</td>\n",
       "      <td>32.258443</td>\n",
       "      <td>5.533176</td>\n",
       "      <td>37.084609</td>\n",
       "      <td>5.548996</td>\n",
       "      <td>38.690186</td>\n",
       "    </tr>\n",
       "    <tr>\n",
       "      <th>min</th>\n",
       "      <td>0.010000</td>\n",
       "      <td>0.010000</td>\n",
       "      <td>0.010000</td>\n",
       "      <td>0.010000</td>\n",
       "      <td>0.012786</td>\n",
       "      <td>0.046369</td>\n",
       "      <td>0.018907</td>\n",
       "      <td>0.015783</td>\n",
       "      <td>300.792494</td>\n",
       "      <td>-600.568138</td>\n",
       "      <td>...</td>\n",
       "      <td>1.079872e-16</td>\n",
       "      <td>-799.704969</td>\n",
       "      <td>2.489718e-17</td>\n",
       "      <td>-799.860767</td>\n",
       "      <td>-0.371498</td>\n",
       "      <td>-797.142475</td>\n",
       "      <td>1.358469</td>\n",
       "      <td>-800.006180</td>\n",
       "      <td>0.160386</td>\n",
       "      <td>-809.734800</td>\n",
       "    </tr>\n",
       "    <tr>\n",
       "      <th>25%</th>\n",
       "      <td>6.574363</td>\n",
       "      <td>6.975898</td>\n",
       "      <td>2.903612</td>\n",
       "      <td>34.510841</td>\n",
       "      <td>434.099695</td>\n",
       "      <td>47.596984</td>\n",
       "      <td>9.890429</td>\n",
       "      <td>5.499808</td>\n",
       "      <td>999.715729</td>\n",
       "      <td>-499.731972</td>\n",
       "      <td>...</td>\n",
       "      <td>1.501123e+01</td>\n",
       "      <td>-500.704004</td>\n",
       "      <td>1.202172e+01</td>\n",
       "      <td>-500.196517</td>\n",
       "      <td>11.073822</td>\n",
       "      <td>-500.483564</td>\n",
       "      <td>9.011890</td>\n",
       "      <td>-500.129913</td>\n",
       "      <td>14.963953</td>\n",
       "      <td>-500.668501</td>\n",
       "    </tr>\n",
       "    <tr>\n",
       "      <th>50%</th>\n",
       "      <td>7.812923</td>\n",
       "      <td>8.179714</td>\n",
       "      <td>3.540772</td>\n",
       "      <td>37.499761</td>\n",
       "      <td>502.118742</td>\n",
       "      <td>55.509481</td>\n",
       "      <td>11.997859</td>\n",
       "      <td>6.099805</td>\n",
       "      <td>1001.414798</td>\n",
       "      <td>-300.181367</td>\n",
       "      <td>...</td>\n",
       "      <td>1.996807e+01</td>\n",
       "      <td>-499.892919</td>\n",
       "      <td>1.501240e+01</td>\n",
       "      <td>-499.540776</td>\n",
       "      <td>16.631195</td>\n",
       "      <td>-499.873136</td>\n",
       "      <td>11.999417</td>\n",
       "      <td>-499.955304</td>\n",
       "      <td>19.960006</td>\n",
       "      <td>-500.033769</td>\n",
       "    </tr>\n",
       "    <tr>\n",
       "      <th>75%</th>\n",
       "      <td>9.556589</td>\n",
       "      <td>10.084339</td>\n",
       "      <td>4.199847</td>\n",
       "      <td>40.461315</td>\n",
       "      <td>555.596563</td>\n",
       "      <td>66.661547</td>\n",
       "      <td>14.496072</td>\n",
       "      <td>6.802101</td>\n",
       "      <td>1202.837565</td>\n",
       "      <td>-299.961547</td>\n",
       "      <td>...</td>\n",
       "      <td>2.498900e+01</td>\n",
       "      <td>-498.652030</td>\n",
       "      <td>1.999949e+01</td>\n",
       "      <td>-400.302329</td>\n",
       "      <td>19.983191</td>\n",
       "      <td>-498.852815</td>\n",
       "      <td>15.004198</td>\n",
       "      <td>-499.643776</td>\n",
       "      <td>24.974583</td>\n",
       "      <td>-499.460134</td>\n",
       "    </tr>\n",
       "    <tr>\n",
       "      <th>max</th>\n",
       "      <td>13.417156</td>\n",
       "      <td>14.533698</td>\n",
       "      <td>7.142594</td>\n",
       "      <td>53.477742</td>\n",
       "      <td>702.523396</td>\n",
       "      <td>363.989699</td>\n",
       "      <td>30.010759</td>\n",
       "      <td>9.396928</td>\n",
       "      <td>1521.980372</td>\n",
       "      <td>-281.039299</td>\n",
       "      <td>...</td>\n",
       "      <td>3.008450e+01</td>\n",
       "      <td>-383.373053</td>\n",
       "      <td>2.398898e+01</td>\n",
       "      <td>-114.250832</td>\n",
       "      <td>33.215996</td>\n",
       "      <td>-288.963521</td>\n",
       "      <td>24.177106</td>\n",
       "      <td>-141.934397</td>\n",
       "      <td>32.028529</td>\n",
       "      <td>-104.427459</td>\n",
       "    </tr>\n",
       "  </tbody>\n",
       "</table>\n",
       "<p>8 rows × 52 columns</p>\n",
       "</div>"
      ],
      "text/plain": [
       "       rougher.input.feed_au  rougher.input.feed_ag  rougher.input.feed_pb  \\\n",
       "count            4860.000000            4860.000000            4832.000000   \n",
       "mean                8.005584               8.547348               3.579662   \n",
       "std                 1.993590               1.958601               1.029377   \n",
       "min                 0.010000               0.010000               0.010000   \n",
       "25%                 6.574363               6.975898               2.903612   \n",
       "50%                 7.812923               8.179714               3.540772   \n",
       "75%                 9.556589              10.084339               4.199847   \n",
       "max                13.417156              14.533698               7.142594   \n",
       "\n",
       "       rougher.input.feed_sol  rougher.input.feed_rate  \\\n",
       "count             4838.000000              4856.000000   \n",
       "mean                37.095864               490.285103   \n",
       "std                  4.926284                94.371623   \n",
       "min                  0.010000                 0.012786   \n",
       "25%                 34.510841               434.099695   \n",
       "50%                 37.499761               502.118742   \n",
       "75%                 40.461315               555.596563   \n",
       "max                 53.477742               702.523396   \n",
       "\n",
       "       rougher.input.feed_size  rougher.input.floatbank10_sulfate  \\\n",
       "count              4816.000000                        4857.000000   \n",
       "mean                 59.113400                          12.055735   \n",
       "std                  19.125122                           3.407642   \n",
       "min                   0.046369                           0.018907   \n",
       "25%                  47.596984                           9.890429   \n",
       "50%                  55.509481                          11.997859   \n",
       "75%                  66.661547                          14.496072   \n",
       "max                 363.989699                          30.010759   \n",
       "\n",
       "       rougher.input.floatbank10_xanthate  rougher.state.floatbank10_a_air  \\\n",
       "count                         4859.000000                      4859.000000   \n",
       "mean                             6.101308                      1108.635895   \n",
       "std                              1.042754                       156.493143   \n",
       "min                              0.015783                       300.792494   \n",
       "25%                              5.499808                       999.715729   \n",
       "50%                              6.099805                      1001.414798   \n",
       "75%                              6.802101                      1202.837565   \n",
       "max                              9.396928                      1521.980372   \n",
       "\n",
       "       rougher.state.floatbank10_a_level  ...  \\\n",
       "count                        4859.000000  ...   \n",
       "mean                         -368.340127  ...   \n",
       "std                            91.155929  ...   \n",
       "min                          -600.568138  ...   \n",
       "25%                          -499.731972  ...   \n",
       "50%                          -300.181367  ...   \n",
       "75%                          -299.961547  ...   \n",
       "max                          -281.039299  ...   \n",
       "\n",
       "       secondary_cleaner.state.floatbank4_a_air  \\\n",
       "count                              4.859000e+03   \n",
       "mean                               1.985770e+01   \n",
       "std                                5.913105e+00   \n",
       "min                                1.079872e-16   \n",
       "25%                                1.501123e+01   \n",
       "50%                                1.996807e+01   \n",
       "75%                                2.498900e+01   \n",
       "max                                3.008450e+01   \n",
       "\n",
       "       secondary_cleaner.state.floatbank4_a_level  \\\n",
       "count                                 4859.000000   \n",
       "mean                                  -488.665140   \n",
       "std                                     44.392714   \n",
       "min                                   -799.704969   \n",
       "25%                                   -500.704004   \n",
       "50%                                   -499.892919   \n",
       "75%                                   -498.652030   \n",
       "max                                   -383.373053   \n",
       "\n",
       "       secondary_cleaner.state.floatbank4_b_air  \\\n",
       "count                              4.859000e+03   \n",
       "mean                               1.557025e+01   \n",
       "std                                4.927361e+00   \n",
       "min                                2.489718e-17   \n",
       "25%                                1.202172e+01   \n",
       "50%                                1.501240e+01   \n",
       "75%                                1.999949e+01   \n",
       "max                                2.398898e+01   \n",
       "\n",
       "       secondary_cleaner.state.floatbank4_b_level  \\\n",
       "count                                 4859.000000   \n",
       "mean                                  -464.176507   \n",
       "std                                     65.706994   \n",
       "min                                   -799.860767   \n",
       "25%                                   -500.196517   \n",
       "50%                                   -499.540776   \n",
       "75%                                   -400.302329   \n",
       "max                                   -114.250832   \n",
       "\n",
       "       secondary_cleaner.state.floatbank5_a_air  \\\n",
       "count                               4859.000000   \n",
       "mean                                  16.594103   \n",
       "std                                    5.724305   \n",
       "min                                   -0.371498   \n",
       "25%                                   11.073822   \n",
       "50%                                   16.631195   \n",
       "75%                                   19.983191   \n",
       "max                                   33.215996   \n",
       "\n",
       "       secondary_cleaner.state.floatbank5_a_level  \\\n",
       "count                                 4859.000000   \n",
       "mean                                  -490.815250   \n",
       "std                                     32.258443   \n",
       "min                                   -797.142475   \n",
       "25%                                   -500.483564   \n",
       "50%                                   -499.873136   \n",
       "75%                                   -498.852815   \n",
       "max                                   -288.963521   \n",
       "\n",
       "       secondary_cleaner.state.floatbank5_b_air  \\\n",
       "count                               4859.000000   \n",
       "mean                                  12.945971   \n",
       "std                                    5.533176   \n",
       "min                                    1.358469   \n",
       "25%                                    9.011890   \n",
       "50%                                   11.999417   \n",
       "75%                                   15.004198   \n",
       "max                                   24.177106   \n",
       "\n",
       "       secondary_cleaner.state.floatbank5_b_level  \\\n",
       "count                                 4859.000000   \n",
       "mean                                  -489.583564   \n",
       "std                                     37.084609   \n",
       "min                                   -800.006180   \n",
       "25%                                   -500.129913   \n",
       "50%                                   -499.955304   \n",
       "75%                                   -499.643776   \n",
       "max                                   -141.934397   \n",
       "\n",
       "       secondary_cleaner.state.floatbank6_a_air  \\\n",
       "count                               4859.000000   \n",
       "mean                                  19.053888   \n",
       "std                                    5.548996   \n",
       "min                                    0.160386   \n",
       "25%                                   14.963953   \n",
       "50%                                   19.960006   \n",
       "75%                                   24.974583   \n",
       "max                                   32.028529   \n",
       "\n",
       "       secondary_cleaner.state.floatbank6_a_level  \n",
       "count                                 4859.000000  \n",
       "mean                                  -504.678924  \n",
       "std                                     38.690186  \n",
       "min                                   -809.734800  \n",
       "25%                                   -500.668501  \n",
       "50%                                   -500.033769  \n",
       "75%                                   -499.460134  \n",
       "max                                   -104.427459  \n",
       "\n",
       "[8 rows x 52 columns]"
      ]
     },
     "metadata": {},
     "output_type": "display_data"
    }
   ],
   "source": [
    "display(gold_industry_test.describe())"
   ]
  },
  {
   "cell_type": "code",
   "execution_count": 8,
   "metadata": {},
   "outputs": [
    {
     "data": {
      "text/html": [
       "<div>\n",
       "<style scoped>\n",
       "    .dataframe tbody tr th:only-of-type {\n",
       "        vertical-align: middle;\n",
       "    }\n",
       "\n",
       "    .dataframe tbody tr th {\n",
       "        vertical-align: top;\n",
       "    }\n",
       "\n",
       "    .dataframe thead th {\n",
       "        text-align: right;\n",
       "    }\n",
       "</style>\n",
       "<table border=\"1\" class=\"dataframe\">\n",
       "  <thead>\n",
       "    <tr style=\"text-align: right;\">\n",
       "      <th></th>\n",
       "      <th>rougher.input.feed_au</th>\n",
       "      <th>rougher.input.feed_ag</th>\n",
       "      <th>rougher.input.feed_pb</th>\n",
       "      <th>rougher.input.feed_sol</th>\n",
       "      <th>rougher.input.feed_rate</th>\n",
       "      <th>rougher.input.feed_size</th>\n",
       "      <th>rougher.input.floatbank10_sulfate</th>\n",
       "      <th>rougher.input.floatbank10_xanthate</th>\n",
       "      <th>rougher.state.floatbank10_a_air</th>\n",
       "      <th>rougher.state.floatbank10_a_level</th>\n",
       "      <th>...</th>\n",
       "      <th>secondary_cleaner.output.tail_sol</th>\n",
       "      <th>final.output.concentrate_au</th>\n",
       "      <th>final.output.concentrate_ag</th>\n",
       "      <th>final.output.concentrate_pb</th>\n",
       "      <th>final.output.concentrate_sol</th>\n",
       "      <th>final.output.recovery</th>\n",
       "      <th>final.output.tail_au</th>\n",
       "      <th>final.output.tail_ag</th>\n",
       "      <th>final.output.tail_pb</th>\n",
       "      <th>final.output.tail_sol</th>\n",
       "    </tr>\n",
       "  </thead>\n",
       "  <tbody>\n",
       "    <tr>\n",
       "      <th>count</th>\n",
       "      <td>19439.000000</td>\n",
       "      <td>19439.000000</td>\n",
       "      <td>19339.000000</td>\n",
       "      <td>19340.000000</td>\n",
       "      <td>19428.000000</td>\n",
       "      <td>19294.000000</td>\n",
       "      <td>19405.000000</td>\n",
       "      <td>19431.000000</td>\n",
       "      <td>19438.000000</td>\n",
       "      <td>19438.000000</td>\n",
       "      <td>...</td>\n",
       "      <td>17691.000000</td>\n",
       "      <td>19439.000000</td>\n",
       "      <td>19438.000000</td>\n",
       "      <td>19438.000000</td>\n",
       "      <td>19228.000000</td>\n",
       "      <td>19439.000000</td>\n",
       "      <td>19439.000000</td>\n",
       "      <td>19438.000000</td>\n",
       "      <td>19338.000000</td>\n",
       "      <td>19433.000000</td>\n",
       "    </tr>\n",
       "    <tr>\n",
       "      <th>mean</th>\n",
       "      <td>8.266097</td>\n",
       "      <td>8.794927</td>\n",
       "      <td>3.598085</td>\n",
       "      <td>36.695114</td>\n",
       "      <td>478.320042</td>\n",
       "      <td>58.970310</td>\n",
       "      <td>12.334373</td>\n",
       "      <td>6.021474</td>\n",
       "      <td>1105.315068</td>\n",
       "      <td>-376.610690</td>\n",
       "      <td>...</td>\n",
       "      <td>7.167247</td>\n",
       "      <td>44.076513</td>\n",
       "      <td>5.168470</td>\n",
       "      <td>9.978895</td>\n",
       "      <td>9.501224</td>\n",
       "      <td>67.050208</td>\n",
       "      <td>3.042467</td>\n",
       "      <td>9.688589</td>\n",
       "      <td>2.705795</td>\n",
       "      <td>10.583728</td>\n",
       "    </tr>\n",
       "    <tr>\n",
       "      <th>std</th>\n",
       "      <td>1.955092</td>\n",
       "      <td>1.936847</td>\n",
       "      <td>1.049486</td>\n",
       "      <td>5.145445</td>\n",
       "      <td>105.373758</td>\n",
       "      <td>21.634478</td>\n",
       "      <td>3.427317</td>\n",
       "      <td>1.127263</td>\n",
       "      <td>160.826798</td>\n",
       "      <td>93.909667</td>\n",
       "      <td>...</td>\n",
       "      <td>3.916079</td>\n",
       "      <td>5.129784</td>\n",
       "      <td>1.372348</td>\n",
       "      <td>1.669240</td>\n",
       "      <td>2.787537</td>\n",
       "      <td>10.125840</td>\n",
       "      <td>0.922808</td>\n",
       "      <td>2.328642</td>\n",
       "      <td>0.949077</td>\n",
       "      <td>2.868782</td>\n",
       "    </tr>\n",
       "    <tr>\n",
       "      <th>min</th>\n",
       "      <td>0.010000</td>\n",
       "      <td>0.010000</td>\n",
       "      <td>0.010000</td>\n",
       "      <td>0.010000</td>\n",
       "      <td>0.002986</td>\n",
       "      <td>0.046369</td>\n",
       "      <td>0.001083</td>\n",
       "      <td>0.000568</td>\n",
       "      <td>-0.042069</td>\n",
       "      <td>-657.949759</td>\n",
       "      <td>...</td>\n",
       "      <td>0.000000</td>\n",
       "      <td>0.000000</td>\n",
       "      <td>0.000000</td>\n",
       "      <td>0.000000</td>\n",
       "      <td>0.000000</td>\n",
       "      <td>0.000000</td>\n",
       "      <td>0.000000</td>\n",
       "      <td>0.000000</td>\n",
       "      <td>0.000000</td>\n",
       "      <td>0.000000</td>\n",
       "    </tr>\n",
       "    <tr>\n",
       "      <th>25%</th>\n",
       "      <td>6.854384</td>\n",
       "      <td>7.237967</td>\n",
       "      <td>2.887280</td>\n",
       "      <td>34.207799</td>\n",
       "      <td>416.525453</td>\n",
       "      <td>47.435103</td>\n",
       "      <td>10.000362</td>\n",
       "      <td>5.398678</td>\n",
       "      <td>999.661867</td>\n",
       "      <td>-499.835165</td>\n",
       "      <td>...</td>\n",
       "      <td>3.845475</td>\n",
       "      <td>43.402215</td>\n",
       "      <td>4.251240</td>\n",
       "      <td>9.137262</td>\n",
       "      <td>7.722820</td>\n",
       "      <td>63.299712</td>\n",
       "      <td>2.461138</td>\n",
       "      <td>8.062878</td>\n",
       "      <td>2.040119</td>\n",
       "      <td>8.938947</td>\n",
       "    </tr>\n",
       "    <tr>\n",
       "      <th>50%</th>\n",
       "      <td>8.125839</td>\n",
       "      <td>8.593574</td>\n",
       "      <td>3.534895</td>\n",
       "      <td>37.202650</td>\n",
       "      <td>499.416120</td>\n",
       "      <td>54.610197</td>\n",
       "      <td>12.001174</td>\n",
       "      <td>6.008273</td>\n",
       "      <td>1001.072890</td>\n",
       "      <td>-300.263994</td>\n",
       "      <td>...</td>\n",
       "      <td>7.685827</td>\n",
       "      <td>45.011244</td>\n",
       "      <td>5.066094</td>\n",
       "      <td>10.102433</td>\n",
       "      <td>9.218961</td>\n",
       "      <td>68.172738</td>\n",
       "      <td>2.984909</td>\n",
       "      <td>9.743623</td>\n",
       "      <td>2.748730</td>\n",
       "      <td>10.622456</td>\n",
       "    </tr>\n",
       "    <tr>\n",
       "      <th>75%</th>\n",
       "      <td>9.769917</td>\n",
       "      <td>10.213771</td>\n",
       "      <td>4.244161</td>\n",
       "      <td>40.039133</td>\n",
       "      <td>550.172183</td>\n",
       "      <td>65.023044</td>\n",
       "      <td>14.716595</td>\n",
       "      <td>6.798051</td>\n",
       "      <td>1205.620588</td>\n",
       "      <td>-299.981998</td>\n",
       "      <td>...</td>\n",
       "      <td>10.411296</td>\n",
       "      <td>46.275313</td>\n",
       "      <td>5.895527</td>\n",
       "      <td>11.035769</td>\n",
       "      <td>10.947813</td>\n",
       "      <td>72.686642</td>\n",
       "      <td>3.571351</td>\n",
       "      <td>11.134294</td>\n",
       "      <td>3.333216</td>\n",
       "      <td>12.104271</td>\n",
       "    </tr>\n",
       "    <tr>\n",
       "      <th>max</th>\n",
       "      <td>13.731330</td>\n",
       "      <td>14.596026</td>\n",
       "      <td>7.142594</td>\n",
       "      <td>53.477742</td>\n",
       "      <td>717.508837</td>\n",
       "      <td>484.967466</td>\n",
       "      <td>36.118275</td>\n",
       "      <td>9.703448</td>\n",
       "      <td>1521.980372</td>\n",
       "      <td>-273.776101</td>\n",
       "      <td>...</td>\n",
       "      <td>26.000772</td>\n",
       "      <td>52.756638</td>\n",
       "      <td>16.001945</td>\n",
       "      <td>17.031899</td>\n",
       "      <td>19.615720</td>\n",
       "      <td>100.000000</td>\n",
       "      <td>8.245022</td>\n",
       "      <td>19.552149</td>\n",
       "      <td>5.804178</td>\n",
       "      <td>22.317730</td>\n",
       "    </tr>\n",
       "  </tbody>\n",
       "</table>\n",
       "<p>8 rows × 86 columns</p>\n",
       "</div>"
      ],
      "text/plain": [
       "       rougher.input.feed_au  rougher.input.feed_ag  rougher.input.feed_pb  \\\n",
       "count           19439.000000           19439.000000           19339.000000   \n",
       "mean                8.266097               8.794927               3.598085   \n",
       "std                 1.955092               1.936847               1.049486   \n",
       "min                 0.010000               0.010000               0.010000   \n",
       "25%                 6.854384               7.237967               2.887280   \n",
       "50%                 8.125839               8.593574               3.534895   \n",
       "75%                 9.769917              10.213771               4.244161   \n",
       "max                13.731330              14.596026               7.142594   \n",
       "\n",
       "       rougher.input.feed_sol  rougher.input.feed_rate  \\\n",
       "count            19340.000000             19428.000000   \n",
       "mean                36.695114               478.320042   \n",
       "std                  5.145445               105.373758   \n",
       "min                  0.010000                 0.002986   \n",
       "25%                 34.207799               416.525453   \n",
       "50%                 37.202650               499.416120   \n",
       "75%                 40.039133               550.172183   \n",
       "max                 53.477742               717.508837   \n",
       "\n",
       "       rougher.input.feed_size  rougher.input.floatbank10_sulfate  \\\n",
       "count             19294.000000                       19405.000000   \n",
       "mean                 58.970310                          12.334373   \n",
       "std                  21.634478                           3.427317   \n",
       "min                   0.046369                           0.001083   \n",
       "25%                  47.435103                          10.000362   \n",
       "50%                  54.610197                          12.001174   \n",
       "75%                  65.023044                          14.716595   \n",
       "max                 484.967466                          36.118275   \n",
       "\n",
       "       rougher.input.floatbank10_xanthate  rougher.state.floatbank10_a_air  \\\n",
       "count                        19431.000000                     19438.000000   \n",
       "mean                             6.021474                      1105.315068   \n",
       "std                              1.127263                       160.826798   \n",
       "min                              0.000568                        -0.042069   \n",
       "25%                              5.398678                       999.661867   \n",
       "50%                              6.008273                      1001.072890   \n",
       "75%                              6.798051                      1205.620588   \n",
       "max                              9.703448                      1521.980372   \n",
       "\n",
       "       rougher.state.floatbank10_a_level  ...  \\\n",
       "count                       19438.000000  ...   \n",
       "mean                         -376.610690  ...   \n",
       "std                            93.909667  ...   \n",
       "min                          -657.949759  ...   \n",
       "25%                          -499.835165  ...   \n",
       "50%                          -300.263994  ...   \n",
       "75%                          -299.981998  ...   \n",
       "max                          -273.776101  ...   \n",
       "\n",
       "       secondary_cleaner.output.tail_sol  final.output.concentrate_au  \\\n",
       "count                       17691.000000                 19439.000000   \n",
       "mean                            7.167247                    44.076513   \n",
       "std                             3.916079                     5.129784   \n",
       "min                             0.000000                     0.000000   \n",
       "25%                             3.845475                    43.402215   \n",
       "50%                             7.685827                    45.011244   \n",
       "75%                            10.411296                    46.275313   \n",
       "max                            26.000772                    52.756638   \n",
       "\n",
       "       final.output.concentrate_ag  final.output.concentrate_pb  \\\n",
       "count                 19438.000000                 19438.000000   \n",
       "mean                      5.168470                     9.978895   \n",
       "std                       1.372348                     1.669240   \n",
       "min                       0.000000                     0.000000   \n",
       "25%                       4.251240                     9.137262   \n",
       "50%                       5.066094                    10.102433   \n",
       "75%                       5.895527                    11.035769   \n",
       "max                      16.001945                    17.031899   \n",
       "\n",
       "       final.output.concentrate_sol  final.output.recovery  \\\n",
       "count                  19228.000000           19439.000000   \n",
       "mean                       9.501224              67.050208   \n",
       "std                        2.787537              10.125840   \n",
       "min                        0.000000               0.000000   \n",
       "25%                        7.722820              63.299712   \n",
       "50%                        9.218961              68.172738   \n",
       "75%                       10.947813              72.686642   \n",
       "max                       19.615720             100.000000   \n",
       "\n",
       "       final.output.tail_au  final.output.tail_ag  final.output.tail_pb  \\\n",
       "count          19439.000000          19438.000000          19338.000000   \n",
       "mean               3.042467              9.688589              2.705795   \n",
       "std                0.922808              2.328642              0.949077   \n",
       "min                0.000000              0.000000              0.000000   \n",
       "25%                2.461138              8.062878              2.040119   \n",
       "50%                2.984909              9.743623              2.748730   \n",
       "75%                3.571351             11.134294              3.333216   \n",
       "max                8.245022             19.552149              5.804178   \n",
       "\n",
       "       final.output.tail_sol  \n",
       "count           19433.000000  \n",
       "mean               10.583728  \n",
       "std                 2.868782  \n",
       "min                 0.000000  \n",
       "25%                 8.938947  \n",
       "50%                10.622456  \n",
       "75%                12.104271  \n",
       "max                22.317730  \n",
       "\n",
       "[8 rows x 86 columns]"
      ]
     },
     "metadata": {},
     "output_type": "display_data"
    }
   ],
   "source": [
    "display(gold_industry_full.describe())"
   ]
  },
  {
   "cell_type": "markdown",
   "metadata": {},
   "source": [
    "посмотрим уникальные значения"
   ]
  },
  {
   "cell_type": "code",
   "execution_count": 9,
   "metadata": {},
   "outputs": [
    {
     "data": {
      "text/plain": [
       "date                      14579\n",
       "rougher.input.feed_au     14556\n",
       "rougher.input.feed_ag     14556\n",
       "rougher.input.feed_pb     14480\n",
       "rougher.input.feed_sol    14469\n",
       "                          ...  \n",
       "final.output.recovery     14399\n",
       "final.output.tail_au      14493\n",
       "final.output.tail_ag      14492\n",
       "final.output.tail_pb      14418\n",
       "final.output.tail_sol     14488\n",
       "Length: 87, dtype: int64"
      ]
     },
     "execution_count": 9,
     "metadata": {},
     "output_type": "execute_result"
    }
   ],
   "source": [
    "gold_industry_train.nunique()"
   ]
  },
  {
   "cell_type": "code",
   "execution_count": 10,
   "metadata": {},
   "outputs": [
    {
     "data": {
      "text/plain": [
       "date                                          4860\n",
       "rougher.input.feed_au                         4857\n",
       "rougher.input.feed_ag                         4857\n",
       "rougher.input.feed_pb                         4827\n",
       "rougher.input.feed_sol                        4834\n",
       "rougher.input.feed_rate                       4856\n",
       "rougher.input.feed_size                       4811\n",
       "rougher.input.floatbank10_sulfate             4857\n",
       "rougher.input.floatbank10_xanthate            4859\n",
       "rougher.state.floatbank10_a_air               4859\n",
       "rougher.state.floatbank10_a_level             4859\n",
       "rougher.state.floatbank10_b_air               4859\n",
       "rougher.state.floatbank10_b_level             4859\n",
       "rougher.state.floatbank10_c_air               4859\n",
       "rougher.state.floatbank10_c_level             4859\n",
       "rougher.state.floatbank10_d_air               4860\n",
       "rougher.state.floatbank10_d_level             4860\n",
       "rougher.state.floatbank10_e_air               4853\n",
       "rougher.state.floatbank10_e_level             4860\n",
       "rougher.state.floatbank10_f_air               4860\n",
       "rougher.state.floatbank10_f_level             4860\n",
       "rougher.input.floatbank11_sulfate             4852\n",
       "rougher.input.floatbank11_xanthate            4810\n",
       "primary_cleaner.input.sulfate                 4859\n",
       "primary_cleaner.input.depressant              4851\n",
       "primary_cleaner.input.feed_size               1448\n",
       "primary_cleaner.input.xanthate                4817\n",
       "primary_cleaner.state.floatbank8_a_air        4859\n",
       "primary_cleaner.state.floatbank8_a_level      4859\n",
       "primary_cleaner.state.floatbank8_b_air        4859\n",
       "primary_cleaner.state.floatbank8_b_level      4859\n",
       "primary_cleaner.state.floatbank8_c_air        4858\n",
       "primary_cleaner.state.floatbank8_c_level      4859\n",
       "primary_cleaner.state.floatbank8_d_air        4858\n",
       "primary_cleaner.state.floatbank8_d_level      4859\n",
       "secondary_cleaner.state.floatbank2_a_air      4734\n",
       "secondary_cleaner.state.floatbank2_a_level    4859\n",
       "secondary_cleaner.state.floatbank2_b_air      4829\n",
       "secondary_cleaner.state.floatbank2_b_level    4859\n",
       "secondary_cleaner.state.floatbank3_a_air      4844\n",
       "secondary_cleaner.state.floatbank3_a_level    4859\n",
       "secondary_cleaner.state.floatbank3_b_air      4831\n",
       "secondary_cleaner.state.floatbank3_b_level    4859\n",
       "secondary_cleaner.state.floatbank4_a_air      4855\n",
       "secondary_cleaner.state.floatbank4_a_level    4859\n",
       "secondary_cleaner.state.floatbank4_b_air      4852\n",
       "secondary_cleaner.state.floatbank4_b_level    4859\n",
       "secondary_cleaner.state.floatbank5_a_air      4859\n",
       "secondary_cleaner.state.floatbank5_a_level    4859\n",
       "secondary_cleaner.state.floatbank5_b_air      4859\n",
       "secondary_cleaner.state.floatbank5_b_level    4859\n",
       "secondary_cleaner.state.floatbank6_a_air      4859\n",
       "secondary_cleaner.state.floatbank6_a_level    4859\n",
       "dtype: int64"
      ]
     },
     "execution_count": 10,
     "metadata": {},
     "output_type": "execute_result"
    }
   ],
   "source": [
    "gold_industry_test.nunique()"
   ]
  },
  {
   "cell_type": "code",
   "execution_count": 11,
   "metadata": {},
   "outputs": [
    {
     "data": {
      "text/plain": [
       "date                      19439\n",
       "rougher.input.feed_au     19409\n",
       "rougher.input.feed_ag     19409\n",
       "rougher.input.feed_pb     19300\n",
       "rougher.input.feed_sol    19292\n",
       "                          ...  \n",
       "final.output.recovery     19235\n",
       "final.output.tail_au      19329\n",
       "final.output.tail_ag      19328\n",
       "final.output.tail_pb      19228\n",
       "final.output.tail_sol     19322\n",
       "Length: 87, dtype: int64"
      ]
     },
     "execution_count": 11,
     "metadata": {},
     "output_type": "execute_result"
    }
   ],
   "source": [
    "gold_industry_full.nunique()"
   ]
  },
  {
   "cell_type": "markdown",
   "metadata": {},
   "source": [
    "Проверим количество дупликатов"
   ]
  },
  {
   "cell_type": "code",
   "execution_count": 12,
   "metadata": {
    "scrolled": true
   },
   "outputs": [
    {
     "name": "stdout",
     "output_type": "stream",
     "text": [
      "Тестовая выборка:  0\n",
      "Обучающая выборка:  0\n",
      "Все данные:  0\n"
     ]
    }
   ],
   "source": [
    "print('Тестовая выборка: ',gold_industry_test.duplicated().sum())\n",
    "print('Обучающая выборка: ',gold_industry_train.duplicated().sum())\n",
    "print('Все данные: ',gold_industry_full.duplicated().sum())"
   ]
  },
  {
   "cell_type": "markdown",
   "metadata": {},
   "source": [
    "<font color='blue'><b>Комментарий ревьюера 3: </b></font> ✔️\\\n",
    "<font color='green'>Данные загружены корректно, первичный осмотр проведен.</font>"
   ]
  },
  {
   "cell_type": "markdown",
   "metadata": {},
   "source": [
    "Рассчитаем MAE"
   ]
  },
  {
   "cell_type": "code",
   "execution_count": 13,
   "metadata": {},
   "outputs": [],
   "source": [
    "def industry(row):\n",
    "    \n",
    "    industry = (row['rougher.output.concentrate_au']*(row['rougher.input.feed_au']-row['rougher.output.tail_au']) ) / (\n",
    "        row['rougher.input.feed_au']*(row['rougher.output.concentrate_au']-row['rougher.output.tail_au']) * 0.01)\n",
    "    return industry\n",
    "       "
   ]
  },
  {
   "cell_type": "markdown",
   "metadata": {},
   "source": [
    "<font color='blue'><b>Комментарий ревьюера 3: </b></font> ✔️\\\n",
    "<font color='green'>Расчёт верный!</font>"
   ]
  },
  {
   "cell_type": "code",
   "execution_count": 14,
   "metadata": {},
   "outputs": [
    {
     "data": {
      "text/plain": [
       "82.52119968211336"
      ]
     },
     "execution_count": 14,
     "metadata": {},
     "output_type": "execute_result"
    }
   ],
   "source": [
    "gold_industry_train['industry'] = gold_industry_train.apply(industry, axis=1)\n",
    "gold_industry_train['industry'].mean()"
   ]
  },
  {
   "cell_type": "code",
   "execution_count": 15,
   "metadata": {},
   "outputs": [
    {
     "data": {
      "text/plain": [
       "1.1201989637311238e-14"
      ]
     },
     "execution_count": 15,
     "metadata": {},
     "output_type": "execute_result"
    }
   ],
   "source": [
    "mean_absolute_error(gold_industry_train['rougher.output.recovery'], gold_industry_train['industry'])"
   ]
  },
  {
   "cell_type": "markdown",
   "metadata": {},
   "source": [
    "MAE между признаком и рассчетами небольшое, данные впорядке"
   ]
  },
  {
   "cell_type": "markdown",
   "metadata": {},
   "source": [
    "<font color='blue'><b>Комментарий ревьюера 3: </b></font> ✔️\\\n",
    "<font color='green'>👍</font>"
   ]
  },
  {
   "cell_type": "markdown",
   "metadata": {},
   "source": [
    "Напишем функцию, с помощью которой проанализируем каких признаков не хватает в тестовой выборке"
   ]
  },
  {
   "cell_type": "code",
   "execution_count": 16,
   "metadata": {},
   "outputs": [
    {
     "data": {
      "text/plain": [
       "['rougher.calculation.sulfate_to_au_concentrate',\n",
       " 'rougher.calculation.floatbank10_sulfate_to_au_feed',\n",
       " 'rougher.calculation.floatbank11_sulfate_to_au_feed',\n",
       " 'rougher.calculation.au_pb_ratio',\n",
       " 'rougher.output.concentrate_au',\n",
       " 'rougher.output.concentrate_ag',\n",
       " 'rougher.output.concentrate_pb',\n",
       " 'rougher.output.concentrate_sol',\n",
       " 'rougher.output.recovery',\n",
       " 'rougher.output.tail_au',\n",
       " 'rougher.output.tail_ag',\n",
       " 'rougher.output.tail_pb',\n",
       " 'rougher.output.tail_sol',\n",
       " 'primary_cleaner.output.concentrate_au',\n",
       " 'primary_cleaner.output.concentrate_ag',\n",
       " 'primary_cleaner.output.concentrate_pb',\n",
       " 'primary_cleaner.output.concentrate_sol',\n",
       " 'primary_cleaner.output.tail_au',\n",
       " 'primary_cleaner.output.tail_ag',\n",
       " 'primary_cleaner.output.tail_pb',\n",
       " 'primary_cleaner.output.tail_sol',\n",
       " 'secondary_cleaner.output.tail_au',\n",
       " 'secondary_cleaner.output.tail_ag',\n",
       " 'secondary_cleaner.output.tail_pb',\n",
       " 'secondary_cleaner.output.tail_sol',\n",
       " 'final.output.concentrate_au',\n",
       " 'final.output.concentrate_ag',\n",
       " 'final.output.concentrate_pb',\n",
       " 'final.output.concentrate_sol',\n",
       " 'final.output.recovery',\n",
       " 'final.output.tail_au',\n",
       " 'final.output.tail_ag',\n",
       " 'final.output.tail_pb',\n",
       " 'final.output.tail_sol',\n",
       " 'industry']"
      ]
     },
     "execution_count": 16,
     "metadata": {},
     "output_type": "execute_result"
    }
   ],
   "source": [
    "e = []\n",
    "for i in gold_industry_train.columns:\n",
    "    if i not in gold_industry_test.columns:\n",
    "        e.append(i)\n",
    "\n",
    "e\n"
   ]
  },
  {
   "cell_type": "markdown",
   "metadata": {},
   "source": [
    "<font color='blue'><b>Комментарий ревьюера 3: </b></font> ⚠️\\\n",
    "<font color='darkorange'> Можно определить разницу в колонках без цикла: вычтя один сэт колонок из другого или с помощью метода difference.</font>"
   ]
  },
  {
   "cell_type": "markdown",
   "metadata": {},
   "source": [
    "В тестовой выборке не хватает данных:\n",
    "final, primary_cleaner и secondary_cleaner\n"
   ]
  },
  {
   "cell_type": "code",
   "execution_count": 17,
   "metadata": {},
   "outputs": [],
   "source": [
    "gold_industry_test = gold_industry_test.merge(\n",
    "    gold_industry_full[[\"date\", \"rougher.output.recovery\", \"final.output.recovery\"]],\n",
    "    on=\"date\",\n",
    "    how=\"left\",\n",
    ")"
   ]
  },
  {
   "cell_type": "markdown",
   "metadata": {},
   "source": [
    "<font color='blue'><b>Комментарий ревьюера 9: </b></font> ✔️\\\n",
    "<font color='green'> Верно, при объединении таблиц нужно привязаться ко времени наблюдения.</font>"
   ]
  },
  {
   "cell_type": "code",
   "execution_count": 18,
   "metadata": {},
   "outputs": [],
   "source": [
    "gold_industry_train = gold_industry_train.bfill()\n",
    "gold_industry_test = gold_industry_test.bfill()\n",
    "gold_industry_full = gold_industry_train.bfill()\n"
   ]
  },
  {
   "cell_type": "markdown",
   "metadata": {},
   "source": [
    "<font color='blue'><b>Комментарий ревьюера 9: </b></font> ⚠️\\\n",
    "<font color='darkorange'> Заполнение пропусков одним значением не совсем корректно. В задаче есть условие,что соседние данные похожи. Можно использовать метод `ffill`</font>"
   ]
  },
  {
   "cell_type": "code",
   "execution_count": 19,
   "metadata": {},
   "outputs": [
    {
     "data": {
      "text/html": [
       "<div>\n",
       "<style scoped>\n",
       "    .dataframe tbody tr th:only-of-type {\n",
       "        vertical-align: middle;\n",
       "    }\n",
       "\n",
       "    .dataframe tbody tr th {\n",
       "        vertical-align: top;\n",
       "    }\n",
       "\n",
       "    .dataframe thead th {\n",
       "        text-align: right;\n",
       "    }\n",
       "</style>\n",
       "<table border=\"1\" class=\"dataframe\">\n",
       "  <thead>\n",
       "    <tr style=\"text-align: right;\">\n",
       "      <th></th>\n",
       "      <th>date</th>\n",
       "      <th>rougher.input.feed_au</th>\n",
       "      <th>rougher.input.feed_ag</th>\n",
       "      <th>rougher.input.feed_pb</th>\n",
       "      <th>rougher.input.feed_sol</th>\n",
       "      <th>rougher.input.feed_rate</th>\n",
       "      <th>rougher.input.feed_size</th>\n",
       "      <th>rougher.input.floatbank10_sulfate</th>\n",
       "      <th>rougher.input.floatbank10_xanthate</th>\n",
       "      <th>rougher.state.floatbank10_a_air</th>\n",
       "      <th>...</th>\n",
       "      <th>final.output.concentrate_au</th>\n",
       "      <th>final.output.concentrate_ag</th>\n",
       "      <th>final.output.concentrate_pb</th>\n",
       "      <th>final.output.concentrate_sol</th>\n",
       "      <th>final.output.recovery</th>\n",
       "      <th>final.output.tail_au</th>\n",
       "      <th>final.output.tail_ag</th>\n",
       "      <th>final.output.tail_pb</th>\n",
       "      <th>final.output.tail_sol</th>\n",
       "      <th>industry</th>\n",
       "    </tr>\n",
       "  </thead>\n",
       "  <tbody>\n",
       "    <tr>\n",
       "      <th>0</th>\n",
       "      <td>2016-01-15 00:00:00</td>\n",
       "      <td>6.486150</td>\n",
       "      <td>6.100378</td>\n",
       "      <td>2.284912</td>\n",
       "      <td>36.808594</td>\n",
       "      <td>523.546326</td>\n",
       "      <td>55.486599</td>\n",
       "      <td>11.986616</td>\n",
       "      <td>6.007990</td>\n",
       "      <td>999.706909</td>\n",
       "      <td>...</td>\n",
       "      <td>42.192020</td>\n",
       "      <td>6.055403</td>\n",
       "      <td>9.889648</td>\n",
       "      <td>5.507324</td>\n",
       "      <td>70.541216</td>\n",
       "      <td>2.143149</td>\n",
       "      <td>10.411962</td>\n",
       "      <td>0.895447</td>\n",
       "      <td>16.904297</td>\n",
       "      <td>87.107763</td>\n",
       "    </tr>\n",
       "    <tr>\n",
       "      <th>1</th>\n",
       "      <td>2016-01-15 01:00:00</td>\n",
       "      <td>6.478583</td>\n",
       "      <td>6.161113</td>\n",
       "      <td>2.266033</td>\n",
       "      <td>35.753385</td>\n",
       "      <td>525.290581</td>\n",
       "      <td>57.278666</td>\n",
       "      <td>11.971193</td>\n",
       "      <td>6.005766</td>\n",
       "      <td>1000.286398</td>\n",
       "      <td>...</td>\n",
       "      <td>42.701629</td>\n",
       "      <td>6.029369</td>\n",
       "      <td>9.968944</td>\n",
       "      <td>5.257781</td>\n",
       "      <td>69.266198</td>\n",
       "      <td>2.224930</td>\n",
       "      <td>10.462676</td>\n",
       "      <td>0.927452</td>\n",
       "      <td>16.634514</td>\n",
       "      <td>86.843261</td>\n",
       "    </tr>\n",
       "    <tr>\n",
       "      <th>2</th>\n",
       "      <td>2016-01-15 02:00:00</td>\n",
       "      <td>6.362222</td>\n",
       "      <td>6.116455</td>\n",
       "      <td>2.159622</td>\n",
       "      <td>35.971630</td>\n",
       "      <td>530.026610</td>\n",
       "      <td>57.510649</td>\n",
       "      <td>11.920603</td>\n",
       "      <td>6.197377</td>\n",
       "      <td>999.719565</td>\n",
       "      <td>...</td>\n",
       "      <td>42.657501</td>\n",
       "      <td>6.055926</td>\n",
       "      <td>10.213995</td>\n",
       "      <td>5.383759</td>\n",
       "      <td>68.116445</td>\n",
       "      <td>2.257889</td>\n",
       "      <td>10.507046</td>\n",
       "      <td>0.953716</td>\n",
       "      <td>16.208849</td>\n",
       "      <td>86.842308</td>\n",
       "    </tr>\n",
       "    <tr>\n",
       "      <th>3</th>\n",
       "      <td>2016-01-15 03:00:00</td>\n",
       "      <td>6.118189</td>\n",
       "      <td>6.043309</td>\n",
       "      <td>2.037807</td>\n",
       "      <td>36.862241</td>\n",
       "      <td>542.590390</td>\n",
       "      <td>57.792734</td>\n",
       "      <td>11.630094</td>\n",
       "      <td>6.203177</td>\n",
       "      <td>999.814770</td>\n",
       "      <td>...</td>\n",
       "      <td>42.689819</td>\n",
       "      <td>6.047977</td>\n",
       "      <td>9.977019</td>\n",
       "      <td>4.858634</td>\n",
       "      <td>68.347543</td>\n",
       "      <td>2.146849</td>\n",
       "      <td>10.422762</td>\n",
       "      <td>0.883763</td>\n",
       "      <td>16.532835</td>\n",
       "      <td>87.226430</td>\n",
       "    </tr>\n",
       "    <tr>\n",
       "      <th>4</th>\n",
       "      <td>2016-01-15 04:00:00</td>\n",
       "      <td>5.663707</td>\n",
       "      <td>6.060915</td>\n",
       "      <td>1.786875</td>\n",
       "      <td>34.347666</td>\n",
       "      <td>540.531893</td>\n",
       "      <td>56.047189</td>\n",
       "      <td>10.957755</td>\n",
       "      <td>6.198826</td>\n",
       "      <td>999.678690</td>\n",
       "      <td>...</td>\n",
       "      <td>42.774141</td>\n",
       "      <td>6.148599</td>\n",
       "      <td>10.142511</td>\n",
       "      <td>4.939416</td>\n",
       "      <td>66.927016</td>\n",
       "      <td>2.055292</td>\n",
       "      <td>10.360302</td>\n",
       "      <td>0.792826</td>\n",
       "      <td>16.525686</td>\n",
       "      <td>86.688794</td>\n",
       "    </tr>\n",
       "  </tbody>\n",
       "</table>\n",
       "<p>5 rows × 88 columns</p>\n",
       "</div>"
      ],
      "text/plain": [
       "                  date  rougher.input.feed_au  rougher.input.feed_ag  \\\n",
       "0  2016-01-15 00:00:00               6.486150               6.100378   \n",
       "1  2016-01-15 01:00:00               6.478583               6.161113   \n",
       "2  2016-01-15 02:00:00               6.362222               6.116455   \n",
       "3  2016-01-15 03:00:00               6.118189               6.043309   \n",
       "4  2016-01-15 04:00:00               5.663707               6.060915   \n",
       "\n",
       "   rougher.input.feed_pb  rougher.input.feed_sol  rougher.input.feed_rate  \\\n",
       "0               2.284912               36.808594               523.546326   \n",
       "1               2.266033               35.753385               525.290581   \n",
       "2               2.159622               35.971630               530.026610   \n",
       "3               2.037807               36.862241               542.590390   \n",
       "4               1.786875               34.347666               540.531893   \n",
       "\n",
       "   rougher.input.feed_size  rougher.input.floatbank10_sulfate  \\\n",
       "0                55.486599                          11.986616   \n",
       "1                57.278666                          11.971193   \n",
       "2                57.510649                          11.920603   \n",
       "3                57.792734                          11.630094   \n",
       "4                56.047189                          10.957755   \n",
       "\n",
       "   rougher.input.floatbank10_xanthate  rougher.state.floatbank10_a_air  ...  \\\n",
       "0                            6.007990                       999.706909  ...   \n",
       "1                            6.005766                      1000.286398  ...   \n",
       "2                            6.197377                       999.719565  ...   \n",
       "3                            6.203177                       999.814770  ...   \n",
       "4                            6.198826                       999.678690  ...   \n",
       "\n",
       "   final.output.concentrate_au  final.output.concentrate_ag  \\\n",
       "0                    42.192020                     6.055403   \n",
       "1                    42.701629                     6.029369   \n",
       "2                    42.657501                     6.055926   \n",
       "3                    42.689819                     6.047977   \n",
       "4                    42.774141                     6.148599   \n",
       "\n",
       "   final.output.concentrate_pb  final.output.concentrate_sol  \\\n",
       "0                     9.889648                      5.507324   \n",
       "1                     9.968944                      5.257781   \n",
       "2                    10.213995                      5.383759   \n",
       "3                     9.977019                      4.858634   \n",
       "4                    10.142511                      4.939416   \n",
       "\n",
       "   final.output.recovery  final.output.tail_au  final.output.tail_ag  \\\n",
       "0              70.541216              2.143149             10.411962   \n",
       "1              69.266198              2.224930             10.462676   \n",
       "2              68.116445              2.257889             10.507046   \n",
       "3              68.347543              2.146849             10.422762   \n",
       "4              66.927016              2.055292             10.360302   \n",
       "\n",
       "   final.output.tail_pb  final.output.tail_sol   industry  \n",
       "0              0.895447              16.904297  87.107763  \n",
       "1              0.927452              16.634514  86.843261  \n",
       "2              0.953716              16.208849  86.842308  \n",
       "3              0.883763              16.532835  87.226430  \n",
       "4              0.792826              16.525686  86.688794  \n",
       "\n",
       "[5 rows x 88 columns]"
      ]
     },
     "execution_count": 19,
     "metadata": {},
     "output_type": "execute_result"
    }
   ],
   "source": [
    "gold_industry_train.head()"
   ]
  },
  {
   "cell_type": "markdown",
   "metadata": {},
   "source": [
    "<font color='blue'><b>Комментарий ревьюера 3: </b></font> ✔️\\\n",
    "<font color='green'> Пропуски заполнены согласно условию задачи!</font>"
   ]
  },
  {
   "cell_type": "code",
   "execution_count": 20,
   "metadata": {},
   "outputs": [
    {
     "data": {
      "text/html": [
       "<div>\n",
       "<style scoped>\n",
       "    .dataframe tbody tr th:only-of-type {\n",
       "        vertical-align: middle;\n",
       "    }\n",
       "\n",
       "    .dataframe tbody tr th {\n",
       "        vertical-align: top;\n",
       "    }\n",
       "\n",
       "    .dataframe thead th {\n",
       "        text-align: right;\n",
       "    }\n",
       "</style>\n",
       "<table border=\"1\" class=\"dataframe\">\n",
       "  <thead>\n",
       "    <tr style=\"text-align: right;\">\n",
       "      <th></th>\n",
       "      <th>date</th>\n",
       "      <th>rougher.input.feed_au</th>\n",
       "      <th>rougher.input.feed_ag</th>\n",
       "      <th>rougher.input.feed_pb</th>\n",
       "      <th>rougher.input.feed_sol</th>\n",
       "      <th>rougher.input.feed_rate</th>\n",
       "      <th>rougher.input.feed_size</th>\n",
       "      <th>rougher.input.floatbank10_sulfate</th>\n",
       "      <th>rougher.input.floatbank10_xanthate</th>\n",
       "      <th>rougher.state.floatbank10_a_air</th>\n",
       "      <th>...</th>\n",
       "      <th>secondary_cleaner.state.floatbank4_b_air</th>\n",
       "      <th>secondary_cleaner.state.floatbank4_b_level</th>\n",
       "      <th>secondary_cleaner.state.floatbank5_a_air</th>\n",
       "      <th>secondary_cleaner.state.floatbank5_a_level</th>\n",
       "      <th>secondary_cleaner.state.floatbank5_b_air</th>\n",
       "      <th>secondary_cleaner.state.floatbank5_b_level</th>\n",
       "      <th>secondary_cleaner.state.floatbank6_a_air</th>\n",
       "      <th>secondary_cleaner.state.floatbank6_a_level</th>\n",
       "      <th>rougher.output.recovery</th>\n",
       "      <th>final.output.recovery</th>\n",
       "    </tr>\n",
       "  </thead>\n",
       "  <tbody>\n",
       "    <tr>\n",
       "      <th>0</th>\n",
       "      <td>2017-12-09 14:59:59</td>\n",
       "      <td>4.365491</td>\n",
       "      <td>6.158718</td>\n",
       "      <td>3.875727</td>\n",
       "      <td>39.135119</td>\n",
       "      <td>555.820208</td>\n",
       "      <td>94.544358</td>\n",
       "      <td>6.146982</td>\n",
       "      <td>9.308612</td>\n",
       "      <td>1196.238112</td>\n",
       "      <td>...</td>\n",
       "      <td>20.020205</td>\n",
       "      <td>-500.220296</td>\n",
       "      <td>17.963512</td>\n",
       "      <td>-499.939490</td>\n",
       "      <td>12.990306</td>\n",
       "      <td>-500.080993</td>\n",
       "      <td>19.990336</td>\n",
       "      <td>-499.191575</td>\n",
       "      <td>89.514960</td>\n",
       "      <td>70.281454</td>\n",
       "    </tr>\n",
       "    <tr>\n",
       "      <th>1</th>\n",
       "      <td>2017-12-09 15:59:59</td>\n",
       "      <td>4.362781</td>\n",
       "      <td>6.048130</td>\n",
       "      <td>3.902537</td>\n",
       "      <td>39.713906</td>\n",
       "      <td>544.731687</td>\n",
       "      <td>123.742430</td>\n",
       "      <td>6.210119</td>\n",
       "      <td>9.297709</td>\n",
       "      <td>1201.904177</td>\n",
       "      <td>...</td>\n",
       "      <td>20.054122</td>\n",
       "      <td>-500.314711</td>\n",
       "      <td>17.979515</td>\n",
       "      <td>-499.272871</td>\n",
       "      <td>12.992404</td>\n",
       "      <td>-499.976268</td>\n",
       "      <td>20.013986</td>\n",
       "      <td>-500.625471</td>\n",
       "      <td>89.858126</td>\n",
       "      <td>65.523246</td>\n",
       "    </tr>\n",
       "    <tr>\n",
       "      <th>2</th>\n",
       "      <td>2017-12-09 16:59:59</td>\n",
       "      <td>5.081681</td>\n",
       "      <td>6.082745</td>\n",
       "      <td>4.564078</td>\n",
       "      <td>37.208683</td>\n",
       "      <td>558.155110</td>\n",
       "      <td>82.610855</td>\n",
       "      <td>7.363824</td>\n",
       "      <td>9.003562</td>\n",
       "      <td>1200.826926</td>\n",
       "      <td>...</td>\n",
       "      <td>20.029144</td>\n",
       "      <td>-500.000662</td>\n",
       "      <td>18.012723</td>\n",
       "      <td>-500.024764</td>\n",
       "      <td>13.016445</td>\n",
       "      <td>-500.058432</td>\n",
       "      <td>19.973767</td>\n",
       "      <td>-501.394155</td>\n",
       "      <td>91.816623</td>\n",
       "      <td>74.817644</td>\n",
       "    </tr>\n",
       "    <tr>\n",
       "      <th>3</th>\n",
       "      <td>2017-12-09 17:59:59</td>\n",
       "      <td>5.145949</td>\n",
       "      <td>6.084374</td>\n",
       "      <td>4.768124</td>\n",
       "      <td>36.808874</td>\n",
       "      <td>539.713765</td>\n",
       "      <td>77.984784</td>\n",
       "      <td>6.927072</td>\n",
       "      <td>8.955597</td>\n",
       "      <td>1199.292489</td>\n",
       "      <td>...</td>\n",
       "      <td>19.977466</td>\n",
       "      <td>-500.159903</td>\n",
       "      <td>17.980463</td>\n",
       "      <td>-500.504602</td>\n",
       "      <td>12.949071</td>\n",
       "      <td>-500.009937</td>\n",
       "      <td>20.010332</td>\n",
       "      <td>-508.337973</td>\n",
       "      <td>88.478959</td>\n",
       "      <td>63.082720</td>\n",
       "    </tr>\n",
       "    <tr>\n",
       "      <th>4</th>\n",
       "      <td>2017-12-09 18:59:59</td>\n",
       "      <td>5.735249</td>\n",
       "      <td>6.165220</td>\n",
       "      <td>4.512346</td>\n",
       "      <td>37.810642</td>\n",
       "      <td>558.713584</td>\n",
       "      <td>86.434874</td>\n",
       "      <td>7.823471</td>\n",
       "      <td>7.490356</td>\n",
       "      <td>1198.005449</td>\n",
       "      <td>...</td>\n",
       "      <td>20.023735</td>\n",
       "      <td>-499.713680</td>\n",
       "      <td>17.990955</td>\n",
       "      <td>-500.334769</td>\n",
       "      <td>13.007523</td>\n",
       "      <td>-499.968459</td>\n",
       "      <td>19.995999</td>\n",
       "      <td>-499.788805</td>\n",
       "      <td>89.230316</td>\n",
       "      <td>74.463380</td>\n",
       "    </tr>\n",
       "  </tbody>\n",
       "</table>\n",
       "<p>5 rows × 55 columns</p>\n",
       "</div>"
      ],
      "text/plain": [
       "                  date  rougher.input.feed_au  rougher.input.feed_ag  \\\n",
       "0  2017-12-09 14:59:59               4.365491               6.158718   \n",
       "1  2017-12-09 15:59:59               4.362781               6.048130   \n",
       "2  2017-12-09 16:59:59               5.081681               6.082745   \n",
       "3  2017-12-09 17:59:59               5.145949               6.084374   \n",
       "4  2017-12-09 18:59:59               5.735249               6.165220   \n",
       "\n",
       "   rougher.input.feed_pb  rougher.input.feed_sol  rougher.input.feed_rate  \\\n",
       "0               3.875727               39.135119               555.820208   \n",
       "1               3.902537               39.713906               544.731687   \n",
       "2               4.564078               37.208683               558.155110   \n",
       "3               4.768124               36.808874               539.713765   \n",
       "4               4.512346               37.810642               558.713584   \n",
       "\n",
       "   rougher.input.feed_size  rougher.input.floatbank10_sulfate  \\\n",
       "0                94.544358                           6.146982   \n",
       "1               123.742430                           6.210119   \n",
       "2                82.610855                           7.363824   \n",
       "3                77.984784                           6.927072   \n",
       "4                86.434874                           7.823471   \n",
       "\n",
       "   rougher.input.floatbank10_xanthate  rougher.state.floatbank10_a_air  ...  \\\n",
       "0                            9.308612                      1196.238112  ...   \n",
       "1                            9.297709                      1201.904177  ...   \n",
       "2                            9.003562                      1200.826926  ...   \n",
       "3                            8.955597                      1199.292489  ...   \n",
       "4                            7.490356                      1198.005449  ...   \n",
       "\n",
       "   secondary_cleaner.state.floatbank4_b_air  \\\n",
       "0                                 20.020205   \n",
       "1                                 20.054122   \n",
       "2                                 20.029144   \n",
       "3                                 19.977466   \n",
       "4                                 20.023735   \n",
       "\n",
       "   secondary_cleaner.state.floatbank4_b_level  \\\n",
       "0                                 -500.220296   \n",
       "1                                 -500.314711   \n",
       "2                                 -500.000662   \n",
       "3                                 -500.159903   \n",
       "4                                 -499.713680   \n",
       "\n",
       "   secondary_cleaner.state.floatbank5_a_air  \\\n",
       "0                                 17.963512   \n",
       "1                                 17.979515   \n",
       "2                                 18.012723   \n",
       "3                                 17.980463   \n",
       "4                                 17.990955   \n",
       "\n",
       "   secondary_cleaner.state.floatbank5_a_level  \\\n",
       "0                                 -499.939490   \n",
       "1                                 -499.272871   \n",
       "2                                 -500.024764   \n",
       "3                                 -500.504602   \n",
       "4                                 -500.334769   \n",
       "\n",
       "   secondary_cleaner.state.floatbank5_b_air  \\\n",
       "0                                 12.990306   \n",
       "1                                 12.992404   \n",
       "2                                 13.016445   \n",
       "3                                 12.949071   \n",
       "4                                 13.007523   \n",
       "\n",
       "   secondary_cleaner.state.floatbank5_b_level  \\\n",
       "0                                 -500.080993   \n",
       "1                                 -499.976268   \n",
       "2                                 -500.058432   \n",
       "3                                 -500.009937   \n",
       "4                                 -499.968459   \n",
       "\n",
       "   secondary_cleaner.state.floatbank6_a_air  \\\n",
       "0                                 19.990336   \n",
       "1                                 20.013986   \n",
       "2                                 19.973767   \n",
       "3                                 20.010332   \n",
       "4                                 19.995999   \n",
       "\n",
       "   secondary_cleaner.state.floatbank6_a_level  rougher.output.recovery  \\\n",
       "0                                 -499.191575                89.514960   \n",
       "1                                 -500.625471                89.858126   \n",
       "2                                 -501.394155                91.816623   \n",
       "3                                 -508.337973                88.478959   \n",
       "4                                 -499.788805                89.230316   \n",
       "\n",
       "   final.output.recovery  \n",
       "0              70.281454  \n",
       "1              65.523246  \n",
       "2              74.817644  \n",
       "3              63.082720  \n",
       "4              74.463380  \n",
       "\n",
       "[5 rows x 55 columns]"
      ]
     },
     "execution_count": 20,
     "metadata": {},
     "output_type": "execute_result"
    }
   ],
   "source": [
    "gold_industry_test.head()"
   ]
  },
  {
   "cell_type": "markdown",
   "metadata": {},
   "source": [
    "Вывод:\n",
    "Данные загружены, проверены основные показатели методом describe, найдены уникальные значения, посчитана MAE, \n",
    "а также заполнены пропуски методом интерполяции(гуглил его применение)"
   ]
  },
  {
   "cell_type": "markdown",
   "metadata": {},
   "source": [
    "<font color='blue'><b>Комментарий ревьюера 3: </b></font> ✔️ <br>\n",
    "<font color='green'>Здорово, что не забываешь про промежуточные выводы.</font>"
   ]
  },
  {
   "cell_type": "markdown",
   "metadata": {},
   "source": [
    "## Анализ данных"
   ]
  },
  {
   "cell_type": "code",
   "execution_count": 21,
   "metadata": {},
   "outputs": [],
   "source": [
    "def hist_concentrate(final, primary, rougher, raw, name):\n",
    "    plt.hist(final, bins=300, alpha=0.7, label='Final')\n",
    "    plt.hist(primary, bins=300, alpha=0.7, label='Primary cleaner')\n",
    "    plt.hist(rougher, bins=300, alpha=0.7, label='Rougher')\n",
    "    plt.hist(raw, bins=300, alpha=0.7, label='Raw')\n",
    "    plt.title(name)\n",
    "    plt.legend()\n",
    "    plt.show()"
   ]
  },
  {
   "cell_type": "code",
   "execution_count": 22,
   "metadata": {},
   "outputs": [
    {
     "data": {
      "image/png": "[encoded data removed]",
      "text/plain": [
       "<Figure size 432x288 with 1 Axes>"
      ]
     },
     "metadata": {
      "needs_background": "light"
     },
     "output_type": "display_data"
    }
   ],
   "source": [
    "hist_concentrate(gold_industry_full['rougher.input.feed_au'],\n",
    "           gold_industry_full['rougher.output.concentrate_au'],\n",
    "           gold_industry_full['primary_cleaner.output.concentrate_au'],\n",
    "           gold_industry_full['final.output.concentrate_au'],'Золото')"
   ]
  },
  {
   "cell_type": "markdown",
   "metadata": {},
   "source": [
    "Концентрация золота увеличивается на каждом этапе обработке, особенно важен первый и финальный этап"
   ]
  },
  {
   "cell_type": "code",
   "execution_count": 23,
   "metadata": {},
   "outputs": [
    {
     "data": {
      "image/png": "[encoded data removed]",
      "text/plain": [
       "<Figure size 432x288 with 1 Axes>"
      ]
     },
     "metadata": {
      "needs_background": "light"
     },
     "output_type": "display_data"
    }
   ],
   "source": [
    "hist_concentrate(gold_industry_full['rougher.input.feed_ag'],\n",
    "           gold_industry_full['rougher.output.concentrate_ag'],\n",
    "           gold_industry_full['primary_cleaner.output.concentrate_ag'],\n",
    "           gold_industry_full['final.output.concentrate_ag'],'Серебро')"
   ]
  },
  {
   "cell_type": "markdown",
   "metadata": {},
   "source": [
    "у серебра достаточно интересная картина финальные значения имеют меньше серебра чем 2 и 3 этапы отчистки"
   ]
  },
  {
   "cell_type": "code",
   "execution_count": 24,
   "metadata": {},
   "outputs": [
    {
     "data": {
      "image/png": "[encoded data removed]",
      "text/plain": [
       "<Figure size 432x288 with 1 Axes>"
      ]
     },
     "metadata": {
      "needs_background": "light"
     },
     "output_type": "display_data"
    }
   ],
   "source": [
    "hist_concentrate(gold_industry_full['rougher.input.feed_pb'],\n",
    "           gold_industry_full['rougher.output.concentrate_pb'],\n",
    "           gold_industry_full['primary_cleaner.output.concentrate_pb'],\n",
    "           gold_industry_full['final.output.concentrate_pb'],'Свинец')"
   ]
  },
  {
   "cell_type": "markdown",
   "metadata": {},
   "source": [
    "концентрация свинца также уменьшается с каждым этапом отчистки"
   ]
  },
  {
   "cell_type": "markdown",
   "metadata": {},
   "source": [
    "Около нуля замечены аномальные выбросы"
   ]
  },
  {
   "cell_type": "markdown",
   "metadata": {},
   "source": [
    "<font color='blue'><b>Комментарий ревьюера 3: </b></font> ❌\\\n",
    "<font color='red'>~~Нужно описать:~~ `как меняется концентрация металлов (Au, Ag, Pb) на различных этапах: в сырье, в черновом концентрате, в концентрате после первой очистки и в финальном концентрате.`</font>"
   ]
  },
  {
   "cell_type": "markdown",
   "metadata": {},
   "source": [
    "+"
   ]
  },
  {
   "cell_type": "markdown",
   "metadata": {},
   "source": [
    "<font color='blue'><b>Комментарий ревьюера 4: </b></font> ✔️\\\n",
    "<font color='green'> Всё верно!</font>"
   ]
  },
  {
   "cell_type": "code",
   "execution_count": 25,
   "metadata": {},
   "outputs": [
    {
     "data": {
      "image/png": "[encoded data removed]",
      "text/plain": [
       "<Figure size 432x288 with 1 Axes>"
      ]
     },
     "metadata": {
      "needs_background": "light"
     },
     "output_type": "display_data"
    }
   ],
   "source": [
    "sns.histplot(gold_industry_train['primary_cleaner.input.feed_size'], bins=50);\n",
    "plt.title(\"Histogram\");\n"
   ]
  },
  {
   "cell_type": "code",
   "execution_count": 26,
   "metadata": {},
   "outputs": [
    {
     "data": {
      "image/png": "[encoded data removed]",
      "text/plain": [
       "<Figure size 432x288 with 1 Axes>"
      ]
     },
     "metadata": {
      "needs_background": "light"
     },
     "output_type": "display_data"
    }
   ],
   "source": [
    "sns.histplot(gold_industry_test['primary_cleaner.input.feed_size'], bins=50);\n",
    "plt.title(\"Histogram\");"
   ]
  },
  {
   "cell_type": "markdown",
   "metadata": {},
   "source": [
    "средние данных тестовой и тренировочной выборок не отличаются"
   ]
  },
  {
   "cell_type": "markdown",
   "metadata": {},
   "source": [
    "<font color='blue'><b>Комментарий ревьюера 4: </b></font> ✔️\\\n",
    "<font color='green'> 👍</font>"
   ]
  },
  {
   "cell_type": "markdown",
   "metadata": {},
   "source": [
    "Исследуем суммарную концентрацию всех веществ на разных стадиях"
   ]
  },
  {
   "cell_type": "code",
   "execution_count": 27,
   "metadata": {},
   "outputs": [
    {
     "data": {
      "text/plain": [
       "(4860, 55)"
      ]
     },
     "metadata": {},
     "output_type": "display_data"
    },
    {
     "data": {
      "text/plain": [
       "(14579, 88)"
      ]
     },
     "metadata": {},
     "output_type": "display_data"
    },
    {
     "data": {
      "text/plain": [
       "(4860, 55)"
      ]
     },
     "metadata": {},
     "output_type": "display_data"
    },
    {
     "data": {
      "text/plain": [
       "(13988, 88)"
      ]
     },
     "metadata": {},
     "output_type": "display_data"
    }
   ],
   "source": [
    "features_rough = ['rougher.output.concentrate_au','rougher.output.concentrate_ag','rougher.output.concentrate_pb']\n",
    "features_input = ['rougher.input.feed_au', 'rougher.input.feed_ag','rougher.input.feed_pb']\n",
    "features_primary = ['primary_cleaner.output.concentrate_au', 'primary_cleaner.output.concentrate_ag', 'primary_cleaner.output.concentrate_pb']\n",
    "features_final = ['final.output.concentrate_au','final.output.concentrate_ag','final.output.concentrate_pb']\n",
    "display(gold_industry_test.shape)\n",
    "display(gold_industry_train.shape)\n",
    "\n",
    "gold_industry_train = gold_industry_train[gold_industry_train[features_input].sum(1) > 0]\n",
    "gold_industry_train = gold_industry_train[gold_industry_train[features_rough].sum(1) > 0]\n",
    "gold_industry_train = gold_industry_train[gold_industry_train[features_primary].sum(1) > 0]\n",
    "gold_industry_train = gold_industry_train[gold_industry_train[features_final].sum(1) > 0]\n",
    "\n",
    "\n",
    "\n",
    "display(gold_industry_test.shape)\n",
    "display(gold_industry_train.shape)\n"
   ]
  },
  {
   "cell_type": "markdown",
   "metadata": {},
   "source": [
    "Вывод: выборки одинакового размера, нулевые значнеия удалены"
   ]
  },
  {
   "cell_type": "markdown",
   "metadata": {},
   "source": [
    "## Модель"
   ]
  },
  {
   "cell_type": "markdown",
   "metadata": {},
   "source": [
    "напишем функцию Smape"
   ]
  },
  {
   "cell_type": "code",
   "execution_count": 28,
   "metadata": {},
   "outputs": [],
   "source": [
    "def smape(target, predictions):\n",
    "    \n",
    "\n",
    "    n = np.abs(target - predictions)\n",
    "    d = (np.abs(target) + np.abs(predictions)) / 2 \n",
    "    return 1 / len(target) * np.sum(n/d) * 100               \n",
    "                                    \n",
    "def final_smape(target, predictions):\n",
    "    target_rougher = target['rougher.output.recovery']\n",
    "    target_final = target['final.output.recovery']\n",
    "    target_predictions_rougher = predictions[:, 0]\n",
    "    target_predictions_final = predictions[:, 1]\n",
    "                                    \n",
    "    return 0.25 * smape(target_rougher, target_predictions_rougher) + 0.75 * smape(target_rougher, target_predictions_rougher)\n",
    "\n",
    "smape_scorer = make_scorer(final_smape, greater_is_better = False)"
   ]
  },
  {
   "cell_type": "markdown",
   "metadata": {},
   "source": [
    "<font color='blue'><b>Комментарий ревьюера: </b></font> ❌\\\n",
    "<font color='red'> ~~Ошибка в расчёте smape. На 2 нужно разделить только знаменатель~~.</font>"
   ]
  },
  {
   "cell_type": "markdown",
   "metadata": {},
   "source": [
    "+"
   ]
  },
  {
   "cell_type": "code",
   "execution_count": 29,
   "metadata": {},
   "outputs": [
    {
     "data": {
      "text/plain": [
       "(4860, 55)"
      ]
     },
     "execution_count": 29,
     "metadata": {},
     "output_type": "execute_result"
    }
   ],
   "source": [
    "gold_industry_test.shape"
   ]
  },
  {
   "cell_type": "code",
   "execution_count": 30,
   "metadata": {},
   "outputs": [],
   "source": [
    "gold_industry_train = gold_industry_train[gold_industry_test.columns]"
   ]
  },
  {
   "cell_type": "code",
   "execution_count": 31,
   "metadata": {},
   "outputs": [
    {
     "data": {
      "text/plain": [
       "(13988, 55)"
      ]
     },
     "execution_count": 31,
     "metadata": {},
     "output_type": "execute_result"
    }
   ],
   "source": [
    "gold_industry_train.shape"
   ]
  },
  {
   "cell_type": "code",
   "execution_count": 32,
   "metadata": {},
   "outputs": [
    {
     "data": {
      "text/plain": [
       "(4860, 55)"
      ]
     },
     "execution_count": 32,
     "metadata": {},
     "output_type": "execute_result"
    }
   ],
   "source": [
    "gold_industry_test.shape"
   ]
  },
  {
   "cell_type": "code",
   "execution_count": 33,
   "metadata": {},
   "outputs": [],
   "source": [
    "gold_industry_test = gold_industry_test.drop(['date'], axis=1)"
   ]
  },
  {
   "cell_type": "code",
   "execution_count": 34,
   "metadata": {},
   "outputs": [],
   "source": [
    "gold_industry_train = gold_industry_train.drop('date', axis=1)"
   ]
  },
  {
   "cell_type": "markdown",
   "metadata": {},
   "source": [
    "<font color='blue'><b>Комментарий ревьюера 4: </b></font> ❌\\\n",
    "<font color='red'> ~~В обучающих данных должно остаться 52 признака как в тестовой выборке.~~</font>"
   ]
  },
  {
   "cell_type": "code",
   "execution_count": 35,
   "metadata": {},
   "outputs": [],
   "source": [
    "features_train = gold_industry_train.drop(columns=[\"rougher.output.recovery\", \"final.output.recovery\"], axis=1)\n",
    "target_train = gold_industry_train[[\"rougher.output.recovery\", \"final.output.recovery\"]]\n",
    "\n",
    "features_test = gold_industry_test.drop(columns=[\"rougher.output.recovery\", \"final.output.recovery\"], axis=1)\n",
    "target_test = gold_industry_test[[\"rougher.output.recovery\", \"final.output.recovery\"]]"
   ]
  },
  {
   "cell_type": "code",
   "execution_count": 36,
   "metadata": {},
   "outputs": [
    {
     "data": {
      "text/plain": [
       "-7.049388614090033"
      ]
     },
     "execution_count": 36,
     "metadata": {},
     "output_type": "execute_result"
    }
   ],
   "source": [
    "model_LR = LinearRegression()\n",
    "scores = cross_val_score(model_LR, features_train, target_train, cv=5, scoring=smape_scorer)\n",
    "final_score = scores.mean()\n",
    "final_score"
   ]
  },
  {
   "cell_type": "markdown",
   "metadata": {},
   "source": [
    "теперь попробуем через подбор параметров"
   ]
  },
  {
   "cell_type": "code",
   "execution_count": 37,
   "metadata": {},
   "outputs": [
    {
     "data": {
      "text/plain": [
       "-7.129912196258376"
      ]
     },
     "execution_count": 37,
     "metadata": {},
     "output_type": "execute_result"
    }
   ],
   "source": [
    "param_grid = {'max_depth': range(1, 100, 12)}\n",
    "model_DTR = DecisionTreeRegressor(random_state=12345)\n",
    "search = GridSearchCV(model_DTR, param_grid, cv=5, scoring=smape_scorer)\n",
    "search.fit(features_train, target_train)\n",
    "search.best_score_"
   ]
  },
  {
   "cell_type": "code",
   "execution_count": 38,
   "metadata": {},
   "outputs": [
    {
     "data": {
      "text/html": [
       "<div>\n",
       "<style scoped>\n",
       "    .dataframe tbody tr th:only-of-type {\n",
       "        vertical-align: middle;\n",
       "    }\n",
       "\n",
       "    .dataframe tbody tr th {\n",
       "        vertical-align: top;\n",
       "    }\n",
       "\n",
       "    .dataframe thead th {\n",
       "        text-align: right;\n",
       "    }\n",
       "</style>\n",
       "<table border=\"1\" class=\"dataframe\">\n",
       "  <thead>\n",
       "    <tr style=\"text-align: right;\">\n",
       "      <th></th>\n",
       "      <th>rougher.output.recovery</th>\n",
       "      <th>final.output.recovery</th>\n",
       "    </tr>\n",
       "  </thead>\n",
       "  <tbody>\n",
       "    <tr>\n",
       "      <th>0</th>\n",
       "      <td>89.514960</td>\n",
       "      <td>70.281454</td>\n",
       "    </tr>\n",
       "    <tr>\n",
       "      <th>1</th>\n",
       "      <td>89.858126</td>\n",
       "      <td>65.523246</td>\n",
       "    </tr>\n",
       "    <tr>\n",
       "      <th>2</th>\n",
       "      <td>91.816623</td>\n",
       "      <td>74.817644</td>\n",
       "    </tr>\n",
       "    <tr>\n",
       "      <th>3</th>\n",
       "      <td>88.478959</td>\n",
       "      <td>63.082720</td>\n",
       "    </tr>\n",
       "    <tr>\n",
       "      <th>4</th>\n",
       "      <td>89.230316</td>\n",
       "      <td>74.463380</td>\n",
       "    </tr>\n",
       "  </tbody>\n",
       "</table>\n",
       "</div>"
      ],
      "text/plain": [
       "   rougher.output.recovery  final.output.recovery\n",
       "0                89.514960              70.281454\n",
       "1                89.858126              65.523246\n",
       "2                91.816623              74.817644\n",
       "3                88.478959              63.082720\n",
       "4                89.230316              74.463380"
      ]
     },
     "execution_count": 38,
     "metadata": {},
     "output_type": "execute_result"
    }
   ],
   "source": [
    "target_test.head()"
   ]
  },
  {
   "cell_type": "markdown",
   "metadata": {},
   "source": [
    "<font color='blue'><b>Комментарий ревьюера 7: </b></font> ❌\\\n",
    "<font color='blue'> Написал выше.</font>"
   ]
  },
  {
   "cell_type": "markdown",
   "metadata": {},
   "source": [
    "Исправлено"
   ]
  },
  {
   "cell_type": "code",
   "execution_count": 39,
   "metadata": {},
   "outputs": [
    {
     "data": {
      "text/plain": [
       "-6.959270458071534"
      ]
     },
     "execution_count": 39,
     "metadata": {},
     "output_type": "execute_result"
    }
   ],
   "source": [
    "model_rfr = RandomForestRegressor(random_state=12345)\n",
    "score_rougher_rfr = cross_val_score(model_rfr, features_train, target_train, cv=5, scoring=smape_scorer).mean()\n",
    "score_rougher_rfr"
   ]
  },
  {
   "cell_type": "markdown",
   "metadata": {},
   "source": [
    "Лучший показатель у RandomForest, сделаем тест на нем"
   ]
  },
  {
   "cell_type": "code",
   "execution_count": 40,
   "metadata": {},
   "outputs": [
    {
     "name": "stdout",
     "output_type": "stream",
     "text": [
      "Итоговое sMAPE на тестовой выборке: 4.335097264993704\n"
     ]
    }
   ],
   "source": [
    "model = RandomForestRegressor(random_state=12345)\n",
    "model.fit(features_train, target_train)\n",
    "test_predictions = model.predict(features_test)\n",
    "print('Итоговое sMAPE на тестовой выборке:',smape(target_test, test_predictions).mean())"
   ]
  },
  {
   "cell_type": "markdown",
   "metadata": {},
   "source": [
    "Проверим модель также на устойчивость"
   ]
  },
  {
   "cell_type": "code",
   "execution_count": 41,
   "metadata": {},
   "outputs": [
    {
     "name": "stdout",
     "output_type": "stream",
     "text": [
      "Итоговое sMAPE для DummyRegressor: 7.684543208005756\n"
     ]
    }
   ],
   "source": [
    "\n",
    "dummy_model = DummyRegressor(strategy=\"mean\")\n",
    "dummy_model.fit(features_train, target_train)\n",
    "test_predictions = dummy_model.predict(features_test)\n",
    "\n",
    "\n",
    "print('Итоговое sMAPE для DummyRegressor:',smape(target_test, test_predictions).mean())"
   ]
  },
  {
   "cell_type": "markdown",
   "metadata": {},
   "source": [
    "<font color='blue'><b>Комментарий ревьюера 8: </b></font> ✔️\\\n",
    "<font color='green'> Классно, что сравниваешь с константной моделью!</font>"
   ]
  },
  {
   "cell_type": "markdown",
   "metadata": {},
   "source": [
    "<font color='blue'><b>Комментарий ревьюера 7: </b></font> \\\n",
    "<font color='blue'> Не забудь сравнить с константной моделью, например с `DummyRegressor`, из одного значения метрики не ясно насколько адекватно предсказание моделей. )</font>"
   ]
  },
  {
   "cell_type": "markdown",
   "metadata": {},
   "source": [
    " Вывод: Данные проанализированы. Заполнены пропуски средним значениями, в тестовую выборку добавлены столбцы из обучающей выборки\n",
    "\n",
    "Проверено изменение концентрации металлов на каждом этапе очистки.\n",
    "\n",
    "Написана функция для вычисления итоговой Smape, модели обучены линейной регрессией и Деревом решений, лучшая модель посчитана на тестовоф выборке\n"
   ]
  },
  {
   "cell_type": "markdown",
   "metadata": {},
   "source": [
    "<font color='blue'><b>Комментарий ревьюера 8: </b></font> ✔️\\\n",
    "<font color='green'> Очень приятно видеть вывод в конце проекта!\\\n",
    "Приведены ответы на главные вопросы проекта.</font>"
   ]
  },
  {
   "cell_type": "markdown",
   "metadata": {},
   "source": [
    "<font color='blue'><b>Итоговый комментарий ревьюера 9</b></font>\\\n",
    "<font color='green'> Борис, проект принят! \\\n",
    "Все этапы пройдены. Все критичные рекомендации учтены.\\\n",
    "Надеюсь, тебе понравился процесс выполнения и результат.</font> \\\n",
    "<font color='blue'><b>Спасибо, удачи в освоении профессии!</b></font>"
   ]
  },
  {
   "cell_type": "raw",
   "metadata": {},
   "source": []
  },
  {
   "cell_type": "raw",
   "metadata": {},
   "source": []
  },
  {
   "cell_type": "raw",
   "metadata": {},
   "source": []
  },
  {
   "cell_type": "markdown",
   "metadata": {},
   "source": [
    "<font color='blue'><b>Итоговый комментарий ревьюера</b></font>\\\n",
    "<font color='green'>Борис, хороший проект получился!\n",
    "Большое спасибо за проделанную работу. Видно, что приложено много усилий.\n",
    "</font>\n",
    "\n",
    "<font color='blue'>Что нужно исправить:</font>\n",
    "<ul><font color='red'>Поправь тестовые таргеты.</font></ul>\n",
    "\n",
    "<font color='blue'>Что можно сделать лучше:</font>\n",
    "<font color='darkorange'>В работе я оставил несколько советов. Буду рад, если ты учтешь их.</font></ul>\n",
    "\n",
    "<font color='blue'><b>Жду новую версию проекта :)</b></font>"
   ]
  },
  {
   "cell_type": "markdown",
   "metadata": {},
   "source": [
    "<font color='blue'><b>Итоговый комментарий ревьюера 7</b></font>\n",
    "\n",
    "<font color='blue'>К сожалению, проект не готов. Присылай законченную версию. По всем непонятным моментам можно обращаться за помощью наставникам и преподавателям, а также комьюнити студентов. Буду ждать :)\n",
    "\n",
    "</font>"
   ]
  },
  {
   "cell_type": "markdown",
   "metadata": {},
   "source": [
    "- [x]  Jupyter Notebook открыт\n",
    "- [x]  Весь код выполняется без ошибок\n",
    "- [x]  Ячейки с кодом расположены в порядке выполнения\n",
    "- [x]  Выполнен шаг 1: данные подготовлены\n",
    "    - [x]  Проверена формула вычисления эффективности обогащения\n",
    "    - [x]  Проанализированы признаки, недоступные в тестовой выборке\n",
    "    - [x]  Проведена предобработка данных\n",
    "- [x]  Выполнен шаг 2: данные проанализированы\n",
    "    - [x]  Исследовано изменение концентрации элементов на каждом этапе\n",
    "    - [x]  Проанализированы распределения размеров гранул на обучающей и тестовой выборках\n",
    "    - [x]  Исследованы суммарные концентрации\n",
    "- [x]  Выполнен шаг 3: построена модель прогнозирования\n",
    "    - [x]  Написана функция для вычисления итогового *sMAPE*\n",
    "    - [x]  Обучено и проверено несколько моделей\n",
    "    - [x]  Выбрана лучшая модель, её качество проверено на тестовой выборке"
   ]
  }
 ],
 "metadata": {
  "ExecuteTimeLog": [
   {
    "duration": 1578,
    "start_time": "2024-03-28T07:07:11.674Z"
   },
   {
    "duration": 1581,
    "start_time": "2024-03-28T07:09:00.871Z"
   },
   {
    "duration": 509,
    "start_time": "2024-03-28T07:09:22.757Z"
   },
   {
    "duration": 380,
    "start_time": "2024-03-28T07:11:27.284Z"
   },
   {
    "duration": 398,
    "start_time": "2024-03-28T07:11:38.949Z"
   },
   {
    "duration": 103,
    "start_time": "2024-03-28T07:12:14.191Z"
   },
   {
    "duration": 4,
    "start_time": "2024-03-28T07:12:47.233Z"
   },
   {
    "duration": 11,
    "start_time": "2024-03-28T07:13:12.767Z"
   },
   {
    "duration": 1453,
    "start_time": "2024-03-28T07:14:17.869Z"
   },
   {
    "duration": 361,
    "start_time": "2024-03-28T07:14:19.324Z"
   },
   {
    "duration": 97,
    "start_time": "2024-03-28T07:14:19.687Z"
   },
   {
    "duration": 84,
    "start_time": "2024-03-28T07:14:19.787Z"
   },
   {
    "duration": 4,
    "start_time": "2024-03-28T07:14:19.873Z"
   },
   {
    "duration": 141,
    "start_time": "2024-03-28T07:14:19.879Z"
   },
   {
    "duration": 50,
    "start_time": "2024-03-28T07:14:53.522Z"
   },
   {
    "duration": 111,
    "start_time": "2024-03-28T07:15:23.800Z"
   },
   {
    "duration": 1969,
    "start_time": "2024-03-28T07:16:29.781Z"
   },
   {
    "duration": 464,
    "start_time": "2024-03-28T07:16:41.559Z"
   },
   {
    "duration": 118,
    "start_time": "2024-03-28T07:16:46.637Z"
   },
   {
    "duration": 27,
    "start_time": "2024-03-28T07:18:07.523Z"
   },
   {
    "duration": 12,
    "start_time": "2024-03-28T07:18:43.111Z"
   },
   {
    "duration": 7,
    "start_time": "2024-03-28T07:19:15.723Z"
   },
   {
    "duration": 9,
    "start_time": "2024-03-28T07:20:16.705Z"
   },
   {
    "duration": 21,
    "start_time": "2024-03-28T07:20:38.217Z"
   },
   {
    "duration": 13,
    "start_time": "2024-03-28T07:21:15.105Z"
   },
   {
    "duration": 13,
    "start_time": "2024-03-28T07:21:45.467Z"
   },
   {
    "duration": 4,
    "start_time": "2024-03-28T07:21:58.018Z"
   },
   {
    "duration": 113,
    "start_time": "2024-03-28T07:23:06.164Z"
   },
   {
    "duration": 16,
    "start_time": "2024-03-28T07:23:26.179Z"
   },
   {
    "duration": 313,
    "start_time": "2024-03-28T07:23:35.629Z"
   },
   {
    "duration": 10,
    "start_time": "2024-03-28T07:24:05.251Z"
   },
   {
    "duration": 26,
    "start_time": "2024-03-28T07:24:20.949Z"
   },
   {
    "duration": 35,
    "start_time": "2024-03-28T07:24:55.742Z"
   },
   {
    "duration": 308,
    "start_time": "2024-03-28T07:26:43.284Z"
   },
   {
    "duration": 26,
    "start_time": "2024-03-28T07:27:20.668Z"
   },
   {
    "duration": 22,
    "start_time": "2024-03-28T07:28:09.254Z"
   },
   {
    "duration": 131,
    "start_time": "2024-03-28T07:28:27.296Z"
   },
   {
    "duration": 5,
    "start_time": "2024-03-28T07:28:58.635Z"
   },
   {
    "duration": 7,
    "start_time": "2024-03-28T07:29:27.067Z"
   },
   {
    "duration": 557,
    "start_time": "2024-03-28T07:30:50.605Z"
   },
   {
    "duration": 13,
    "start_time": "2024-03-28T07:33:10.968Z"
   },
   {
    "duration": 591,
    "start_time": "2024-03-28T07:33:20.334Z"
   },
   {
    "duration": 740,
    "start_time": "2024-03-28T07:34:22.023Z"
   },
   {
    "duration": 712,
    "start_time": "2024-03-28T07:35:19.924Z"
   },
   {
    "duration": 435,
    "start_time": "2024-03-28T07:36:05.897Z"
   },
   {
    "duration": 11,
    "start_time": "2024-03-28T07:36:50.146Z"
   },
   {
    "duration": 8,
    "start_time": "2024-03-28T07:37:51.760Z"
   },
   {
    "duration": 738,
    "start_time": "2024-03-28T07:37:59.144Z"
   },
   {
    "duration": 553,
    "start_time": "2024-03-28T07:38:51.295Z"
   },
   {
    "duration": 10,
    "start_time": "2024-03-28T07:39:22.428Z"
   },
   {
    "duration": 28,
    "start_time": "2024-03-28T07:39:44.965Z"
   },
   {
    "duration": 13,
    "start_time": "2024-03-28T07:41:11.857Z"
   },
   {
    "duration": 3,
    "start_time": "2024-03-28T07:42:05.375Z"
   },
   {
    "duration": 10,
    "start_time": "2024-03-28T07:42:34.652Z"
   },
   {
    "duration": 7,
    "start_time": "2024-03-28T07:42:43.899Z"
   },
   {
    "duration": 5,
    "start_time": "2024-03-28T07:42:58.297Z"
   },
   {
    "duration": 4,
    "start_time": "2024-03-28T07:43:14.360Z"
   },
   {
    "duration": 46,
    "start_time": "2024-03-28T07:43:44.076Z"
   },
   {
    "duration": 3018,
    "start_time": "2024-03-28T07:44:17.679Z"
   },
   {
    "duration": 3174,
    "start_time": "2024-03-28T07:45:33.823Z"
   },
   {
    "duration": 1435,
    "start_time": "2024-03-28T07:47:09.695Z"
   },
   {
    "duration": 371,
    "start_time": "2024-03-28T07:47:11.132Z"
   },
   {
    "duration": 94,
    "start_time": "2024-03-28T07:47:11.505Z"
   },
   {
    "duration": 434,
    "start_time": "2024-03-28T07:47:11.601Z"
   },
   {
    "duration": 4,
    "start_time": "2024-03-28T07:47:12.037Z"
   },
   {
    "duration": 193,
    "start_time": "2024-03-28T07:47:12.042Z"
   },
   {
    "duration": 66,
    "start_time": "2024-03-28T07:47:12.237Z"
   },
   {
    "duration": 158,
    "start_time": "2024-03-28T07:47:12.304Z"
   },
   {
    "duration": 41,
    "start_time": "2024-03-28T07:47:12.464Z"
   },
   {
    "duration": 27,
    "start_time": "2024-03-28T07:47:12.506Z"
   },
   {
    "duration": 42,
    "start_time": "2024-03-28T07:47:12.534Z"
   },
   {
    "duration": 45,
    "start_time": "2024-03-28T07:47:12.577Z"
   },
   {
    "duration": 18,
    "start_time": "2024-03-28T07:47:12.624Z"
   },
   {
    "duration": 331,
    "start_time": "2024-03-28T07:47:12.646Z"
   },
   {
    "duration": 32,
    "start_time": "2024-03-28T07:47:12.978Z"
   },
   {
    "duration": 32,
    "start_time": "2024-03-28T07:47:13.011Z"
   },
   {
    "duration": 304,
    "start_time": "2024-03-28T07:47:13.044Z"
   },
   {
    "duration": 23,
    "start_time": "2024-03-28T07:47:13.349Z"
   },
   {
    "duration": 33,
    "start_time": "2024-03-28T07:47:13.374Z"
   },
   {
    "duration": 22,
    "start_time": "2024-03-28T07:47:13.408Z"
   },
   {
    "duration": 21,
    "start_time": "2024-03-28T07:47:13.431Z"
   },
   {
    "duration": 39,
    "start_time": "2024-03-28T07:47:13.454Z"
   },
   {
    "duration": 638,
    "start_time": "2024-03-28T07:47:13.495Z"
   },
   {
    "duration": 565,
    "start_time": "2024-03-28T07:47:14.134Z"
   },
   {
    "duration": 611,
    "start_time": "2024-03-28T07:47:14.701Z"
   },
   {
    "duration": 773,
    "start_time": "2024-03-28T07:47:15.314Z"
   },
   {
    "duration": 447,
    "start_time": "2024-03-28T07:47:16.089Z"
   },
   {
    "duration": 8,
    "start_time": "2024-03-28T07:47:16.538Z"
   },
   {
    "duration": 685,
    "start_time": "2024-03-28T07:47:16.547Z"
   },
   {
    "duration": 571,
    "start_time": "2024-03-28T07:47:17.234Z"
   },
   {
    "duration": 28,
    "start_time": "2024-03-28T07:47:17.807Z"
   },
   {
    "duration": 13,
    "start_time": "2024-03-28T07:47:17.836Z"
   },
   {
    "duration": 8,
    "start_time": "2024-03-28T07:47:17.851Z"
   },
   {
    "duration": 16,
    "start_time": "2024-03-28T07:47:17.863Z"
   },
   {
    "duration": 15,
    "start_time": "2024-03-28T07:47:17.893Z"
   },
   {
    "duration": 9,
    "start_time": "2024-03-28T07:47:17.910Z"
   },
   {
    "duration": 2578,
    "start_time": "2024-03-28T07:47:17.920Z"
   },
   {
    "duration": 3096,
    "start_time": "2024-03-28T07:47:20.504Z"
   },
   {
    "duration": 167591,
    "start_time": "2024-03-28T07:50:58.704Z"
   },
   {
    "duration": 1475,
    "start_time": "2024-03-28T07:53:54.379Z"
   },
   {
    "duration": 370,
    "start_time": "2024-03-28T07:53:55.857Z"
   },
   {
    "duration": 98,
    "start_time": "2024-03-28T07:53:56.230Z"
   },
   {
    "duration": 461,
    "start_time": "2024-03-28T07:53:56.330Z"
   },
   {
    "duration": 3,
    "start_time": "2024-03-28T07:53:56.794Z"
   },
   {
    "duration": 130,
    "start_time": "2024-03-28T07:53:56.798Z"
   },
   {
    "duration": 73,
    "start_time": "2024-03-28T07:53:56.930Z"
   },
   {
    "duration": 145,
    "start_time": "2024-03-28T07:53:57.005Z"
   },
   {
    "duration": 43,
    "start_time": "2024-03-28T07:53:57.152Z"
   },
   {
    "duration": 6,
    "start_time": "2024-03-28T07:53:57.197Z"
   },
   {
    "duration": 34,
    "start_time": "2024-03-28T07:53:57.204Z"
   },
   {
    "duration": 12,
    "start_time": "2024-03-28T07:53:57.239Z"
   },
   {
    "duration": 20,
    "start_time": "2024-03-28T07:53:57.252Z"
   },
   {
    "duration": 331,
    "start_time": "2024-03-28T07:53:57.274Z"
   },
   {
    "duration": 23,
    "start_time": "2024-03-28T07:53:57.606Z"
   },
   {
    "duration": 37,
    "start_time": "2024-03-28T07:53:57.631Z"
   },
   {
    "duration": 300,
    "start_time": "2024-03-28T07:53:57.669Z"
   },
   {
    "duration": 32,
    "start_time": "2024-03-28T07:53:57.971Z"
   },
   {
    "duration": 24,
    "start_time": "2024-03-28T07:53:58.005Z"
   },
   {
    "duration": 29,
    "start_time": "2024-03-28T07:53:58.031Z"
   },
   {
    "duration": 6,
    "start_time": "2024-03-28T07:53:58.062Z"
   },
   {
    "duration": 9,
    "start_time": "2024-03-28T07:53:58.070Z"
   },
   {
    "duration": 650,
    "start_time": "2024-03-28T07:53:58.081Z"
   },
   {
    "duration": 595,
    "start_time": "2024-03-28T07:53:58.732Z"
   },
   {
    "duration": 600,
    "start_time": "2024-03-28T07:53:59.329Z"
   },
   {
    "duration": 802,
    "start_time": "2024-03-28T07:53:59.931Z"
   },
   {
    "duration": 446,
    "start_time": "2024-03-28T07:54:00.738Z"
   },
   {
    "duration": 12,
    "start_time": "2024-03-28T07:54:01.186Z"
   },
   {
    "duration": 1029,
    "start_time": "2024-03-28T07:54:01.199Z"
   },
   {
    "duration": 571,
    "start_time": "2024-03-28T07:54:02.229Z"
   },
   {
    "duration": 27,
    "start_time": "2024-03-28T07:54:02.802Z"
   },
   {
    "duration": 30,
    "start_time": "2024-03-28T07:54:02.831Z"
   },
   {
    "duration": 52,
    "start_time": "2024-03-28T07:54:02.863Z"
   },
   {
    "duration": 115,
    "start_time": "2024-03-28T07:54:02.917Z"
   },
   {
    "duration": 44,
    "start_time": "2024-03-28T07:54:03.034Z"
   },
   {
    "duration": 252,
    "start_time": "2024-03-28T07:54:03.080Z"
   },
   {
    "duration": 3363,
    "start_time": "2024-03-28T07:54:03.333Z"
   },
   {
    "duration": 3197,
    "start_time": "2024-03-28T07:54:06.698Z"
   },
   {
    "duration": 1379,
    "start_time": "2024-03-28T08:01:02.932Z"
   },
   {
    "duration": 352,
    "start_time": "2024-03-28T08:01:04.313Z"
   },
   {
    "duration": 91,
    "start_time": "2024-03-28T08:01:04.667Z"
   },
   {
    "duration": 630,
    "start_time": "2024-03-28T08:01:04.760Z"
   },
   {
    "duration": 3,
    "start_time": "2024-03-28T08:01:05.392Z"
   },
   {
    "duration": 160,
    "start_time": "2024-03-28T08:01:05.397Z"
   },
   {
    "duration": 70,
    "start_time": "2024-03-28T08:01:05.559Z"
   },
   {
    "duration": 140,
    "start_time": "2024-03-28T08:01:05.631Z"
   },
   {
    "duration": 44,
    "start_time": "2024-03-28T08:01:05.772Z"
   },
   {
    "duration": 6,
    "start_time": "2024-03-28T08:01:05.818Z"
   },
   {
    "duration": 67,
    "start_time": "2024-03-28T08:01:05.825Z"
   },
   {
    "duration": 26,
    "start_time": "2024-03-28T08:01:05.893Z"
   },
   {
    "duration": 47,
    "start_time": "2024-03-28T08:01:05.920Z"
   },
   {
    "duration": 320,
    "start_time": "2024-03-28T08:01:05.969Z"
   },
   {
    "duration": 23,
    "start_time": "2024-03-28T08:01:06.291Z"
   },
   {
    "duration": 23,
    "start_time": "2024-03-28T08:01:06.316Z"
   },
   {
    "duration": 287,
    "start_time": "2024-03-28T08:01:06.341Z"
   },
   {
    "duration": 23,
    "start_time": "2024-03-28T08:01:06.630Z"
   },
   {
    "duration": 25,
    "start_time": "2024-03-28T08:01:06.655Z"
   },
   {
    "duration": 27,
    "start_time": "2024-03-28T08:01:06.681Z"
   },
   {
    "duration": 6,
    "start_time": "2024-03-28T08:01:06.710Z"
   },
   {
    "duration": 15,
    "start_time": "2024-03-28T08:01:06.718Z"
   },
   {
    "duration": 627,
    "start_time": "2024-03-28T08:01:06.735Z"
   },
   {
    "duration": 549,
    "start_time": "2024-03-28T08:01:07.364Z"
   },
   {
    "duration": 574,
    "start_time": "2024-03-28T08:01:07.915Z"
   },
   {
    "duration": 789,
    "start_time": "2024-03-28T08:01:08.491Z"
   },
   {
    "duration": 463,
    "start_time": "2024-03-28T08:01:09.282Z"
   },
   {
    "duration": 7,
    "start_time": "2024-03-28T08:01:09.749Z"
   },
   {
    "duration": 701,
    "start_time": "2024-03-28T08:01:09.758Z"
   },
   {
    "duration": 535,
    "start_time": "2024-03-28T08:01:10.461Z"
   },
   {
    "duration": 29,
    "start_time": "2024-03-28T08:01:10.998Z"
   },
   {
    "duration": 28,
    "start_time": "2024-03-28T08:01:11.029Z"
   },
   {
    "duration": 19,
    "start_time": "2024-03-28T08:01:11.058Z"
   },
   {
    "duration": 39,
    "start_time": "2024-03-28T08:01:11.079Z"
   },
   {
    "duration": 10,
    "start_time": "2024-03-28T08:01:11.119Z"
   },
   {
    "duration": 11,
    "start_time": "2024-03-28T08:01:11.130Z"
   },
   {
    "duration": 2357,
    "start_time": "2024-03-28T08:01:11.143Z"
   },
   {
    "duration": 2691,
    "start_time": "2024-03-28T08:01:13.503Z"
   },
   {
    "duration": 21,
    "start_time": "2024-03-28T08:02:20.654Z"
   },
   {
    "duration": 7,
    "start_time": "2024-03-28T08:02:24.417Z"
   },
   {
    "duration": 112041,
    "start_time": "2024-03-28T08:02:55.868Z"
   },
   {
    "duration": 101,
    "start_time": "2024-03-28T09:40:10.492Z"
   },
   {
    "duration": 1386,
    "start_time": "2024-03-28T09:42:01.891Z"
   },
   {
    "duration": 458,
    "start_time": "2024-03-28T09:42:03.278Z"
   },
   {
    "duration": 140,
    "start_time": "2024-03-28T09:42:03.737Z"
   },
   {
    "duration": 507,
    "start_time": "2024-03-28T09:42:03.878Z"
   },
   {
    "duration": 3,
    "start_time": "2024-03-28T09:42:04.386Z"
   },
   {
    "duration": 111,
    "start_time": "2024-03-28T09:42:04.391Z"
   },
   {
    "duration": 41,
    "start_time": "2024-03-28T09:42:04.503Z"
   },
   {
    "duration": 126,
    "start_time": "2024-03-28T09:42:04.546Z"
   },
   {
    "duration": 43,
    "start_time": "2024-03-28T09:42:04.673Z"
   },
   {
    "duration": 6,
    "start_time": "2024-03-28T09:42:04.719Z"
   },
   {
    "duration": 25,
    "start_time": "2024-03-28T09:42:04.726Z"
   },
   {
    "duration": 9,
    "start_time": "2024-03-28T09:42:04.752Z"
   },
   {
    "duration": 7,
    "start_time": "2024-03-28T09:42:04.762Z"
   },
   {
    "duration": 281,
    "start_time": "2024-03-28T09:42:04.770Z"
   },
   {
    "duration": 19,
    "start_time": "2024-03-28T09:42:05.052Z"
   },
   {
    "duration": 16,
    "start_time": "2024-03-28T09:42:05.072Z"
   },
   {
    "duration": 246,
    "start_time": "2024-03-28T09:42:05.089Z"
   },
   {
    "duration": 17,
    "start_time": "2024-03-28T09:42:05.336Z"
   },
   {
    "duration": 30,
    "start_time": "2024-03-28T09:42:05.355Z"
   },
   {
    "duration": 18,
    "start_time": "2024-03-28T09:42:05.387Z"
   },
   {
    "duration": 13,
    "start_time": "2024-03-28T09:42:05.406Z"
   },
   {
    "duration": 8,
    "start_time": "2024-03-28T09:42:05.421Z"
   },
   {
    "duration": 505,
    "start_time": "2024-03-28T09:42:05.430Z"
   },
   {
    "duration": 436,
    "start_time": "2024-03-28T09:42:05.936Z"
   },
   {
    "duration": 449,
    "start_time": "2024-03-28T09:42:06.373Z"
   },
   {
    "duration": 634,
    "start_time": "2024-03-28T09:42:06.824Z"
   },
   {
    "duration": 353,
    "start_time": "2024-03-28T09:42:07.459Z"
   },
   {
    "duration": 5,
    "start_time": "2024-03-28T09:42:07.815Z"
   },
   {
    "duration": 516,
    "start_time": "2024-03-28T09:42:07.821Z"
   },
   {
    "duration": 447,
    "start_time": "2024-03-28T09:42:08.338Z"
   },
   {
    "duration": 28,
    "start_time": "2024-03-28T09:42:08.787Z"
   },
   {
    "duration": 7,
    "start_time": "2024-03-28T09:42:08.816Z"
   },
   {
    "duration": 4,
    "start_time": "2024-03-28T09:42:08.824Z"
   },
   {
    "duration": 12,
    "start_time": "2024-03-28T09:42:08.829Z"
   },
   {
    "duration": 13,
    "start_time": "2024-03-28T09:42:08.842Z"
   },
   {
    "duration": 18,
    "start_time": "2024-03-28T09:42:08.856Z"
   },
   {
    "duration": 2332,
    "start_time": "2024-03-28T09:42:08.875Z"
   },
   {
    "duration": 2513,
    "start_time": "2024-03-28T09:42:11.212Z"
   },
   {
    "duration": 1216,
    "start_time": "2024-03-28T09:43:48.927Z"
   },
   {
    "duration": 313,
    "start_time": "2024-03-28T09:43:50.145Z"
   },
   {
    "duration": 78,
    "start_time": "2024-03-28T09:43:50.459Z"
   },
   {
    "duration": 338,
    "start_time": "2024-03-28T09:43:50.538Z"
   },
   {
    "duration": 3,
    "start_time": "2024-03-28T09:43:50.877Z"
   },
   {
    "duration": 105,
    "start_time": "2024-03-28T09:43:50.881Z"
   },
   {
    "duration": 38,
    "start_time": "2024-03-28T09:43:51.001Z"
   },
   {
    "duration": 124,
    "start_time": "2024-03-28T09:43:51.041Z"
   },
   {
    "duration": 38,
    "start_time": "2024-03-28T09:43:51.167Z"
   },
   {
    "duration": 7,
    "start_time": "2024-03-28T09:43:51.208Z"
   },
   {
    "duration": 47,
    "start_time": "2024-03-28T09:43:51.217Z"
   },
   {
    "duration": 25,
    "start_time": "2024-03-28T09:43:51.265Z"
   },
   {
    "duration": 15,
    "start_time": "2024-03-28T09:43:51.292Z"
   },
   {
    "duration": 281,
    "start_time": "2024-03-28T09:43:51.309Z"
   },
   {
    "duration": 21,
    "start_time": "2024-03-28T09:43:51.592Z"
   },
   {
    "duration": 17,
    "start_time": "2024-03-28T09:43:51.614Z"
   },
   {
    "duration": 235,
    "start_time": "2024-03-28T09:43:51.632Z"
   },
   {
    "duration": 18,
    "start_time": "2024-03-28T09:43:51.868Z"
   },
   {
    "duration": 35,
    "start_time": "2024-03-28T09:43:51.887Z"
   },
   {
    "duration": 18,
    "start_time": "2024-03-28T09:43:51.924Z"
   },
   {
    "duration": 9,
    "start_time": "2024-03-28T09:43:51.943Z"
   },
   {
    "duration": 49,
    "start_time": "2024-03-28T09:43:51.953Z"
   },
   {
    "duration": 497,
    "start_time": "2024-03-28T09:43:52.004Z"
   },
   {
    "duration": 486,
    "start_time": "2024-03-28T09:43:52.503Z"
   },
   {
    "duration": 459,
    "start_time": "2024-03-28T09:43:52.990Z"
   },
   {
    "duration": 603,
    "start_time": "2024-03-28T09:43:53.450Z"
   },
   {
    "duration": 384,
    "start_time": "2024-03-28T09:43:54.054Z"
   },
   {
    "duration": 4,
    "start_time": "2024-03-28T09:43:54.441Z"
   },
   {
    "duration": 509,
    "start_time": "2024-03-28T09:43:54.446Z"
   },
   {
    "duration": 441,
    "start_time": "2024-03-28T09:43:54.956Z"
   },
   {
    "duration": 24,
    "start_time": "2024-03-28T09:43:55.399Z"
   },
   {
    "duration": 7,
    "start_time": "2024-03-28T09:43:55.424Z"
   },
   {
    "duration": 6,
    "start_time": "2024-03-28T09:43:55.433Z"
   },
   {
    "duration": 7,
    "start_time": "2024-03-28T09:43:55.440Z"
   },
   {
    "duration": 4,
    "start_time": "2024-03-28T09:43:55.449Z"
   },
   {
    "duration": 4,
    "start_time": "2024-03-28T09:43:55.454Z"
   },
   {
    "duration": 2153,
    "start_time": "2024-03-28T09:43:55.460Z"
   },
   {
    "duration": 2789,
    "start_time": "2024-03-28T09:43:57.616Z"
   },
   {
    "duration": 125800,
    "start_time": "2024-03-28T09:44:00.406Z"
   },
   {
    "duration": 38007,
    "start_time": "2024-03-28T09:46:06.216Z"
   },
   {
    "duration": 119,
    "start_time": "2024-03-28T09:53:59.275Z"
   },
   {
    "duration": 1224,
    "start_time": "2024-03-28T10:04:59.257Z"
   },
   {
    "duration": 305,
    "start_time": "2024-03-28T10:05:00.483Z"
   },
   {
    "duration": 83,
    "start_time": "2024-03-28T10:05:00.789Z"
   },
   {
    "duration": 355,
    "start_time": "2024-03-28T10:05:00.874Z"
   },
   {
    "duration": 3,
    "start_time": "2024-03-28T10:05:01.230Z"
   },
   {
    "duration": 175,
    "start_time": "2024-03-28T10:05:01.234Z"
   },
   {
    "duration": 38,
    "start_time": "2024-03-28T10:05:01.410Z"
   },
   {
    "duration": 125,
    "start_time": "2024-03-28T10:05:01.449Z"
   },
   {
    "duration": 44,
    "start_time": "2024-03-28T10:05:01.575Z"
   },
   {
    "duration": 9,
    "start_time": "2024-03-28T10:05:01.621Z"
   },
   {
    "duration": 70,
    "start_time": "2024-03-28T10:05:01.631Z"
   },
   {
    "duration": 28,
    "start_time": "2024-03-28T10:05:01.703Z"
   },
   {
    "duration": 36,
    "start_time": "2024-03-28T10:05:01.732Z"
   },
   {
    "duration": 287,
    "start_time": "2024-03-28T10:05:01.769Z"
   },
   {
    "duration": 17,
    "start_time": "2024-03-28T10:05:02.058Z"
   },
   {
    "duration": 39,
    "start_time": "2024-03-28T10:05:02.077Z"
   },
   {
    "duration": 265,
    "start_time": "2024-03-28T10:05:02.118Z"
   },
   {
    "duration": 19,
    "start_time": "2024-03-28T10:05:02.384Z"
   },
   {
    "duration": 22,
    "start_time": "2024-03-28T10:05:02.404Z"
   },
   {
    "duration": 17,
    "start_time": "2024-03-28T10:05:02.427Z"
   },
   {
    "duration": 4,
    "start_time": "2024-03-28T10:05:02.445Z"
   },
   {
    "duration": 15,
    "start_time": "2024-03-28T10:05:02.450Z"
   },
   {
    "duration": 496,
    "start_time": "2024-03-28T10:05:02.466Z"
   },
   {
    "duration": 440,
    "start_time": "2024-03-28T10:05:02.963Z"
   },
   {
    "duration": 509,
    "start_time": "2024-03-28T10:05:03.405Z"
   },
   {
    "duration": 617,
    "start_time": "2024-03-28T10:05:03.916Z"
   },
   {
    "duration": 367,
    "start_time": "2024-03-28T10:05:04.534Z"
   },
   {
    "duration": 9,
    "start_time": "2024-03-28T10:05:04.906Z"
   },
   {
    "duration": 539,
    "start_time": "2024-03-28T10:05:04.917Z"
   },
   {
    "duration": 438,
    "start_time": "2024-03-28T10:05:05.458Z"
   },
   {
    "duration": 26,
    "start_time": "2024-03-28T10:05:05.897Z"
   },
   {
    "duration": 10,
    "start_time": "2024-03-28T10:05:05.924Z"
   },
   {
    "duration": 4,
    "start_time": "2024-03-28T10:05:05.936Z"
   },
   {
    "duration": 16,
    "start_time": "2024-03-28T10:05:05.941Z"
   },
   {
    "duration": 10,
    "start_time": "2024-03-28T10:05:05.958Z"
   },
   {
    "duration": 17,
    "start_time": "2024-03-28T10:05:05.969Z"
   },
   {
    "duration": 2430,
    "start_time": "2024-03-28T10:05:05.988Z"
   },
   {
    "duration": 2895,
    "start_time": "2024-03-28T10:05:08.420Z"
   },
   {
    "duration": 132002,
    "start_time": "2024-03-28T10:05:11.318Z"
   },
   {
    "duration": 32889,
    "start_time": "2024-03-28T10:07:23.322Z"
   },
   {
    "duration": 1175,
    "start_time": "2024-03-28T10:31:43.762Z"
   },
   {
    "duration": 293,
    "start_time": "2024-03-28T10:31:44.938Z"
   },
   {
    "duration": 82,
    "start_time": "2024-03-28T10:31:45.233Z"
   },
   {
    "duration": 342,
    "start_time": "2024-03-28T10:31:45.316Z"
   },
   {
    "duration": 2,
    "start_time": "2024-03-28T10:31:45.660Z"
   },
   {
    "duration": 110,
    "start_time": "2024-03-28T10:31:45.664Z"
   },
   {
    "duration": 54,
    "start_time": "2024-03-28T10:31:45.776Z"
   },
   {
    "duration": 119,
    "start_time": "2024-03-28T10:31:45.832Z"
   },
   {
    "duration": 21,
    "start_time": "2024-03-28T10:31:45.952Z"
   },
   {
    "duration": 5,
    "start_time": "2024-03-28T10:31:45.974Z"
   },
   {
    "duration": 41,
    "start_time": "2024-03-28T10:31:45.981Z"
   },
   {
    "duration": 9,
    "start_time": "2024-03-28T10:31:46.024Z"
   },
   {
    "duration": 9,
    "start_time": "2024-03-28T10:31:46.034Z"
   },
   {
    "duration": 242,
    "start_time": "2024-03-28T10:31:46.046Z"
   },
   {
    "duration": 25,
    "start_time": "2024-03-28T10:31:46.289Z"
   },
   {
    "duration": 17,
    "start_time": "2024-03-28T10:31:46.315Z"
   },
   {
    "duration": 226,
    "start_time": "2024-03-28T10:31:46.334Z"
   },
   {
    "duration": 16,
    "start_time": "2024-03-28T10:31:46.561Z"
   },
   {
    "duration": 31,
    "start_time": "2024-03-28T10:31:46.578Z"
   },
   {
    "duration": 15,
    "start_time": "2024-03-28T10:31:46.610Z"
   },
   {
    "duration": 4,
    "start_time": "2024-03-28T10:31:46.626Z"
   },
   {
    "duration": 17,
    "start_time": "2024-03-28T10:31:46.631Z"
   },
   {
    "duration": 505,
    "start_time": "2024-03-28T10:31:46.649Z"
   },
   {
    "duration": 504,
    "start_time": "2024-03-28T10:31:47.155Z"
   },
   {
    "duration": 437,
    "start_time": "2024-03-28T10:31:47.661Z"
   },
   {
    "duration": 607,
    "start_time": "2024-03-28T10:31:48.100Z"
   },
   {
    "duration": 343,
    "start_time": "2024-03-28T10:31:48.709Z"
   },
   {
    "duration": 4,
    "start_time": "2024-03-28T10:31:49.054Z"
   },
   {
    "duration": 515,
    "start_time": "2024-03-28T10:31:49.060Z"
   },
   {
    "duration": 442,
    "start_time": "2024-03-28T10:31:49.576Z"
   },
   {
    "duration": 22,
    "start_time": "2024-03-28T10:31:50.020Z"
   },
   {
    "duration": 9,
    "start_time": "2024-03-28T10:31:50.043Z"
   },
   {
    "duration": 31,
    "start_time": "2024-03-28T10:31:50.053Z"
   },
   {
    "duration": 26,
    "start_time": "2024-03-28T10:31:50.086Z"
   },
   {
    "duration": 5,
    "start_time": "2024-03-28T10:31:50.114Z"
   },
   {
    "duration": 7,
    "start_time": "2024-03-28T10:31:50.120Z"
   },
   {
    "duration": 2680,
    "start_time": "2024-03-28T10:31:50.129Z"
   },
   {
    "duration": 2500,
    "start_time": "2024-03-28T10:31:52.815Z"
   },
   {
    "duration": 139701,
    "start_time": "2024-03-28T10:31:55.317Z"
   },
   {
    "duration": 34802,
    "start_time": "2024-03-28T10:34:15.020Z"
   },
   {
    "duration": 1448818,
    "start_time": "2024-03-28T10:34:49.904Z"
   },
   {
    "duration": 96,
    "start_time": "2024-03-28T10:58:58.723Z"
   },
   {
    "duration": 0,
    "start_time": "2024-03-28T10:58:58.820Z"
   },
   {
    "duration": 0,
    "start_time": "2024-03-28T10:58:58.821Z"
   },
   {
    "duration": 0,
    "start_time": "2024-03-28T10:58:58.822Z"
   },
   {
    "duration": 0,
    "start_time": "2024-03-28T10:58:58.823Z"
   },
   {
    "duration": 0,
    "start_time": "2024-03-28T10:58:58.823Z"
   },
   {
    "duration": 0,
    "start_time": "2024-03-28T10:58:58.824Z"
   },
   {
    "duration": 5,
    "start_time": "2024-03-28T11:01:19.724Z"
   },
   {
    "duration": 97657,
    "start_time": "2024-03-28T11:01:24.177Z"
   },
   {
    "duration": 9,
    "start_time": "2024-03-28T11:03:01.835Z"
   },
   {
    "duration": 0,
    "start_time": "2024-03-28T11:03:01.845Z"
   },
   {
    "duration": 0,
    "start_time": "2024-03-28T11:03:01.846Z"
   },
   {
    "duration": 0,
    "start_time": "2024-03-28T11:03:01.847Z"
   },
   {
    "duration": 0,
    "start_time": "2024-03-28T11:03:01.848Z"
   },
   {
    "duration": 7,
    "start_time": "2024-03-28T11:08:12.962Z"
   },
   {
    "duration": 7,
    "start_time": "2024-03-28T11:08:15.377Z"
   },
   {
    "duration": 7,
    "start_time": "2024-03-28T11:08:18.517Z"
   },
   {
    "duration": 97800,
    "start_time": "2024-03-28T11:08:27.386Z"
   },
   {
    "duration": 126,
    "start_time": "2024-03-28T11:10:05.188Z"
   },
   {
    "duration": 8,
    "start_time": "2024-03-29T17:21:44.088Z"
   },
   {
    "duration": 1541,
    "start_time": "2024-03-29T17:21:50.596Z"
   },
   {
    "duration": 507,
    "start_time": "2024-03-29T17:21:53.063Z"
   },
   {
    "duration": 170,
    "start_time": "2024-03-29T17:22:00.120Z"
   },
   {
    "duration": 620,
    "start_time": "2024-03-29T17:22:02.679Z"
   },
   {
    "duration": 3,
    "start_time": "2024-03-29T17:22:07.269Z"
   },
   {
    "duration": 148,
    "start_time": "2024-03-29T17:22:11.241Z"
   },
   {
    "duration": 46,
    "start_time": "2024-03-29T17:22:22.469Z"
   },
   {
    "duration": 43,
    "start_time": "2024-03-29T17:22:35.015Z"
   },
   {
    "duration": 112,
    "start_time": "2024-03-29T17:22:37.930Z"
   },
   {
    "duration": 25,
    "start_time": "2024-03-29T17:27:33.864Z"
   },
   {
    "duration": 24,
    "start_time": "2024-03-29T17:27:39.677Z"
   },
   {
    "duration": 47,
    "start_time": "2024-03-30T09:58:45.968Z"
   },
   {
    "duration": 1483,
    "start_time": "2024-03-30T09:59:01.059Z"
   },
   {
    "duration": 493,
    "start_time": "2024-03-30T09:59:02.544Z"
   },
   {
    "duration": 154,
    "start_time": "2024-03-30T09:59:03.039Z"
   },
   {
    "duration": 646,
    "start_time": "2024-03-30T09:59:03.194Z"
   },
   {
    "duration": 227,
    "start_time": "2024-03-30T09:59:03.841Z"
   },
   {
    "duration": 72,
    "start_time": "2024-03-30T09:59:04.070Z"
   },
   {
    "duration": 0,
    "start_time": "2024-03-30T09:59:04.144Z"
   },
   {
    "duration": 0,
    "start_time": "2024-03-30T09:59:04.145Z"
   },
   {
    "duration": 0,
    "start_time": "2024-03-30T09:59:04.146Z"
   },
   {
    "duration": 0,
    "start_time": "2024-03-30T09:59:04.147Z"
   },
   {
    "duration": 0,
    "start_time": "2024-03-30T09:59:04.148Z"
   },
   {
    "duration": 0,
    "start_time": "2024-03-30T09:59:04.149Z"
   },
   {
    "duration": 121,
    "start_time": "2024-03-30T09:59:23.147Z"
   },
   {
    "duration": 271,
    "start_time": "2024-03-30T09:59:31.739Z"
   },
   {
    "duration": 116,
    "start_time": "2024-03-30T10:01:17.968Z"
   },
   {
    "duration": 27,
    "start_time": "2024-03-30T10:01:39.229Z"
   },
   {
    "duration": 84,
    "start_time": "2024-03-30T10:01:42.792Z"
   },
   {
    "duration": 215,
    "start_time": "2024-03-30T10:02:53.850Z"
   },
   {
    "duration": 209,
    "start_time": "2024-03-30T10:03:19.703Z"
   },
   {
    "duration": 99,
    "start_time": "2024-03-30T10:07:52.395Z"
   },
   {
    "duration": 23,
    "start_time": "2024-03-30T10:07:58.873Z"
   },
   {
    "duration": 93,
    "start_time": "2024-03-30T10:08:29.605Z"
   },
   {
    "duration": 3,
    "start_time": "2024-03-30T10:21:05.974Z"
   },
   {
    "duration": 1058,
    "start_time": "2024-03-30T10:22:31.958Z"
   },
   {
    "duration": 9,
    "start_time": "2024-03-30T10:23:21.616Z"
   },
   {
    "duration": 343,
    "start_time": "2024-03-30T10:23:32.351Z"
   },
   {
    "duration": 330,
    "start_time": "2024-03-30T10:23:56.695Z"
   },
   {
    "duration": 5,
    "start_time": "2024-03-30T10:23:59.900Z"
   },
   {
    "duration": 5,
    "start_time": "2024-03-30T10:47:34.735Z"
   },
   {
    "duration": 1273,
    "start_time": "2024-03-30T10:47:46.851Z"
   },
   {
    "duration": 366,
    "start_time": "2024-03-30T10:47:48.126Z"
   },
   {
    "duration": 93,
    "start_time": "2024-03-30T10:47:48.494Z"
   },
   {
    "duration": 432,
    "start_time": "2024-03-30T10:47:48.589Z"
   },
   {
    "duration": 227,
    "start_time": "2024-03-30T10:47:49.023Z"
   },
   {
    "duration": 133,
    "start_time": "2024-03-30T10:47:49.252Z"
   },
   {
    "duration": 256,
    "start_time": "2024-03-30T10:47:49.387Z"
   },
   {
    "duration": 122,
    "start_time": "2024-03-30T10:47:49.644Z"
   },
   {
    "duration": 24,
    "start_time": "2024-03-30T10:47:49.768Z"
   },
   {
    "duration": 103,
    "start_time": "2024-03-30T10:47:49.794Z"
   },
   {
    "duration": 225,
    "start_time": "2024-03-30T10:47:49.898Z"
   },
   {
    "duration": 4,
    "start_time": "2024-03-30T10:47:50.124Z"
   },
   {
    "duration": 351,
    "start_time": "2024-03-30T10:47:50.129Z"
   },
   {
    "duration": 4,
    "start_time": "2024-03-30T10:47:50.482Z"
   },
   {
    "duration": 7,
    "start_time": "2024-03-30T10:47:50.487Z"
   },
   {
    "duration": 4,
    "start_time": "2024-03-30T10:48:16.362Z"
   },
   {
    "duration": 103,
    "start_time": "2024-03-30T10:49:16.806Z"
   },
   {
    "duration": 4,
    "start_time": "2024-03-30T10:49:20.795Z"
   },
   {
    "duration": 58,
    "start_time": "2024-03-30T10:58:34.273Z"
   },
   {
    "duration": 4,
    "start_time": "2024-03-30T11:04:24.748Z"
   },
   {
    "duration": 67,
    "start_time": "2024-03-30T11:04:25.997Z"
   },
   {
    "duration": 12,
    "start_time": "2024-03-30T11:04:36.613Z"
   },
   {
    "duration": 12,
    "start_time": "2024-03-30T11:05:01.707Z"
   },
   {
    "duration": 9,
    "start_time": "2024-03-30T11:05:07.760Z"
   },
   {
    "duration": 10,
    "start_time": "2024-03-30T11:05:11.710Z"
   },
   {
    "duration": 3,
    "start_time": "2024-03-30T11:05:49.323Z"
   },
   {
    "duration": 10,
    "start_time": "2024-03-30T11:05:50.384Z"
   },
   {
    "duration": 8,
    "start_time": "2024-03-30T11:06:37.274Z"
   },
   {
    "duration": 9,
    "start_time": "2024-03-30T11:07:03.651Z"
   },
   {
    "duration": 776,
    "start_time": "2024-03-30T11:07:21.978Z"
   },
   {
    "duration": 69,
    "start_time": "2024-03-30T11:08:00.100Z"
   },
   {
    "duration": 1002,
    "start_time": "2024-03-30T11:08:30.258Z"
   },
   {
    "duration": 3,
    "start_time": "2024-03-30T11:08:48.821Z"
   },
   {
    "duration": 696,
    "start_time": "2024-03-30T11:08:50.885Z"
   },
   {
    "duration": 4,
    "start_time": "2024-03-30T11:09:38.431Z"
   },
   {
    "duration": 3738,
    "start_time": "2024-03-30T11:09:39.591Z"
   },
   {
    "duration": 5,
    "start_time": "2024-03-30T11:10:09.481Z"
   },
   {
    "duration": 3550,
    "start_time": "2024-03-30T11:10:10.770Z"
   },
   {
    "duration": 4,
    "start_time": "2024-03-30T11:10:28.851Z"
   },
   {
    "duration": 2317,
    "start_time": "2024-03-30T11:10:30.175Z"
   },
   {
    "duration": 1985,
    "start_time": "2024-03-30T11:11:19.814Z"
   },
   {
    "duration": 2122,
    "start_time": "2024-03-30T11:11:55.371Z"
   },
   {
    "duration": 1516,
    "start_time": "2024-03-31T09:49:48.278Z"
   },
   {
    "duration": 482,
    "start_time": "2024-03-31T09:49:49.796Z"
   },
   {
    "duration": 151,
    "start_time": "2024-03-31T09:49:50.279Z"
   },
   {
    "duration": 558,
    "start_time": "2024-03-31T09:49:50.431Z"
   },
   {
    "duration": 216,
    "start_time": "2024-03-31T09:49:50.991Z"
   },
   {
    "duration": 132,
    "start_time": "2024-03-31T09:49:51.209Z"
   },
   {
    "duration": 241,
    "start_time": "2024-03-31T09:49:51.342Z"
   },
   {
    "duration": 114,
    "start_time": "2024-03-31T09:49:51.585Z"
   },
   {
    "duration": 24,
    "start_time": "2024-03-31T09:49:51.700Z"
   },
   {
    "duration": 100,
    "start_time": "2024-03-31T09:49:51.726Z"
   },
   {
    "duration": 216,
    "start_time": "2024-03-31T09:49:51.828Z"
   },
   {
    "duration": 4,
    "start_time": "2024-03-31T09:49:52.046Z"
   },
   {
    "duration": 338,
    "start_time": "2024-03-31T09:49:52.065Z"
   },
   {
    "duration": 6,
    "start_time": "2024-03-31T09:49:52.405Z"
   },
   {
    "duration": 14,
    "start_time": "2024-03-31T09:49:52.412Z"
   },
   {
    "duration": 64,
    "start_time": "2024-03-31T09:49:52.428Z"
   },
   {
    "duration": 5,
    "start_time": "2024-03-31T09:49:52.494Z"
   },
   {
    "duration": 2173,
    "start_time": "2024-03-31T09:49:52.501Z"
   },
   {
    "duration": 1982,
    "start_time": "2024-03-31T09:49:54.675Z"
   },
   {
    "duration": 2067,
    "start_time": "2024-03-31T09:49:56.659Z"
   },
   {
    "duration": 6,
    "start_time": "2024-03-31T09:51:32.483Z"
   },
   {
    "duration": 66,
    "start_time": "2024-03-31T09:51:49.703Z"
   },
   {
    "duration": 65,
    "start_time": "2024-03-31T09:51:54.108Z"
   },
   {
    "duration": 4,
    "start_time": "2024-03-31T09:52:08.488Z"
   },
   {
    "duration": 5,
    "start_time": "2024-03-31T09:52:33.064Z"
   },
   {
    "duration": 4,
    "start_time": "2024-03-31T09:52:40.806Z"
   },
   {
    "duration": 4,
    "start_time": "2024-03-31T09:52:43.871Z"
   },
   {
    "duration": 50,
    "start_time": "2024-03-31T10:01:14.318Z"
   },
   {
    "duration": 35,
    "start_time": "2024-03-31T10:02:33.158Z"
   },
   {
    "duration": 1291,
    "start_time": "2024-03-31T10:02:40.899Z"
   },
   {
    "duration": 346,
    "start_time": "2024-03-31T10:02:42.192Z"
   },
   {
    "duration": 86,
    "start_time": "2024-03-31T10:02:42.540Z"
   },
   {
    "duration": 402,
    "start_time": "2024-03-31T10:02:42.628Z"
   },
   {
    "duration": 229,
    "start_time": "2024-03-31T10:02:43.031Z"
   },
   {
    "duration": 137,
    "start_time": "2024-03-31T10:02:43.264Z"
   },
   {
    "duration": 255,
    "start_time": "2024-03-31T10:02:43.403Z"
   },
   {
    "duration": 130,
    "start_time": "2024-03-31T10:02:43.659Z"
   },
   {
    "duration": 23,
    "start_time": "2024-03-31T10:02:43.791Z"
   },
   {
    "duration": 96,
    "start_time": "2024-03-31T10:02:43.816Z"
   },
   {
    "duration": 215,
    "start_time": "2024-03-31T10:02:43.913Z"
   },
   {
    "duration": 3,
    "start_time": "2024-03-31T10:02:44.130Z"
   },
   {
    "duration": 337,
    "start_time": "2024-03-31T10:02:44.134Z"
   },
   {
    "duration": 4,
    "start_time": "2024-03-31T10:02:44.473Z"
   },
   {
    "duration": 22,
    "start_time": "2024-03-31T10:02:44.478Z"
   },
   {
    "duration": 66,
    "start_time": "2024-03-31T10:02:44.502Z"
   },
   {
    "duration": 3,
    "start_time": "2024-03-31T10:02:44.570Z"
   },
   {
    "duration": 2166,
    "start_time": "2024-03-31T10:02:44.574Z"
   },
   {
    "duration": 2045,
    "start_time": "2024-03-31T10:02:46.741Z"
   },
   {
    "duration": 2127,
    "start_time": "2024-03-31T10:02:48.788Z"
   },
   {
    "duration": 4,
    "start_time": "2024-03-31T10:02:50.917Z"
   },
   {
    "duration": 15,
    "start_time": "2024-03-31T10:02:50.922Z"
   },
   {
    "duration": 71,
    "start_time": "2024-03-31T10:02:50.939Z"
   },
   {
    "duration": 69,
    "start_time": "2024-03-31T10:02:51.012Z"
   },
   {
    "duration": 1496,
    "start_time": "2024-03-31T19:29:54.303Z"
   },
   {
    "duration": 521,
    "start_time": "2024-03-31T19:29:55.801Z"
   },
   {
    "duration": 161,
    "start_time": "2024-03-31T19:29:56.324Z"
   },
   {
    "duration": 661,
    "start_time": "2024-03-31T19:29:56.488Z"
   },
   {
    "duration": 243,
    "start_time": "2024-03-31T19:29:57.152Z"
   },
   {
    "duration": 136,
    "start_time": "2024-03-31T19:29:57.396Z"
   },
   {
    "duration": 263,
    "start_time": "2024-03-31T19:29:57.533Z"
   },
   {
    "duration": 125,
    "start_time": "2024-03-31T19:29:57.798Z"
   },
   {
    "duration": 34,
    "start_time": "2024-03-31T19:29:57.925Z"
   },
   {
    "duration": 102,
    "start_time": "2024-03-31T19:29:57.962Z"
   },
   {
    "duration": 235,
    "start_time": "2024-03-31T19:29:58.066Z"
   },
   {
    "duration": 3,
    "start_time": "2024-03-31T19:29:58.303Z"
   },
   {
    "duration": 396,
    "start_time": "2024-03-31T19:29:58.307Z"
   },
   {
    "duration": 4,
    "start_time": "2024-03-31T19:29:58.705Z"
   },
   {
    "duration": 10,
    "start_time": "2024-03-31T19:29:58.711Z"
   },
   {
    "duration": 67,
    "start_time": "2024-03-31T19:29:58.722Z"
   },
   {
    "duration": 3,
    "start_time": "2024-03-31T19:29:58.791Z"
   },
   {
    "duration": 2341,
    "start_time": "2024-03-31T19:29:58.796Z"
   },
   {
    "duration": 2255,
    "start_time": "2024-03-31T19:30:01.139Z"
   },
   {
    "duration": 2357,
    "start_time": "2024-03-31T19:30:03.395Z"
   },
   {
    "duration": 5,
    "start_time": "2024-03-31T19:30:05.757Z"
   },
   {
    "duration": 24,
    "start_time": "2024-03-31T19:30:05.763Z"
   },
   {
    "duration": 65,
    "start_time": "2024-03-31T19:30:05.789Z"
   },
   {
    "duration": 112,
    "start_time": "2024-03-31T19:30:05.855Z"
   },
   {
    "duration": 1356,
    "start_time": "2024-03-31T19:31:15.334Z"
   },
   {
    "duration": 400,
    "start_time": "2024-03-31T19:31:16.692Z"
   },
   {
    "duration": 107,
    "start_time": "2024-03-31T19:31:17.094Z"
   },
   {
    "duration": 443,
    "start_time": "2024-03-31T19:31:17.203Z"
   },
   {
    "duration": 255,
    "start_time": "2024-03-31T19:31:17.648Z"
   },
   {
    "duration": 147,
    "start_time": "2024-03-31T19:31:17.905Z"
   },
   {
    "duration": 273,
    "start_time": "2024-03-31T19:31:18.053Z"
   },
   {
    "duration": 134,
    "start_time": "2024-03-31T19:31:18.327Z"
   },
   {
    "duration": 26,
    "start_time": "2024-03-31T19:31:18.463Z"
   },
   {
    "duration": 100,
    "start_time": "2024-03-31T19:31:18.491Z"
   },
   {
    "duration": 236,
    "start_time": "2024-03-31T19:31:18.592Z"
   },
   {
    "duration": 3,
    "start_time": "2024-03-31T19:31:18.830Z"
   },
   {
    "duration": 375,
    "start_time": "2024-03-31T19:31:18.835Z"
   },
   {
    "duration": 6,
    "start_time": "2024-03-31T19:31:19.211Z"
   },
   {
    "duration": 7,
    "start_time": "2024-03-31T19:31:19.218Z"
   },
   {
    "duration": 76,
    "start_time": "2024-03-31T19:31:19.226Z"
   },
   {
    "duration": 4,
    "start_time": "2024-03-31T19:31:19.303Z"
   },
   {
    "duration": 2452,
    "start_time": "2024-03-31T19:31:19.308Z"
   },
   {
    "duration": 2281,
    "start_time": "2024-03-31T19:31:21.762Z"
   },
   {
    "duration": 2442,
    "start_time": "2024-03-31T19:31:24.044Z"
   },
   {
    "duration": 6,
    "start_time": "2024-03-31T19:31:26.488Z"
   },
   {
    "duration": 6,
    "start_time": "2024-03-31T19:31:26.496Z"
   },
   {
    "duration": 98,
    "start_time": "2024-03-31T19:31:26.503Z"
   },
   {
    "duration": 4,
    "start_time": "2024-03-31T19:31:26.603Z"
   },
   {
    "duration": 6,
    "start_time": "2024-03-31T19:32:37.927Z"
   },
   {
    "duration": 11,
    "start_time": "2024-03-31T19:33:51.393Z"
   },
   {
    "duration": 276,
    "start_time": "2024-03-31T19:34:45.277Z"
   },
   {
    "duration": 263,
    "start_time": "2024-03-31T19:35:10.822Z"
   },
   {
    "duration": 1309,
    "start_time": "2024-03-31T19:36:06.313Z"
   },
   {
    "duration": 379,
    "start_time": "2024-03-31T19:36:07.624Z"
   },
   {
    "duration": 101,
    "start_time": "2024-03-31T19:36:08.004Z"
   },
   {
    "duration": 487,
    "start_time": "2024-03-31T19:36:08.107Z"
   },
   {
    "duration": 256,
    "start_time": "2024-03-31T19:36:08.597Z"
   },
   {
    "duration": 141,
    "start_time": "2024-03-31T19:36:08.857Z"
   },
   {
    "duration": 263,
    "start_time": "2024-03-31T19:36:09.000Z"
   },
   {
    "duration": 116,
    "start_time": "2024-03-31T19:36:09.264Z"
   },
   {
    "duration": 25,
    "start_time": "2024-03-31T19:36:09.381Z"
   },
   {
    "duration": 103,
    "start_time": "2024-03-31T19:36:09.408Z"
   },
   {
    "duration": 246,
    "start_time": "2024-03-31T19:36:09.512Z"
   },
   {
    "duration": 5,
    "start_time": "2024-03-31T19:36:09.760Z"
   },
   {
    "duration": 369,
    "start_time": "2024-03-31T19:36:09.767Z"
   },
   {
    "duration": 5,
    "start_time": "2024-03-31T19:36:10.139Z"
   },
   {
    "duration": 15,
    "start_time": "2024-03-31T19:36:10.146Z"
   },
   {
    "duration": 53,
    "start_time": "2024-03-31T19:36:10.163Z"
   },
   {
    "duration": 5,
    "start_time": "2024-03-31T19:36:10.217Z"
   },
   {
    "duration": 2459,
    "start_time": "2024-03-31T19:36:10.223Z"
   },
   {
    "duration": 2232,
    "start_time": "2024-03-31T19:36:12.684Z"
   },
   {
    "duration": 2326,
    "start_time": "2024-03-31T19:36:14.919Z"
   },
   {
    "duration": 12,
    "start_time": "2024-03-31T19:36:17.247Z"
   },
   {
    "duration": 5,
    "start_time": "2024-03-31T19:36:17.261Z"
   },
   {
    "duration": 60,
    "start_time": "2024-03-31T19:36:17.267Z"
   },
   {
    "duration": 5,
    "start_time": "2024-03-31T19:36:17.328Z"
   },
   {
    "duration": 159,
    "start_time": "2024-03-31T19:36:17.334Z"
   },
   {
    "duration": 0,
    "start_time": "2024-03-31T19:36:17.494Z"
   },
   {
    "duration": 0,
    "start_time": "2024-03-31T19:36:17.496Z"
   },
   {
    "duration": 0,
    "start_time": "2024-03-31T19:36:17.497Z"
   },
   {
    "duration": 6,
    "start_time": "2024-03-31T19:36:46.126Z"
   },
   {
    "duration": 12,
    "start_time": "2024-03-31T19:36:47.643Z"
   },
   {
    "duration": 273,
    "start_time": "2024-03-31T19:36:49.639Z"
   },
   {
    "duration": 259,
    "start_time": "2024-03-31T19:38:54.630Z"
   },
   {
    "duration": 10,
    "start_time": "2024-03-31T19:43:55.862Z"
   },
   {
    "duration": 13,
    "start_time": "2024-03-31T19:46:17.064Z"
   },
   {
    "duration": 265,
    "start_time": "2024-03-31T19:46:38.581Z"
   },
   {
    "duration": 10,
    "start_time": "2024-03-31T19:47:35.762Z"
   },
   {
    "duration": 294,
    "start_time": "2024-03-31T19:48:01.008Z"
   },
   {
    "duration": 1666,
    "start_time": "2024-04-01T11:28:24.251Z"
   },
   {
    "duration": 1452,
    "start_time": "2024-04-01T11:28:25.919Z"
   },
   {
    "duration": 356,
    "start_time": "2024-04-01T11:28:27.372Z"
   },
   {
    "duration": 1813,
    "start_time": "2024-04-01T11:28:27.730Z"
   },
   {
    "duration": 242,
    "start_time": "2024-04-01T11:28:29.545Z"
   },
   {
    "duration": 137,
    "start_time": "2024-04-01T11:28:29.788Z"
   },
   {
    "duration": 264,
    "start_time": "2024-04-01T11:28:29.926Z"
   },
   {
    "duration": 125,
    "start_time": "2024-04-01T11:28:30.192Z"
   },
   {
    "duration": 119,
    "start_time": "2024-04-01T11:28:30.318Z"
   },
   {
    "duration": 420,
    "start_time": "2024-04-01T11:28:30.439Z"
   },
   {
    "duration": 245,
    "start_time": "2024-04-01T11:28:30.861Z"
   },
   {
    "duration": 2,
    "start_time": "2024-04-01T11:28:31.108Z"
   },
   {
    "duration": 573,
    "start_time": "2024-04-01T11:28:31.112Z"
   },
   {
    "duration": 5,
    "start_time": "2024-04-01T11:28:31.688Z"
   },
   {
    "duration": 74,
    "start_time": "2024-04-01T11:28:31.694Z"
   },
   {
    "duration": 140,
    "start_time": "2024-04-01T11:28:31.770Z"
   },
   {
    "duration": 93,
    "start_time": "2024-04-01T11:28:31.912Z"
   },
   {
    "duration": 2486,
    "start_time": "2024-04-01T11:28:32.006Z"
   },
   {
    "duration": 2405,
    "start_time": "2024-04-01T11:28:34.494Z"
   },
   {
    "duration": 2378,
    "start_time": "2024-04-01T11:28:36.901Z"
   },
   {
    "duration": 8,
    "start_time": "2024-04-01T11:28:39.280Z"
   },
   {
    "duration": 5,
    "start_time": "2024-04-01T11:28:39.290Z"
   },
   {
    "duration": 63,
    "start_time": "2024-04-01T11:28:39.296Z"
   },
   {
    "duration": 5,
    "start_time": "2024-04-01T11:28:39.360Z"
   },
   {
    "duration": 6,
    "start_time": "2024-04-01T11:28:39.387Z"
   },
   {
    "duration": 6,
    "start_time": "2024-04-01T11:28:39.394Z"
   },
   {
    "duration": 1356,
    "start_time": "2024-04-05T07:37:15.772Z"
   },
   {
    "duration": 479,
    "start_time": "2024-04-05T07:37:17.130Z"
   },
   {
    "duration": 155,
    "start_time": "2024-04-05T07:37:17.610Z"
   },
   {
    "duration": 555,
    "start_time": "2024-04-05T07:37:17.767Z"
   },
   {
    "duration": 206,
    "start_time": "2024-04-05T07:37:18.324Z"
   },
   {
    "duration": 127,
    "start_time": "2024-04-05T07:37:18.532Z"
   },
   {
    "duration": 237,
    "start_time": "2024-04-05T07:37:18.661Z"
   },
   {
    "duration": 114,
    "start_time": "2024-04-05T07:37:18.899Z"
   },
   {
    "duration": 23,
    "start_time": "2024-04-05T07:37:19.014Z"
   },
   {
    "duration": 78,
    "start_time": "2024-04-05T07:37:19.046Z"
   },
   {
    "duration": 220,
    "start_time": "2024-04-05T07:37:19.125Z"
   },
   {
    "duration": 3,
    "start_time": "2024-04-05T07:37:19.346Z"
   },
   {
    "duration": 353,
    "start_time": "2024-04-05T07:37:19.351Z"
   },
   {
    "duration": 5,
    "start_time": "2024-04-05T07:37:19.706Z"
   },
   {
    "duration": 5,
    "start_time": "2024-04-05T07:37:19.713Z"
   },
   {
    "duration": 122,
    "start_time": "2024-04-05T07:37:19.719Z"
   },
   {
    "duration": 0,
    "start_time": "2024-04-05T07:37:19.844Z"
   },
   {
    "duration": 0,
    "start_time": "2024-04-05T07:37:19.845Z"
   },
   {
    "duration": 0,
    "start_time": "2024-04-05T07:37:19.846Z"
   },
   {
    "duration": 0,
    "start_time": "2024-04-05T07:37:19.847Z"
   },
   {
    "duration": 0,
    "start_time": "2024-04-05T07:37:19.848Z"
   },
   {
    "duration": 0,
    "start_time": "2024-04-05T07:37:19.849Z"
   },
   {
    "duration": 0,
    "start_time": "2024-04-05T07:37:19.850Z"
   },
   {
    "duration": 0,
    "start_time": "2024-04-05T07:37:19.851Z"
   },
   {
    "duration": 0,
    "start_time": "2024-04-05T07:37:19.852Z"
   },
   {
    "duration": 0,
    "start_time": "2024-04-05T07:37:19.853Z"
   },
   {
    "duration": 0,
    "start_time": "2024-04-05T07:37:19.854Z"
   },
   {
    "duration": 0,
    "start_time": "2024-04-05T07:37:19.855Z"
   },
   {
    "duration": 0,
    "start_time": "2024-04-05T07:37:19.857Z"
   },
   {
    "duration": 1199,
    "start_time": "2024-04-05T07:43:38.798Z"
   },
   {
    "duration": 318,
    "start_time": "2024-04-05T07:43:39.999Z"
   },
   {
    "duration": 84,
    "start_time": "2024-04-05T07:43:40.319Z"
   },
   {
    "duration": 398,
    "start_time": "2024-04-05T07:43:40.405Z"
   },
   {
    "duration": 211,
    "start_time": "2024-04-05T07:43:40.804Z"
   },
   {
    "duration": 117,
    "start_time": "2024-04-05T07:43:41.017Z"
   },
   {
    "duration": 233,
    "start_time": "2024-04-05T07:43:41.136Z"
   },
   {
    "duration": 105,
    "start_time": "2024-04-05T07:43:41.370Z"
   },
   {
    "duration": 22,
    "start_time": "2024-04-05T07:43:41.476Z"
   },
   {
    "duration": 91,
    "start_time": "2024-04-05T07:43:41.500Z"
   },
   {
    "duration": 212,
    "start_time": "2024-04-05T07:43:41.593Z"
   },
   {
    "duration": 3,
    "start_time": "2024-04-05T07:43:41.807Z"
   },
   {
    "duration": 315,
    "start_time": "2024-04-05T07:43:41.812Z"
   },
   {
    "duration": 4,
    "start_time": "2024-04-05T07:43:42.129Z"
   },
   {
    "duration": 13,
    "start_time": "2024-04-05T07:43:42.134Z"
   },
   {
    "duration": 48,
    "start_time": "2024-04-05T07:43:42.148Z"
   },
   {
    "duration": 3,
    "start_time": "2024-04-05T07:43:42.197Z"
   },
   {
    "duration": 2055,
    "start_time": "2024-04-05T07:43:42.202Z"
   },
   {
    "duration": 1882,
    "start_time": "2024-04-05T07:43:44.259Z"
   },
   {
    "duration": 1965,
    "start_time": "2024-04-05T07:43:46.145Z"
   },
   {
    "duration": 5,
    "start_time": "2024-04-05T07:43:48.111Z"
   },
   {
    "duration": 16,
    "start_time": "2024-04-05T07:43:48.117Z"
   },
   {
    "duration": 88,
    "start_time": "2024-04-05T07:43:48.134Z"
   },
   {
    "duration": 176,
    "start_time": "2024-04-05T07:43:48.224Z"
   },
   {
    "duration": 0,
    "start_time": "2024-04-05T07:43:48.401Z"
   },
   {
    "duration": 0,
    "start_time": "2024-04-05T07:43:48.402Z"
   },
   {
    "duration": 0,
    "start_time": "2024-04-05T07:43:48.403Z"
   },
   {
    "duration": 0,
    "start_time": "2024-04-05T07:43:48.404Z"
   },
   {
    "duration": 1277,
    "start_time": "2024-04-05T07:50:21.528Z"
   },
   {
    "duration": 324,
    "start_time": "2024-04-05T07:50:22.807Z"
   },
   {
    "duration": 85,
    "start_time": "2024-04-05T07:50:23.133Z"
   },
   {
    "duration": 401,
    "start_time": "2024-04-05T07:50:23.220Z"
   },
   {
    "duration": 224,
    "start_time": "2024-04-05T07:50:23.622Z"
   },
   {
    "duration": 115,
    "start_time": "2024-04-05T07:50:23.847Z"
   },
   {
    "duration": 232,
    "start_time": "2024-04-05T07:50:23.964Z"
   },
   {
    "duration": 114,
    "start_time": "2024-04-05T07:50:24.197Z"
   },
   {
    "duration": 23,
    "start_time": "2024-04-05T07:50:24.312Z"
   },
   {
    "duration": 79,
    "start_time": "2024-04-05T07:50:24.345Z"
   },
   {
    "duration": 219,
    "start_time": "2024-04-05T07:50:24.426Z"
   },
   {
    "duration": 3,
    "start_time": "2024-04-05T07:50:24.647Z"
   },
   {
    "duration": 317,
    "start_time": "2024-04-05T07:50:24.651Z"
   },
   {
    "duration": 5,
    "start_time": "2024-04-05T07:50:24.970Z"
   },
   {
    "duration": 5,
    "start_time": "2024-04-05T07:50:24.976Z"
   },
   {
    "duration": 63,
    "start_time": "2024-04-05T07:50:24.982Z"
   },
   {
    "duration": 4,
    "start_time": "2024-04-05T07:50:25.046Z"
   },
   {
    "duration": 2031,
    "start_time": "2024-04-05T07:50:25.052Z"
   },
   {
    "duration": 1865,
    "start_time": "2024-04-05T07:50:27.085Z"
   },
   {
    "duration": 1941,
    "start_time": "2024-04-05T07:50:28.951Z"
   },
   {
    "duration": 4,
    "start_time": "2024-04-05T07:50:30.893Z"
   },
   {
    "duration": 95,
    "start_time": "2024-04-05T07:50:30.899Z"
   },
   {
    "duration": 186,
    "start_time": "2024-04-05T07:50:30.996Z"
   },
   {
    "duration": 0,
    "start_time": "2024-04-05T07:50:31.183Z"
   },
   {
    "duration": 0,
    "start_time": "2024-04-05T07:50:31.184Z"
   },
   {
    "duration": 0,
    "start_time": "2024-04-05T07:50:31.185Z"
   },
   {
    "duration": 0,
    "start_time": "2024-04-05T07:50:31.186Z"
   },
   {
    "duration": 0,
    "start_time": "2024-04-05T07:50:31.187Z"
   },
   {
    "duration": 43,
    "start_time": "2024-04-05T07:51:21.385Z"
   },
   {
    "duration": 72,
    "start_time": "2024-04-05T07:52:31.293Z"
   },
   {
    "duration": 78,
    "start_time": "2024-04-05T07:52:52.217Z"
   },
   {
    "duration": 104,
    "start_time": "2024-04-05T07:53:43.320Z"
   },
   {
    "duration": 76,
    "start_time": "2024-04-05T07:56:16.681Z"
   },
   {
    "duration": 4,
    "start_time": "2024-04-05T07:56:25.640Z"
   },
   {
    "duration": 6,
    "start_time": "2024-04-05T07:56:30.435Z"
   },
   {
    "duration": 5,
    "start_time": "2024-04-05T07:56:32.575Z"
   },
   {
    "duration": 12,
    "start_time": "2024-04-05T07:56:38.890Z"
   },
   {
    "duration": 9,
    "start_time": "2024-04-05T07:56:41.996Z"
   },
   {
    "duration": 61,
    "start_time": "2024-04-05T07:57:34.358Z"
   },
   {
    "duration": 8,
    "start_time": "2024-04-05T07:58:07.935Z"
   },
   {
    "duration": 4,
    "start_time": "2024-04-05T07:58:09.520Z"
   },
   {
    "duration": 6,
    "start_time": "2024-04-05T07:58:32.552Z"
   },
   {
    "duration": 8,
    "start_time": "2024-04-05T07:58:35.080Z"
   },
   {
    "duration": 261,
    "start_time": "2024-04-05T07:58:51.323Z"
   },
   {
    "duration": 247,
    "start_time": "2024-04-05T08:00:27.217Z"
   },
   {
    "duration": 13,
    "start_time": "2024-04-05T08:01:53.938Z"
   },
   {
    "duration": 1359,
    "start_time": "2024-04-05T08:03:01.319Z"
   },
   {
    "duration": 336,
    "start_time": "2024-04-05T08:03:02.679Z"
   },
   {
    "duration": 89,
    "start_time": "2024-04-05T08:03:03.016Z"
   },
   {
    "duration": 416,
    "start_time": "2024-04-05T08:03:03.107Z"
   },
   {
    "duration": 237,
    "start_time": "2024-04-05T08:03:03.524Z"
   },
   {
    "duration": 129,
    "start_time": "2024-04-05T08:03:03.762Z"
   },
   {
    "duration": 244,
    "start_time": "2024-04-05T08:03:03.892Z"
   },
   {
    "duration": 116,
    "start_time": "2024-04-05T08:03:04.137Z"
   },
   {
    "duration": 26,
    "start_time": "2024-04-05T08:03:04.255Z"
   },
   {
    "duration": 99,
    "start_time": "2024-04-05T08:03:04.285Z"
   },
   {
    "duration": 228,
    "start_time": "2024-04-05T08:03:04.385Z"
   },
   {
    "duration": 3,
    "start_time": "2024-04-05T08:03:04.614Z"
   },
   {
    "duration": 337,
    "start_time": "2024-04-05T08:03:04.619Z"
   },
   {
    "duration": 5,
    "start_time": "2024-04-05T08:03:04.958Z"
   },
   {
    "duration": 8,
    "start_time": "2024-04-05T08:03:04.964Z"
   },
   {
    "duration": 61,
    "start_time": "2024-04-05T08:03:04.973Z"
   },
   {
    "duration": 4,
    "start_time": "2024-04-05T08:03:05.046Z"
   },
   {
    "duration": 2254,
    "start_time": "2024-04-05T08:03:05.051Z"
   },
   {
    "duration": 2143,
    "start_time": "2024-04-05T08:03:07.307Z"
   },
   {
    "duration": 2194,
    "start_time": "2024-04-05T08:03:09.452Z"
   },
   {
    "duration": 4,
    "start_time": "2024-04-05T08:03:11.648Z"
   },
   {
    "duration": 10,
    "start_time": "2024-04-05T08:03:11.653Z"
   },
   {
    "duration": 83,
    "start_time": "2024-04-05T08:03:11.664Z"
   },
   {
    "duration": 4,
    "start_time": "2024-04-05T08:03:11.749Z"
   },
   {
    "duration": 24,
    "start_time": "2024-04-05T08:03:11.754Z"
   },
   {
    "duration": 7,
    "start_time": "2024-04-05T08:03:11.779Z"
   },
   {
    "duration": 106,
    "start_time": "2024-04-05T08:03:11.787Z"
   },
   {
    "duration": 0,
    "start_time": "2024-04-05T08:03:11.894Z"
   },
   {
    "duration": 0,
    "start_time": "2024-04-05T08:03:11.896Z"
   },
   {
    "duration": 0,
    "start_time": "2024-04-05T08:03:11.896Z"
   },
   {
    "duration": 6,
    "start_time": "2024-04-05T08:03:49.301Z"
   },
   {
    "duration": 232,
    "start_time": "2024-04-05T08:03:50.463Z"
   },
   {
    "duration": 234,
    "start_time": "2024-04-05T08:04:16.068Z"
   },
   {
    "duration": 231,
    "start_time": "2024-04-05T08:04:39.723Z"
   },
   {
    "duration": 8,
    "start_time": "2024-04-05T08:06:14.039Z"
   },
   {
    "duration": 240,
    "start_time": "2024-04-05T08:06:26.996Z"
   },
   {
    "duration": 245,
    "start_time": "2024-04-05T08:13:40.613Z"
   },
   {
    "duration": 10,
    "start_time": "2024-04-05T08:31:31.403Z"
   },
   {
    "duration": 73,
    "start_time": "2024-04-05T08:32:06.133Z"
   },
   {
    "duration": 88,
    "start_time": "2024-04-05T08:32:19.002Z"
   },
   {
    "duration": 87,
    "start_time": "2024-04-05T08:32:32.741Z"
   },
   {
    "duration": 96,
    "start_time": "2024-04-05T08:32:47.088Z"
   },
   {
    "duration": 16,
    "start_time": "2024-04-05T08:35:49.311Z"
   },
   {
    "duration": 204,
    "start_time": "2024-04-05T08:35:56.511Z"
   },
   {
    "duration": 291,
    "start_time": "2024-04-05T08:36:17.113Z"
   },
   {
    "duration": 332,
    "start_time": "2024-04-05T08:36:24.723Z"
   },
   {
    "duration": 179,
    "start_time": "2024-04-05T08:36:29.848Z"
   },
   {
    "duration": 191,
    "start_time": "2024-04-05T08:37:41.910Z"
   },
   {
    "duration": 68,
    "start_time": "2024-04-05T08:37:52.562Z"
   },
   {
    "duration": 52,
    "start_time": "2024-04-06T07:26:15.811Z"
   },
   {
    "duration": 8,
    "start_time": "2024-04-06T07:26:27.765Z"
   },
   {
    "duration": 1712,
    "start_time": "2024-04-06T07:26:34.874Z"
   },
   {
    "duration": 1503,
    "start_time": "2024-04-06T07:26:36.588Z"
   },
   {
    "duration": 365,
    "start_time": "2024-04-06T07:26:38.092Z"
   },
   {
    "duration": 1875,
    "start_time": "2024-04-06T07:26:38.460Z"
   },
   {
    "duration": 239,
    "start_time": "2024-04-06T07:26:40.337Z"
   },
   {
    "duration": 146,
    "start_time": "2024-04-06T07:26:40.578Z"
   },
   {
    "duration": 269,
    "start_time": "2024-04-06T07:26:40.726Z"
   },
   {
    "duration": 128,
    "start_time": "2024-04-06T07:26:40.997Z"
   },
   {
    "duration": 28,
    "start_time": "2024-04-06T07:26:41.128Z"
   },
   {
    "duration": 115,
    "start_time": "2024-04-06T07:26:41.159Z"
   },
   {
    "duration": 243,
    "start_time": "2024-04-06T07:26:41.276Z"
   },
   {
    "duration": 4,
    "start_time": "2024-04-06T07:26:41.522Z"
   },
   {
    "duration": 386,
    "start_time": "2024-04-06T07:26:41.527Z"
   },
   {
    "duration": 6,
    "start_time": "2024-04-06T07:26:41.915Z"
   },
   {
    "duration": 11,
    "start_time": "2024-04-06T07:26:41.922Z"
   },
   {
    "duration": 83,
    "start_time": "2024-04-06T07:26:41.935Z"
   },
   {
    "duration": 4,
    "start_time": "2024-04-06T07:26:42.019Z"
   },
   {
    "duration": 2558,
    "start_time": "2024-04-06T07:26:42.025Z"
   },
   {
    "duration": 2229,
    "start_time": "2024-04-06T07:26:44.585Z"
   },
   {
    "duration": 2318,
    "start_time": "2024-04-06T07:26:46.816Z"
   },
   {
    "duration": 5,
    "start_time": "2024-04-06T07:26:49.135Z"
   },
   {
    "duration": 12,
    "start_time": "2024-04-06T07:26:49.142Z"
   },
   {
    "duration": 224,
    "start_time": "2024-04-06T07:26:49.156Z"
   },
   {
    "duration": 218,
    "start_time": "2024-04-06T07:26:49.382Z"
   },
   {
    "duration": 31,
    "start_time": "2024-04-06T07:26:49.602Z"
   },
   {
    "duration": 4,
    "start_time": "2024-04-06T07:26:49.635Z"
   },
   {
    "duration": 7,
    "start_time": "2024-04-06T07:26:49.640Z"
   },
   {
    "duration": 34,
    "start_time": "2024-04-06T07:26:49.650Z"
   },
   {
    "duration": 306,
    "start_time": "2024-04-06T07:26:49.686Z"
   },
   {
    "duration": 136,
    "start_time": "2024-04-06T07:27:31.562Z"
   },
   {
    "duration": 36,
    "start_time": "2024-04-06T07:28:07.689Z"
   },
   {
    "duration": 5,
    "start_time": "2024-04-06T07:28:38.070Z"
   },
   {
    "duration": 4,
    "start_time": "2024-04-06T07:28:41.619Z"
   },
   {
    "duration": 15,
    "start_time": "2024-04-06T07:31:27.576Z"
   },
   {
    "duration": 13,
    "start_time": "2024-04-06T07:31:38.207Z"
   },
   {
    "duration": 13,
    "start_time": "2024-04-06T07:31:52.917Z"
   },
   {
    "duration": 1505,
    "start_time": "2024-04-06T07:32:16.768Z"
   },
   {
    "duration": 387,
    "start_time": "2024-04-06T07:32:18.275Z"
   },
   {
    "duration": 99,
    "start_time": "2024-04-06T07:32:18.663Z"
   },
   {
    "duration": 461,
    "start_time": "2024-04-06T07:32:18.763Z"
   },
   {
    "duration": 269,
    "start_time": "2024-04-06T07:32:19.226Z"
   },
   {
    "duration": 145,
    "start_time": "2024-04-06T07:32:19.496Z"
   },
   {
    "duration": 270,
    "start_time": "2024-04-06T07:32:19.643Z"
   },
   {
    "duration": 126,
    "start_time": "2024-04-06T07:32:19.915Z"
   },
   {
    "duration": 37,
    "start_time": "2024-04-06T07:32:20.043Z"
   },
   {
    "duration": 126,
    "start_time": "2024-04-06T07:32:20.082Z"
   },
   {
    "duration": 241,
    "start_time": "2024-04-06T07:32:20.209Z"
   },
   {
    "duration": 4,
    "start_time": "2024-04-06T07:32:20.451Z"
   },
   {
    "duration": 405,
    "start_time": "2024-04-06T07:32:20.456Z"
   },
   {
    "duration": 13,
    "start_time": "2024-04-06T07:32:20.864Z"
   },
   {
    "duration": 6,
    "start_time": "2024-04-06T07:32:20.879Z"
   },
   {
    "duration": 86,
    "start_time": "2024-04-06T07:32:20.887Z"
   },
   {
    "duration": 4,
    "start_time": "2024-04-06T07:32:20.975Z"
   },
   {
    "duration": 2474,
    "start_time": "2024-04-06T07:32:20.980Z"
   },
   {
    "duration": 2269,
    "start_time": "2024-04-06T07:32:23.456Z"
   },
   {
    "duration": 2328,
    "start_time": "2024-04-06T07:32:25.727Z"
   },
   {
    "duration": 5,
    "start_time": "2024-04-06T07:32:28.057Z"
   },
   {
    "duration": 6,
    "start_time": "2024-04-06T07:32:28.073Z"
   },
   {
    "duration": 246,
    "start_time": "2024-04-06T07:32:28.081Z"
   },
   {
    "duration": 218,
    "start_time": "2024-04-06T07:32:28.329Z"
   },
   {
    "duration": 55,
    "start_time": "2024-04-06T07:32:28.550Z"
   },
   {
    "duration": 5,
    "start_time": "2024-04-06T07:32:28.608Z"
   },
   {
    "duration": 11,
    "start_time": "2024-04-06T07:32:28.615Z"
   },
   {
    "duration": 19,
    "start_time": "2024-04-06T07:32:28.628Z"
   },
   {
    "duration": 131,
    "start_time": "2024-04-06T07:32:28.649Z"
   },
   {
    "duration": 0,
    "start_time": "2024-04-06T07:32:28.782Z"
   },
   {
    "duration": 0,
    "start_time": "2024-04-06T07:32:28.783Z"
   },
   {
    "duration": 14,
    "start_time": "2024-04-06T07:32:47.903Z"
   },
   {
    "duration": 6,
    "start_time": "2024-04-06T07:33:08.374Z"
   },
   {
    "duration": 7,
    "start_time": "2024-04-06T07:33:49.374Z"
   },
   {
    "duration": 7,
    "start_time": "2024-04-06T07:33:54.296Z"
   },
   {
    "duration": 2225,
    "start_time": "2024-04-06T07:34:05.648Z"
   },
   {
    "duration": 2026,
    "start_time": "2024-04-06T07:34:51.348Z"
   },
   {
    "duration": 1590,
    "start_time": "2024-04-06T07:35:31.884Z"
   },
   {
    "duration": 444,
    "start_time": "2024-04-06T07:35:33.477Z"
   },
   {
    "duration": 108,
    "start_time": "2024-04-06T07:35:33.922Z"
   },
   {
    "duration": 533,
    "start_time": "2024-04-06T07:35:34.033Z"
   },
   {
    "duration": 251,
    "start_time": "2024-04-06T07:35:34.567Z"
   },
   {
    "duration": 144,
    "start_time": "2024-04-06T07:35:34.819Z"
   },
   {
    "duration": 280,
    "start_time": "2024-04-06T07:35:34.965Z"
   },
   {
    "duration": 143,
    "start_time": "2024-04-06T07:35:35.247Z"
   },
   {
    "duration": 35,
    "start_time": "2024-04-06T07:35:35.392Z"
   },
   {
    "duration": 128,
    "start_time": "2024-04-06T07:35:35.430Z"
   },
   {
    "duration": 258,
    "start_time": "2024-04-06T07:35:35.560Z"
   },
   {
    "duration": 4,
    "start_time": "2024-04-06T07:35:35.820Z"
   },
   {
    "duration": 459,
    "start_time": "2024-04-06T07:35:35.826Z"
   },
   {
    "duration": 5,
    "start_time": "2024-04-06T07:35:36.287Z"
   },
   {
    "duration": 14,
    "start_time": "2024-04-06T07:35:36.293Z"
   },
   {
    "duration": 69,
    "start_time": "2024-04-06T07:35:36.309Z"
   },
   {
    "duration": 5,
    "start_time": "2024-04-06T07:35:36.379Z"
   },
   {
    "duration": 2588,
    "start_time": "2024-04-06T07:35:36.386Z"
   },
   {
    "duration": 2267,
    "start_time": "2024-04-06T07:35:38.976Z"
   },
   {
    "duration": 2380,
    "start_time": "2024-04-06T07:35:41.244Z"
   },
   {
    "duration": 4,
    "start_time": "2024-04-06T07:35:43.626Z"
   },
   {
    "duration": 21,
    "start_time": "2024-04-06T07:35:43.632Z"
   },
   {
    "duration": 239,
    "start_time": "2024-04-06T07:35:43.656Z"
   },
   {
    "duration": 225,
    "start_time": "2024-04-06T07:35:43.897Z"
   },
   {
    "duration": 55,
    "start_time": "2024-04-06T07:35:44.123Z"
   },
   {
    "duration": 4,
    "start_time": "2024-04-06T07:35:44.180Z"
   },
   {
    "duration": 9,
    "start_time": "2024-04-06T07:35:44.186Z"
   },
   {
    "duration": 13,
    "start_time": "2024-04-06T07:35:44.199Z"
   },
   {
    "duration": 6,
    "start_time": "2024-04-06T07:35:44.214Z"
   },
   {
    "duration": 8,
    "start_time": "2024-04-06T07:35:44.222Z"
   },
   {
    "duration": 13,
    "start_time": "2024-04-06T07:35:44.231Z"
   },
   {
    "duration": 2505,
    "start_time": "2024-04-06T07:35:44.273Z"
   },
   {
    "duration": 137,
    "start_time": "2024-04-06T07:38:25.972Z"
   },
   {
    "duration": 6,
    "start_time": "2024-04-06T07:38:34.841Z"
   },
   {
    "duration": 1961,
    "start_time": "2024-04-06T07:38:37.612Z"
   },
   {
    "duration": 8,
    "start_time": "2024-04-06T07:39:25.623Z"
   },
   {
    "duration": 6,
    "start_time": "2024-04-06T07:39:26.615Z"
   },
   {
    "duration": 1700,
    "start_time": "2024-04-06T07:39:27.876Z"
   },
   {
    "duration": 6,
    "start_time": "2024-04-06T07:40:05.926Z"
   },
   {
    "duration": 6,
    "start_time": "2024-04-06T07:40:13.184Z"
   },
   {
    "duration": 1925,
    "start_time": "2024-04-06T07:40:15.755Z"
   },
   {
    "duration": 1511,
    "start_time": "2024-04-06T07:41:45.858Z"
   },
   {
    "duration": 374,
    "start_time": "2024-04-06T07:41:47.371Z"
   },
   {
    "duration": 98,
    "start_time": "2024-04-06T07:41:47.747Z"
   },
   {
    "duration": 473,
    "start_time": "2024-04-06T07:41:47.847Z"
   },
   {
    "duration": 244,
    "start_time": "2024-04-06T07:41:48.322Z"
   },
   {
    "duration": 135,
    "start_time": "2024-04-06T07:41:48.572Z"
   },
   {
    "duration": 270,
    "start_time": "2024-04-06T07:41:48.708Z"
   },
   {
    "duration": 143,
    "start_time": "2024-04-06T07:41:48.980Z"
   },
   {
    "duration": 40,
    "start_time": "2024-04-06T07:41:49.134Z"
   },
   {
    "duration": 114,
    "start_time": "2024-04-06T07:41:49.178Z"
   },
   {
    "duration": 246,
    "start_time": "2024-04-06T07:41:49.293Z"
   },
   {
    "duration": 4,
    "start_time": "2024-04-06T07:41:49.541Z"
   },
   {
    "duration": 399,
    "start_time": "2024-04-06T07:41:49.546Z"
   },
   {
    "duration": 5,
    "start_time": "2024-04-06T07:41:49.946Z"
   },
   {
    "duration": 22,
    "start_time": "2024-04-06T07:41:49.952Z"
   },
   {
    "duration": 58,
    "start_time": "2024-04-06T07:41:49.975Z"
   },
   {
    "duration": 4,
    "start_time": "2024-04-06T07:41:50.035Z"
   },
   {
    "duration": 2463,
    "start_time": "2024-04-06T07:41:50.041Z"
   },
   {
    "duration": 2251,
    "start_time": "2024-04-06T07:41:52.506Z"
   },
   {
    "duration": 2330,
    "start_time": "2024-04-06T07:41:54.759Z"
   },
   {
    "duration": 7,
    "start_time": "2024-04-06T07:41:57.090Z"
   },
   {
    "duration": 8,
    "start_time": "2024-04-06T07:41:57.098Z"
   },
   {
    "duration": 234,
    "start_time": "2024-04-06T07:41:57.108Z"
   },
   {
    "duration": 216,
    "start_time": "2024-04-06T07:41:57.344Z"
   },
   {
    "duration": 49,
    "start_time": "2024-04-06T07:41:57.562Z"
   },
   {
    "duration": 5,
    "start_time": "2024-04-06T07:41:57.612Z"
   },
   {
    "duration": 10,
    "start_time": "2024-04-06T07:41:57.619Z"
   },
   {
    "duration": 41,
    "start_time": "2024-04-06T07:41:57.632Z"
   },
   {
    "duration": 17,
    "start_time": "2024-04-06T07:41:57.674Z"
   },
   {
    "duration": 28,
    "start_time": "2024-04-06T07:41:57.692Z"
   },
   {
    "duration": 33,
    "start_time": "2024-04-06T07:41:57.722Z"
   },
   {
    "duration": 1920,
    "start_time": "2024-04-06T07:41:57.756Z"
   },
   {
    "duration": 1717,
    "start_time": "2024-04-06T07:42:46.568Z"
   },
   {
    "duration": 1778,
    "start_time": "2024-04-06T07:42:56.304Z"
   },
   {
    "duration": 4,
    "start_time": "2024-04-06T07:43:28.508Z"
   },
   {
    "duration": 4,
    "start_time": "2024-04-06T07:43:40.908Z"
   },
   {
    "duration": 4,
    "start_time": "2024-04-06T07:43:50.566Z"
   },
   {
    "duration": 4,
    "start_time": "2024-04-06T07:45:14.608Z"
   },
   {
    "duration": 120,
    "start_time": "2024-04-06T07:48:45.036Z"
   },
   {
    "duration": 18,
    "start_time": "2024-04-06T07:48:52.449Z"
   },
   {
    "duration": 1482,
    "start_time": "2024-04-06T07:49:05.621Z"
   },
   {
    "duration": 378,
    "start_time": "2024-04-06T07:49:07.105Z"
   },
   {
    "duration": 98,
    "start_time": "2024-04-06T07:49:07.484Z"
   },
   {
    "duration": 477,
    "start_time": "2024-04-06T07:49:07.584Z"
   },
   {
    "duration": 256,
    "start_time": "2024-04-06T07:49:08.063Z"
   },
   {
    "duration": 145,
    "start_time": "2024-04-06T07:49:08.321Z"
   },
   {
    "duration": 273,
    "start_time": "2024-04-06T07:49:08.467Z"
   },
   {
    "duration": 131,
    "start_time": "2024-04-06T07:49:08.742Z"
   },
   {
    "duration": 27,
    "start_time": "2024-04-06T07:49:08.875Z"
   },
   {
    "duration": 107,
    "start_time": "2024-04-06T07:49:08.905Z"
   },
   {
    "duration": 238,
    "start_time": "2024-04-06T07:49:09.014Z"
   },
   {
    "duration": 3,
    "start_time": "2024-04-06T07:49:09.253Z"
   },
   {
    "duration": 405,
    "start_time": "2024-04-06T07:49:09.258Z"
   },
   {
    "duration": 10,
    "start_time": "2024-04-06T07:49:09.664Z"
   },
   {
    "duration": 17,
    "start_time": "2024-04-06T07:49:09.675Z"
   },
   {
    "duration": 63,
    "start_time": "2024-04-06T07:49:09.693Z"
   },
   {
    "duration": 34,
    "start_time": "2024-04-06T07:49:09.758Z"
   },
   {
    "duration": 4,
    "start_time": "2024-04-06T07:49:09.794Z"
   },
   {
    "duration": 2453,
    "start_time": "2024-04-06T07:49:09.799Z"
   },
   {
    "duration": 2293,
    "start_time": "2024-04-06T07:49:12.254Z"
   },
   {
    "duration": 2332,
    "start_time": "2024-04-06T07:49:14.548Z"
   },
   {
    "duration": 4,
    "start_time": "2024-04-06T07:49:16.881Z"
   },
   {
    "duration": 1487,
    "start_time": "2024-04-06T07:49:16.886Z"
   },
   {
    "duration": 1,
    "start_time": "2024-04-06T07:49:18.375Z"
   },
   {
    "duration": 0,
    "start_time": "2024-04-06T07:49:18.377Z"
   },
   {
    "duration": 0,
    "start_time": "2024-04-06T07:49:18.379Z"
   },
   {
    "duration": 0,
    "start_time": "2024-04-06T07:49:18.380Z"
   },
   {
    "duration": 0,
    "start_time": "2024-04-06T07:49:18.382Z"
   },
   {
    "duration": 0,
    "start_time": "2024-04-06T07:49:18.383Z"
   },
   {
    "duration": 0,
    "start_time": "2024-04-06T07:49:18.385Z"
   },
   {
    "duration": 0,
    "start_time": "2024-04-06T07:49:18.386Z"
   },
   {
    "duration": 0,
    "start_time": "2024-04-06T07:49:18.387Z"
   },
   {
    "duration": 0,
    "start_time": "2024-04-06T07:49:18.389Z"
   },
   {
    "duration": 0,
    "start_time": "2024-04-06T07:49:18.390Z"
   },
   {
    "duration": 0,
    "start_time": "2024-04-06T07:49:18.391Z"
   },
   {
    "duration": 1458,
    "start_time": "2024-04-06T07:50:03.317Z"
   },
   {
    "duration": 376,
    "start_time": "2024-04-06T07:50:04.777Z"
   },
   {
    "duration": 107,
    "start_time": "2024-04-06T07:50:05.154Z"
   },
   {
    "duration": 476,
    "start_time": "2024-04-06T07:50:05.263Z"
   },
   {
    "duration": 252,
    "start_time": "2024-04-06T07:50:05.742Z"
   },
   {
    "duration": 142,
    "start_time": "2024-04-06T07:50:05.996Z"
   },
   {
    "duration": 267,
    "start_time": "2024-04-06T07:50:06.140Z"
   },
   {
    "duration": 123,
    "start_time": "2024-04-06T07:50:06.408Z"
   },
   {
    "duration": 41,
    "start_time": "2024-04-06T07:50:06.533Z"
   },
   {
    "duration": 97,
    "start_time": "2024-04-06T07:50:06.577Z"
   },
   {
    "duration": 253,
    "start_time": "2024-04-06T07:50:06.676Z"
   },
   {
    "duration": 4,
    "start_time": "2024-04-06T07:50:06.931Z"
   },
   {
    "duration": 392,
    "start_time": "2024-04-06T07:50:06.937Z"
   },
   {
    "duration": 4,
    "start_time": "2024-04-06T07:50:07.331Z"
   },
   {
    "duration": 15,
    "start_time": "2024-04-06T07:50:07.337Z"
   },
   {
    "duration": 65,
    "start_time": "2024-04-06T07:50:07.354Z"
   },
   {
    "duration": 32,
    "start_time": "2024-04-06T07:50:07.421Z"
   },
   {
    "duration": 4,
    "start_time": "2024-04-06T07:50:07.454Z"
   },
   {
    "duration": 2460,
    "start_time": "2024-04-06T07:50:07.473Z"
   },
   {
    "duration": 2249,
    "start_time": "2024-04-06T07:50:09.935Z"
   },
   {
    "duration": 2311,
    "start_time": "2024-04-06T07:50:12.186Z"
   },
   {
    "duration": 235,
    "start_time": "2024-04-06T07:50:14.499Z"
   },
   {
    "duration": 1571,
    "start_time": "2024-04-06T07:50:14.736Z"
   },
   {
    "duration": 0,
    "start_time": "2024-04-06T07:50:16.308Z"
   },
   {
    "duration": 0,
    "start_time": "2024-04-06T07:50:16.310Z"
   },
   {
    "duration": 0,
    "start_time": "2024-04-06T07:50:16.311Z"
   },
   {
    "duration": 0,
    "start_time": "2024-04-06T07:50:16.312Z"
   },
   {
    "duration": 0,
    "start_time": "2024-04-06T07:50:16.313Z"
   },
   {
    "duration": 0,
    "start_time": "2024-04-06T07:50:16.314Z"
   },
   {
    "duration": 0,
    "start_time": "2024-04-06T07:50:16.315Z"
   },
   {
    "duration": 0,
    "start_time": "2024-04-06T07:50:16.317Z"
   },
   {
    "duration": 0,
    "start_time": "2024-04-06T07:50:16.318Z"
   },
   {
    "duration": 0,
    "start_time": "2024-04-06T07:50:16.319Z"
   },
   {
    "duration": 29,
    "start_time": "2024-04-06T07:52:15.044Z"
   },
   {
    "duration": 1457,
    "start_time": "2024-04-06T07:52:21.320Z"
   },
   {
    "duration": 370,
    "start_time": "2024-04-06T07:52:22.780Z"
   },
   {
    "duration": 97,
    "start_time": "2024-04-06T07:52:23.152Z"
   },
   {
    "duration": 466,
    "start_time": "2024-04-06T07:52:23.251Z"
   },
   {
    "duration": 264,
    "start_time": "2024-04-06T07:52:23.719Z"
   },
   {
    "duration": 146,
    "start_time": "2024-04-06T07:52:23.984Z"
   },
   {
    "duration": 286,
    "start_time": "2024-04-06T07:52:24.132Z"
   },
   {
    "duration": 130,
    "start_time": "2024-04-06T07:52:24.420Z"
   },
   {
    "duration": 35,
    "start_time": "2024-04-06T07:52:24.552Z"
   },
   {
    "duration": 100,
    "start_time": "2024-04-06T07:52:24.589Z"
   },
   {
    "duration": 248,
    "start_time": "2024-04-06T07:52:24.691Z"
   },
   {
    "duration": 3,
    "start_time": "2024-04-06T07:52:24.941Z"
   },
   {
    "duration": 421,
    "start_time": "2024-04-06T07:52:24.945Z"
   },
   {
    "duration": 7,
    "start_time": "2024-04-06T07:52:25.368Z"
   },
   {
    "duration": 5,
    "start_time": "2024-04-06T07:52:25.376Z"
   },
   {
    "duration": 68,
    "start_time": "2024-04-06T07:52:25.383Z"
   },
   {
    "duration": 41,
    "start_time": "2024-04-06T07:52:25.453Z"
   },
   {
    "duration": 4,
    "start_time": "2024-04-06T07:52:25.496Z"
   },
   {
    "duration": 2460,
    "start_time": "2024-04-06T07:52:25.501Z"
   },
   {
    "duration": 2240,
    "start_time": "2024-04-06T07:52:27.962Z"
   },
   {
    "duration": 2342,
    "start_time": "2024-04-06T07:52:30.204Z"
   },
   {
    "duration": 222,
    "start_time": "2024-04-06T07:52:32.547Z"
   },
   {
    "duration": 1566,
    "start_time": "2024-04-06T07:52:32.772Z"
   },
   {
    "duration": 0,
    "start_time": "2024-04-06T07:52:34.340Z"
   },
   {
    "duration": 0,
    "start_time": "2024-04-06T07:52:34.341Z"
   },
   {
    "duration": 0,
    "start_time": "2024-04-06T07:52:34.342Z"
   },
   {
    "duration": 0,
    "start_time": "2024-04-06T07:52:34.343Z"
   },
   {
    "duration": 0,
    "start_time": "2024-04-06T07:52:34.344Z"
   },
   {
    "duration": 0,
    "start_time": "2024-04-06T07:52:34.346Z"
   },
   {
    "duration": 0,
    "start_time": "2024-04-06T07:52:34.347Z"
   },
   {
    "duration": 0,
    "start_time": "2024-04-06T07:52:34.349Z"
   },
   {
    "duration": 0,
    "start_time": "2024-04-06T07:52:34.350Z"
   },
   {
    "duration": 0,
    "start_time": "2024-04-06T07:52:34.352Z"
   },
   {
    "duration": 1503,
    "start_time": "2024-04-06T07:52:56.214Z"
   },
   {
    "duration": 376,
    "start_time": "2024-04-06T07:52:57.719Z"
   },
   {
    "duration": 108,
    "start_time": "2024-04-06T07:52:58.097Z"
   },
   {
    "duration": 464,
    "start_time": "2024-04-06T07:52:58.207Z"
   },
   {
    "duration": 247,
    "start_time": "2024-04-06T07:52:58.673Z"
   },
   {
    "duration": 139,
    "start_time": "2024-04-06T07:52:58.921Z"
   },
   {
    "duration": 267,
    "start_time": "2024-04-06T07:52:59.062Z"
   },
   {
    "duration": 131,
    "start_time": "2024-04-06T07:52:59.331Z"
   },
   {
    "duration": 30,
    "start_time": "2024-04-06T07:52:59.464Z"
   },
   {
    "duration": 99,
    "start_time": "2024-04-06T07:52:59.497Z"
   },
   {
    "duration": 249,
    "start_time": "2024-04-06T07:52:59.598Z"
   },
   {
    "duration": 3,
    "start_time": "2024-04-06T07:52:59.849Z"
   },
   {
    "duration": 420,
    "start_time": "2024-04-06T07:52:59.854Z"
   },
   {
    "duration": 5,
    "start_time": "2024-04-06T07:53:00.276Z"
   },
   {
    "duration": 83,
    "start_time": "2024-04-06T07:53:00.283Z"
   },
   {
    "duration": 82,
    "start_time": "2024-04-06T07:53:00.367Z"
   },
   {
    "duration": 17,
    "start_time": "2024-04-06T07:53:00.451Z"
   },
   {
    "duration": 2555,
    "start_time": "2024-04-06T07:53:00.470Z"
   },
   {
    "duration": 2262,
    "start_time": "2024-04-06T07:53:03.026Z"
   },
   {
    "duration": 2392,
    "start_time": "2024-04-06T07:53:05.289Z"
   },
   {
    "duration": 247,
    "start_time": "2024-04-06T07:53:07.683Z"
   },
   {
    "duration": 266,
    "start_time": "2024-04-06T07:53:07.932Z"
   },
   {
    "duration": 48,
    "start_time": "2024-04-06T07:53:08.200Z"
   },
   {
    "duration": 29,
    "start_time": "2024-04-06T07:53:08.250Z"
   },
   {
    "duration": 29,
    "start_time": "2024-04-06T07:53:08.280Z"
   },
   {
    "duration": 58,
    "start_time": "2024-04-06T07:53:08.310Z"
   },
   {
    "duration": 35,
    "start_time": "2024-04-06T07:53:08.369Z"
   },
   {
    "duration": 49,
    "start_time": "2024-04-06T07:53:08.408Z"
   },
   {
    "duration": 43,
    "start_time": "2024-04-06T07:53:08.458Z"
   },
   {
    "duration": 54,
    "start_time": "2024-04-06T07:53:08.503Z"
   },
   {
    "duration": 58,
    "start_time": "2024-04-06T07:53:08.559Z"
   },
   {
    "duration": 2162,
    "start_time": "2024-04-06T07:53:08.619Z"
   },
   {
    "duration": 1536,
    "start_time": "2024-04-06T07:55:19.733Z"
   },
   {
    "duration": 401,
    "start_time": "2024-04-06T07:55:21.272Z"
   },
   {
    "duration": 98,
    "start_time": "2024-04-06T07:55:21.675Z"
   },
   {
    "duration": 476,
    "start_time": "2024-04-06T07:55:21.775Z"
   },
   {
    "duration": 260,
    "start_time": "2024-04-06T07:55:22.253Z"
   },
   {
    "duration": 144,
    "start_time": "2024-04-06T07:55:22.514Z"
   },
   {
    "duration": 276,
    "start_time": "2024-04-06T07:55:22.659Z"
   },
   {
    "duration": 126,
    "start_time": "2024-04-06T07:55:22.936Z"
   },
   {
    "duration": 31,
    "start_time": "2024-04-06T07:55:23.064Z"
   },
   {
    "duration": 100,
    "start_time": "2024-04-06T07:55:23.097Z"
   },
   {
    "duration": 244,
    "start_time": "2024-04-06T07:55:23.198Z"
   },
   {
    "duration": 4,
    "start_time": "2024-04-06T07:55:23.443Z"
   },
   {
    "duration": 398,
    "start_time": "2024-04-06T07:55:23.449Z"
   },
   {
    "duration": 5,
    "start_time": "2024-04-06T07:55:23.848Z"
   },
   {
    "duration": 7,
    "start_time": "2024-04-06T07:55:23.855Z"
   },
   {
    "duration": 54,
    "start_time": "2024-04-06T07:55:23.874Z"
   },
   {
    "duration": 4,
    "start_time": "2024-04-06T07:55:23.929Z"
   },
   {
    "duration": 2455,
    "start_time": "2024-04-06T07:55:23.935Z"
   },
   {
    "duration": 2290,
    "start_time": "2024-04-06T07:55:26.391Z"
   },
   {
    "duration": 2335,
    "start_time": "2024-04-06T07:55:28.683Z"
   },
   {
    "duration": 224,
    "start_time": "2024-04-06T07:55:31.020Z"
   },
   {
    "duration": 216,
    "start_time": "2024-04-06T07:55:31.246Z"
   },
   {
    "duration": 49,
    "start_time": "2024-04-06T07:55:31.463Z"
   },
   {
    "duration": 36,
    "start_time": "2024-04-06T07:55:31.514Z"
   },
   {
    "duration": 147,
    "start_time": "2024-04-06T07:55:31.552Z"
   },
   {
    "duration": 90,
    "start_time": "2024-04-06T07:55:31.701Z"
   },
   {
    "duration": 43,
    "start_time": "2024-04-06T07:55:31.793Z"
   },
   {
    "duration": 57,
    "start_time": "2024-04-06T07:55:31.840Z"
   },
   {
    "duration": 197,
    "start_time": "2024-04-06T07:55:31.898Z"
   },
   {
    "duration": 73,
    "start_time": "2024-04-06T07:55:32.097Z"
   },
   {
    "duration": 149,
    "start_time": "2024-04-06T07:55:32.172Z"
   },
   {
    "duration": 0,
    "start_time": "2024-04-06T07:55:32.322Z"
   },
   {
    "duration": 1539,
    "start_time": "2024-04-06T07:57:32.455Z"
   },
   {
    "duration": 398,
    "start_time": "2024-04-06T07:57:33.996Z"
   },
   {
    "duration": 98,
    "start_time": "2024-04-06T07:57:34.396Z"
   },
   {
    "duration": 456,
    "start_time": "2024-04-06T07:57:34.496Z"
   },
   {
    "duration": 248,
    "start_time": "2024-04-06T07:57:34.955Z"
   },
   {
    "duration": 141,
    "start_time": "2024-04-06T07:57:35.204Z"
   },
   {
    "duration": 269,
    "start_time": "2024-04-06T07:57:35.347Z"
   },
   {
    "duration": 126,
    "start_time": "2024-04-06T07:57:35.618Z"
   },
   {
    "duration": 36,
    "start_time": "2024-04-06T07:57:35.746Z"
   },
   {
    "duration": 101,
    "start_time": "2024-04-06T07:57:35.784Z"
   },
   {
    "duration": 249,
    "start_time": "2024-04-06T07:57:35.887Z"
   },
   {
    "duration": 4,
    "start_time": "2024-04-06T07:57:36.138Z"
   },
   {
    "duration": 400,
    "start_time": "2024-04-06T07:57:36.143Z"
   },
   {
    "duration": 5,
    "start_time": "2024-04-06T07:57:36.546Z"
   },
   {
    "duration": 6,
    "start_time": "2024-04-06T07:57:36.553Z"
   },
   {
    "duration": 52,
    "start_time": "2024-04-06T07:57:36.573Z"
   },
   {
    "duration": 148,
    "start_time": "2024-04-06T07:57:36.626Z"
   },
   {
    "duration": 0,
    "start_time": "2024-04-06T07:57:36.776Z"
   },
   {
    "duration": 0,
    "start_time": "2024-04-06T07:57:36.777Z"
   },
   {
    "duration": 0,
    "start_time": "2024-04-06T07:57:36.778Z"
   },
   {
    "duration": 0,
    "start_time": "2024-04-06T07:57:36.780Z"
   },
   {
    "duration": 0,
    "start_time": "2024-04-06T07:57:36.781Z"
   },
   {
    "duration": 0,
    "start_time": "2024-04-06T07:57:36.782Z"
   },
   {
    "duration": 0,
    "start_time": "2024-04-06T07:57:36.784Z"
   },
   {
    "duration": 0,
    "start_time": "2024-04-06T07:57:36.785Z"
   },
   {
    "duration": 0,
    "start_time": "2024-04-06T07:57:36.786Z"
   },
   {
    "duration": 0,
    "start_time": "2024-04-06T07:57:36.787Z"
   },
   {
    "duration": 0,
    "start_time": "2024-04-06T07:57:36.788Z"
   },
   {
    "duration": 0,
    "start_time": "2024-04-06T07:57:36.789Z"
   },
   {
    "duration": 0,
    "start_time": "2024-04-06T07:57:36.790Z"
   },
   {
    "duration": 0,
    "start_time": "2024-04-06T07:57:36.791Z"
   },
   {
    "duration": 0,
    "start_time": "2024-04-06T07:57:36.793Z"
   },
   {
    "duration": 0,
    "start_time": "2024-04-06T07:57:36.794Z"
   },
   {
    "duration": 1471,
    "start_time": "2024-04-06T07:59:36.108Z"
   },
   {
    "duration": 382,
    "start_time": "2024-04-06T07:59:37.582Z"
   },
   {
    "duration": 101,
    "start_time": "2024-04-06T07:59:37.965Z"
   },
   {
    "duration": 464,
    "start_time": "2024-04-06T07:59:38.068Z"
   },
   {
    "duration": 272,
    "start_time": "2024-04-06T07:59:38.535Z"
   },
   {
    "duration": 142,
    "start_time": "2024-04-06T07:59:38.809Z"
   },
   {
    "duration": 272,
    "start_time": "2024-04-06T07:59:38.952Z"
   },
   {
    "duration": 141,
    "start_time": "2024-04-06T07:59:39.225Z"
   },
   {
    "duration": 31,
    "start_time": "2024-04-06T07:59:39.368Z"
   },
   {
    "duration": 109,
    "start_time": "2024-04-06T07:59:39.401Z"
   },
   {
    "duration": 247,
    "start_time": "2024-04-06T07:59:39.512Z"
   },
   {
    "duration": 3,
    "start_time": "2024-04-06T07:59:39.761Z"
   },
   {
    "duration": 406,
    "start_time": "2024-04-06T07:59:39.772Z"
   },
   {
    "duration": 5,
    "start_time": "2024-04-06T07:59:40.180Z"
   },
   {
    "duration": 5,
    "start_time": "2024-04-06T07:59:40.187Z"
   },
   {
    "duration": 66,
    "start_time": "2024-04-06T07:59:40.193Z"
   },
   {
    "duration": 138,
    "start_time": "2024-04-06T07:59:40.261Z"
   },
   {
    "duration": 0,
    "start_time": "2024-04-06T07:59:40.400Z"
   },
   {
    "duration": 0,
    "start_time": "2024-04-06T07:59:40.401Z"
   },
   {
    "duration": 0,
    "start_time": "2024-04-06T07:59:40.402Z"
   },
   {
    "duration": 0,
    "start_time": "2024-04-06T07:59:40.403Z"
   },
   {
    "duration": 0,
    "start_time": "2024-04-06T07:59:40.404Z"
   },
   {
    "duration": 0,
    "start_time": "2024-04-06T07:59:40.405Z"
   },
   {
    "duration": 0,
    "start_time": "2024-04-06T07:59:40.406Z"
   },
   {
    "duration": 0,
    "start_time": "2024-04-06T07:59:40.408Z"
   },
   {
    "duration": 0,
    "start_time": "2024-04-06T07:59:40.409Z"
   },
   {
    "duration": 0,
    "start_time": "2024-04-06T07:59:40.410Z"
   },
   {
    "duration": 0,
    "start_time": "2024-04-06T07:59:40.411Z"
   },
   {
    "duration": 0,
    "start_time": "2024-04-06T07:59:40.412Z"
   },
   {
    "duration": 0,
    "start_time": "2024-04-06T07:59:40.413Z"
   },
   {
    "duration": 0,
    "start_time": "2024-04-06T07:59:40.414Z"
   },
   {
    "duration": 0,
    "start_time": "2024-04-06T07:59:40.415Z"
   },
   {
    "duration": 0,
    "start_time": "2024-04-06T07:59:40.416Z"
   },
   {
    "duration": 1535,
    "start_time": "2024-04-06T08:01:45.044Z"
   },
   {
    "duration": 388,
    "start_time": "2024-04-06T08:01:46.581Z"
   },
   {
    "duration": 116,
    "start_time": "2024-04-06T08:01:46.971Z"
   },
   {
    "duration": 472,
    "start_time": "2024-04-06T08:01:47.090Z"
   },
   {
    "duration": 256,
    "start_time": "2024-04-06T08:01:47.564Z"
   },
   {
    "duration": 141,
    "start_time": "2024-04-06T08:01:47.822Z"
   },
   {
    "duration": 273,
    "start_time": "2024-04-06T08:01:47.965Z"
   },
   {
    "duration": 133,
    "start_time": "2024-04-06T08:01:48.240Z"
   },
   {
    "duration": 30,
    "start_time": "2024-04-06T08:01:48.375Z"
   },
   {
    "duration": 109,
    "start_time": "2024-04-06T08:01:48.407Z"
   },
   {
    "duration": 255,
    "start_time": "2024-04-06T08:01:48.518Z"
   },
   {
    "duration": 4,
    "start_time": "2024-04-06T08:01:48.774Z"
   },
   {
    "duration": 338,
    "start_time": "2024-04-06T08:01:48.779Z"
   },
   {
    "duration": 5,
    "start_time": "2024-04-06T08:01:49.119Z"
   },
   {
    "duration": 18,
    "start_time": "2024-04-06T08:01:49.125Z"
   },
   {
    "duration": 63,
    "start_time": "2024-04-06T08:01:49.144Z"
   },
   {
    "duration": 17,
    "start_time": "2024-04-06T08:01:49.208Z"
   },
   {
    "duration": 3,
    "start_time": "2024-04-06T08:01:49.227Z"
   },
   {
    "duration": 2428,
    "start_time": "2024-04-06T08:01:49.232Z"
   },
   {
    "duration": 2314,
    "start_time": "2024-04-06T08:01:51.661Z"
   },
   {
    "duration": 2385,
    "start_time": "2024-04-06T08:01:53.977Z"
   },
   {
    "duration": 222,
    "start_time": "2024-04-06T08:01:56.363Z"
   },
   {
    "duration": 222,
    "start_time": "2024-04-06T08:01:56.588Z"
   },
   {
    "duration": 167,
    "start_time": "2024-04-06T08:01:56.812Z"
   },
   {
    "duration": 0,
    "start_time": "2024-04-06T08:01:56.982Z"
   },
   {
    "duration": 0,
    "start_time": "2024-04-06T08:01:56.984Z"
   },
   {
    "duration": 0,
    "start_time": "2024-04-06T08:01:56.986Z"
   },
   {
    "duration": 0,
    "start_time": "2024-04-06T08:01:56.987Z"
   },
   {
    "duration": 0,
    "start_time": "2024-04-06T08:01:56.989Z"
   },
   {
    "duration": 0,
    "start_time": "2024-04-06T08:01:56.990Z"
   },
   {
    "duration": 0,
    "start_time": "2024-04-06T08:01:56.992Z"
   },
   {
    "duration": 0,
    "start_time": "2024-04-06T08:01:56.993Z"
   },
   {
    "duration": 0,
    "start_time": "2024-04-06T08:01:56.994Z"
   },
   {
    "duration": 26,
    "start_time": "2024-04-06T08:04:03.797Z"
   },
   {
    "duration": 1513,
    "start_time": "2024-04-06T08:04:10.785Z"
   },
   {
    "duration": 382,
    "start_time": "2024-04-06T08:04:12.300Z"
   },
   {
    "duration": 105,
    "start_time": "2024-04-06T08:04:12.684Z"
   },
   {
    "duration": 488,
    "start_time": "2024-04-06T08:04:12.791Z"
   },
   {
    "duration": 267,
    "start_time": "2024-04-06T08:04:13.281Z"
   },
   {
    "duration": 141,
    "start_time": "2024-04-06T08:04:13.550Z"
   },
   {
    "duration": 269,
    "start_time": "2024-04-06T08:04:13.693Z"
   },
   {
    "duration": 133,
    "start_time": "2024-04-06T08:04:13.963Z"
   },
   {
    "duration": 38,
    "start_time": "2024-04-06T08:04:14.098Z"
   },
   {
    "duration": 121,
    "start_time": "2024-04-06T08:04:14.139Z"
   },
   {
    "duration": 246,
    "start_time": "2024-04-06T08:04:14.262Z"
   },
   {
    "duration": 4,
    "start_time": "2024-04-06T08:04:14.510Z"
   },
   {
    "duration": 333,
    "start_time": "2024-04-06T08:04:14.515Z"
   },
   {
    "duration": 4,
    "start_time": "2024-04-06T08:04:14.850Z"
   },
   {
    "duration": 32,
    "start_time": "2024-04-06T08:04:14.856Z"
   },
   {
    "duration": 53,
    "start_time": "2024-04-06T08:04:14.890Z"
   },
   {
    "duration": 19,
    "start_time": "2024-04-06T08:04:14.944Z"
   },
   {
    "duration": 4,
    "start_time": "2024-04-06T08:04:14.965Z"
   },
   {
    "duration": 2453,
    "start_time": "2024-04-06T08:04:14.972Z"
   },
   {
    "duration": 2216,
    "start_time": "2024-04-06T08:04:17.427Z"
   },
   {
    "duration": 2315,
    "start_time": "2024-04-06T08:04:19.645Z"
   },
   {
    "duration": 237,
    "start_time": "2024-04-06T08:04:21.961Z"
   },
   {
    "duration": 218,
    "start_time": "2024-04-06T08:04:22.199Z"
   },
   {
    "duration": 33,
    "start_time": "2024-04-06T08:04:22.419Z"
   },
   {
    "duration": 19,
    "start_time": "2024-04-06T08:04:22.454Z"
   },
   {
    "duration": 13,
    "start_time": "2024-04-06T08:04:22.475Z"
   },
   {
    "duration": 142,
    "start_time": "2024-04-06T08:04:22.490Z"
   },
   {
    "duration": 0,
    "start_time": "2024-04-06T08:04:22.633Z"
   },
   {
    "duration": 0,
    "start_time": "2024-04-06T08:04:22.634Z"
   },
   {
    "duration": 0,
    "start_time": "2024-04-06T08:04:22.636Z"
   },
   {
    "duration": 0,
    "start_time": "2024-04-06T08:04:22.638Z"
   },
   {
    "duration": 0,
    "start_time": "2024-04-06T08:04:22.638Z"
   },
   {
    "duration": 0,
    "start_time": "2024-04-06T08:04:22.639Z"
   },
   {
    "duration": 1561,
    "start_time": "2024-04-06T08:05:04.452Z"
   },
   {
    "duration": 393,
    "start_time": "2024-04-06T08:05:06.015Z"
   },
   {
    "duration": 116,
    "start_time": "2024-04-06T08:05:06.409Z"
   },
   {
    "duration": 467,
    "start_time": "2024-04-06T08:05:06.527Z"
   },
   {
    "duration": 266,
    "start_time": "2024-04-06T08:05:06.997Z"
   },
   {
    "duration": 138,
    "start_time": "2024-04-06T08:05:07.272Z"
   },
   {
    "duration": 267,
    "start_time": "2024-04-06T08:05:07.411Z"
   },
   {
    "duration": 133,
    "start_time": "2024-04-06T08:05:07.680Z"
   },
   {
    "duration": 40,
    "start_time": "2024-04-06T08:05:07.815Z"
   },
   {
    "duration": 110,
    "start_time": "2024-04-06T08:05:07.856Z"
   },
   {
    "duration": 256,
    "start_time": "2024-04-06T08:05:07.968Z"
   },
   {
    "duration": 4,
    "start_time": "2024-04-06T08:05:08.225Z"
   },
   {
    "duration": 337,
    "start_time": "2024-04-06T08:05:08.230Z"
   },
   {
    "duration": 5,
    "start_time": "2024-04-06T08:05:08.572Z"
   },
   {
    "duration": 29,
    "start_time": "2024-04-06T08:05:08.578Z"
   },
   {
    "duration": 58,
    "start_time": "2024-04-06T08:05:08.609Z"
   },
   {
    "duration": 19,
    "start_time": "2024-04-06T08:05:08.669Z"
   },
   {
    "duration": 4,
    "start_time": "2024-04-06T08:05:08.689Z"
   },
   {
    "duration": 2407,
    "start_time": "2024-04-06T08:05:08.694Z"
   },
   {
    "duration": 2251,
    "start_time": "2024-04-06T08:05:11.103Z"
   },
   {
    "duration": 2339,
    "start_time": "2024-04-06T08:05:13.356Z"
   },
   {
    "duration": 229,
    "start_time": "2024-04-06T08:05:15.696Z"
   },
   {
    "duration": 219,
    "start_time": "2024-04-06T08:05:15.927Z"
   },
   {
    "duration": 49,
    "start_time": "2024-04-06T08:05:16.148Z"
   },
   {
    "duration": 4,
    "start_time": "2024-04-06T08:05:16.199Z"
   },
   {
    "duration": 12,
    "start_time": "2024-04-06T08:05:16.205Z"
   },
   {
    "duration": 142,
    "start_time": "2024-04-06T08:05:16.219Z"
   },
   {
    "duration": 0,
    "start_time": "2024-04-06T08:05:16.363Z"
   },
   {
    "duration": 0,
    "start_time": "2024-04-06T08:05:16.363Z"
   },
   {
    "duration": 0,
    "start_time": "2024-04-06T08:05:16.365Z"
   },
   {
    "duration": 0,
    "start_time": "2024-04-06T08:05:16.365Z"
   },
   {
    "duration": 0,
    "start_time": "2024-04-06T08:05:16.366Z"
   },
   {
    "duration": 6,
    "start_time": "2024-04-06T08:05:30.022Z"
   },
   {
    "duration": 4,
    "start_time": "2024-04-06T08:05:31.280Z"
   },
   {
    "duration": 4,
    "start_time": "2024-04-06T08:05:32.105Z"
   },
   {
    "duration": 9,
    "start_time": "2024-04-06T08:05:38.150Z"
   },
   {
    "duration": 1459,
    "start_time": "2024-04-06T08:05:39.516Z"
   },
   {
    "duration": 3,
    "start_time": "2024-04-06T08:06:16.510Z"
   },
   {
    "duration": 1525,
    "start_time": "2024-04-06T08:06:33.387Z"
   },
   {
    "duration": 385,
    "start_time": "2024-04-06T08:06:34.914Z"
   },
   {
    "duration": 100,
    "start_time": "2024-04-06T08:06:35.302Z"
   },
   {
    "duration": 483,
    "start_time": "2024-04-06T08:06:35.406Z"
   },
   {
    "duration": 271,
    "start_time": "2024-04-06T08:06:35.891Z"
   },
   {
    "duration": 156,
    "start_time": "2024-04-06T08:06:36.164Z"
   },
   {
    "duration": 273,
    "start_time": "2024-04-06T08:06:36.321Z"
   },
   {
    "duration": 132,
    "start_time": "2024-04-06T08:06:36.596Z"
   },
   {
    "duration": 30,
    "start_time": "2024-04-06T08:06:36.730Z"
   },
   {
    "duration": 107,
    "start_time": "2024-04-06T08:06:36.772Z"
   },
   {
    "duration": 254,
    "start_time": "2024-04-06T08:06:36.881Z"
   },
   {
    "duration": 3,
    "start_time": "2024-04-06T08:06:37.137Z"
   },
   {
    "duration": 341,
    "start_time": "2024-04-06T08:06:37.141Z"
   },
   {
    "duration": 5,
    "start_time": "2024-04-06T08:06:37.483Z"
   },
   {
    "duration": 7,
    "start_time": "2024-04-06T08:06:37.490Z"
   },
   {
    "duration": 57,
    "start_time": "2024-04-06T08:06:37.499Z"
   },
   {
    "duration": 29,
    "start_time": "2024-04-06T08:06:37.558Z"
   },
   {
    "duration": 4,
    "start_time": "2024-04-06T08:06:37.588Z"
   },
   {
    "duration": 2481,
    "start_time": "2024-04-06T08:06:37.594Z"
   },
   {
    "duration": 2299,
    "start_time": "2024-04-06T08:06:40.077Z"
   },
   {
    "duration": 2558,
    "start_time": "2024-04-06T08:06:42.377Z"
   },
   {
    "duration": 226,
    "start_time": "2024-04-06T08:06:44.937Z"
   },
   {
    "duration": 215,
    "start_time": "2024-04-06T08:06:45.164Z"
   },
   {
    "duration": 34,
    "start_time": "2024-04-06T08:06:45.381Z"
   },
   {
    "duration": 13,
    "start_time": "2024-04-06T08:06:45.417Z"
   },
   {
    "duration": 51,
    "start_time": "2024-04-06T08:06:45.432Z"
   },
   {
    "duration": 29,
    "start_time": "2024-04-06T08:06:45.485Z"
   },
   {
    "duration": 14,
    "start_time": "2024-04-06T08:06:45.517Z"
   },
   {
    "duration": 15,
    "start_time": "2024-04-06T08:06:45.533Z"
   },
   {
    "duration": 16,
    "start_time": "2024-04-06T08:06:45.550Z"
   },
   {
    "duration": 1407,
    "start_time": "2024-04-06T08:06:45.568Z"
   },
   {
    "duration": 2851,
    "start_time": "2024-04-06T16:51:42.299Z"
   },
   {
    "duration": 1459,
    "start_time": "2024-04-06T16:51:45.152Z"
   },
   {
    "duration": 357,
    "start_time": "2024-04-06T16:51:46.613Z"
   },
   {
    "duration": 1828,
    "start_time": "2024-04-06T16:51:46.972Z"
   },
   {
    "duration": 247,
    "start_time": "2024-04-06T16:51:48.802Z"
   },
   {
    "duration": 138,
    "start_time": "2024-04-06T16:51:49.051Z"
   },
   {
    "duration": 262,
    "start_time": "2024-04-06T16:51:49.191Z"
   },
   {
    "duration": 126,
    "start_time": "2024-04-06T16:51:49.454Z"
   },
   {
    "duration": 37,
    "start_time": "2024-04-06T16:51:49.581Z"
   },
   {
    "duration": 112,
    "start_time": "2024-04-06T16:51:49.620Z"
   },
   {
    "duration": 243,
    "start_time": "2024-04-06T16:51:49.733Z"
   },
   {
    "duration": 9,
    "start_time": "2024-04-06T16:51:49.978Z"
   },
   {
    "duration": 373,
    "start_time": "2024-04-06T16:51:49.989Z"
   },
   {
    "duration": 5,
    "start_time": "2024-04-06T16:51:50.364Z"
   },
   {
    "duration": 20,
    "start_time": "2024-04-06T16:51:50.370Z"
   },
   {
    "duration": 55,
    "start_time": "2024-04-06T16:51:50.391Z"
   },
   {
    "duration": 15,
    "start_time": "2024-04-06T16:51:50.448Z"
   },
   {
    "duration": 3,
    "start_time": "2024-04-06T16:51:50.465Z"
   },
   {
    "duration": 2307,
    "start_time": "2024-04-06T16:51:50.470Z"
   },
   {
    "duration": 2210,
    "start_time": "2024-04-06T16:51:52.778Z"
   },
   {
    "duration": 2190,
    "start_time": "2024-04-06T16:51:54.990Z"
   },
   {
    "duration": 221,
    "start_time": "2024-04-06T16:51:57.181Z"
   },
   {
    "duration": 223,
    "start_time": "2024-04-06T16:51:57.403Z"
   },
   {
    "duration": 33,
    "start_time": "2024-04-06T16:51:57.627Z"
   },
   {
    "duration": 5,
    "start_time": "2024-04-06T16:51:57.662Z"
   },
   {
    "duration": 4,
    "start_time": "2024-04-06T16:51:57.687Z"
   },
   {
    "duration": 9,
    "start_time": "2024-04-06T16:51:57.692Z"
   },
   {
    "duration": 7,
    "start_time": "2024-04-06T16:51:57.702Z"
   },
   {
    "duration": 6,
    "start_time": "2024-04-06T16:51:57.710Z"
   },
   {
    "duration": 9,
    "start_time": "2024-04-06T16:51:57.718Z"
   },
   {
    "duration": 14,
    "start_time": "2024-04-06T16:51:57.729Z"
   },
   {
    "duration": 1500,
    "start_time": "2024-04-07T07:11:34.890Z"
   },
   {
    "duration": 492,
    "start_time": "2024-04-07T07:11:36.392Z"
   },
   {
    "duration": 147,
    "start_time": "2024-04-07T07:11:36.885Z"
   },
   {
    "duration": 574,
    "start_time": "2024-04-07T07:11:37.034Z"
   },
   {
    "duration": 215,
    "start_time": "2024-04-07T07:11:37.610Z"
   },
   {
    "duration": 120,
    "start_time": "2024-04-07T07:11:37.827Z"
   },
   {
    "duration": 223,
    "start_time": "2024-04-07T07:11:37.948Z"
   },
   {
    "duration": 114,
    "start_time": "2024-04-07T07:11:38.173Z"
   },
   {
    "duration": 25,
    "start_time": "2024-04-07T07:11:38.288Z"
   },
   {
    "duration": 108,
    "start_time": "2024-04-07T07:11:38.316Z"
   },
   {
    "duration": 215,
    "start_time": "2024-04-07T07:11:38.425Z"
   },
   {
    "duration": 3,
    "start_time": "2024-04-07T07:11:38.641Z"
   },
   {
    "duration": 324,
    "start_time": "2024-04-07T07:11:38.645Z"
   },
   {
    "duration": 6,
    "start_time": "2024-04-07T07:11:38.971Z"
   },
   {
    "duration": 10,
    "start_time": "2024-04-07T07:11:38.978Z"
   },
   {
    "duration": 54,
    "start_time": "2024-04-07T07:11:38.989Z"
   },
   {
    "duration": 21,
    "start_time": "2024-04-07T07:11:39.045Z"
   },
   {
    "duration": 4,
    "start_time": "2024-04-07T07:11:39.067Z"
   },
   {
    "duration": 2109,
    "start_time": "2024-04-07T07:11:39.072Z"
   },
   {
    "duration": 1939,
    "start_time": "2024-04-07T07:11:41.183Z"
   },
   {
    "duration": 1918,
    "start_time": "2024-04-07T07:11:43.124Z"
   },
   {
    "duration": 209,
    "start_time": "2024-04-07T07:11:45.043Z"
   },
   {
    "duration": 202,
    "start_time": "2024-04-07T07:11:45.254Z"
   },
   {
    "duration": 33,
    "start_time": "2024-04-07T07:11:45.457Z"
   },
   {
    "duration": 4,
    "start_time": "2024-04-07T07:11:45.492Z"
   },
   {
    "duration": 12,
    "start_time": "2024-04-07T07:11:45.497Z"
   },
   {
    "duration": 21,
    "start_time": "2024-04-07T07:11:45.510Z"
   },
   {
    "duration": 10,
    "start_time": "2024-04-07T07:11:45.534Z"
   },
   {
    "duration": 29,
    "start_time": "2024-04-07T07:11:45.545Z"
   },
   {
    "duration": 22,
    "start_time": "2024-04-07T07:11:45.576Z"
   },
   {
    "duration": 1272,
    "start_time": "2024-04-07T07:11:45.599Z"
   },
   {
    "duration": 1344,
    "start_time": "2024-04-07T07:12:24.729Z"
   },
   {
    "duration": 332,
    "start_time": "2024-04-07T07:12:26.075Z"
   },
   {
    "duration": 85,
    "start_time": "2024-04-07T07:12:26.409Z"
   },
   {
    "duration": 406,
    "start_time": "2024-04-07T07:12:26.496Z"
   },
   {
    "duration": 228,
    "start_time": "2024-04-07T07:12:26.904Z"
   },
   {
    "duration": 123,
    "start_time": "2024-04-07T07:12:27.133Z"
   },
   {
    "duration": 250,
    "start_time": "2024-04-07T07:12:27.257Z"
   },
   {
    "duration": 122,
    "start_time": "2024-04-07T07:12:27.508Z"
   },
   {
    "duration": 34,
    "start_time": "2024-04-07T07:12:27.632Z"
   },
   {
    "duration": 86,
    "start_time": "2024-04-07T07:12:27.669Z"
   },
   {
    "duration": 203,
    "start_time": "2024-04-07T07:12:27.765Z"
   },
   {
    "duration": 4,
    "start_time": "2024-04-07T07:12:27.969Z"
   },
   {
    "duration": 288,
    "start_time": "2024-04-07T07:12:27.974Z"
   },
   {
    "duration": 5,
    "start_time": "2024-04-07T07:12:28.263Z"
   },
   {
    "duration": 18,
    "start_time": "2024-04-07T07:12:28.269Z"
   },
   {
    "duration": 69,
    "start_time": "2024-04-07T07:12:28.288Z"
   },
   {
    "duration": 14,
    "start_time": "2024-04-07T07:12:28.359Z"
   },
   {
    "duration": 3,
    "start_time": "2024-04-07T07:12:28.375Z"
   },
   {
    "duration": 2187,
    "start_time": "2024-04-07T07:12:28.379Z"
   },
   {
    "duration": 1984,
    "start_time": "2024-04-07T07:12:30.567Z"
   },
   {
    "duration": 1957,
    "start_time": "2024-04-07T07:12:32.553Z"
   },
   {
    "duration": 206,
    "start_time": "2024-04-07T07:12:34.511Z"
   },
   {
    "duration": 185,
    "start_time": "2024-04-07T07:12:34.719Z"
   },
   {
    "duration": 28,
    "start_time": "2024-04-07T07:12:34.905Z"
   },
   {
    "duration": 4,
    "start_time": "2024-04-07T07:12:34.935Z"
   },
   {
    "duration": 25,
    "start_time": "2024-04-07T07:12:34.940Z"
   },
   {
    "duration": 14,
    "start_time": "2024-04-07T07:12:34.966Z"
   },
   {
    "duration": 3,
    "start_time": "2024-04-07T07:12:34.983Z"
   },
   {
    "duration": 5,
    "start_time": "2024-04-07T07:12:34.987Z"
   },
   {
    "duration": 10,
    "start_time": "2024-04-07T07:12:34.993Z"
   },
   {
    "duration": 1462,
    "start_time": "2024-04-07T07:12:35.005Z"
   },
   {
    "duration": 12280,
    "start_time": "2024-04-07T07:18:33.161Z"
   },
   {
    "duration": 13302,
    "start_time": "2024-04-07T07:19:17.586Z"
   },
   {
    "duration": 13092,
    "start_time": "2024-04-07T07:19:43.436Z"
   },
   {
    "duration": 49,
    "start_time": "2024-04-07T18:55:23.440Z"
   },
   {
    "duration": 1722,
    "start_time": "2024-04-07T18:55:29.464Z"
   },
   {
    "duration": 1424,
    "start_time": "2024-04-07T18:55:31.188Z"
   },
   {
    "duration": 355,
    "start_time": "2024-04-07T18:55:32.613Z"
   },
   {
    "duration": 1793,
    "start_time": "2024-04-07T18:55:32.970Z"
   },
   {
    "duration": 222,
    "start_time": "2024-04-07T18:55:34.766Z"
   },
   {
    "duration": 132,
    "start_time": "2024-04-07T18:55:34.989Z"
   },
   {
    "duration": 269,
    "start_time": "2024-04-07T18:55:35.123Z"
   },
   {
    "duration": 124,
    "start_time": "2024-04-07T18:55:35.394Z"
   },
   {
    "duration": 30,
    "start_time": "2024-04-07T18:55:35.519Z"
   },
   {
    "duration": 114,
    "start_time": "2024-04-07T18:55:35.551Z"
   },
   {
    "duration": 237,
    "start_time": "2024-04-07T18:55:35.667Z"
   },
   {
    "duration": 4,
    "start_time": "2024-04-07T18:55:35.905Z"
   },
   {
    "duration": 317,
    "start_time": "2024-04-07T18:55:35.910Z"
   },
   {
    "duration": 5,
    "start_time": "2024-04-07T18:55:36.230Z"
   },
   {
    "duration": 6,
    "start_time": "2024-04-07T18:55:36.237Z"
   },
   {
    "duration": 66,
    "start_time": "2024-04-07T18:55:36.244Z"
   },
   {
    "duration": 16,
    "start_time": "2024-04-07T18:55:36.312Z"
   },
   {
    "duration": 4,
    "start_time": "2024-04-07T18:55:36.330Z"
   },
   {
    "duration": 2352,
    "start_time": "2024-04-07T18:55:36.335Z"
   },
   {
    "duration": 2106,
    "start_time": "2024-04-07T18:55:38.688Z"
   },
   {
    "duration": 2229,
    "start_time": "2024-04-07T18:55:40.795Z"
   },
   {
    "duration": 208,
    "start_time": "2024-04-07T18:55:43.026Z"
   },
   {
    "duration": 211,
    "start_time": "2024-04-07T18:55:43.236Z"
   },
   {
    "duration": 30,
    "start_time": "2024-04-07T18:55:43.449Z"
   },
   {
    "duration": 6,
    "start_time": "2024-04-07T18:55:43.492Z"
   },
   {
    "duration": 8,
    "start_time": "2024-04-07T18:55:43.499Z"
   },
   {
    "duration": 10,
    "start_time": "2024-04-07T18:55:43.509Z"
   },
   {
    "duration": 6,
    "start_time": "2024-04-07T18:55:43.520Z"
   },
   {
    "duration": 13,
    "start_time": "2024-04-07T18:55:43.527Z"
   },
   {
    "duration": 12,
    "start_time": "2024-04-07T18:55:43.542Z"
   },
   {
    "duration": 1640,
    "start_time": "2024-04-07T18:55:43.556Z"
   },
   {
    "duration": 13613,
    "start_time": "2024-04-07T18:55:45.200Z"
   },
   {
    "duration": 36125,
    "start_time": "2024-04-07T18:57:08.517Z"
   },
   {
    "duration": 1483,
    "start_time": "2024-04-07T19:00:09.810Z"
   },
   {
    "duration": 35994,
    "start_time": "2024-04-07T19:00:13.586Z"
   },
   {
    "duration": 110,
    "start_time": "2024-04-07T19:01:48.834Z"
   },
   {
    "duration": 5,
    "start_time": "2024-04-07T19:02:46.129Z"
   },
   {
    "duration": 3,
    "start_time": "2024-04-07T19:02:56.083Z"
   },
   {
    "duration": 27,
    "start_time": "2024-04-07T19:03:26.114Z"
   },
   {
    "duration": 96,
    "start_time": "2024-04-07T19:03:56.819Z"
   },
   {
    "duration": 101,
    "start_time": "2024-04-07T19:04:01.596Z"
   },
   {
    "duration": 25,
    "start_time": "2024-04-07T19:05:10.092Z"
   },
   {
    "duration": 24,
    "start_time": "2024-04-07T19:05:19.233Z"
   },
   {
    "duration": 22,
    "start_time": "2024-04-07T19:05:25.480Z"
   },
   {
    "duration": 25,
    "start_time": "2024-04-07T19:05:47.618Z"
   },
   {
    "duration": 21,
    "start_time": "2024-04-07T19:05:56.854Z"
   },
   {
    "duration": 24,
    "start_time": "2024-04-07T19:11:44.878Z"
   },
   {
    "duration": 33,
    "start_time": "2024-04-07T19:13:04.136Z"
   },
   {
    "duration": 114,
    "start_time": "2024-04-07T19:14:24.960Z"
   },
   {
    "duration": 104,
    "start_time": "2024-04-07T19:14:56.604Z"
   },
   {
    "duration": 10,
    "start_time": "2024-04-07T19:25:17.307Z"
   },
   {
    "duration": 5,
    "start_time": "2024-04-07T19:27:13.926Z"
   },
   {
    "duration": 1543,
    "start_time": "2024-04-07T19:33:06.759Z"
   },
   {
    "duration": 369,
    "start_time": "2024-04-07T19:33:08.304Z"
   },
   {
    "duration": 94,
    "start_time": "2024-04-07T19:33:08.675Z"
   },
   {
    "duration": 472,
    "start_time": "2024-04-07T19:33:08.771Z"
   },
   {
    "duration": 261,
    "start_time": "2024-04-07T19:33:09.245Z"
   },
   {
    "duration": 144,
    "start_time": "2024-04-07T19:33:09.507Z"
   },
   {
    "duration": 283,
    "start_time": "2024-04-07T19:33:09.653Z"
   },
   {
    "duration": 135,
    "start_time": "2024-04-07T19:33:09.938Z"
   },
   {
    "duration": 42,
    "start_time": "2024-04-07T19:33:10.074Z"
   },
   {
    "duration": 105,
    "start_time": "2024-04-07T19:33:10.118Z"
   },
   {
    "duration": 239,
    "start_time": "2024-04-07T19:33:10.225Z"
   },
   {
    "duration": 3,
    "start_time": "2024-04-07T19:33:10.466Z"
   },
   {
    "duration": 328,
    "start_time": "2024-04-07T19:33:10.471Z"
   },
   {
    "duration": 5,
    "start_time": "2024-04-07T19:33:10.802Z"
   },
   {
    "duration": 7,
    "start_time": "2024-04-07T19:33:10.808Z"
   },
   {
    "duration": 60,
    "start_time": "2024-04-07T19:33:10.816Z"
   },
   {
    "duration": 42,
    "start_time": "2024-04-07T19:33:10.877Z"
   },
   {
    "duration": 4,
    "start_time": "2024-04-07T19:33:10.921Z"
   },
   {
    "duration": 2396,
    "start_time": "2024-04-07T19:33:10.927Z"
   },
   {
    "duration": 2241,
    "start_time": "2024-04-07T19:33:13.325Z"
   },
   {
    "duration": 2376,
    "start_time": "2024-04-07T19:33:15.568Z"
   },
   {
    "duration": 239,
    "start_time": "2024-04-07T19:33:17.946Z"
   },
   {
    "duration": 217,
    "start_time": "2024-04-07T19:33:18.191Z"
   },
   {
    "duration": 33,
    "start_time": "2024-04-07T19:33:18.409Z"
   },
   {
    "duration": 5,
    "start_time": "2024-04-07T19:33:18.443Z"
   },
   {
    "duration": 10,
    "start_time": "2024-04-07T19:33:18.449Z"
   },
   {
    "duration": 6,
    "start_time": "2024-04-07T19:33:18.460Z"
   },
   {
    "duration": 25,
    "start_time": "2024-04-07T19:33:18.468Z"
   },
   {
    "duration": 4,
    "start_time": "2024-04-07T19:33:18.495Z"
   },
   {
    "duration": 25,
    "start_time": "2024-04-07T19:33:18.501Z"
   },
   {
    "duration": 1572,
    "start_time": "2024-04-07T19:33:18.527Z"
   },
   {
    "duration": 37737,
    "start_time": "2024-04-07T19:33:20.101Z"
   },
   {
    "duration": 0,
    "start_time": "2024-04-07T19:38:43.300Z"
   },
   {
    "duration": 0,
    "start_time": "2024-04-07T19:38:43.301Z"
   },
   {
    "duration": 1483,
    "start_time": "2024-04-07T19:43:48.740Z"
   },
   {
    "duration": 392,
    "start_time": "2024-04-07T19:43:50.225Z"
   },
   {
    "duration": 101,
    "start_time": "2024-04-07T19:43:50.619Z"
   },
   {
    "duration": 476,
    "start_time": "2024-04-07T19:43:50.722Z"
   },
   {
    "duration": 259,
    "start_time": "2024-04-07T19:43:51.199Z"
   },
   {
    "duration": 145,
    "start_time": "2024-04-07T19:43:51.460Z"
   },
   {
    "duration": 268,
    "start_time": "2024-04-07T19:43:51.607Z"
   },
   {
    "duration": 139,
    "start_time": "2024-04-07T19:43:51.876Z"
   },
   {
    "duration": 32,
    "start_time": "2024-04-07T19:43:52.016Z"
   },
   {
    "duration": 121,
    "start_time": "2024-04-07T19:43:52.051Z"
   },
   {
    "duration": 244,
    "start_time": "2024-04-07T19:43:52.174Z"
   },
   {
    "duration": 3,
    "start_time": "2024-04-07T19:43:52.420Z"
   },
   {
    "duration": 333,
    "start_time": "2024-04-07T19:43:52.424Z"
   },
   {
    "duration": 4,
    "start_time": "2024-04-07T19:43:52.759Z"
   },
   {
    "duration": 7,
    "start_time": "2024-04-07T19:43:52.765Z"
   },
   {
    "duration": 68,
    "start_time": "2024-04-07T19:43:52.774Z"
   },
   {
    "duration": 17,
    "start_time": "2024-04-07T19:43:52.843Z"
   },
   {
    "duration": 4,
    "start_time": "2024-04-07T19:43:52.862Z"
   },
   {
    "duration": 2432,
    "start_time": "2024-04-07T19:43:52.867Z"
   },
   {
    "duration": 2246,
    "start_time": "2024-04-07T19:43:55.300Z"
   },
   {
    "duration": 2333,
    "start_time": "2024-04-07T19:43:57.548Z"
   },
   {
    "duration": 241,
    "start_time": "2024-04-07T19:43:59.883Z"
   },
   {
    "duration": 219,
    "start_time": "2024-04-07T19:44:00.125Z"
   },
   {
    "duration": 48,
    "start_time": "2024-04-07T19:44:00.346Z"
   },
   {
    "duration": 317,
    "start_time": "2024-04-07T19:44:00.395Z"
   },
   {
    "duration": 100,
    "start_time": "2024-04-07T19:44:00.714Z"
   },
   {
    "duration": 35,
    "start_time": "2024-04-07T19:44:00.816Z"
   },
   {
    "duration": 55,
    "start_time": "2024-04-07T19:44:00.854Z"
   },
   {
    "duration": 76,
    "start_time": "2024-04-07T19:44:00.911Z"
   },
   {
    "duration": 228,
    "start_time": "2024-04-07T19:44:00.988Z"
   },
   {
    "duration": 1575,
    "start_time": "2024-04-07T19:44:01.217Z"
   },
   {
    "duration": 38666,
    "start_time": "2024-04-07T19:44:02.795Z"
   },
   {
    "duration": 106,
    "start_time": "2024-04-07T19:44:41.462Z"
   },
   {
    "duration": 1156,
    "start_time": "2024-04-08T10:54:42.911Z"
   },
   {
    "duration": 1338,
    "start_time": "2024-04-08T10:54:44.069Z"
   },
   {
    "duration": 325,
    "start_time": "2024-04-08T10:54:45.409Z"
   },
   {
    "duration": 1670,
    "start_time": "2024-04-08T10:54:45.736Z"
   },
   {
    "duration": 207,
    "start_time": "2024-04-08T10:54:47.408Z"
   },
   {
    "duration": 111,
    "start_time": "2024-04-08T10:54:47.616Z"
   },
   {
    "duration": 207,
    "start_time": "2024-04-08T10:54:47.728Z"
   },
   {
    "duration": 109,
    "start_time": "2024-04-08T10:54:47.936Z"
   },
   {
    "duration": 23,
    "start_time": "2024-04-08T10:54:48.046Z"
   },
   {
    "duration": 86,
    "start_time": "2024-04-08T10:54:48.070Z"
   },
   {
    "duration": 189,
    "start_time": "2024-04-08T10:54:48.157Z"
   },
   {
    "duration": 3,
    "start_time": "2024-04-08T10:54:48.347Z"
   },
   {
    "duration": 291,
    "start_time": "2024-04-08T10:54:48.351Z"
   },
   {
    "duration": 4,
    "start_time": "2024-04-08T10:54:48.645Z"
   },
   {
    "duration": 23,
    "start_time": "2024-04-08T10:54:48.651Z"
   },
   {
    "duration": 45,
    "start_time": "2024-04-08T10:54:48.676Z"
   },
   {
    "duration": 14,
    "start_time": "2024-04-08T10:54:48.723Z"
   },
   {
    "duration": 9,
    "start_time": "2024-04-08T10:54:48.738Z"
   },
   {
    "duration": 2035,
    "start_time": "2024-04-08T10:54:48.748Z"
   },
   {
    "duration": 1822,
    "start_time": "2024-04-08T10:54:50.784Z"
   },
   {
    "duration": 1827,
    "start_time": "2024-04-08T10:54:52.608Z"
   },
   {
    "duration": 168,
    "start_time": "2024-04-08T10:54:54.436Z"
   },
   {
    "duration": 168,
    "start_time": "2024-04-08T10:54:54.605Z"
   },
   {
    "duration": 33,
    "start_time": "2024-04-08T10:54:54.774Z"
   },
   {
    "duration": 8,
    "start_time": "2024-04-08T10:54:54.808Z"
   },
   {
    "duration": 38,
    "start_time": "2024-04-08T10:54:54.817Z"
   },
   {
    "duration": 39,
    "start_time": "2024-04-08T10:54:54.856Z"
   },
   {
    "duration": 46,
    "start_time": "2024-04-08T10:54:54.896Z"
   },
   {
    "duration": 12,
    "start_time": "2024-04-08T10:54:54.943Z"
   },
   {
    "duration": 29,
    "start_time": "2024-04-08T10:54:54.957Z"
   },
   {
    "duration": 1308,
    "start_time": "2024-04-08T10:54:54.987Z"
   },
   {
    "duration": 30767,
    "start_time": "2024-04-08T10:54:56.296Z"
   },
   {
    "duration": 4,
    "start_time": "2024-04-08T10:55:57.545Z"
   },
   {
    "duration": 84,
    "start_time": "2024-04-08T10:56:07.578Z"
   },
   {
    "duration": 3,
    "start_time": "2024-04-08T10:56:15.646Z"
   },
   {
    "duration": 33,
    "start_time": "2024-04-08T10:57:02.412Z"
   },
   {
    "duration": 8,
    "start_time": "2024-04-08T10:58:18.675Z"
   },
   {
    "duration": 24,
    "start_time": "2024-04-08T10:59:04.621Z"
   },
   {
    "duration": 22,
    "start_time": "2024-04-08T11:00:52.163Z"
   },
   {
    "duration": 9,
    "start_time": "2024-04-08T11:01:58.977Z"
   },
   {
    "duration": 8,
    "start_time": "2024-04-08T11:02:43.004Z"
   },
   {
    "duration": 96,
    "start_time": "2024-04-08T11:02:58.448Z"
   },
   {
    "duration": 15,
    "start_time": "2024-04-08T11:03:19.330Z"
   },
   {
    "duration": 9,
    "start_time": "2024-04-08T11:03:20.674Z"
   },
   {
    "duration": 15,
    "start_time": "2024-04-08T11:03:29.367Z"
   },
   {
    "duration": 9,
    "start_time": "2024-04-08T11:03:29.941Z"
   },
   {
    "duration": 12,
    "start_time": "2024-04-08T11:04:04.861Z"
   },
   {
    "duration": 16,
    "start_time": "2024-04-08T11:04:50.862Z"
   },
   {
    "duration": 8,
    "start_time": "2024-04-08T11:04:54.458Z"
   },
   {
    "duration": 14,
    "start_time": "2024-04-08T11:06:42.871Z"
   },
   {
    "duration": 7,
    "start_time": "2024-04-08T11:06:43.300Z"
   },
   {
    "duration": 13,
    "start_time": "2024-04-08T11:07:00.567Z"
   },
   {
    "duration": 1134,
    "start_time": "2024-04-08T11:07:17.704Z"
   },
   {
    "duration": 321,
    "start_time": "2024-04-08T11:07:18.840Z"
   },
   {
    "duration": 81,
    "start_time": "2024-04-08T11:07:19.162Z"
   },
   {
    "duration": 403,
    "start_time": "2024-04-08T11:07:19.245Z"
   },
   {
    "duration": 204,
    "start_time": "2024-04-08T11:07:19.651Z"
   },
   {
    "duration": 115,
    "start_time": "2024-04-08T11:07:19.857Z"
   },
   {
    "duration": 221,
    "start_time": "2024-04-08T11:07:19.973Z"
   },
   {
    "duration": 108,
    "start_time": "2024-04-08T11:07:20.195Z"
   },
   {
    "duration": 24,
    "start_time": "2024-04-08T11:07:20.304Z"
   },
   {
    "duration": 89,
    "start_time": "2024-04-08T11:07:20.329Z"
   },
   {
    "duration": 202,
    "start_time": "2024-04-08T11:07:20.419Z"
   },
   {
    "duration": 4,
    "start_time": "2024-04-08T11:07:20.623Z"
   },
   {
    "duration": 373,
    "start_time": "2024-04-08T11:07:20.628Z"
   },
   {
    "duration": 4,
    "start_time": "2024-04-08T11:07:21.002Z"
   },
   {
    "duration": 31,
    "start_time": "2024-04-08T11:07:21.008Z"
   },
   {
    "duration": 73,
    "start_time": "2024-04-08T11:07:21.040Z"
   },
   {
    "duration": 15,
    "start_time": "2024-04-08T11:07:21.114Z"
   },
   {
    "duration": 12,
    "start_time": "2024-04-08T11:07:21.130Z"
   },
   {
    "duration": 109,
    "start_time": "2024-04-08T11:10:14.630Z"
   },
   {
    "duration": 1119,
    "start_time": "2024-04-08T11:10:30.121Z"
   },
   {
    "duration": 333,
    "start_time": "2024-04-08T11:10:31.241Z"
   },
   {
    "duration": 91,
    "start_time": "2024-04-08T11:10:31.576Z"
   },
   {
    "duration": 445,
    "start_time": "2024-04-08T11:10:31.670Z"
   },
   {
    "duration": 209,
    "start_time": "2024-04-08T11:10:32.117Z"
   },
   {
    "duration": 113,
    "start_time": "2024-04-08T11:10:32.327Z"
   },
   {
    "duration": 225,
    "start_time": "2024-04-08T11:10:32.441Z"
   },
   {
    "duration": 108,
    "start_time": "2024-04-08T11:10:32.668Z"
   },
   {
    "duration": 29,
    "start_time": "2024-04-08T11:10:32.778Z"
   },
   {
    "duration": 138,
    "start_time": "2024-04-08T11:10:32.810Z"
   },
   {
    "duration": 194,
    "start_time": "2024-04-08T11:10:32.949Z"
   },
   {
    "duration": 2,
    "start_time": "2024-04-08T11:10:33.145Z"
   },
   {
    "duration": 329,
    "start_time": "2024-04-08T11:10:33.149Z"
   },
   {
    "duration": 14,
    "start_time": "2024-04-08T11:10:33.480Z"
   },
   {
    "duration": 123,
    "start_time": "2024-04-08T11:10:33.495Z"
   },
   {
    "duration": 99,
    "start_time": "2024-04-08T11:10:33.620Z"
   },
   {
    "duration": 15,
    "start_time": "2024-04-08T11:10:33.720Z"
   },
   {
    "duration": 67,
    "start_time": "2024-04-08T11:10:33.736Z"
   },
   {
    "duration": 28,
    "start_time": "2024-04-08T11:10:33.804Z"
   },
   {
    "duration": 2074,
    "start_time": "2024-04-08T11:10:33.833Z"
   },
   {
    "duration": 1911,
    "start_time": "2024-04-08T11:10:35.909Z"
   },
   {
    "duration": 1882,
    "start_time": "2024-04-08T11:10:37.821Z"
   },
   {
    "duration": 169,
    "start_time": "2024-04-08T11:10:39.705Z"
   },
   {
    "duration": 168,
    "start_time": "2024-04-08T11:10:39.876Z"
   },
   {
    "duration": 28,
    "start_time": "2024-04-08T11:10:40.045Z"
   },
   {
    "duration": 20,
    "start_time": "2024-04-08T11:10:40.074Z"
   },
   {
    "duration": 35,
    "start_time": "2024-04-08T11:10:40.095Z"
   },
   {
    "duration": 16,
    "start_time": "2024-04-08T11:10:40.133Z"
   },
   {
    "duration": 29,
    "start_time": "2024-04-08T11:10:40.151Z"
   },
   {
    "duration": 7,
    "start_time": "2024-04-08T11:10:40.181Z"
   },
   {
    "duration": 24,
    "start_time": "2024-04-08T11:10:40.190Z"
   },
   {
    "duration": 1285,
    "start_time": "2024-04-08T11:10:40.215Z"
   },
   {
    "duration": 31643,
    "start_time": "2024-04-08T11:10:41.502Z"
   },
   {
    "duration": 89,
    "start_time": "2024-04-08T11:11:13.147Z"
   },
   {
    "duration": 7,
    "start_time": "2024-04-08T11:11:13.237Z"
   },
   {
    "duration": 109221,
    "start_time": "2024-04-08T11:11:13.245Z"
   },
   {
    "duration": 52,
    "start_time": "2024-04-08T11:19:15.916Z"
   },
   {
    "duration": 1462,
    "start_time": "2024-04-08T11:19:22.574Z"
   },
   {
    "duration": 464,
    "start_time": "2024-04-08T11:19:24.037Z"
   },
   {
    "duration": 150,
    "start_time": "2024-04-08T11:19:24.502Z"
   },
   {
    "duration": 599,
    "start_time": "2024-04-08T11:19:24.654Z"
   },
   {
    "duration": 206,
    "start_time": "2024-04-08T11:19:25.254Z"
   },
   {
    "duration": 119,
    "start_time": "2024-04-08T11:19:25.462Z"
   },
   {
    "duration": 226,
    "start_time": "2024-04-08T11:19:25.582Z"
   },
   {
    "duration": 112,
    "start_time": "2024-04-08T11:19:25.810Z"
   },
   {
    "duration": 34,
    "start_time": "2024-04-08T11:19:25.923Z"
   },
   {
    "duration": 80,
    "start_time": "2024-04-08T11:19:25.959Z"
   },
   {
    "duration": 200,
    "start_time": "2024-04-08T11:19:26.045Z"
   },
   {
    "duration": 3,
    "start_time": "2024-04-08T11:19:26.246Z"
   },
   {
    "duration": 285,
    "start_time": "2024-04-08T11:19:26.251Z"
   },
   {
    "duration": 10,
    "start_time": "2024-04-08T11:19:26.537Z"
   },
   {
    "duration": 8,
    "start_time": "2024-04-08T11:19:26.548Z"
   },
   {
    "duration": 48,
    "start_time": "2024-04-08T11:19:26.557Z"
   },
   {
    "duration": 14,
    "start_time": "2024-04-08T11:19:26.606Z"
   },
   {
    "duration": 27,
    "start_time": "2024-04-08T11:19:26.622Z"
   },
   {
    "duration": 4,
    "start_time": "2024-04-08T11:19:26.650Z"
   },
   {
    "duration": 2121,
    "start_time": "2024-04-08T11:19:26.655Z"
   },
   {
    "duration": 1910,
    "start_time": "2024-04-08T11:19:28.778Z"
   },
   {
    "duration": 1976,
    "start_time": "2024-04-08T11:19:30.690Z"
   },
   {
    "duration": 198,
    "start_time": "2024-04-08T11:19:32.667Z"
   },
   {
    "duration": 199,
    "start_time": "2024-04-08T11:19:32.867Z"
   },
   {
    "duration": 28,
    "start_time": "2024-04-08T11:19:33.068Z"
   },
   {
    "duration": 5,
    "start_time": "2024-04-08T11:19:33.097Z"
   },
   {
    "duration": 7,
    "start_time": "2024-04-08T11:19:33.103Z"
   },
   {
    "duration": 4,
    "start_time": "2024-04-08T11:19:33.113Z"
   },
   {
    "duration": 28,
    "start_time": "2024-04-08T11:19:33.118Z"
   },
   {
    "duration": 5,
    "start_time": "2024-04-08T11:19:33.147Z"
   },
   {
    "duration": 11,
    "start_time": "2024-04-08T11:19:33.153Z"
   },
   {
    "duration": 1388,
    "start_time": "2024-04-08T11:19:33.165Z"
   },
   {
    "duration": 32521,
    "start_time": "2024-04-08T11:19:34.555Z"
   },
   {
    "duration": 107,
    "start_time": "2024-04-08T11:20:07.078Z"
   },
   {
    "duration": 9,
    "start_time": "2024-04-08T11:20:07.187Z"
   },
   {
    "duration": 245661,
    "start_time": "2024-04-08T11:20:07.199Z"
   },
   {
    "duration": 5,
    "start_time": "2024-04-08T11:24:12.863Z"
   },
   {
    "duration": 103,
    "start_time": "2024-04-08T11:28:27.092Z"
   },
   {
    "duration": 12,
    "start_time": "2024-04-08T11:29:23.206Z"
   },
   {
    "duration": 9,
    "start_time": "2024-04-08T11:29:31.168Z"
   },
   {
    "duration": 10,
    "start_time": "2024-04-08T11:30:48.982Z"
   },
   {
    "duration": 20,
    "start_time": "2024-04-08T11:32:34.529Z"
   },
   {
    "duration": 9,
    "start_time": "2024-04-08T11:51:34.842Z"
   },
   {
    "duration": 15,
    "start_time": "2024-04-08T11:51:44.847Z"
   },
   {
    "duration": 9,
    "start_time": "2024-04-08T11:52:41.292Z"
   },
   {
    "duration": 14,
    "start_time": "2024-04-08T11:52:50.028Z"
   },
   {
    "duration": 8,
    "start_time": "2024-04-08T11:52:57.011Z"
   },
   {
    "duration": 13,
    "start_time": "2024-04-08T11:55:07.201Z"
   },
   {
    "duration": 12,
    "start_time": "2024-04-08T11:55:08.940Z"
   },
   {
    "duration": 9,
    "start_time": "2024-04-08T11:55:59.546Z"
   },
   {
    "duration": 9,
    "start_time": "2024-04-08T11:56:00.825Z"
   },
   {
    "duration": 12,
    "start_time": "2024-04-08T12:00:25.004Z"
   },
   {
    "duration": 12,
    "start_time": "2024-04-08T12:00:25.668Z"
   },
   {
    "duration": 13,
    "start_time": "2024-04-08T12:03:19.264Z"
   },
   {
    "duration": 8,
    "start_time": "2024-04-08T12:03:20.308Z"
   },
   {
    "duration": 11,
    "start_time": "2024-04-08T12:53:20.458Z"
   },
   {
    "duration": 8,
    "start_time": "2024-04-08T12:53:43.704Z"
   },
   {
    "duration": 20,
    "start_time": "2024-04-08T12:54:19.953Z"
   },
   {
    "duration": 8,
    "start_time": "2024-04-08T12:54:32.977Z"
   },
   {
    "duration": 8,
    "start_time": "2024-04-08T12:58:43.515Z"
   },
   {
    "duration": 13,
    "start_time": "2024-04-08T12:58:57.121Z"
   },
   {
    "duration": 13,
    "start_time": "2024-04-08T13:01:34.096Z"
   },
   {
    "duration": 11,
    "start_time": "2024-04-08T13:01:35.998Z"
   },
   {
    "duration": 13,
    "start_time": "2024-04-08T13:02:02.588Z"
   },
   {
    "duration": 13,
    "start_time": "2024-04-08T13:02:04.975Z"
   },
   {
    "duration": 11,
    "start_time": "2024-04-08T13:02:05.295Z"
   },
   {
    "duration": 12,
    "start_time": "2024-04-08T13:02:27.694Z"
   },
   {
    "duration": 8,
    "start_time": "2024-04-08T13:02:28.002Z"
   },
   {
    "duration": 13,
    "start_time": "2024-04-08T13:02:49.155Z"
   },
   {
    "duration": 13,
    "start_time": "2024-04-08T13:03:01.354Z"
   },
   {
    "duration": 14,
    "start_time": "2024-04-08T13:03:07.375Z"
   },
   {
    "duration": 8,
    "start_time": "2024-04-08T13:03:08.271Z"
   },
   {
    "duration": 13,
    "start_time": "2024-04-08T13:03:28.162Z"
   },
   {
    "duration": 6,
    "start_time": "2024-04-08T13:03:52.460Z"
   },
   {
    "duration": 12,
    "start_time": "2024-04-08T13:03:53.759Z"
   },
   {
    "duration": 201,
    "start_time": "2024-04-08T13:04:06.299Z"
   },
   {
    "duration": 7,
    "start_time": "2024-04-08T13:04:07.219Z"
   },
   {
    "duration": 7,
    "start_time": "2024-04-08T13:04:12.239Z"
   },
   {
    "duration": 13,
    "start_time": "2024-04-08T13:04:35.849Z"
   },
   {
    "duration": 6,
    "start_time": "2024-04-08T13:04:36.734Z"
   },
   {
    "duration": 42,
    "start_time": "2024-04-08T13:04:45.505Z"
   },
   {
    "duration": 12,
    "start_time": "2024-04-08T13:04:46.452Z"
   },
   {
    "duration": 1404,
    "start_time": "2024-04-08T13:53:30.815Z"
   },
   {
    "duration": 340,
    "start_time": "2024-04-08T13:53:32.220Z"
   },
   {
    "duration": 86,
    "start_time": "2024-04-08T13:53:32.561Z"
   },
   {
    "duration": 411,
    "start_time": "2024-04-08T13:53:32.648Z"
   },
   {
    "duration": 211,
    "start_time": "2024-04-08T13:53:33.060Z"
   },
   {
    "duration": 121,
    "start_time": "2024-04-08T13:53:33.273Z"
   },
   {
    "duration": 244,
    "start_time": "2024-04-08T13:53:33.395Z"
   },
   {
    "duration": 116,
    "start_time": "2024-04-08T13:53:33.641Z"
   },
   {
    "duration": 24,
    "start_time": "2024-04-08T13:53:33.758Z"
   },
   {
    "duration": 93,
    "start_time": "2024-04-08T13:53:33.783Z"
   },
   {
    "duration": 196,
    "start_time": "2024-04-08T13:53:33.877Z"
   },
   {
    "duration": 3,
    "start_time": "2024-04-08T13:53:34.074Z"
   },
   {
    "duration": 281,
    "start_time": "2024-04-08T13:53:34.078Z"
   },
   {
    "duration": 4,
    "start_time": "2024-04-08T13:53:34.360Z"
   },
   {
    "duration": 19,
    "start_time": "2024-04-08T13:53:34.365Z"
   },
   {
    "duration": 51,
    "start_time": "2024-04-08T13:53:34.385Z"
   },
   {
    "duration": 13,
    "start_time": "2024-04-08T13:53:34.438Z"
   },
   {
    "duration": 6,
    "start_time": "2024-04-08T13:53:34.452Z"
   },
   {
    "duration": 10,
    "start_time": "2024-04-08T13:53:34.460Z"
   },
   {
    "duration": 2074,
    "start_time": "2024-04-08T13:53:34.472Z"
   },
   {
    "duration": 1971,
    "start_time": "2024-04-08T13:53:36.548Z"
   },
   {
    "duration": 1986,
    "start_time": "2024-04-08T13:53:38.520Z"
   },
   {
    "duration": 189,
    "start_time": "2024-04-08T13:53:40.508Z"
   },
   {
    "duration": 109,
    "start_time": "2024-04-08T13:53:40.699Z"
   },
   {
    "duration": 38,
    "start_time": "2024-04-08T13:53:40.810Z"
   },
   {
    "duration": 4,
    "start_time": "2024-04-08T13:53:40.849Z"
   },
   {
    "duration": 25,
    "start_time": "2024-04-08T13:53:40.854Z"
   },
   {
    "duration": 22,
    "start_time": "2024-04-08T13:53:40.882Z"
   },
   {
    "duration": 21,
    "start_time": "2024-04-08T13:53:40.905Z"
   },
   {
    "duration": 25,
    "start_time": "2024-04-08T13:53:40.927Z"
   },
   {
    "duration": 36,
    "start_time": "2024-04-08T13:53:40.953Z"
   },
   {
    "duration": 32,
    "start_time": "2024-04-08T13:53:40.991Z"
   },
   {
    "duration": 1428,
    "start_time": "2024-04-08T13:53:41.025Z"
   },
   {
    "duration": 32108,
    "start_time": "2024-04-08T13:53:42.455Z"
   },
   {
    "duration": 5,
    "start_time": "2024-04-08T13:54:14.565Z"
   },
   {
    "duration": 1363,
    "start_time": "2024-04-08T13:57:37.162Z"
   },
   {
    "duration": 324,
    "start_time": "2024-04-08T13:57:38.526Z"
   },
   {
    "duration": 84,
    "start_time": "2024-04-08T13:57:38.852Z"
   },
   {
    "duration": 407,
    "start_time": "2024-04-08T13:57:38.938Z"
   },
   {
    "duration": 228,
    "start_time": "2024-04-08T13:57:39.346Z"
   },
   {
    "duration": 117,
    "start_time": "2024-04-08T13:57:39.575Z"
   },
   {
    "duration": 234,
    "start_time": "2024-04-08T13:57:39.694Z"
   },
   {
    "duration": 108,
    "start_time": "2024-04-08T13:57:39.929Z"
   },
   {
    "duration": 29,
    "start_time": "2024-04-08T13:57:40.039Z"
   },
   {
    "duration": 89,
    "start_time": "2024-04-08T13:57:40.070Z"
   },
   {
    "duration": 199,
    "start_time": "2024-04-08T13:57:40.161Z"
   },
   {
    "duration": 3,
    "start_time": "2024-04-08T13:57:40.362Z"
   },
   {
    "duration": 295,
    "start_time": "2024-04-08T13:57:40.366Z"
   },
   {
    "duration": 5,
    "start_time": "2024-04-08T13:57:40.662Z"
   },
   {
    "duration": 16,
    "start_time": "2024-04-08T13:57:40.668Z"
   },
   {
    "duration": 75,
    "start_time": "2024-04-08T13:57:40.685Z"
   },
   {
    "duration": 11,
    "start_time": "2024-04-08T13:57:40.762Z"
   },
   {
    "duration": 10,
    "start_time": "2024-04-08T13:57:40.775Z"
   },
   {
    "duration": 28,
    "start_time": "2024-04-08T13:57:40.787Z"
   },
   {
    "duration": 2081,
    "start_time": "2024-04-08T13:57:40.816Z"
   },
   {
    "duration": 1948,
    "start_time": "2024-04-08T13:57:42.898Z"
   },
   {
    "duration": 1960,
    "start_time": "2024-04-08T13:57:44.847Z"
   },
   {
    "duration": 190,
    "start_time": "2024-04-08T13:57:46.808Z"
   },
   {
    "duration": 187,
    "start_time": "2024-04-08T13:57:47.000Z"
   },
   {
    "duration": 34,
    "start_time": "2024-04-08T13:57:47.189Z"
   },
   {
    "duration": 22,
    "start_time": "2024-04-08T13:57:47.225Z"
   },
   {
    "duration": 12,
    "start_time": "2024-04-08T13:57:47.248Z"
   },
   {
    "duration": 8,
    "start_time": "2024-04-08T13:57:47.263Z"
   },
   {
    "duration": 31,
    "start_time": "2024-04-08T13:57:47.273Z"
   },
   {
    "duration": 29,
    "start_time": "2024-04-08T13:57:47.305Z"
   },
   {
    "duration": 22,
    "start_time": "2024-04-08T13:57:47.335Z"
   },
   {
    "duration": 13,
    "start_time": "2024-04-08T13:57:47.358Z"
   },
   {
    "duration": 1181,
    "start_time": "2024-04-08T13:57:47.372Z"
   },
   {
    "duration": 1262,
    "start_time": "2024-04-08T13:58:14.625Z"
   },
   {
    "duration": 349,
    "start_time": "2024-04-08T13:58:15.889Z"
   },
   {
    "duration": 88,
    "start_time": "2024-04-08T13:58:16.240Z"
   },
   {
    "duration": 398,
    "start_time": "2024-04-08T13:58:16.330Z"
   },
   {
    "duration": 210,
    "start_time": "2024-04-08T13:58:16.730Z"
   },
   {
    "duration": 113,
    "start_time": "2024-04-08T13:58:16.945Z"
   },
   {
    "duration": 244,
    "start_time": "2024-04-08T13:58:17.060Z"
   },
   {
    "duration": 115,
    "start_time": "2024-04-08T13:58:17.305Z"
   },
   {
    "duration": 40,
    "start_time": "2024-04-08T13:58:17.422Z"
   },
   {
    "duration": 99,
    "start_time": "2024-04-08T13:58:17.466Z"
   },
   {
    "duration": 240,
    "start_time": "2024-04-08T13:58:17.567Z"
   },
   {
    "duration": 3,
    "start_time": "2024-04-08T13:58:17.809Z"
   },
   {
    "duration": 276,
    "start_time": "2024-04-08T13:58:17.813Z"
   },
   {
    "duration": 5,
    "start_time": "2024-04-08T13:58:18.090Z"
   },
   {
    "duration": 12,
    "start_time": "2024-04-08T13:58:18.096Z"
   },
   {
    "duration": 56,
    "start_time": "2024-04-08T13:58:18.109Z"
   },
   {
    "duration": 121,
    "start_time": "2024-04-08T13:58:18.166Z"
   },
   {
    "duration": 0,
    "start_time": "2024-04-08T13:58:18.289Z"
   },
   {
    "duration": 0,
    "start_time": "2024-04-08T13:58:18.290Z"
   },
   {
    "duration": 0,
    "start_time": "2024-04-08T13:58:18.291Z"
   },
   {
    "duration": 0,
    "start_time": "2024-04-08T13:58:18.292Z"
   },
   {
    "duration": 0,
    "start_time": "2024-04-08T13:58:18.293Z"
   },
   {
    "duration": 0,
    "start_time": "2024-04-08T13:58:18.294Z"
   },
   {
    "duration": 0,
    "start_time": "2024-04-08T13:58:18.295Z"
   },
   {
    "duration": 0,
    "start_time": "2024-04-08T13:58:18.296Z"
   },
   {
    "duration": 0,
    "start_time": "2024-04-08T13:58:18.297Z"
   },
   {
    "duration": 0,
    "start_time": "2024-04-08T13:58:18.299Z"
   },
   {
    "duration": 0,
    "start_time": "2024-04-08T13:58:18.300Z"
   },
   {
    "duration": 0,
    "start_time": "2024-04-08T13:58:18.301Z"
   },
   {
    "duration": 0,
    "start_time": "2024-04-08T13:58:18.302Z"
   },
   {
    "duration": 0,
    "start_time": "2024-04-08T13:58:18.303Z"
   },
   {
    "duration": 0,
    "start_time": "2024-04-08T13:58:18.304Z"
   },
   {
    "duration": 0,
    "start_time": "2024-04-08T13:58:18.305Z"
   },
   {
    "duration": 0,
    "start_time": "2024-04-08T13:58:18.306Z"
   },
   {
    "duration": 0,
    "start_time": "2024-04-08T13:58:18.307Z"
   },
   {
    "duration": 0,
    "start_time": "2024-04-08T13:58:18.307Z"
   },
   {
    "duration": 0,
    "start_time": "2024-04-08T13:58:18.308Z"
   },
   {
    "duration": 7,
    "start_time": "2024-04-08T13:58:34.346Z"
   },
   {
    "duration": 8,
    "start_time": "2024-04-08T13:58:35.315Z"
   },
   {
    "duration": 1260,
    "start_time": "2024-04-08T14:04:42.120Z"
   },
   {
    "duration": 344,
    "start_time": "2024-04-08T14:04:43.382Z"
   },
   {
    "duration": 85,
    "start_time": "2024-04-08T14:04:43.727Z"
   },
   {
    "duration": 397,
    "start_time": "2024-04-08T14:04:43.814Z"
   },
   {
    "duration": 213,
    "start_time": "2024-04-08T14:04:44.212Z"
   },
   {
    "duration": 136,
    "start_time": "2024-04-08T14:04:44.427Z"
   },
   {
    "duration": 251,
    "start_time": "2024-04-08T14:04:44.565Z"
   },
   {
    "duration": 120,
    "start_time": "2024-04-08T14:04:44.818Z"
   },
   {
    "duration": 29,
    "start_time": "2024-04-08T14:04:44.939Z"
   },
   {
    "duration": 92,
    "start_time": "2024-04-08T14:04:44.972Z"
   },
   {
    "duration": 210,
    "start_time": "2024-04-08T14:04:45.066Z"
   },
   {
    "duration": 4,
    "start_time": "2024-04-08T14:04:45.277Z"
   },
   {
    "duration": 372,
    "start_time": "2024-04-08T14:04:45.282Z"
   },
   {
    "duration": 5,
    "start_time": "2024-04-08T14:04:45.656Z"
   },
   {
    "duration": 11,
    "start_time": "2024-04-08T14:04:45.663Z"
   },
   {
    "duration": 48,
    "start_time": "2024-04-08T14:04:45.676Z"
   },
   {
    "duration": 26,
    "start_time": "2024-04-08T14:04:45.726Z"
   },
   {
    "duration": 8,
    "start_time": "2024-04-08T14:04:45.754Z"
   },
   {
    "duration": 3,
    "start_time": "2024-04-08T14:04:45.764Z"
   },
   {
    "duration": 2124,
    "start_time": "2024-04-08T14:04:45.769Z"
   },
   {
    "duration": 1867,
    "start_time": "2024-04-08T14:04:47.894Z"
   },
   {
    "duration": 2009,
    "start_time": "2024-04-08T14:04:49.763Z"
   },
   {
    "duration": 203,
    "start_time": "2024-04-08T14:04:51.774Z"
   },
   {
    "duration": 184,
    "start_time": "2024-04-08T14:04:51.979Z"
   },
   {
    "duration": 31,
    "start_time": "2024-04-08T14:04:52.165Z"
   },
   {
    "duration": 4,
    "start_time": "2024-04-08T14:04:52.198Z"
   },
   {
    "duration": 43,
    "start_time": "2024-04-08T14:04:52.203Z"
   },
   {
    "duration": 8,
    "start_time": "2024-04-08T14:04:52.249Z"
   },
   {
    "duration": 17,
    "start_time": "2024-04-08T14:04:52.259Z"
   },
   {
    "duration": 15,
    "start_time": "2024-04-08T14:04:52.278Z"
   },
   {
    "duration": 28,
    "start_time": "2024-04-08T14:04:52.294Z"
   },
   {
    "duration": 19,
    "start_time": "2024-04-08T14:04:52.324Z"
   },
   {
    "duration": 1210,
    "start_time": "2024-04-08T14:04:52.344Z"
   },
   {
    "duration": 32359,
    "start_time": "2024-04-08T14:04:53.645Z"
   },
   {
    "duration": 6,
    "start_time": "2024-04-08T14:05:26.006Z"
   },
   {
    "duration": 243094,
    "start_time": "2024-04-08T14:05:26.014Z"
   },
   {
    "duration": 8,
    "start_time": "2024-04-08T14:09:29.109Z"
   },
   {
    "duration": 1304,
    "start_time": "2024-04-08T14:36:59.464Z"
   },
   {
    "duration": 324,
    "start_time": "2024-04-08T14:37:00.770Z"
   },
   {
    "duration": 86,
    "start_time": "2024-04-08T14:37:01.095Z"
   },
   {
    "duration": 420,
    "start_time": "2024-04-08T14:37:01.183Z"
   },
   {
    "duration": 219,
    "start_time": "2024-04-08T14:37:01.605Z"
   },
   {
    "duration": 116,
    "start_time": "2024-04-08T14:37:01.826Z"
   },
   {
    "duration": 238,
    "start_time": "2024-04-08T14:37:01.943Z"
   },
   {
    "duration": 111,
    "start_time": "2024-04-08T14:37:02.182Z"
   },
   {
    "duration": 187,
    "start_time": "2024-04-08T14:37:02.295Z"
   },
   {
    "duration": 89,
    "start_time": "2024-04-08T14:37:02.483Z"
   },
   {
    "duration": 195,
    "start_time": "2024-04-08T14:37:02.573Z"
   },
   {
    "duration": 3,
    "start_time": "2024-04-08T14:37:02.770Z"
   },
   {
    "duration": 312,
    "start_time": "2024-04-08T14:37:02.774Z"
   },
   {
    "duration": 5,
    "start_time": "2024-04-08T14:37:03.089Z"
   },
   {
    "duration": 36,
    "start_time": "2024-04-08T14:37:03.095Z"
   },
   {
    "duration": 56,
    "start_time": "2024-04-08T14:37:03.132Z"
   },
   {
    "duration": 12,
    "start_time": "2024-04-08T14:37:03.190Z"
   },
   {
    "duration": 22,
    "start_time": "2024-04-08T14:37:03.203Z"
   },
   {
    "duration": 26,
    "start_time": "2024-04-08T14:37:03.226Z"
   },
   {
    "duration": 31,
    "start_time": "2024-04-08T14:37:03.254Z"
   },
   {
    "duration": 2009,
    "start_time": "2024-04-08T14:37:03.286Z"
   },
   {
    "duration": 1862,
    "start_time": "2024-04-08T14:37:05.296Z"
   },
   {
    "duration": 1979,
    "start_time": "2024-04-08T14:37:07.160Z"
   },
   {
    "duration": 188,
    "start_time": "2024-04-08T14:37:09.141Z"
   },
   {
    "duration": 185,
    "start_time": "2024-04-08T14:37:09.331Z"
   },
   {
    "duration": 41,
    "start_time": "2024-04-08T14:37:09.518Z"
   },
   {
    "duration": 4,
    "start_time": "2024-04-08T14:37:09.561Z"
   },
   {
    "duration": 5,
    "start_time": "2024-04-08T14:37:09.567Z"
   },
   {
    "duration": 5,
    "start_time": "2024-04-08T14:37:09.574Z"
   },
   {
    "duration": 6,
    "start_time": "2024-04-08T14:37:09.581Z"
   },
   {
    "duration": 4,
    "start_time": "2024-04-08T14:37:09.588Z"
   },
   {
    "duration": 23,
    "start_time": "2024-04-08T14:37:09.594Z"
   },
   {
    "duration": 10,
    "start_time": "2024-04-08T14:37:09.645Z"
   },
   {
    "duration": 1490,
    "start_time": "2024-04-08T14:37:09.656Z"
   },
   {
    "duration": 32044,
    "start_time": "2024-04-08T14:37:11.148Z"
   },
   {
    "duration": 7,
    "start_time": "2024-04-08T14:37:43.194Z"
   },
   {
    "duration": 241910,
    "start_time": "2024-04-08T14:37:43.202Z"
   },
   {
    "duration": 8,
    "start_time": "2024-04-08T14:41:45.114Z"
   },
   {
    "duration": 7,
    "start_time": "2024-04-08T15:10:04.429Z"
   },
   {
    "duration": 10,
    "start_time": "2024-04-08T15:10:06.587Z"
   },
   {
    "duration": 10,
    "start_time": "2024-04-08T15:10:20.167Z"
   },
   {
    "duration": 311,
    "start_time": "2024-04-08T15:15:46.409Z"
   },
   {
    "duration": 1355,
    "start_time": "2024-04-08T15:16:16.466Z"
   },
   {
    "duration": 340,
    "start_time": "2024-04-08T15:16:17.822Z"
   },
   {
    "duration": 97,
    "start_time": "2024-04-08T15:16:18.163Z"
   },
   {
    "duration": 431,
    "start_time": "2024-04-08T15:16:18.262Z"
   },
   {
    "duration": 226,
    "start_time": "2024-04-08T15:16:18.695Z"
   },
   {
    "duration": 125,
    "start_time": "2024-04-08T15:16:18.923Z"
   },
   {
    "duration": 236,
    "start_time": "2024-04-08T15:16:19.050Z"
   },
   {
    "duration": 112,
    "start_time": "2024-04-08T15:16:19.288Z"
   },
   {
    "duration": 23,
    "start_time": "2024-04-08T15:16:19.402Z"
   },
   {
    "duration": 98,
    "start_time": "2024-04-08T15:16:19.427Z"
   },
   {
    "duration": 219,
    "start_time": "2024-04-08T15:16:19.527Z"
   },
   {
    "duration": 3,
    "start_time": "2024-04-08T15:16:19.748Z"
   },
   {
    "duration": 339,
    "start_time": "2024-04-08T15:16:19.752Z"
   },
   {
    "duration": 5,
    "start_time": "2024-04-08T15:16:20.092Z"
   },
   {
    "duration": 9,
    "start_time": "2024-04-08T15:16:20.098Z"
   },
   {
    "duration": 52,
    "start_time": "2024-04-08T15:16:20.108Z"
   },
   {
    "duration": 12,
    "start_time": "2024-04-08T15:16:20.161Z"
   },
   {
    "duration": 14,
    "start_time": "2024-04-08T15:16:20.174Z"
   },
   {
    "duration": 33,
    "start_time": "2024-04-08T15:16:20.189Z"
   },
   {
    "duration": 11,
    "start_time": "2024-04-08T15:16:20.224Z"
   },
   {
    "duration": 3,
    "start_time": "2024-04-08T15:16:20.237Z"
   },
   {
    "duration": 2131,
    "start_time": "2024-04-08T15:16:20.242Z"
   },
   {
    "duration": 1945,
    "start_time": "2024-04-08T15:16:22.375Z"
   },
   {
    "duration": 1965,
    "start_time": "2024-04-08T15:16:24.322Z"
   },
   {
    "duration": 190,
    "start_time": "2024-04-08T15:16:26.289Z"
   },
   {
    "duration": 181,
    "start_time": "2024-04-08T15:16:26.481Z"
   },
   {
    "duration": 31,
    "start_time": "2024-04-08T15:16:26.663Z"
   },
   {
    "duration": 4,
    "start_time": "2024-04-08T15:16:26.697Z"
   },
   {
    "duration": 7,
    "start_time": "2024-04-08T15:16:26.703Z"
   },
   {
    "duration": 11,
    "start_time": "2024-04-08T15:16:26.711Z"
   },
   {
    "duration": 25,
    "start_time": "2024-04-08T15:16:26.723Z"
   },
   {
    "duration": 12,
    "start_time": "2024-04-08T15:16:26.750Z"
   },
   {
    "duration": 41,
    "start_time": "2024-04-08T15:16:26.763Z"
   },
   {
    "duration": 8,
    "start_time": "2024-04-08T15:16:26.806Z"
   },
   {
    "duration": 181,
    "start_time": "2024-04-08T15:16:26.815Z"
   },
   {
    "duration": 1459,
    "start_time": "2024-04-08T15:16:26.997Z"
   },
   {
    "duration": 0,
    "start_time": "2024-04-08T15:16:28.457Z"
   },
   {
    "duration": 0,
    "start_time": "2024-04-08T15:16:28.458Z"
   },
   {
    "duration": 0,
    "start_time": "2024-04-08T15:16:28.459Z"
   },
   {
    "duration": 27,
    "start_time": "2024-04-08T15:17:50.239Z"
   },
   {
    "duration": 34,
    "start_time": "2024-04-08T15:17:58.216Z"
   },
   {
    "duration": 25,
    "start_time": "2024-04-08T15:18:29.169Z"
   },
   {
    "duration": 8,
    "start_time": "2024-04-08T15:18:36.315Z"
   },
   {
    "duration": 140,
    "start_time": "2024-04-08T15:18:38.159Z"
   },
   {
    "duration": 1390,
    "start_time": "2024-04-08T15:18:56.829Z"
   },
   {
    "duration": 333,
    "start_time": "2024-04-08T15:18:58.221Z"
   },
   {
    "duration": 84,
    "start_time": "2024-04-08T15:18:58.555Z"
   },
   {
    "duration": 394,
    "start_time": "2024-04-08T15:18:58.641Z"
   },
   {
    "duration": 214,
    "start_time": "2024-04-08T15:18:59.037Z"
   },
   {
    "duration": 128,
    "start_time": "2024-04-08T15:18:59.253Z"
   },
   {
    "duration": 236,
    "start_time": "2024-04-08T15:18:59.383Z"
   },
   {
    "duration": 111,
    "start_time": "2024-04-08T15:18:59.621Z"
   },
   {
    "duration": 26,
    "start_time": "2024-04-08T15:18:59.734Z"
   },
   {
    "duration": 91,
    "start_time": "2024-04-08T15:18:59.761Z"
   },
   {
    "duration": 203,
    "start_time": "2024-04-08T15:18:59.854Z"
   },
   {
    "duration": 4,
    "start_time": "2024-04-08T15:19:00.058Z"
   },
   {
    "duration": 364,
    "start_time": "2024-04-08T15:19:00.063Z"
   },
   {
    "duration": 5,
    "start_time": "2024-04-08T15:19:00.429Z"
   },
   {
    "duration": 26,
    "start_time": "2024-04-08T15:19:00.445Z"
   },
   {
    "duration": 80,
    "start_time": "2024-04-08T15:19:00.472Z"
   },
   {
    "duration": 11,
    "start_time": "2024-04-08T15:19:00.553Z"
   },
   {
    "duration": 74,
    "start_time": "2024-04-08T15:19:00.566Z"
   },
   {
    "duration": 73,
    "start_time": "2024-04-08T15:19:00.641Z"
   },
   {
    "duration": 46,
    "start_time": "2024-04-08T15:19:00.716Z"
   },
   {
    "duration": 2254,
    "start_time": "2024-04-08T15:19:00.764Z"
   },
   {
    "duration": 1955,
    "start_time": "2024-04-08T15:19:03.019Z"
   },
   {
    "duration": 2026,
    "start_time": "2024-04-08T15:19:04.975Z"
   },
   {
    "duration": 211,
    "start_time": "2024-04-08T15:19:07.002Z"
   },
   {
    "duration": 199,
    "start_time": "2024-04-08T15:19:07.215Z"
   },
   {
    "duration": 38,
    "start_time": "2024-04-08T15:19:07.416Z"
   },
   {
    "duration": 5,
    "start_time": "2024-04-08T15:19:07.456Z"
   },
   {
    "duration": 7,
    "start_time": "2024-04-08T15:19:07.463Z"
   },
   {
    "duration": 7,
    "start_time": "2024-04-08T15:19:07.471Z"
   },
   {
    "duration": 4,
    "start_time": "2024-04-08T15:19:07.480Z"
   },
   {
    "duration": 3,
    "start_time": "2024-04-08T15:19:07.486Z"
   },
   {
    "duration": 26,
    "start_time": "2024-04-08T15:19:07.490Z"
   },
   {
    "duration": 31,
    "start_time": "2024-04-08T15:19:07.545Z"
   },
   {
    "duration": 8,
    "start_time": "2024-04-08T15:19:07.578Z"
   },
   {
    "duration": 189,
    "start_time": "2024-04-08T15:19:07.587Z"
   },
   {
    "duration": 1418,
    "start_time": "2024-04-08T15:19:07.777Z"
   },
   {
    "duration": 0,
    "start_time": "2024-04-08T15:19:09.196Z"
   },
   {
    "duration": 0,
    "start_time": "2024-04-08T15:19:09.198Z"
   },
   {
    "duration": 0,
    "start_time": "2024-04-08T15:19:09.198Z"
   },
   {
    "duration": 131,
    "start_time": "2024-04-08T15:24:01.660Z"
   },
   {
    "duration": 25,
    "start_time": "2024-04-08T15:24:16.478Z"
   },
   {
    "duration": 13,
    "start_time": "2024-04-08T15:24:38.448Z"
   },
   {
    "duration": 15,
    "start_time": "2024-04-08T15:25:20.762Z"
   },
   {
    "duration": 13,
    "start_time": "2024-04-08T15:25:35.566Z"
   },
   {
    "duration": 12,
    "start_time": "2024-04-08T15:25:40.472Z"
   },
   {
    "duration": 13,
    "start_time": "2024-04-08T15:25:44.744Z"
   },
   {
    "duration": 29,
    "start_time": "2024-04-08T15:25:50.832Z"
   },
   {
    "duration": 25,
    "start_time": "2024-04-08T15:26:03.013Z"
   },
   {
    "duration": 12,
    "start_time": "2024-04-08T15:26:06.720Z"
   },
   {
    "duration": 6,
    "start_time": "2024-04-08T15:26:15.638Z"
   },
   {
    "duration": 7,
    "start_time": "2024-04-08T15:26:23.386Z"
   },
   {
    "duration": 11,
    "start_time": "2024-04-08T15:26:24.715Z"
   },
   {
    "duration": 8,
    "start_time": "2024-04-08T15:26:45.031Z"
   },
   {
    "duration": 4,
    "start_time": "2024-04-08T15:26:57.497Z"
   },
   {
    "duration": 12,
    "start_time": "2024-04-08T15:27:07.115Z"
   },
   {
    "duration": 12,
    "start_time": "2024-04-08T15:27:23.054Z"
   },
   {
    "duration": 1234,
    "start_time": "2024-04-08T15:27:32.198Z"
   },
   {
    "duration": 345,
    "start_time": "2024-04-08T15:27:33.434Z"
   },
   {
    "duration": 85,
    "start_time": "2024-04-08T15:27:33.781Z"
   },
   {
    "duration": 404,
    "start_time": "2024-04-08T15:27:33.868Z"
   },
   {
    "duration": 211,
    "start_time": "2024-04-08T15:27:34.274Z"
   },
   {
    "duration": 118,
    "start_time": "2024-04-08T15:27:34.486Z"
   },
   {
    "duration": 225,
    "start_time": "2024-04-08T15:27:34.605Z"
   },
   {
    "duration": 127,
    "start_time": "2024-04-08T15:27:34.831Z"
   },
   {
    "duration": 23,
    "start_time": "2024-04-08T15:27:34.959Z"
   },
   {
    "duration": 92,
    "start_time": "2024-04-08T15:27:34.983Z"
   },
   {
    "duration": 212,
    "start_time": "2024-04-08T15:27:35.077Z"
   },
   {
    "duration": 3,
    "start_time": "2024-04-08T15:27:35.291Z"
   },
   {
    "duration": 360,
    "start_time": "2024-04-08T15:27:35.295Z"
   },
   {
    "duration": 5,
    "start_time": "2024-04-08T15:27:35.658Z"
   },
   {
    "duration": 16,
    "start_time": "2024-04-08T15:27:35.664Z"
   },
   {
    "duration": 74,
    "start_time": "2024-04-08T15:27:35.682Z"
   },
   {
    "duration": 11,
    "start_time": "2024-04-08T15:27:35.757Z"
   },
   {
    "duration": 10,
    "start_time": "2024-04-08T15:27:35.770Z"
   },
   {
    "duration": 10,
    "start_time": "2024-04-08T15:27:35.781Z"
   },
   {
    "duration": 7,
    "start_time": "2024-04-08T15:27:35.793Z"
   },
   {
    "duration": 2174,
    "start_time": "2024-04-08T15:27:35.802Z"
   },
   {
    "duration": 1894,
    "start_time": "2024-04-08T15:27:37.978Z"
   },
   {
    "duration": 1947,
    "start_time": "2024-04-08T15:27:39.874Z"
   },
   {
    "duration": 184,
    "start_time": "2024-04-08T15:27:41.823Z"
   },
   {
    "duration": 184,
    "start_time": "2024-04-08T15:27:42.009Z"
   },
   {
    "duration": 32,
    "start_time": "2024-04-08T15:27:42.194Z"
   },
   {
    "duration": 17,
    "start_time": "2024-04-08T15:27:42.228Z"
   },
   {
    "duration": 20,
    "start_time": "2024-04-08T15:27:42.247Z"
   },
   {
    "duration": 13,
    "start_time": "2024-04-08T15:27:42.268Z"
   },
   {
    "duration": 12,
    "start_time": "2024-04-08T15:27:42.282Z"
   },
   {
    "duration": 9,
    "start_time": "2024-04-08T15:27:42.296Z"
   },
   {
    "duration": 10,
    "start_time": "2024-04-08T15:27:42.307Z"
   },
   {
    "duration": 10,
    "start_time": "2024-04-08T15:27:42.318Z"
   },
   {
    "duration": 18,
    "start_time": "2024-04-08T15:27:42.329Z"
   },
   {
    "duration": 8,
    "start_time": "2024-04-08T15:27:42.348Z"
   },
   {
    "duration": 1190,
    "start_time": "2024-04-08T15:27:42.357Z"
   },
   {
    "duration": 32743,
    "start_time": "2024-04-08T15:27:43.548Z"
   },
   {
    "duration": 7,
    "start_time": "2024-04-08T15:28:16.292Z"
   },
   {
    "duration": 1332,
    "start_time": "2024-04-08T15:32:01.446Z"
   },
   {
    "duration": 327,
    "start_time": "2024-04-08T15:32:02.780Z"
   },
   {
    "duration": 86,
    "start_time": "2024-04-08T15:32:03.109Z"
   },
   {
    "duration": 421,
    "start_time": "2024-04-08T15:32:03.197Z"
   },
   {
    "duration": 219,
    "start_time": "2024-04-08T15:32:03.619Z"
   },
   {
    "duration": 124,
    "start_time": "2024-04-08T15:32:03.840Z"
   },
   {
    "duration": 236,
    "start_time": "2024-04-08T15:32:03.966Z"
   },
   {
    "duration": 110,
    "start_time": "2024-04-08T15:32:04.204Z"
   },
   {
    "duration": 34,
    "start_time": "2024-04-08T15:32:04.315Z"
   },
   {
    "duration": 79,
    "start_time": "2024-04-08T15:32:04.352Z"
   },
   {
    "duration": 232,
    "start_time": "2024-04-08T15:32:04.432Z"
   },
   {
    "duration": 3,
    "start_time": "2024-04-08T15:32:04.666Z"
   },
   {
    "duration": 333,
    "start_time": "2024-04-08T15:32:04.670Z"
   },
   {
    "duration": 4,
    "start_time": "2024-04-08T15:32:05.005Z"
   },
   {
    "duration": 12,
    "start_time": "2024-04-08T15:32:05.010Z"
   },
   {
    "duration": 55,
    "start_time": "2024-04-08T15:32:05.023Z"
   },
   {
    "duration": 13,
    "start_time": "2024-04-08T15:32:05.080Z"
   },
   {
    "duration": 25,
    "start_time": "2024-04-08T15:32:05.095Z"
   },
   {
    "duration": 18,
    "start_time": "2024-04-08T15:32:05.121Z"
   },
   {
    "duration": 6,
    "start_time": "2024-04-08T15:32:05.141Z"
   },
   {
    "duration": 2051,
    "start_time": "2024-04-08T15:32:05.148Z"
   },
   {
    "duration": 1983,
    "start_time": "2024-04-08T15:32:07.201Z"
   },
   {
    "duration": 1992,
    "start_time": "2024-04-08T15:32:09.185Z"
   },
   {
    "duration": 205,
    "start_time": "2024-04-08T15:32:11.178Z"
   },
   {
    "duration": 196,
    "start_time": "2024-04-08T15:32:11.385Z"
   },
   {
    "duration": 29,
    "start_time": "2024-04-08T15:32:11.582Z"
   },
   {
    "duration": 4,
    "start_time": "2024-04-08T15:32:11.613Z"
   },
   {
    "duration": 7,
    "start_time": "2024-04-08T15:32:11.619Z"
   },
   {
    "duration": 18,
    "start_time": "2024-04-08T15:32:11.627Z"
   },
   {
    "duration": 4,
    "start_time": "2024-04-08T15:32:11.646Z"
   },
   {
    "duration": 4,
    "start_time": "2024-04-08T15:32:11.651Z"
   },
   {
    "duration": 5,
    "start_time": "2024-04-08T15:32:11.657Z"
   },
   {
    "duration": 6,
    "start_time": "2024-04-08T15:32:11.663Z"
   },
   {
    "duration": 7,
    "start_time": "2024-04-08T15:32:11.670Z"
   },
   {
    "duration": 1468,
    "start_time": "2024-04-08T15:32:11.678Z"
   },
   {
    "duration": 32791,
    "start_time": "2024-04-08T15:32:13.147Z"
   },
   {
    "duration": 7,
    "start_time": "2024-04-08T15:32:45.939Z"
   },
   {
    "duration": 247399,
    "start_time": "2024-04-08T15:32:45.947Z"
   },
   {
    "duration": 9,
    "start_time": "2024-04-08T15:36:53.347Z"
   },
   {
    "duration": 126,
    "start_time": "2024-04-08T15:38:41.426Z"
   },
   {
    "duration": 64394,
    "start_time": "2024-04-08T15:38:46.971Z"
   },
   {
    "duration": 1344,
    "start_time": "2024-04-08T15:40:38.744Z"
   },
   {
    "duration": 338,
    "start_time": "2024-04-08T15:40:40.089Z"
   },
   {
    "duration": 91,
    "start_time": "2024-04-08T15:40:40.429Z"
   },
   {
    "duration": 412,
    "start_time": "2024-04-08T15:40:40.522Z"
   },
   {
    "duration": 232,
    "start_time": "2024-04-08T15:40:40.936Z"
   },
   {
    "duration": 123,
    "start_time": "2024-04-08T15:40:41.170Z"
   },
   {
    "duration": 246,
    "start_time": "2024-04-08T15:40:41.294Z"
   },
   {
    "duration": 116,
    "start_time": "2024-04-08T15:40:41.544Z"
   },
   {
    "duration": 25,
    "start_time": "2024-04-08T15:40:41.661Z"
   },
   {
    "duration": 101,
    "start_time": "2024-04-08T15:40:41.689Z"
   },
   {
    "duration": 216,
    "start_time": "2024-04-08T15:40:41.792Z"
   },
   {
    "duration": 3,
    "start_time": "2024-04-08T15:40:42.010Z"
   },
   {
    "duration": 341,
    "start_time": "2024-04-08T15:40:42.014Z"
   },
   {
    "duration": 5,
    "start_time": "2024-04-08T15:40:42.357Z"
   },
   {
    "duration": 6,
    "start_time": "2024-04-08T15:40:42.363Z"
   },
   {
    "duration": 52,
    "start_time": "2024-04-08T15:40:42.370Z"
   },
   {
    "duration": 25,
    "start_time": "2024-04-08T15:40:42.424Z"
   },
   {
    "duration": 9,
    "start_time": "2024-04-08T15:40:42.450Z"
   },
   {
    "duration": 17,
    "start_time": "2024-04-08T15:40:42.460Z"
   },
   {
    "duration": 7,
    "start_time": "2024-04-08T15:40:42.478Z"
   },
   {
    "duration": 2141,
    "start_time": "2024-04-08T15:40:42.486Z"
   },
   {
    "duration": 1954,
    "start_time": "2024-04-08T15:40:44.628Z"
   },
   {
    "duration": 2051,
    "start_time": "2024-04-08T15:40:46.583Z"
   },
   {
    "duration": 187,
    "start_time": "2024-04-08T15:40:48.635Z"
   },
   {
    "duration": 183,
    "start_time": "2024-04-08T15:40:48.824Z"
   },
   {
    "duration": 37,
    "start_time": "2024-04-08T15:40:49.008Z"
   },
   {
    "duration": 6,
    "start_time": "2024-04-08T15:40:49.046Z"
   },
   {
    "duration": 10,
    "start_time": "2024-04-08T15:40:49.054Z"
   },
   {
    "duration": 32,
    "start_time": "2024-04-08T15:40:49.065Z"
   },
   {
    "duration": 33,
    "start_time": "2024-04-08T15:40:49.099Z"
   },
   {
    "duration": 30,
    "start_time": "2024-04-08T15:40:49.133Z"
   },
   {
    "duration": 19,
    "start_time": "2024-04-08T15:40:49.164Z"
   },
   {
    "duration": 33,
    "start_time": "2024-04-08T15:40:49.184Z"
   },
   {
    "duration": 32,
    "start_time": "2024-04-08T15:40:49.219Z"
   },
   {
    "duration": 1292,
    "start_time": "2024-04-08T15:40:49.253Z"
   },
   {
    "duration": 33219,
    "start_time": "2024-04-08T15:40:50.547Z"
   },
   {
    "duration": 7,
    "start_time": "2024-04-08T15:41:23.767Z"
   },
   {
    "duration": 248048,
    "start_time": "2024-04-08T15:41:23.775Z"
   },
   {
    "duration": 65379,
    "start_time": "2024-04-08T15:45:31.824Z"
   },
   {
    "duration": 10,
    "start_time": "2024-04-08T15:46:37.205Z"
   },
   {
    "duration": 1056,
    "start_time": "2024-04-09T10:04:53.152Z"
   },
   {
    "duration": 438,
    "start_time": "2024-04-09T10:04:54.210Z"
   },
   {
    "duration": 142,
    "start_time": "2024-04-09T10:04:54.649Z"
   },
   {
    "duration": 553,
    "start_time": "2024-04-09T10:04:54.793Z"
   },
   {
    "duration": 177,
    "start_time": "2024-04-09T10:04:55.349Z"
   },
   {
    "duration": 107,
    "start_time": "2024-04-09T10:04:55.527Z"
   },
   {
    "duration": 209,
    "start_time": "2024-04-09T10:04:55.636Z"
   },
   {
    "duration": 104,
    "start_time": "2024-04-09T10:04:55.847Z"
   },
   {
    "duration": 20,
    "start_time": "2024-04-09T10:04:55.952Z"
   },
   {
    "duration": 87,
    "start_time": "2024-04-09T10:04:55.974Z"
   },
   {
    "duration": 209,
    "start_time": "2024-04-09T10:04:56.062Z"
   },
   {
    "duration": 3,
    "start_time": "2024-04-09T10:04:56.273Z"
   },
   {
    "duration": 330,
    "start_time": "2024-04-09T10:04:56.278Z"
   },
   {
    "duration": 6,
    "start_time": "2024-04-09T10:04:56.611Z"
   },
   {
    "duration": 10,
    "start_time": "2024-04-09T10:04:56.618Z"
   },
   {
    "duration": 51,
    "start_time": "2024-04-09T10:04:56.629Z"
   },
   {
    "duration": 24,
    "start_time": "2024-04-09T10:04:56.681Z"
   },
   {
    "duration": 21,
    "start_time": "2024-04-09T10:04:56.706Z"
   },
   {
    "duration": 0,
    "start_time": "2024-04-09T10:20:02.669Z"
   },
   {
    "duration": 0,
    "start_time": "2024-04-09T10:20:02.670Z"
   },
   {
    "duration": 0,
    "start_time": "2024-04-09T10:20:02.672Z"
   },
   {
    "duration": 0,
    "start_time": "2024-04-09T10:20:02.674Z"
   },
   {
    "duration": 0,
    "start_time": "2024-04-09T10:20:02.675Z"
   },
   {
    "duration": 0,
    "start_time": "2024-04-09T10:20:02.676Z"
   },
   {
    "duration": 0,
    "start_time": "2024-04-09T10:20:02.677Z"
   },
   {
    "duration": 0,
    "start_time": "2024-04-09T10:20:02.678Z"
   },
   {
    "duration": 0,
    "start_time": "2024-04-09T10:20:02.702Z"
   },
   {
    "duration": 0,
    "start_time": "2024-04-09T10:20:02.703Z"
   },
   {
    "duration": 0,
    "start_time": "2024-04-09T10:20:02.704Z"
   },
   {
    "duration": 0,
    "start_time": "2024-04-09T10:20:02.705Z"
   },
   {
    "duration": 0,
    "start_time": "2024-04-09T10:20:02.706Z"
   },
   {
    "duration": 0,
    "start_time": "2024-04-09T10:20:02.707Z"
   },
   {
    "duration": 0,
    "start_time": "2024-04-09T10:20:02.709Z"
   },
   {
    "duration": 0,
    "start_time": "2024-04-09T10:20:02.710Z"
   },
   {
    "duration": 0,
    "start_time": "2024-04-09T10:20:02.711Z"
   },
   {
    "duration": 0,
    "start_time": "2024-04-09T10:20:02.712Z"
   },
   {
    "duration": 0,
    "start_time": "2024-04-09T10:20:02.713Z"
   },
   {
    "duration": 0,
    "start_time": "2024-04-09T10:20:02.714Z"
   },
   {
    "duration": 0,
    "start_time": "2024-04-09T10:20:02.715Z"
   },
   {
    "duration": 0,
    "start_time": "2024-04-09T10:20:02.716Z"
   },
   {
    "duration": 0,
    "start_time": "2024-04-09T10:20:02.717Z"
   },
   {
    "duration": 0,
    "start_time": "2024-04-09T10:20:02.718Z"
   },
   {
    "duration": 0,
    "start_time": "2024-04-09T10:20:02.719Z"
   },
   {
    "duration": 0,
    "start_time": "2024-04-09T10:20:02.720Z"
   },
   {
    "duration": 0,
    "start_time": "2024-04-09T10:20:02.722Z"
   },
   {
    "duration": 0,
    "start_time": "2024-04-09T10:20:02.723Z"
   },
   {
    "duration": 0,
    "start_time": "2024-04-09T10:20:02.724Z"
   },
   {
    "duration": 0,
    "start_time": "2024-04-09T10:20:02.725Z"
   },
   {
    "duration": 0,
    "start_time": "2024-04-09T10:20:02.726Z"
   },
   {
    "duration": 0,
    "start_time": "2024-04-09T10:20:02.727Z"
   },
   {
    "duration": 0,
    "start_time": "2024-04-09T10:20:02.728Z"
   },
   {
    "duration": 0,
    "start_time": "2024-04-09T10:20:02.729Z"
   },
   {
    "duration": 0,
    "start_time": "2024-04-09T10:20:02.731Z"
   },
   {
    "duration": 0,
    "start_time": "2024-04-09T10:20:02.731Z"
   },
   {
    "duration": 0,
    "start_time": "2024-04-09T10:20:02.732Z"
   },
   {
    "duration": 0,
    "start_time": "2024-04-09T10:20:02.733Z"
   },
   {
    "duration": 0,
    "start_time": "2024-04-09T10:20:02.734Z"
   },
   {
    "duration": 0,
    "start_time": "2024-04-09T10:20:02.735Z"
   },
   {
    "duration": 1139,
    "start_time": "2024-04-09T10:20:07.034Z"
   },
   {
    "duration": 279,
    "start_time": "2024-04-09T10:20:08.175Z"
   },
   {
    "duration": 73,
    "start_time": "2024-04-09T10:20:08.456Z"
   },
   {
    "duration": 346,
    "start_time": "2024-04-09T10:20:08.531Z"
   },
   {
    "duration": 183,
    "start_time": "2024-04-09T10:20:08.878Z"
   },
   {
    "duration": 99,
    "start_time": "2024-04-09T10:20:09.062Z"
   },
   {
    "duration": 203,
    "start_time": "2024-04-09T10:20:09.163Z"
   },
   {
    "duration": 108,
    "start_time": "2024-04-09T10:20:09.367Z"
   },
   {
    "duration": 27,
    "start_time": "2024-04-09T10:20:09.476Z"
   },
   {
    "duration": 71,
    "start_time": "2024-04-09T10:20:09.506Z"
   },
   {
    "duration": 215,
    "start_time": "2024-04-09T10:20:09.578Z"
   },
   {
    "duration": 3,
    "start_time": "2024-04-09T10:20:09.795Z"
   },
   {
    "duration": 320,
    "start_time": "2024-04-09T10:20:09.801Z"
   },
   {
    "duration": 4,
    "start_time": "2024-04-09T10:20:10.122Z"
   },
   {
    "duration": 16,
    "start_time": "2024-04-09T10:20:10.128Z"
   },
   {
    "duration": 65,
    "start_time": "2024-04-09T10:20:10.145Z"
   },
   {
    "duration": 11,
    "start_time": "2024-04-09T10:20:10.211Z"
   },
   {
    "duration": 11,
    "start_time": "2024-04-09T10:20:10.224Z"
   },
   {
    "duration": 9,
    "start_time": "2024-04-09T10:20:10.236Z"
   },
   {
    "duration": 3,
    "start_time": "2024-04-09T10:20:10.246Z"
   },
   {
    "duration": 1772,
    "start_time": "2024-04-09T10:20:10.251Z"
   },
   {
    "duration": 1623,
    "start_time": "2024-04-09T10:20:12.024Z"
   },
   {
    "duration": 1706,
    "start_time": "2024-04-09T10:20:13.649Z"
   },
   {
    "duration": 169,
    "start_time": "2024-04-09T10:20:15.356Z"
   },
   {
    "duration": 153,
    "start_time": "2024-04-09T10:20:15.526Z"
   },
   {
    "duration": 35,
    "start_time": "2024-04-09T10:20:15.681Z"
   },
   {
    "duration": 21,
    "start_time": "2024-04-09T10:20:15.717Z"
   },
   {
    "duration": 78,
    "start_time": "2024-04-09T10:20:15.741Z"
   },
   {
    "duration": 42,
    "start_time": "2024-04-09T10:20:15.821Z"
   },
   {
    "duration": 56,
    "start_time": "2024-04-09T10:20:15.865Z"
   },
   {
    "duration": 22,
    "start_time": "2024-04-09T10:20:15.923Z"
   },
   {
    "duration": 9,
    "start_time": "2024-04-09T10:20:15.946Z"
   },
   {
    "duration": 28,
    "start_time": "2024-04-09T10:20:15.956Z"
   },
   {
    "duration": 31,
    "start_time": "2024-04-09T10:20:15.985Z"
   },
   {
    "duration": 1485,
    "start_time": "2024-04-09T10:20:16.017Z"
   },
   {
    "duration": 43670,
    "start_time": "2024-04-09T10:20:17.504Z"
   },
   {
    "duration": 7,
    "start_time": "2024-04-09T10:21:01.175Z"
   },
   {
    "duration": 358073,
    "start_time": "2024-04-09T10:21:01.183Z"
   },
   {
    "duration": 92515,
    "start_time": "2024-04-09T10:26:59.257Z"
   },
   {
    "duration": 7,
    "start_time": "2024-04-09T10:28:31.773Z"
   },
   {
    "duration": 65,
    "start_time": "2024-04-09T10:45:01.753Z"
   },
   {
    "duration": 1617,
    "start_time": "2024-04-09T10:45:09.029Z"
   },
   {
    "duration": 484,
    "start_time": "2024-04-09T10:45:10.648Z"
   },
   {
    "duration": 149,
    "start_time": "2024-04-09T10:45:11.133Z"
   },
   {
    "duration": 559,
    "start_time": "2024-04-09T10:45:11.283Z"
   },
   {
    "duration": 210,
    "start_time": "2024-04-09T10:45:11.844Z"
   },
   {
    "duration": 121,
    "start_time": "2024-04-09T10:45:12.055Z"
   },
   {
    "duration": 235,
    "start_time": "2024-04-09T10:45:12.177Z"
   },
   {
    "duration": 111,
    "start_time": "2024-04-09T10:45:12.413Z"
   },
   {
    "duration": 26,
    "start_time": "2024-04-09T10:45:12.526Z"
   },
   {
    "duration": 96,
    "start_time": "2024-04-09T10:45:12.553Z"
   },
   {
    "duration": 206,
    "start_time": "2024-04-09T10:45:12.650Z"
   },
   {
    "duration": 4,
    "start_time": "2024-04-09T10:45:12.857Z"
   },
   {
    "duration": 353,
    "start_time": "2024-04-09T10:45:12.862Z"
   },
   {
    "duration": 4,
    "start_time": "2024-04-09T10:45:13.217Z"
   },
   {
    "duration": 49,
    "start_time": "2024-04-09T10:45:13.222Z"
   },
   {
    "duration": 72,
    "start_time": "2024-04-09T10:45:13.273Z"
   },
   {
    "duration": 122,
    "start_time": "2024-04-09T10:45:13.346Z"
   },
   {
    "duration": 0,
    "start_time": "2024-04-09T10:45:13.470Z"
   },
   {
    "duration": 0,
    "start_time": "2024-04-09T10:45:13.471Z"
   },
   {
    "duration": 0,
    "start_time": "2024-04-09T10:45:13.473Z"
   },
   {
    "duration": 0,
    "start_time": "2024-04-09T10:45:13.474Z"
   },
   {
    "duration": 0,
    "start_time": "2024-04-09T10:45:13.476Z"
   },
   {
    "duration": 0,
    "start_time": "2024-04-09T10:45:13.477Z"
   },
   {
    "duration": 0,
    "start_time": "2024-04-09T10:45:13.478Z"
   },
   {
    "duration": 0,
    "start_time": "2024-04-09T10:45:13.480Z"
   },
   {
    "duration": 0,
    "start_time": "2024-04-09T10:45:13.481Z"
   },
   {
    "duration": 0,
    "start_time": "2024-04-09T10:45:13.483Z"
   },
   {
    "duration": 1,
    "start_time": "2024-04-09T10:45:13.483Z"
   },
   {
    "duration": 0,
    "start_time": "2024-04-09T10:45:13.485Z"
   },
   {
    "duration": 0,
    "start_time": "2024-04-09T10:45:13.486Z"
   },
   {
    "duration": 0,
    "start_time": "2024-04-09T10:45:13.487Z"
   },
   {
    "duration": 0,
    "start_time": "2024-04-09T10:45:13.488Z"
   },
   {
    "duration": 0,
    "start_time": "2024-04-09T10:45:13.489Z"
   },
   {
    "duration": 0,
    "start_time": "2024-04-09T10:45:13.490Z"
   },
   {
    "duration": 0,
    "start_time": "2024-04-09T10:45:13.492Z"
   },
   {
    "duration": 0,
    "start_time": "2024-04-09T10:45:13.493Z"
   },
   {
    "duration": 0,
    "start_time": "2024-04-09T10:45:13.494Z"
   },
   {
    "duration": 0,
    "start_time": "2024-04-09T10:45:13.495Z"
   },
   {
    "duration": 0,
    "start_time": "2024-04-09T10:45:13.496Z"
   },
   {
    "duration": 0,
    "start_time": "2024-04-09T10:45:13.497Z"
   },
   {
    "duration": 14,
    "start_time": "2024-04-09T10:46:49.948Z"
   },
   {
    "duration": 13,
    "start_time": "2024-04-09T10:47:05.836Z"
   },
   {
    "duration": 14,
    "start_time": "2024-04-09T10:47:55.675Z"
   },
   {
    "duration": 11,
    "start_time": "2024-04-09T10:48:12.592Z"
   },
   {
    "duration": 24,
    "start_time": "2024-04-09T10:48:26.183Z"
   },
   {
    "duration": 13,
    "start_time": "2024-04-09T10:48:48.868Z"
   },
   {
    "duration": 11,
    "start_time": "2024-04-09T10:48:59.678Z"
   },
   {
    "duration": 10,
    "start_time": "2024-04-09T10:49:09.778Z"
   },
   {
    "duration": 13,
    "start_time": "2024-04-09T10:50:02.216Z"
   },
   {
    "duration": 15,
    "start_time": "2024-04-09T10:50:12.227Z"
   },
   {
    "duration": 8,
    "start_time": "2024-04-09T10:51:22.530Z"
   },
   {
    "duration": 26,
    "start_time": "2024-04-09T10:51:39.940Z"
   },
   {
    "duration": 28,
    "start_time": "2024-04-09T10:52:14.815Z"
   },
   {
    "duration": 16,
    "start_time": "2024-04-09T10:53:31.825Z"
   },
   {
    "duration": 1369,
    "start_time": "2024-04-09T10:55:54.936Z"
   },
   {
    "duration": 323,
    "start_time": "2024-04-09T10:55:56.306Z"
   },
   {
    "duration": 83,
    "start_time": "2024-04-09T10:55:56.631Z"
   },
   {
    "duration": 385,
    "start_time": "2024-04-09T10:55:56.717Z"
   },
   {
    "duration": 227,
    "start_time": "2024-04-09T10:55:57.103Z"
   },
   {
    "duration": 127,
    "start_time": "2024-04-09T10:55:57.332Z"
   },
   {
    "duration": 240,
    "start_time": "2024-04-09T10:55:57.461Z"
   },
   {
    "duration": 112,
    "start_time": "2024-04-09T10:55:57.703Z"
   },
   {
    "duration": 32,
    "start_time": "2024-04-09T10:55:57.816Z"
   },
   {
    "duration": 79,
    "start_time": "2024-04-09T10:55:57.851Z"
   },
   {
    "duration": 221,
    "start_time": "2024-04-09T10:55:57.932Z"
   },
   {
    "duration": 3,
    "start_time": "2024-04-09T10:55:58.155Z"
   },
   {
    "duration": 355,
    "start_time": "2024-04-09T10:55:58.160Z"
   },
   {
    "duration": 4,
    "start_time": "2024-04-09T10:55:58.516Z"
   },
   {
    "duration": 11,
    "start_time": "2024-04-09T10:55:58.522Z"
   },
   {
    "duration": 71,
    "start_time": "2024-04-09T10:55:58.534Z"
   },
   {
    "duration": 26,
    "start_time": "2024-04-09T10:55:58.607Z"
   },
   {
    "duration": 24,
    "start_time": "2024-04-09T10:55:58.635Z"
   },
   {
    "duration": 128,
    "start_time": "2024-04-09T10:55:58.661Z"
   },
   {
    "duration": 0,
    "start_time": "2024-04-09T10:55:58.791Z"
   },
   {
    "duration": 0,
    "start_time": "2024-04-09T10:55:58.794Z"
   },
   {
    "duration": 0,
    "start_time": "2024-04-09T10:55:58.795Z"
   },
   {
    "duration": 0,
    "start_time": "2024-04-09T10:55:58.796Z"
   },
   {
    "duration": 0,
    "start_time": "2024-04-09T10:55:58.797Z"
   },
   {
    "duration": 0,
    "start_time": "2024-04-09T10:55:58.798Z"
   },
   {
    "duration": 0,
    "start_time": "2024-04-09T10:55:58.800Z"
   },
   {
    "duration": 0,
    "start_time": "2024-04-09T10:55:58.802Z"
   },
   {
    "duration": 0,
    "start_time": "2024-04-09T10:55:58.803Z"
   },
   {
    "duration": 0,
    "start_time": "2024-04-09T10:55:58.804Z"
   },
   {
    "duration": 0,
    "start_time": "2024-04-09T10:55:58.806Z"
   },
   {
    "duration": 0,
    "start_time": "2024-04-09T10:55:58.807Z"
   },
   {
    "duration": 0,
    "start_time": "2024-04-09T10:55:58.808Z"
   },
   {
    "duration": 0,
    "start_time": "2024-04-09T10:55:58.810Z"
   },
   {
    "duration": 0,
    "start_time": "2024-04-09T10:55:58.811Z"
   },
   {
    "duration": 0,
    "start_time": "2024-04-09T10:55:58.812Z"
   },
   {
    "duration": 0,
    "start_time": "2024-04-09T10:55:58.846Z"
   },
   {
    "duration": 0,
    "start_time": "2024-04-09T10:55:58.847Z"
   },
   {
    "duration": 0,
    "start_time": "2024-04-09T10:55:58.849Z"
   },
   {
    "duration": 1,
    "start_time": "2024-04-09T10:55:58.849Z"
   },
   {
    "duration": 0,
    "start_time": "2024-04-09T10:55:58.851Z"
   },
   {
    "duration": 0,
    "start_time": "2024-04-09T10:55:58.852Z"
   },
   {
    "duration": 13,
    "start_time": "2024-04-09T10:57:38.376Z"
   },
   {
    "duration": 12,
    "start_time": "2024-04-09T10:57:58.914Z"
   },
   {
    "duration": 10,
    "start_time": "2024-04-09T10:58:01.434Z"
   },
   {
    "duration": 3,
    "start_time": "2024-04-09T11:24:52.425Z"
   },
   {
    "duration": 3,
    "start_time": "2024-04-09T11:24:56.118Z"
   },
   {
    "duration": 59,
    "start_time": "2024-04-09T11:31:19.526Z"
   },
   {
    "duration": 75,
    "start_time": "2024-04-09T11:31:27.587Z"
   },
   {
    "duration": 8,
    "start_time": "2024-04-09T11:31:33.267Z"
   },
   {
    "duration": 2,
    "start_time": "2024-04-09T11:31:39.774Z"
   },
   {
    "duration": 7,
    "start_time": "2024-04-09T11:34:58.913Z"
   },
   {
    "duration": 8,
    "start_time": "2024-04-09T11:35:16.955Z"
   },
   {
    "duration": 8,
    "start_time": "2024-04-09T11:35:20.407Z"
   },
   {
    "duration": 4,
    "start_time": "2024-04-09T11:39:47.312Z"
   },
   {
    "duration": 7,
    "start_time": "2024-04-09T12:40:04.189Z"
   },
   {
    "duration": 12,
    "start_time": "2024-04-09T12:40:05.924Z"
   },
   {
    "duration": 19,
    "start_time": "2024-04-09T12:42:05.605Z"
   },
   {
    "duration": 1043,
    "start_time": "2024-04-09T12:43:15.099Z"
   },
   {
    "duration": 1009,
    "start_time": "2024-04-09T12:43:21.394Z"
   },
   {
    "duration": 17,
    "start_time": "2024-04-09T12:43:32.596Z"
   },
   {
    "duration": 22,
    "start_time": "2024-04-09T12:43:44.498Z"
   },
   {
    "duration": 1318,
    "start_time": "2024-04-09T12:49:17.005Z"
   },
   {
    "duration": 334,
    "start_time": "2024-04-09T12:49:18.325Z"
   },
   {
    "duration": 85,
    "start_time": "2024-04-09T12:49:18.660Z"
   },
   {
    "duration": 407,
    "start_time": "2024-04-09T12:49:18.747Z"
   },
   {
    "duration": 210,
    "start_time": "2024-04-09T12:49:19.156Z"
   },
   {
    "duration": 118,
    "start_time": "2024-04-09T12:49:19.368Z"
   },
   {
    "duration": 229,
    "start_time": "2024-04-09T12:49:19.488Z"
   },
   {
    "duration": 108,
    "start_time": "2024-04-09T12:49:19.718Z"
   },
   {
    "duration": 28,
    "start_time": "2024-04-09T12:49:19.828Z"
   },
   {
    "duration": 89,
    "start_time": "2024-04-09T12:49:19.858Z"
   },
   {
    "duration": 221,
    "start_time": "2024-04-09T12:49:19.948Z"
   },
   {
    "duration": 3,
    "start_time": "2024-04-09T12:49:20.170Z"
   },
   {
    "duration": 333,
    "start_time": "2024-04-09T12:49:20.175Z"
   },
   {
    "duration": 5,
    "start_time": "2024-04-09T12:49:20.509Z"
   },
   {
    "duration": 17,
    "start_time": "2024-04-09T12:49:20.516Z"
   },
   {
    "duration": 76,
    "start_time": "2024-04-09T12:49:20.534Z"
   },
   {
    "duration": 25,
    "start_time": "2024-04-09T12:49:20.611Z"
   },
   {
    "duration": 41,
    "start_time": "2024-04-09T12:49:20.637Z"
   },
   {
    "duration": 49,
    "start_time": "2024-04-09T12:49:20.679Z"
   },
   {
    "duration": 55,
    "start_time": "2024-04-09T12:49:20.729Z"
   },
   {
    "duration": 32,
    "start_time": "2024-04-09T12:49:20.785Z"
   },
   {
    "duration": 26,
    "start_time": "2024-04-09T12:49:20.818Z"
   },
   {
    "duration": 15,
    "start_time": "2024-04-09T12:49:20.846Z"
   },
   {
    "duration": 2072,
    "start_time": "2024-04-09T12:49:20.862Z"
   },
   {
    "duration": 1897,
    "start_time": "2024-04-09T12:49:22.935Z"
   },
   {
    "duration": 1967,
    "start_time": "2024-04-09T12:49:24.833Z"
   },
   {
    "duration": 185,
    "start_time": "2024-04-09T12:49:26.802Z"
   },
   {
    "duration": 171,
    "start_time": "2024-04-09T12:49:26.991Z"
   },
   {
    "duration": 32,
    "start_time": "2024-04-09T12:49:27.164Z"
   },
   {
    "duration": 4,
    "start_time": "2024-04-09T12:49:27.198Z"
   },
   {
    "duration": 27,
    "start_time": "2024-04-09T12:49:27.204Z"
   },
   {
    "duration": 14,
    "start_time": "2024-04-09T12:49:27.232Z"
   },
   {
    "duration": 9,
    "start_time": "2024-04-09T12:49:27.247Z"
   },
   {
    "duration": 8,
    "start_time": "2024-04-09T12:49:27.257Z"
   },
   {
    "duration": 6,
    "start_time": "2024-04-09T12:49:27.266Z"
   },
   {
    "duration": 25,
    "start_time": "2024-04-09T12:49:27.273Z"
   },
   {
    "duration": 11,
    "start_time": "2024-04-09T12:49:27.300Z"
   },
   {
    "duration": 1439,
    "start_time": "2024-04-09T12:49:27.312Z"
   },
   {
    "duration": 32885,
    "start_time": "2024-04-09T12:49:28.753Z"
   },
   {
    "duration": 11,
    "start_time": "2024-04-09T12:50:01.639Z"
   },
   {
    "duration": 1411,
    "start_time": "2024-04-09T12:52:28.215Z"
   },
   {
    "duration": 163,
    "start_time": "2024-04-09T12:52:29.628Z"
   },
   {
    "duration": 0,
    "start_time": "2024-04-09T12:52:29.794Z"
   },
   {
    "duration": 0,
    "start_time": "2024-04-09T12:52:29.795Z"
   },
   {
    "duration": 0,
    "start_time": "2024-04-09T12:52:29.796Z"
   },
   {
    "duration": 0,
    "start_time": "2024-04-09T12:52:29.797Z"
   },
   {
    "duration": 1,
    "start_time": "2024-04-09T12:52:29.798Z"
   },
   {
    "duration": 0,
    "start_time": "2024-04-09T12:52:29.799Z"
   },
   {
    "duration": 0,
    "start_time": "2024-04-09T12:52:29.801Z"
   },
   {
    "duration": 0,
    "start_time": "2024-04-09T12:52:29.802Z"
   },
   {
    "duration": 0,
    "start_time": "2024-04-09T12:52:29.803Z"
   },
   {
    "duration": 0,
    "start_time": "2024-04-09T12:52:29.804Z"
   },
   {
    "duration": 0,
    "start_time": "2024-04-09T12:52:29.805Z"
   },
   {
    "duration": 0,
    "start_time": "2024-04-09T12:52:29.806Z"
   },
   {
    "duration": 0,
    "start_time": "2024-04-09T12:52:29.807Z"
   },
   {
    "duration": 0,
    "start_time": "2024-04-09T12:52:29.808Z"
   },
   {
    "duration": 0,
    "start_time": "2024-04-09T12:52:29.810Z"
   },
   {
    "duration": 0,
    "start_time": "2024-04-09T12:52:29.810Z"
   },
   {
    "duration": 0,
    "start_time": "2024-04-09T12:52:29.812Z"
   },
   {
    "duration": 0,
    "start_time": "2024-04-09T12:52:29.813Z"
   },
   {
    "duration": 0,
    "start_time": "2024-04-09T12:52:29.844Z"
   },
   {
    "duration": 0,
    "start_time": "2024-04-09T12:52:29.846Z"
   },
   {
    "duration": 0,
    "start_time": "2024-04-09T12:52:29.847Z"
   },
   {
    "duration": 0,
    "start_time": "2024-04-09T12:52:29.848Z"
   },
   {
    "duration": 0,
    "start_time": "2024-04-09T12:52:29.849Z"
   },
   {
    "duration": 0,
    "start_time": "2024-04-09T12:52:29.850Z"
   },
   {
    "duration": 0,
    "start_time": "2024-04-09T12:52:29.851Z"
   },
   {
    "duration": 0,
    "start_time": "2024-04-09T12:52:29.852Z"
   },
   {
    "duration": 0,
    "start_time": "2024-04-09T12:52:29.852Z"
   },
   {
    "duration": 0,
    "start_time": "2024-04-09T12:52:29.853Z"
   },
   {
    "duration": 0,
    "start_time": "2024-04-09T12:52:29.854Z"
   },
   {
    "duration": 0,
    "start_time": "2024-04-09T12:52:29.855Z"
   },
   {
    "duration": 0,
    "start_time": "2024-04-09T12:52:29.856Z"
   },
   {
    "duration": 0,
    "start_time": "2024-04-09T12:52:29.857Z"
   },
   {
    "duration": 0,
    "start_time": "2024-04-09T12:52:29.858Z"
   },
   {
    "duration": 0,
    "start_time": "2024-04-09T12:52:29.859Z"
   },
   {
    "duration": 0,
    "start_time": "2024-04-09T12:52:29.860Z"
   },
   {
    "duration": 0,
    "start_time": "2024-04-09T12:52:29.861Z"
   },
   {
    "duration": 0,
    "start_time": "2024-04-09T12:52:29.862Z"
   },
   {
    "duration": 0,
    "start_time": "2024-04-09T12:52:29.862Z"
   },
   {
    "duration": 0,
    "start_time": "2024-04-09T12:52:29.863Z"
   },
   {
    "duration": 0,
    "start_time": "2024-04-09T12:52:29.864Z"
   },
   {
    "duration": 0,
    "start_time": "2024-04-09T12:52:29.865Z"
   },
   {
    "duration": 0,
    "start_time": "2024-04-09T12:52:29.866Z"
   },
   {
    "duration": 0,
    "start_time": "2024-04-09T12:52:29.867Z"
   },
   {
    "duration": 1352,
    "start_time": "2024-04-09T12:53:35.522Z"
   },
   {
    "duration": 795,
    "start_time": "2024-04-09T12:53:36.876Z"
   },
   {
    "duration": 16,
    "start_time": "2024-04-09T12:53:37.673Z"
   },
   {
    "duration": 87,
    "start_time": "2024-04-09T12:53:37.691Z"
   },
   {
    "duration": 420,
    "start_time": "2024-04-09T12:53:37.779Z"
   },
   {
    "duration": 219,
    "start_time": "2024-04-09T12:53:38.200Z"
   },
   {
    "duration": 122,
    "start_time": "2024-04-09T12:53:38.420Z"
   },
   {
    "duration": 226,
    "start_time": "2024-04-09T12:53:38.546Z"
   },
   {
    "duration": 108,
    "start_time": "2024-04-09T12:53:38.774Z"
   },
   {
    "duration": 22,
    "start_time": "2024-04-09T12:53:38.884Z"
   },
   {
    "duration": 87,
    "start_time": "2024-04-09T12:53:38.908Z"
   },
   {
    "duration": 198,
    "start_time": "2024-04-09T12:53:38.996Z"
   },
   {
    "duration": 2,
    "start_time": "2024-04-09T12:53:39.196Z"
   },
   {
    "duration": 289,
    "start_time": "2024-04-09T12:53:39.200Z"
   },
   {
    "duration": 5,
    "start_time": "2024-04-09T12:53:39.490Z"
   },
   {
    "duration": 14,
    "start_time": "2024-04-09T12:53:39.496Z"
   },
   {
    "duration": 52,
    "start_time": "2024-04-09T12:53:39.512Z"
   },
   {
    "duration": 20,
    "start_time": "2024-04-09T12:53:39.565Z"
   },
   {
    "duration": 19,
    "start_time": "2024-04-09T12:53:39.586Z"
   },
   {
    "duration": 21,
    "start_time": "2024-04-09T12:53:39.606Z"
   },
   {
    "duration": 31,
    "start_time": "2024-04-09T12:53:39.628Z"
   },
   {
    "duration": 162,
    "start_time": "2024-04-09T12:53:39.660Z"
   },
   {
    "duration": 6,
    "start_time": "2024-04-09T12:53:39.824Z"
   },
   {
    "duration": 14,
    "start_time": "2024-04-09T12:53:39.832Z"
   },
   {
    "duration": 1956,
    "start_time": "2024-04-09T12:53:39.847Z"
   },
   {
    "duration": 1963,
    "start_time": "2024-04-09T12:53:41.805Z"
   },
   {
    "duration": 2024,
    "start_time": "2024-04-09T12:53:43.770Z"
   },
   {
    "duration": 201,
    "start_time": "2024-04-09T12:53:45.797Z"
   },
   {
    "duration": 227,
    "start_time": "2024-04-09T12:53:46.000Z"
   },
   {
    "duration": 40,
    "start_time": "2024-04-09T12:53:46.229Z"
   },
   {
    "duration": 5,
    "start_time": "2024-04-09T12:53:46.271Z"
   },
   {
    "duration": 27,
    "start_time": "2024-04-09T12:53:46.278Z"
   },
   {
    "duration": 143,
    "start_time": "2024-04-09T12:53:46.307Z"
   },
   {
    "duration": 0,
    "start_time": "2024-04-09T12:53:46.451Z"
   },
   {
    "duration": 0,
    "start_time": "2024-04-09T12:53:46.453Z"
   },
   {
    "duration": 0,
    "start_time": "2024-04-09T12:53:46.454Z"
   },
   {
    "duration": 0,
    "start_time": "2024-04-09T12:53:46.456Z"
   },
   {
    "duration": 0,
    "start_time": "2024-04-09T12:53:46.457Z"
   },
   {
    "duration": 0,
    "start_time": "2024-04-09T12:53:46.458Z"
   },
   {
    "duration": 0,
    "start_time": "2024-04-09T12:53:46.461Z"
   },
   {
    "duration": 0,
    "start_time": "2024-04-09T12:53:46.462Z"
   },
   {
    "duration": 0,
    "start_time": "2024-04-09T12:53:46.463Z"
   },
   {
    "duration": 0,
    "start_time": "2024-04-09T12:53:46.464Z"
   },
   {
    "duration": 0,
    "start_time": "2024-04-09T12:53:46.465Z"
   },
   {
    "duration": 0,
    "start_time": "2024-04-09T12:53:46.466Z"
   },
   {
    "duration": 1363,
    "start_time": "2024-04-09T12:54:06.403Z"
   },
   {
    "duration": 814,
    "start_time": "2024-04-09T12:54:07.768Z"
   },
   {
    "duration": 15,
    "start_time": "2024-04-09T12:54:08.583Z"
   },
   {
    "duration": 11,
    "start_time": "2024-04-09T12:54:08.600Z"
   },
   {
    "duration": 33,
    "start_time": "2024-04-09T12:54:08.612Z"
   },
   {
    "duration": 240,
    "start_time": "2024-04-09T12:54:08.647Z"
   },
   {
    "duration": 126,
    "start_time": "2024-04-09T12:54:08.888Z"
   },
   {
    "duration": 247,
    "start_time": "2024-04-09T12:54:09.016Z"
   },
   {
    "duration": 122,
    "start_time": "2024-04-09T12:54:09.265Z"
   },
   {
    "duration": 28,
    "start_time": "2024-04-09T12:54:09.389Z"
   },
   {
    "duration": 112,
    "start_time": "2024-04-09T12:54:09.419Z"
   },
   {
    "duration": 212,
    "start_time": "2024-04-09T12:54:09.533Z"
   },
   {
    "duration": 3,
    "start_time": "2024-04-09T12:54:09.746Z"
   },
   {
    "duration": 299,
    "start_time": "2024-04-09T12:54:09.750Z"
   },
   {
    "duration": 5,
    "start_time": "2024-04-09T12:54:10.050Z"
   },
   {
    "duration": 18,
    "start_time": "2024-04-09T12:54:10.057Z"
   },
   {
    "duration": 53,
    "start_time": "2024-04-09T12:54:10.077Z"
   },
   {
    "duration": 30,
    "start_time": "2024-04-09T12:54:10.131Z"
   },
   {
    "duration": 20,
    "start_time": "2024-04-09T12:54:10.163Z"
   },
   {
    "duration": 23,
    "start_time": "2024-04-09T12:54:10.184Z"
   },
   {
    "duration": 41,
    "start_time": "2024-04-09T12:54:10.209Z"
   },
   {
    "duration": 18,
    "start_time": "2024-04-09T12:54:10.252Z"
   },
   {
    "duration": 7,
    "start_time": "2024-04-09T12:54:10.272Z"
   },
   {
    "duration": 9,
    "start_time": "2024-04-09T12:54:10.280Z"
   },
   {
    "duration": 2206,
    "start_time": "2024-04-09T12:54:10.290Z"
   },
   {
    "duration": 1995,
    "start_time": "2024-04-09T12:54:12.498Z"
   },
   {
    "duration": 2081,
    "start_time": "2024-04-09T12:54:14.494Z"
   },
   {
    "duration": 224,
    "start_time": "2024-04-09T12:54:16.578Z"
   },
   {
    "duration": 103,
    "start_time": "2024-04-09T12:54:16.804Z"
   },
   {
    "duration": 46,
    "start_time": "2024-04-09T12:54:16.909Z"
   },
   {
    "duration": 4,
    "start_time": "2024-04-09T12:54:16.957Z"
   },
   {
    "duration": 7,
    "start_time": "2024-04-09T12:54:16.962Z"
   },
   {
    "duration": 6,
    "start_time": "2024-04-09T12:54:16.970Z"
   },
   {
    "duration": 5,
    "start_time": "2024-04-09T12:54:16.977Z"
   },
   {
    "duration": 6,
    "start_time": "2024-04-09T12:54:16.984Z"
   },
   {
    "duration": 127,
    "start_time": "2024-04-09T12:54:16.991Z"
   },
   {
    "duration": 0,
    "start_time": "2024-04-09T12:54:17.120Z"
   },
   {
    "duration": 0,
    "start_time": "2024-04-09T12:54:17.121Z"
   },
   {
    "duration": 0,
    "start_time": "2024-04-09T12:54:17.122Z"
   },
   {
    "duration": 0,
    "start_time": "2024-04-09T12:54:17.123Z"
   },
   {
    "duration": 0,
    "start_time": "2024-04-09T12:54:17.124Z"
   },
   {
    "duration": 0,
    "start_time": "2024-04-09T12:54:17.126Z"
   },
   {
    "duration": 0,
    "start_time": "2024-04-09T12:54:17.127Z"
   },
   {
    "duration": 0,
    "start_time": "2024-04-09T12:54:17.128Z"
   },
   {
    "duration": 0,
    "start_time": "2024-04-09T12:54:17.128Z"
   },
   {
    "duration": 8,
    "start_time": "2024-04-09T12:56:21.546Z"
   },
   {
    "duration": 198,
    "start_time": "2024-04-09T12:56:38.265Z"
   },
   {
    "duration": 1480,
    "start_time": "2024-04-09T19:08:53.308Z"
   },
   {
    "duration": 1240,
    "start_time": "2024-04-09T19:08:54.790Z"
   },
   {
    "duration": 16,
    "start_time": "2024-04-09T19:08:56.031Z"
   },
   {
    "duration": 20,
    "start_time": "2024-04-09T19:08:56.048Z"
   },
   {
    "duration": 16,
    "start_time": "2024-04-09T19:08:56.071Z"
   },
   {
    "duration": 252,
    "start_time": "2024-04-09T19:08:56.088Z"
   },
   {
    "duration": 141,
    "start_time": "2024-04-09T19:08:56.342Z"
   },
   {
    "duration": 250,
    "start_time": "2024-04-09T19:08:56.484Z"
   },
   {
    "duration": 120,
    "start_time": "2024-04-09T19:08:56.736Z"
   },
   {
    "duration": 35,
    "start_time": "2024-04-09T19:08:56.858Z"
   },
   {
    "duration": 103,
    "start_time": "2024-04-09T19:08:56.895Z"
   },
   {
    "duration": 212,
    "start_time": "2024-04-09T19:08:57.000Z"
   },
   {
    "duration": 3,
    "start_time": "2024-04-09T19:08:57.214Z"
   },
   {
    "duration": 291,
    "start_time": "2024-04-09T19:08:57.221Z"
   },
   {
    "duration": 6,
    "start_time": "2024-04-09T19:08:57.514Z"
   },
   {
    "duration": 25,
    "start_time": "2024-04-09T19:08:57.522Z"
   },
   {
    "duration": 88,
    "start_time": "2024-04-09T19:08:57.549Z"
   },
   {
    "duration": 23,
    "start_time": "2024-04-09T19:08:57.639Z"
   },
   {
    "duration": 46,
    "start_time": "2024-04-09T19:08:57.664Z"
   },
   {
    "duration": 146,
    "start_time": "2024-04-09T19:08:57.713Z"
   },
   {
    "duration": 0,
    "start_time": "2024-04-09T19:08:57.861Z"
   },
   {
    "duration": 0,
    "start_time": "2024-04-09T19:08:57.862Z"
   },
   {
    "duration": 0,
    "start_time": "2024-04-09T19:08:57.863Z"
   },
   {
    "duration": 0,
    "start_time": "2024-04-09T19:08:57.864Z"
   },
   {
    "duration": 0,
    "start_time": "2024-04-09T19:08:57.865Z"
   },
   {
    "duration": 0,
    "start_time": "2024-04-09T19:08:57.866Z"
   },
   {
    "duration": 0,
    "start_time": "2024-04-09T19:08:57.867Z"
   },
   {
    "duration": 0,
    "start_time": "2024-04-09T19:08:57.868Z"
   },
   {
    "duration": 0,
    "start_time": "2024-04-09T19:08:57.869Z"
   },
   {
    "duration": 0,
    "start_time": "2024-04-09T19:08:57.871Z"
   },
   {
    "duration": 0,
    "start_time": "2024-04-09T19:08:57.872Z"
   },
   {
    "duration": 0,
    "start_time": "2024-04-09T19:08:57.873Z"
   },
   {
    "duration": 0,
    "start_time": "2024-04-09T19:08:57.874Z"
   },
   {
    "duration": 0,
    "start_time": "2024-04-09T19:08:57.875Z"
   },
   {
    "duration": 0,
    "start_time": "2024-04-09T19:08:57.876Z"
   },
   {
    "duration": 0,
    "start_time": "2024-04-09T19:08:57.877Z"
   },
   {
    "duration": 0,
    "start_time": "2024-04-09T19:08:57.878Z"
   },
   {
    "duration": 0,
    "start_time": "2024-04-09T19:08:57.879Z"
   },
   {
    "duration": 0,
    "start_time": "2024-04-09T19:08:57.881Z"
   },
   {
    "duration": 0,
    "start_time": "2024-04-09T19:08:57.882Z"
   },
   {
    "duration": 0,
    "start_time": "2024-04-09T19:08:57.883Z"
   },
   {
    "duration": 0,
    "start_time": "2024-04-09T19:08:57.884Z"
   },
   {
    "duration": 0,
    "start_time": "2024-04-09T19:08:57.885Z"
   },
   {
    "duration": 0,
    "start_time": "2024-04-09T19:08:57.886Z"
   },
   {
    "duration": 0,
    "start_time": "2024-04-09T19:08:57.887Z"
   },
   {
    "duration": 0,
    "start_time": "2024-04-09T19:08:57.888Z"
   },
   {
    "duration": 14,
    "start_time": "2024-04-09T19:09:15.056Z"
   },
   {
    "duration": 1421,
    "start_time": "2024-04-09T19:10:08.967Z"
   },
   {
    "duration": 833,
    "start_time": "2024-04-09T19:10:10.390Z"
   },
   {
    "duration": 19,
    "start_time": "2024-04-09T19:10:11.225Z"
   },
   {
    "duration": 20,
    "start_time": "2024-04-09T19:10:11.246Z"
   },
   {
    "duration": 18,
    "start_time": "2024-04-09T19:10:11.268Z"
   },
   {
    "duration": 257,
    "start_time": "2024-04-09T19:10:11.288Z"
   },
   {
    "duration": 128,
    "start_time": "2024-04-09T19:10:11.547Z"
   },
   {
    "duration": 245,
    "start_time": "2024-04-09T19:10:11.676Z"
   },
   {
    "duration": 115,
    "start_time": "2024-04-09T19:10:11.923Z"
   },
   {
    "duration": 28,
    "start_time": "2024-04-09T19:10:12.040Z"
   },
   {
    "duration": 82,
    "start_time": "2024-04-09T19:10:12.070Z"
   },
   {
    "duration": 235,
    "start_time": "2024-04-09T19:10:12.154Z"
   },
   {
    "duration": 4,
    "start_time": "2024-04-09T19:10:12.391Z"
   },
   {
    "duration": 369,
    "start_time": "2024-04-09T19:10:12.399Z"
   },
   {
    "duration": 5,
    "start_time": "2024-04-09T19:10:12.769Z"
   },
   {
    "duration": 9,
    "start_time": "2024-04-09T19:10:12.775Z"
   },
   {
    "duration": 54,
    "start_time": "2024-04-09T19:10:12.785Z"
   },
   {
    "duration": 33,
    "start_time": "2024-04-09T19:10:12.841Z"
   },
   {
    "duration": 31,
    "start_time": "2024-04-09T19:10:12.875Z"
   },
   {
    "duration": 14,
    "start_time": "2024-04-09T19:10:12.908Z"
   },
   {
    "duration": 19,
    "start_time": "2024-04-09T19:10:12.923Z"
   },
   {
    "duration": 42,
    "start_time": "2024-04-09T19:10:12.943Z"
   },
   {
    "duration": 10,
    "start_time": "2024-04-09T19:10:12.987Z"
   },
   {
    "duration": 13,
    "start_time": "2024-04-09T19:10:12.999Z"
   },
   {
    "duration": 5,
    "start_time": "2024-04-09T19:10:13.014Z"
   },
   {
    "duration": 2282,
    "start_time": "2024-04-09T19:10:13.021Z"
   },
   {
    "duration": 2186,
    "start_time": "2024-04-09T19:10:15.304Z"
   },
   {
    "duration": 2189,
    "start_time": "2024-04-09T19:10:17.492Z"
   },
   {
    "duration": 214,
    "start_time": "2024-04-09T19:10:19.683Z"
   },
   {
    "duration": 196,
    "start_time": "2024-04-09T19:10:19.899Z"
   },
   {
    "duration": 31,
    "start_time": "2024-04-09T19:10:20.097Z"
   },
   {
    "duration": 4,
    "start_time": "2024-04-09T19:10:20.130Z"
   },
   {
    "duration": 29,
    "start_time": "2024-04-09T19:10:20.135Z"
   },
   {
    "duration": 11,
    "start_time": "2024-04-09T19:10:20.166Z"
   },
   {
    "duration": 14,
    "start_time": "2024-04-09T19:10:20.179Z"
   },
   {
    "duration": 16,
    "start_time": "2024-04-09T19:10:20.194Z"
   },
   {
    "duration": 21,
    "start_time": "2024-04-09T19:10:20.211Z"
   },
   {
    "duration": 17,
    "start_time": "2024-04-09T19:10:20.233Z"
   },
   {
    "duration": 22,
    "start_time": "2024-04-09T19:10:20.251Z"
   },
   {
    "duration": 1297,
    "start_time": "2024-04-09T19:10:20.275Z"
   },
   {
    "duration": 34518,
    "start_time": "2024-04-09T19:10:21.578Z"
   },
   {
    "duration": 8,
    "start_time": "2024-04-09T19:10:56.098Z"
   },
   {
    "duration": 256550,
    "start_time": "2024-04-09T19:10:56.107Z"
   },
   {
    "duration": 66961,
    "start_time": "2024-04-09T19:15:12.658Z"
   },
   {
    "duration": 9,
    "start_time": "2024-04-09T19:16:19.621Z"
   },
   {
    "duration": 64,
    "start_time": "2024-04-09T19:16:19.632Z"
   },
   {
    "duration": 9,
    "start_time": "2024-04-09T19:16:58.734Z"
   },
   {
    "duration": 1734,
    "start_time": "2024-04-09T19:16:59.938Z"
   },
   {
    "duration": 34094,
    "start_time": "2024-04-09T19:17:02.793Z"
   },
   {
    "duration": 7,
    "start_time": "2024-04-09T19:17:36.888Z"
   },
   {
    "duration": 259928,
    "start_time": "2024-04-09T19:17:36.896Z"
   },
   {
    "duration": 67970,
    "start_time": "2024-04-09T19:21:56.826Z"
   },
   {
    "duration": 8,
    "start_time": "2024-04-09T19:23:04.797Z"
   },
   {
    "duration": 31,
    "start_time": "2024-04-09T19:23:04.807Z"
   },
   {
    "duration": 35,
    "start_time": "2024-04-09T19:24:42.350Z"
   },
   {
    "duration": 27,
    "start_time": "2024-04-09T19:25:03.080Z"
   },
   {
    "duration": 8,
    "start_time": "2024-04-09T19:25:24.741Z"
   },
   {
    "duration": 10,
    "start_time": "2024-04-09T19:25:25.714Z"
   },
   {
    "duration": 7,
    "start_time": "2024-04-09T19:26:34.771Z"
   },
   {
    "duration": 9,
    "start_time": "2024-04-09T19:26:41.123Z"
   },
   {
    "duration": 9,
    "start_time": "2024-04-09T19:26:59.349Z"
   },
   {
    "duration": 7,
    "start_time": "2024-04-09T19:27:05.494Z"
   },
   {
    "duration": 7,
    "start_time": "2024-04-09T19:27:26.332Z"
   },
   {
    "duration": 111,
    "start_time": "2024-04-09T19:27:30.755Z"
   },
   {
    "duration": 1395,
    "start_time": "2024-04-09T19:27:48.498Z"
   },
   {
    "duration": 827,
    "start_time": "2024-04-09T19:27:49.895Z"
   },
   {
    "duration": 18,
    "start_time": "2024-04-09T19:27:50.723Z"
   },
   {
    "duration": 25,
    "start_time": "2024-04-09T19:27:50.743Z"
   },
   {
    "duration": 19,
    "start_time": "2024-04-09T19:27:50.769Z"
   },
   {
    "duration": 233,
    "start_time": "2024-04-09T19:27:50.790Z"
   },
   {
    "duration": 132,
    "start_time": "2024-04-09T19:27:51.024Z"
   },
   {
    "duration": 246,
    "start_time": "2024-04-09T19:27:51.158Z"
   },
   {
    "duration": 121,
    "start_time": "2024-04-09T19:27:51.406Z"
   },
   {
    "duration": 37,
    "start_time": "2024-04-09T19:27:51.531Z"
   },
   {
    "duration": 100,
    "start_time": "2024-04-09T19:27:51.569Z"
   },
   {
    "duration": 227,
    "start_time": "2024-04-09T19:27:51.671Z"
   },
   {
    "duration": 3,
    "start_time": "2024-04-09T19:27:51.900Z"
   },
   {
    "duration": 351,
    "start_time": "2024-04-09T19:27:51.904Z"
   },
   {
    "duration": 11,
    "start_time": "2024-04-09T19:27:52.257Z"
   },
   {
    "duration": 10,
    "start_time": "2024-04-09T19:27:52.269Z"
   },
   {
    "duration": 71,
    "start_time": "2024-04-09T19:27:52.280Z"
   },
   {
    "duration": 20,
    "start_time": "2024-04-09T19:27:52.353Z"
   },
   {
    "duration": 25,
    "start_time": "2024-04-09T19:27:52.374Z"
   },
   {
    "duration": 18,
    "start_time": "2024-04-09T19:27:52.401Z"
   },
   {
    "duration": 6,
    "start_time": "2024-04-09T19:27:52.421Z"
   },
   {
    "duration": 30,
    "start_time": "2024-04-09T19:27:52.429Z"
   },
   {
    "duration": 25,
    "start_time": "2024-04-09T19:27:52.461Z"
   },
   {
    "duration": 27,
    "start_time": "2024-04-09T19:27:52.487Z"
   },
   {
    "duration": 2278,
    "start_time": "2024-04-09T19:27:52.515Z"
   },
   {
    "duration": 2173,
    "start_time": "2024-04-09T19:27:54.794Z"
   },
   {
    "duration": 2155,
    "start_time": "2024-04-09T19:27:56.968Z"
   },
   {
    "duration": 226,
    "start_time": "2024-04-09T19:27:59.126Z"
   },
   {
    "duration": 215,
    "start_time": "2024-04-09T19:27:59.354Z"
   },
   {
    "duration": 34,
    "start_time": "2024-04-09T19:27:59.571Z"
   },
   {
    "duration": 9,
    "start_time": "2024-04-09T19:27:59.606Z"
   },
   {
    "duration": 49,
    "start_time": "2024-04-09T19:27:59.616Z"
   },
   {
    "duration": 35,
    "start_time": "2024-04-09T19:27:59.666Z"
   },
   {
    "duration": 22,
    "start_time": "2024-04-09T19:27:59.703Z"
   },
   {
    "duration": 28,
    "start_time": "2024-04-09T19:27:59.726Z"
   },
   {
    "duration": 37,
    "start_time": "2024-04-09T19:27:59.755Z"
   },
   {
    "duration": 35,
    "start_time": "2024-04-09T19:27:59.794Z"
   },
   {
    "duration": 31,
    "start_time": "2024-04-09T19:27:59.831Z"
   },
   {
    "duration": 141,
    "start_time": "2024-04-09T19:27:59.863Z"
   },
   {
    "duration": 0,
    "start_time": "2024-04-09T19:28:00.006Z"
   },
   {
    "duration": 0,
    "start_time": "2024-04-09T19:28:00.007Z"
   },
   {
    "duration": 0,
    "start_time": "2024-04-09T19:28:00.008Z"
   },
   {
    "duration": 0,
    "start_time": "2024-04-09T19:28:00.009Z"
   },
   {
    "duration": 0,
    "start_time": "2024-04-09T19:28:00.011Z"
   },
   {
    "duration": 8,
    "start_time": "2024-04-09T19:28:09.094Z"
   },
   {
    "duration": 1427,
    "start_time": "2024-04-09T19:33:21.067Z"
   },
   {
    "duration": 863,
    "start_time": "2024-04-09T19:33:22.496Z"
   },
   {
    "duration": 16,
    "start_time": "2024-04-09T19:33:23.361Z"
   },
   {
    "duration": 11,
    "start_time": "2024-04-09T19:33:23.378Z"
   },
   {
    "duration": 18,
    "start_time": "2024-04-09T19:33:23.391Z"
   },
   {
    "duration": 248,
    "start_time": "2024-04-09T19:33:23.410Z"
   },
   {
    "duration": 133,
    "start_time": "2024-04-09T19:33:23.660Z"
   },
   {
    "duration": 246,
    "start_time": "2024-04-09T19:33:23.794Z"
   },
   {
    "duration": 124,
    "start_time": "2024-04-09T19:33:24.041Z"
   },
   {
    "duration": 31,
    "start_time": "2024-04-09T19:33:24.169Z"
   },
   {
    "duration": 109,
    "start_time": "2024-04-09T19:33:24.202Z"
   },
   {
    "duration": 254,
    "start_time": "2024-04-09T19:33:24.312Z"
   },
   {
    "duration": 5,
    "start_time": "2024-04-09T19:33:24.568Z"
   },
   {
    "duration": 372,
    "start_time": "2024-04-09T19:33:24.574Z"
   },
   {
    "duration": 4,
    "start_time": "2024-04-09T19:33:24.948Z"
   },
   {
    "duration": 14,
    "start_time": "2024-04-09T19:33:24.954Z"
   },
   {
    "duration": 54,
    "start_time": "2024-04-09T19:33:24.969Z"
   },
   {
    "duration": 19,
    "start_time": "2024-04-09T19:33:25.025Z"
   },
   {
    "duration": 30,
    "start_time": "2024-04-09T19:33:25.045Z"
   },
   {
    "duration": 15,
    "start_time": "2024-04-09T19:33:25.076Z"
   },
   {
    "duration": 43,
    "start_time": "2024-04-09T19:33:25.092Z"
   },
   {
    "duration": 11,
    "start_time": "2024-04-09T19:33:25.136Z"
   },
   {
    "duration": 24,
    "start_time": "2024-04-09T19:33:25.148Z"
   },
   {
    "duration": 14,
    "start_time": "2024-04-09T19:33:25.174Z"
   },
   {
    "duration": 2404,
    "start_time": "2024-04-09T19:33:25.190Z"
   },
   {
    "duration": 2129,
    "start_time": "2024-04-09T19:33:27.596Z"
   },
   {
    "duration": 2204,
    "start_time": "2024-04-09T19:33:29.726Z"
   },
   {
    "duration": 217,
    "start_time": "2024-04-09T19:33:31.934Z"
   },
   {
    "duration": 221,
    "start_time": "2024-04-09T19:33:32.153Z"
   },
   {
    "duration": 34,
    "start_time": "2024-04-09T19:33:32.376Z"
   },
   {
    "duration": 4,
    "start_time": "2024-04-09T19:33:32.411Z"
   },
   {
    "duration": 16,
    "start_time": "2024-04-09T19:33:32.417Z"
   },
   {
    "duration": 8,
    "start_time": "2024-04-09T19:33:32.434Z"
   },
   {
    "duration": 5,
    "start_time": "2024-04-09T19:33:32.443Z"
   },
   {
    "duration": 19,
    "start_time": "2024-04-09T19:33:32.449Z"
   },
   {
    "duration": 8,
    "start_time": "2024-04-09T19:33:32.469Z"
   },
   {
    "duration": 9,
    "start_time": "2024-04-09T19:33:32.478Z"
   },
   {
    "duration": 11,
    "start_time": "2024-04-09T19:33:32.488Z"
   },
   {
    "duration": 123,
    "start_time": "2024-04-09T19:33:32.501Z"
   },
   {
    "duration": 0,
    "start_time": "2024-04-09T19:33:32.626Z"
   },
   {
    "duration": 0,
    "start_time": "2024-04-09T19:33:32.627Z"
   },
   {
    "duration": 0,
    "start_time": "2024-04-09T19:33:32.628Z"
   },
   {
    "duration": 0,
    "start_time": "2024-04-09T19:33:32.630Z"
   },
   {
    "duration": 0,
    "start_time": "2024-04-09T19:33:32.630Z"
   },
   {
    "duration": 1387,
    "start_time": "2024-04-09T19:34:18.155Z"
   },
   {
    "duration": 829,
    "start_time": "2024-04-09T19:34:19.544Z"
   },
   {
    "duration": 15,
    "start_time": "2024-04-09T19:34:20.374Z"
   },
   {
    "duration": 26,
    "start_time": "2024-04-09T19:34:20.391Z"
   },
   {
    "duration": 16,
    "start_time": "2024-04-09T19:34:20.419Z"
   },
   {
    "duration": 235,
    "start_time": "2024-04-09T19:34:20.437Z"
   },
   {
    "duration": 144,
    "start_time": "2024-04-09T19:34:20.674Z"
   },
   {
    "duration": 247,
    "start_time": "2024-04-09T19:34:20.819Z"
   },
   {
    "duration": 119,
    "start_time": "2024-04-09T19:34:21.067Z"
   },
   {
    "duration": 28,
    "start_time": "2024-04-09T19:34:21.188Z"
   },
   {
    "duration": 105,
    "start_time": "2024-04-09T19:34:21.218Z"
   },
   {
    "duration": 224,
    "start_time": "2024-04-09T19:34:21.325Z"
   },
   {
    "duration": 3,
    "start_time": "2024-04-09T19:34:21.551Z"
   },
   {
    "duration": 311,
    "start_time": "2024-04-09T19:34:21.557Z"
   },
   {
    "duration": 5,
    "start_time": "2024-04-09T19:34:21.869Z"
   },
   {
    "duration": 6,
    "start_time": "2024-04-09T19:34:21.875Z"
   },
   {
    "duration": 61,
    "start_time": "2024-04-09T19:34:21.883Z"
   },
   {
    "duration": 20,
    "start_time": "2024-04-09T19:34:21.964Z"
   },
   {
    "duration": 23,
    "start_time": "2024-04-09T19:34:21.986Z"
   },
   {
    "duration": 130,
    "start_time": "2024-04-09T19:34:22.011Z"
   },
   {
    "duration": 0,
    "start_time": "2024-04-09T19:34:22.143Z"
   },
   {
    "duration": 0,
    "start_time": "2024-04-09T19:34:22.144Z"
   },
   {
    "duration": 0,
    "start_time": "2024-04-09T19:34:22.145Z"
   },
   {
    "duration": 0,
    "start_time": "2024-04-09T19:34:22.146Z"
   },
   {
    "duration": 0,
    "start_time": "2024-04-09T19:34:22.147Z"
   },
   {
    "duration": 0,
    "start_time": "2024-04-09T19:34:22.148Z"
   },
   {
    "duration": 0,
    "start_time": "2024-04-09T19:34:22.149Z"
   },
   {
    "duration": 0,
    "start_time": "2024-04-09T19:34:22.151Z"
   },
   {
    "duration": 0,
    "start_time": "2024-04-09T19:34:22.151Z"
   },
   {
    "duration": 0,
    "start_time": "2024-04-09T19:34:22.152Z"
   },
   {
    "duration": 0,
    "start_time": "2024-04-09T19:34:22.165Z"
   },
   {
    "duration": 0,
    "start_time": "2024-04-09T19:34:22.166Z"
   },
   {
    "duration": 0,
    "start_time": "2024-04-09T19:34:22.167Z"
   },
   {
    "duration": 0,
    "start_time": "2024-04-09T19:34:22.168Z"
   },
   {
    "duration": 0,
    "start_time": "2024-04-09T19:34:22.168Z"
   },
   {
    "duration": 0,
    "start_time": "2024-04-09T19:34:22.169Z"
   },
   {
    "duration": 0,
    "start_time": "2024-04-09T19:34:22.170Z"
   },
   {
    "duration": 0,
    "start_time": "2024-04-09T19:34:22.171Z"
   },
   {
    "duration": 0,
    "start_time": "2024-04-09T19:34:22.172Z"
   },
   {
    "duration": 0,
    "start_time": "2024-04-09T19:34:22.173Z"
   },
   {
    "duration": 0,
    "start_time": "2024-04-09T19:34:22.173Z"
   },
   {
    "duration": 0,
    "start_time": "2024-04-09T19:34:22.174Z"
   },
   {
    "duration": 0,
    "start_time": "2024-04-09T19:34:22.175Z"
   },
   {
    "duration": 0,
    "start_time": "2024-04-09T19:34:22.176Z"
   },
   {
    "duration": 0,
    "start_time": "2024-04-09T19:34:22.177Z"
   },
   {
    "duration": 1408,
    "start_time": "2024-04-09T20:44:44.148Z"
   },
   {
    "duration": 893,
    "start_time": "2024-04-09T20:44:45.559Z"
   },
   {
    "duration": 15,
    "start_time": "2024-04-09T20:44:46.453Z"
   },
   {
    "duration": 13,
    "start_time": "2024-04-09T20:44:46.469Z"
   },
   {
    "duration": 20,
    "start_time": "2024-04-09T20:44:46.484Z"
   },
   {
    "duration": 242,
    "start_time": "2024-04-09T20:44:46.506Z"
   },
   {
    "duration": 126,
    "start_time": "2024-04-09T20:44:46.750Z"
   },
   {
    "duration": 250,
    "start_time": "2024-04-09T20:44:46.877Z"
   },
   {
    "duration": 112,
    "start_time": "2024-04-09T20:44:47.129Z"
   },
   {
    "duration": 34,
    "start_time": "2024-04-09T20:44:47.243Z"
   },
   {
    "duration": 106,
    "start_time": "2024-04-09T20:44:47.278Z"
   },
   {
    "duration": 227,
    "start_time": "2024-04-09T20:44:47.386Z"
   },
   {
    "duration": 3,
    "start_time": "2024-04-09T20:44:47.615Z"
   },
   {
    "duration": 296,
    "start_time": "2024-04-09T20:44:47.620Z"
   },
   {
    "duration": 4,
    "start_time": "2024-04-09T20:44:47.918Z"
   },
   {
    "duration": 9,
    "start_time": "2024-04-09T20:44:47.924Z"
   },
   {
    "duration": 60,
    "start_time": "2024-04-09T20:44:47.934Z"
   },
   {
    "duration": 20,
    "start_time": "2024-04-09T20:44:47.996Z"
   },
   {
    "duration": 21,
    "start_time": "2024-04-09T20:44:48.017Z"
   },
   {
    "duration": 131,
    "start_time": "2024-04-09T20:44:48.039Z"
   },
   {
    "duration": 0,
    "start_time": "2024-04-09T20:44:48.171Z"
   },
   {
    "duration": 0,
    "start_time": "2024-04-09T20:44:48.172Z"
   },
   {
    "duration": 0,
    "start_time": "2024-04-09T20:44:48.173Z"
   },
   {
    "duration": 0,
    "start_time": "2024-04-09T20:44:48.174Z"
   },
   {
    "duration": 0,
    "start_time": "2024-04-09T20:44:48.175Z"
   },
   {
    "duration": 0,
    "start_time": "2024-04-09T20:44:48.176Z"
   },
   {
    "duration": 0,
    "start_time": "2024-04-09T20:44:48.177Z"
   },
   {
    "duration": 0,
    "start_time": "2024-04-09T20:44:48.178Z"
   },
   {
    "duration": 0,
    "start_time": "2024-04-09T20:44:48.179Z"
   },
   {
    "duration": 0,
    "start_time": "2024-04-09T20:44:48.180Z"
   },
   {
    "duration": 0,
    "start_time": "2024-04-09T20:44:48.181Z"
   },
   {
    "duration": 0,
    "start_time": "2024-04-09T20:44:48.182Z"
   },
   {
    "duration": 0,
    "start_time": "2024-04-09T20:44:48.183Z"
   },
   {
    "duration": 0,
    "start_time": "2024-04-09T20:44:48.184Z"
   },
   {
    "duration": 0,
    "start_time": "2024-04-09T20:44:48.184Z"
   },
   {
    "duration": 0,
    "start_time": "2024-04-09T20:44:48.186Z"
   },
   {
    "duration": 0,
    "start_time": "2024-04-09T20:44:48.186Z"
   },
   {
    "duration": 0,
    "start_time": "2024-04-09T20:44:48.187Z"
   },
   {
    "duration": 0,
    "start_time": "2024-04-09T20:44:48.188Z"
   },
   {
    "duration": 0,
    "start_time": "2024-04-09T20:44:48.189Z"
   },
   {
    "duration": 0,
    "start_time": "2024-04-09T20:44:48.190Z"
   },
   {
    "duration": 0,
    "start_time": "2024-04-09T20:44:48.191Z"
   },
   {
    "duration": 0,
    "start_time": "2024-04-09T20:44:48.192Z"
   },
   {
    "duration": 0,
    "start_time": "2024-04-09T20:44:48.193Z"
   },
   {
    "duration": 0,
    "start_time": "2024-04-09T20:44:48.194Z"
   },
   {
    "duration": 11,
    "start_time": "2024-04-09T20:45:26.144Z"
   },
   {
    "duration": 1317,
    "start_time": "2024-04-09T20:46:04.190Z"
   },
   {
    "duration": 843,
    "start_time": "2024-04-09T20:46:05.509Z"
   },
   {
    "duration": 10,
    "start_time": "2024-04-09T20:46:06.354Z"
   },
   {
    "duration": 14,
    "start_time": "2024-04-09T20:46:06.365Z"
   },
   {
    "duration": 11,
    "start_time": "2024-04-09T20:46:06.381Z"
   },
   {
    "duration": 13,
    "start_time": "2024-04-09T20:46:06.393Z"
   },
   {
    "duration": 246,
    "start_time": "2024-04-09T20:46:06.408Z"
   },
   {
    "duration": 140,
    "start_time": "2024-04-09T20:46:06.656Z"
   },
   {
    "duration": 244,
    "start_time": "2024-04-09T20:46:06.798Z"
   },
   {
    "duration": 117,
    "start_time": "2024-04-09T20:46:07.044Z"
   },
   {
    "duration": 27,
    "start_time": "2024-04-09T20:46:07.163Z"
   },
   {
    "duration": 96,
    "start_time": "2024-04-09T20:46:07.192Z"
   },
   {
    "duration": 210,
    "start_time": "2024-04-09T20:46:07.289Z"
   },
   {
    "duration": 3,
    "start_time": "2024-04-09T20:46:07.502Z"
   },
   {
    "duration": 286,
    "start_time": "2024-04-09T20:46:07.506Z"
   },
   {
    "duration": 4,
    "start_time": "2024-04-09T20:46:07.794Z"
   },
   {
    "duration": 9,
    "start_time": "2024-04-09T20:46:07.799Z"
   },
   {
    "duration": 60,
    "start_time": "2024-04-09T20:46:07.809Z"
   },
   {
    "duration": 20,
    "start_time": "2024-04-09T20:46:07.870Z"
   },
   {
    "duration": 23,
    "start_time": "2024-04-09T20:46:07.891Z"
   },
   {
    "duration": 130,
    "start_time": "2024-04-09T20:46:07.915Z"
   },
   {
    "duration": 0,
    "start_time": "2024-04-09T20:46:08.046Z"
   },
   {
    "duration": 0,
    "start_time": "2024-04-09T20:46:08.048Z"
   },
   {
    "duration": 0,
    "start_time": "2024-04-09T20:46:08.048Z"
   },
   {
    "duration": 0,
    "start_time": "2024-04-09T20:46:08.049Z"
   },
   {
    "duration": 0,
    "start_time": "2024-04-09T20:46:08.050Z"
   },
   {
    "duration": 0,
    "start_time": "2024-04-09T20:46:08.051Z"
   },
   {
    "duration": 0,
    "start_time": "2024-04-09T20:46:08.052Z"
   },
   {
    "duration": 0,
    "start_time": "2024-04-09T20:46:08.065Z"
   },
   {
    "duration": 0,
    "start_time": "2024-04-09T20:46:08.067Z"
   },
   {
    "duration": 0,
    "start_time": "2024-04-09T20:46:08.068Z"
   },
   {
    "duration": 0,
    "start_time": "2024-04-09T20:46:08.069Z"
   },
   {
    "duration": 0,
    "start_time": "2024-04-09T20:46:08.070Z"
   },
   {
    "duration": 0,
    "start_time": "2024-04-09T20:46:08.071Z"
   },
   {
    "duration": 0,
    "start_time": "2024-04-09T20:46:08.072Z"
   },
   {
    "duration": 0,
    "start_time": "2024-04-09T20:46:08.073Z"
   },
   {
    "duration": 0,
    "start_time": "2024-04-09T20:46:08.074Z"
   },
   {
    "duration": 0,
    "start_time": "2024-04-09T20:46:08.076Z"
   },
   {
    "duration": 0,
    "start_time": "2024-04-09T20:46:08.077Z"
   },
   {
    "duration": 0,
    "start_time": "2024-04-09T20:46:08.078Z"
   },
   {
    "duration": 0,
    "start_time": "2024-04-09T20:46:08.079Z"
   },
   {
    "duration": 0,
    "start_time": "2024-04-09T20:46:08.080Z"
   },
   {
    "duration": 0,
    "start_time": "2024-04-09T20:46:08.081Z"
   },
   {
    "duration": 0,
    "start_time": "2024-04-09T20:46:08.082Z"
   },
   {
    "duration": 0,
    "start_time": "2024-04-09T20:46:08.083Z"
   },
   {
    "duration": 0,
    "start_time": "2024-04-09T20:46:08.084Z"
   },
   {
    "duration": 1322,
    "start_time": "2024-04-09T20:48:46.200Z"
   },
   {
    "duration": 854,
    "start_time": "2024-04-09T20:48:47.523Z"
   },
   {
    "duration": 0,
    "start_time": "2024-04-09T20:48:48.380Z"
   },
   {
    "duration": 0,
    "start_time": "2024-04-09T20:48:48.381Z"
   },
   {
    "duration": 0,
    "start_time": "2024-04-09T20:48:48.382Z"
   },
   {
    "duration": 0,
    "start_time": "2024-04-09T20:48:48.383Z"
   },
   {
    "duration": 0,
    "start_time": "2024-04-09T20:48:48.384Z"
   },
   {
    "duration": 0,
    "start_time": "2024-04-09T20:48:48.385Z"
   },
   {
    "duration": 0,
    "start_time": "2024-04-09T20:48:48.386Z"
   },
   {
    "duration": 0,
    "start_time": "2024-04-09T20:48:48.388Z"
   },
   {
    "duration": 0,
    "start_time": "2024-04-09T20:48:48.389Z"
   },
   {
    "duration": 0,
    "start_time": "2024-04-09T20:48:48.390Z"
   },
   {
    "duration": 0,
    "start_time": "2024-04-09T20:48:48.391Z"
   },
   {
    "duration": 0,
    "start_time": "2024-04-09T20:48:48.392Z"
   },
   {
    "duration": 1,
    "start_time": "2024-04-09T20:48:48.393Z"
   },
   {
    "duration": 0,
    "start_time": "2024-04-09T20:48:48.395Z"
   },
   {
    "duration": 0,
    "start_time": "2024-04-09T20:48:48.396Z"
   },
   {
    "duration": 0,
    "start_time": "2024-04-09T20:48:48.396Z"
   },
   {
    "duration": 0,
    "start_time": "2024-04-09T20:48:48.397Z"
   },
   {
    "duration": 0,
    "start_time": "2024-04-09T20:48:48.399Z"
   },
   {
    "duration": 0,
    "start_time": "2024-04-09T20:48:48.400Z"
   },
   {
    "duration": 0,
    "start_time": "2024-04-09T20:48:48.401Z"
   },
   {
    "duration": 0,
    "start_time": "2024-04-09T20:48:48.401Z"
   },
   {
    "duration": 0,
    "start_time": "2024-04-09T20:48:48.403Z"
   },
   {
    "duration": 0,
    "start_time": "2024-04-09T20:48:48.403Z"
   },
   {
    "duration": 0,
    "start_time": "2024-04-09T20:48:48.404Z"
   },
   {
    "duration": 0,
    "start_time": "2024-04-09T20:48:48.405Z"
   },
   {
    "duration": 0,
    "start_time": "2024-04-09T20:48:48.406Z"
   },
   {
    "duration": 0,
    "start_time": "2024-04-09T20:48:48.407Z"
   },
   {
    "duration": 0,
    "start_time": "2024-04-09T20:48:48.408Z"
   },
   {
    "duration": 0,
    "start_time": "2024-04-09T20:48:48.409Z"
   },
   {
    "duration": 0,
    "start_time": "2024-04-09T20:48:48.410Z"
   },
   {
    "duration": 0,
    "start_time": "2024-04-09T20:48:48.411Z"
   },
   {
    "duration": 0,
    "start_time": "2024-04-09T20:48:48.412Z"
   },
   {
    "duration": 0,
    "start_time": "2024-04-09T20:48:48.413Z"
   },
   {
    "duration": 0,
    "start_time": "2024-04-09T20:48:48.466Z"
   },
   {
    "duration": 0,
    "start_time": "2024-04-09T20:48:48.467Z"
   },
   {
    "duration": 0,
    "start_time": "2024-04-09T20:48:48.468Z"
   },
   {
    "duration": 0,
    "start_time": "2024-04-09T20:48:48.470Z"
   },
   {
    "duration": 0,
    "start_time": "2024-04-09T20:48:48.471Z"
   },
   {
    "duration": 0,
    "start_time": "2024-04-09T20:48:48.472Z"
   },
   {
    "duration": 0,
    "start_time": "2024-04-09T20:48:48.473Z"
   },
   {
    "duration": 0,
    "start_time": "2024-04-09T20:48:48.474Z"
   },
   {
    "duration": 0,
    "start_time": "2024-04-09T20:48:48.475Z"
   },
   {
    "duration": 0,
    "start_time": "2024-04-09T20:48:48.476Z"
   },
   {
    "duration": 1316,
    "start_time": "2024-04-09T20:49:36.620Z"
   },
   {
    "duration": 850,
    "start_time": "2024-04-09T20:49:37.938Z"
   },
   {
    "duration": 16,
    "start_time": "2024-04-09T20:49:38.790Z"
   },
   {
    "duration": 34,
    "start_time": "2024-04-09T20:49:38.808Z"
   },
   {
    "duration": 12,
    "start_time": "2024-04-09T20:49:38.844Z"
   },
   {
    "duration": 18,
    "start_time": "2024-04-09T20:49:38.858Z"
   },
   {
    "duration": 232,
    "start_time": "2024-04-09T20:49:38.877Z"
   },
   {
    "duration": 135,
    "start_time": "2024-04-09T20:49:39.110Z"
   },
   {
    "duration": 242,
    "start_time": "2024-04-09T20:49:39.247Z"
   },
   {
    "duration": 118,
    "start_time": "2024-04-09T20:49:39.491Z"
   },
   {
    "duration": 26,
    "start_time": "2024-04-09T20:49:39.611Z"
   },
   {
    "duration": 96,
    "start_time": "2024-04-09T20:49:39.639Z"
   },
   {
    "duration": 216,
    "start_time": "2024-04-09T20:49:39.736Z"
   },
   {
    "duration": 3,
    "start_time": "2024-04-09T20:49:39.954Z"
   },
   {
    "duration": 299,
    "start_time": "2024-04-09T20:49:39.958Z"
   },
   {
    "duration": 10,
    "start_time": "2024-04-09T20:49:40.258Z"
   },
   {
    "duration": 10,
    "start_time": "2024-04-09T20:49:40.269Z"
   },
   {
    "duration": 56,
    "start_time": "2024-04-09T20:49:40.281Z"
   },
   {
    "duration": 30,
    "start_time": "2024-04-09T20:49:40.338Z"
   },
   {
    "duration": 24,
    "start_time": "2024-04-09T20:49:40.369Z"
   },
   {
    "duration": 141,
    "start_time": "2024-04-09T20:49:40.394Z"
   },
   {
    "duration": 0,
    "start_time": "2024-04-09T20:49:40.537Z"
   },
   {
    "duration": 0,
    "start_time": "2024-04-09T20:49:40.539Z"
   },
   {
    "duration": 0,
    "start_time": "2024-04-09T20:49:40.540Z"
   },
   {
    "duration": 0,
    "start_time": "2024-04-09T20:49:40.542Z"
   },
   {
    "duration": 0,
    "start_time": "2024-04-09T20:49:40.543Z"
   },
   {
    "duration": 0,
    "start_time": "2024-04-09T20:49:40.545Z"
   },
   {
    "duration": 0,
    "start_time": "2024-04-09T20:49:40.546Z"
   },
   {
    "duration": 0,
    "start_time": "2024-04-09T20:49:40.548Z"
   },
   {
    "duration": 0,
    "start_time": "2024-04-09T20:49:40.567Z"
   },
   {
    "duration": 0,
    "start_time": "2024-04-09T20:49:40.569Z"
   },
   {
    "duration": 0,
    "start_time": "2024-04-09T20:49:40.570Z"
   },
   {
    "duration": 0,
    "start_time": "2024-04-09T20:49:40.571Z"
   },
   {
    "duration": 0,
    "start_time": "2024-04-09T20:49:40.573Z"
   },
   {
    "duration": 0,
    "start_time": "2024-04-09T20:49:40.574Z"
   },
   {
    "duration": 0,
    "start_time": "2024-04-09T20:49:40.575Z"
   },
   {
    "duration": 0,
    "start_time": "2024-04-09T20:49:40.577Z"
   },
   {
    "duration": 0,
    "start_time": "2024-04-09T20:49:40.578Z"
   },
   {
    "duration": 0,
    "start_time": "2024-04-09T20:49:40.579Z"
   },
   {
    "duration": 0,
    "start_time": "2024-04-09T20:49:40.581Z"
   },
   {
    "duration": 0,
    "start_time": "2024-04-09T20:49:40.582Z"
   },
   {
    "duration": 0,
    "start_time": "2024-04-09T20:49:40.583Z"
   },
   {
    "duration": 1,
    "start_time": "2024-04-09T20:49:40.584Z"
   },
   {
    "duration": 0,
    "start_time": "2024-04-09T20:49:40.586Z"
   },
   {
    "duration": 0,
    "start_time": "2024-04-09T20:49:40.587Z"
   },
   {
    "duration": 1389,
    "start_time": "2024-04-09T20:50:13.762Z"
   },
   {
    "duration": 872,
    "start_time": "2024-04-09T20:50:15.153Z"
   },
   {
    "duration": 10,
    "start_time": "2024-04-09T20:50:16.027Z"
   },
   {
    "duration": 15,
    "start_time": "2024-04-09T20:50:16.038Z"
   },
   {
    "duration": 12,
    "start_time": "2024-04-09T20:50:16.065Z"
   },
   {
    "duration": 14,
    "start_time": "2024-04-09T20:50:16.079Z"
   },
   {
    "duration": 232,
    "start_time": "2024-04-09T20:50:16.095Z"
   },
   {
    "duration": 118,
    "start_time": "2024-04-09T20:50:16.329Z"
   },
   {
    "duration": 250,
    "start_time": "2024-04-09T20:50:16.448Z"
   },
   {
    "duration": 128,
    "start_time": "2024-04-09T20:50:16.701Z"
   },
   {
    "duration": 36,
    "start_time": "2024-04-09T20:50:16.830Z"
   },
   {
    "duration": 97,
    "start_time": "2024-04-09T20:50:16.868Z"
   },
   {
    "duration": 214,
    "start_time": "2024-04-09T20:50:16.967Z"
   },
   {
    "duration": 3,
    "start_time": "2024-04-09T20:50:17.183Z"
   },
   {
    "duration": 289,
    "start_time": "2024-04-09T20:50:17.188Z"
   },
   {
    "duration": 5,
    "start_time": "2024-04-09T20:50:17.478Z"
   },
   {
    "duration": 8,
    "start_time": "2024-04-09T20:50:17.485Z"
   },
   {
    "duration": 51,
    "start_time": "2024-04-09T20:50:17.495Z"
   },
   {
    "duration": 31,
    "start_time": "2024-04-09T20:50:17.548Z"
   },
   {
    "duration": 26,
    "start_time": "2024-04-09T20:50:17.580Z"
   },
   {
    "duration": 15,
    "start_time": "2024-04-09T20:50:17.607Z"
   },
   {
    "duration": 6,
    "start_time": "2024-04-09T20:50:17.624Z"
   },
   {
    "duration": 67,
    "start_time": "2024-04-09T20:50:17.632Z"
   },
   {
    "duration": 0,
    "start_time": "2024-04-09T20:50:17.701Z"
   },
   {
    "duration": 0,
    "start_time": "2024-04-09T20:50:17.702Z"
   },
   {
    "duration": 0,
    "start_time": "2024-04-09T20:50:17.703Z"
   },
   {
    "duration": 0,
    "start_time": "2024-04-09T20:50:17.704Z"
   },
   {
    "duration": 0,
    "start_time": "2024-04-09T20:50:17.705Z"
   },
   {
    "duration": 0,
    "start_time": "2024-04-09T20:50:17.706Z"
   },
   {
    "duration": 0,
    "start_time": "2024-04-09T20:50:17.707Z"
   },
   {
    "duration": 0,
    "start_time": "2024-04-09T20:50:17.708Z"
   },
   {
    "duration": 0,
    "start_time": "2024-04-09T20:50:17.709Z"
   },
   {
    "duration": 0,
    "start_time": "2024-04-09T20:50:17.710Z"
   },
   {
    "duration": 0,
    "start_time": "2024-04-09T20:50:17.711Z"
   },
   {
    "duration": 0,
    "start_time": "2024-04-09T20:50:17.712Z"
   },
   {
    "duration": 0,
    "start_time": "2024-04-09T20:50:17.713Z"
   },
   {
    "duration": 0,
    "start_time": "2024-04-09T20:50:17.714Z"
   },
   {
    "duration": 0,
    "start_time": "2024-04-09T20:50:17.715Z"
   },
   {
    "duration": 0,
    "start_time": "2024-04-09T20:50:17.716Z"
   },
   {
    "duration": 0,
    "start_time": "2024-04-09T20:50:17.717Z"
   },
   {
    "duration": 0,
    "start_time": "2024-04-09T20:50:17.718Z"
   },
   {
    "duration": 0,
    "start_time": "2024-04-09T20:50:17.719Z"
   },
   {
    "duration": 0,
    "start_time": "2024-04-09T20:50:17.719Z"
   },
   {
    "duration": 0,
    "start_time": "2024-04-09T20:50:17.720Z"
   },
   {
    "duration": 1414,
    "start_time": "2024-04-09T20:50:29.780Z"
   },
   {
    "duration": 834,
    "start_time": "2024-04-09T20:50:31.196Z"
   },
   {
    "duration": 10,
    "start_time": "2024-04-09T20:50:32.032Z"
   },
   {
    "duration": 37,
    "start_time": "2024-04-09T20:50:32.044Z"
   },
   {
    "duration": 24,
    "start_time": "2024-04-09T20:50:32.082Z"
   },
   {
    "duration": 16,
    "start_time": "2024-04-09T20:50:32.108Z"
   },
   {
    "duration": 241,
    "start_time": "2024-04-09T20:50:32.125Z"
   },
   {
    "duration": 129,
    "start_time": "2024-04-09T20:50:32.368Z"
   },
   {
    "duration": 248,
    "start_time": "2024-04-09T20:50:32.498Z"
   },
   {
    "duration": 117,
    "start_time": "2024-04-09T20:50:32.749Z"
   },
   {
    "duration": 27,
    "start_time": "2024-04-09T20:50:32.868Z"
   },
   {
    "duration": 107,
    "start_time": "2024-04-09T20:50:32.897Z"
   },
   {
    "duration": 210,
    "start_time": "2024-04-09T20:50:33.005Z"
   },
   {
    "duration": 3,
    "start_time": "2024-04-09T20:50:33.216Z"
   },
   {
    "duration": 308,
    "start_time": "2024-04-09T20:50:33.220Z"
   },
   {
    "duration": 5,
    "start_time": "2024-04-09T20:50:33.530Z"
   },
   {
    "duration": 10,
    "start_time": "2024-04-09T20:50:33.536Z"
   },
   {
    "duration": 66,
    "start_time": "2024-04-09T20:50:33.548Z"
   },
   {
    "duration": 19,
    "start_time": "2024-04-09T20:50:33.616Z"
   },
   {
    "duration": 31,
    "start_time": "2024-04-09T20:50:33.637Z"
   },
   {
    "duration": 14,
    "start_time": "2024-04-09T20:50:33.669Z"
   },
   {
    "duration": 6,
    "start_time": "2024-04-09T20:50:33.685Z"
   },
   {
    "duration": 7,
    "start_time": "2024-04-09T20:50:33.693Z"
   },
   {
    "duration": 2254,
    "start_time": "2024-04-09T20:50:33.701Z"
   },
   {
    "duration": 2215,
    "start_time": "2024-04-09T20:50:35.956Z"
   },
   {
    "duration": 2148,
    "start_time": "2024-04-09T20:50:38.172Z"
   },
   {
    "duration": 207,
    "start_time": "2024-04-09T20:50:40.322Z"
   },
   {
    "duration": 104,
    "start_time": "2024-04-09T20:50:40.532Z"
   },
   {
    "duration": 44,
    "start_time": "2024-04-09T20:50:40.638Z"
   },
   {
    "duration": 4,
    "start_time": "2024-04-09T20:50:40.684Z"
   },
   {
    "duration": 12,
    "start_time": "2024-04-09T20:50:40.690Z"
   },
   {
    "duration": 8,
    "start_time": "2024-04-09T20:50:40.704Z"
   },
   {
    "duration": 9,
    "start_time": "2024-04-09T20:50:40.713Z"
   },
   {
    "duration": 7,
    "start_time": "2024-04-09T20:50:40.723Z"
   },
   {
    "duration": 133,
    "start_time": "2024-04-09T20:50:40.732Z"
   },
   {
    "duration": 0,
    "start_time": "2024-04-09T20:50:40.867Z"
   },
   {
    "duration": 0,
    "start_time": "2024-04-09T20:50:40.868Z"
   },
   {
    "duration": 0,
    "start_time": "2024-04-09T20:50:40.869Z"
   },
   {
    "duration": 0,
    "start_time": "2024-04-09T20:50:40.870Z"
   },
   {
    "duration": 0,
    "start_time": "2024-04-09T20:50:40.872Z"
   },
   {
    "duration": 0,
    "start_time": "2024-04-09T20:50:40.873Z"
   },
   {
    "duration": 0,
    "start_time": "2024-04-09T20:50:40.874Z"
   },
   {
    "duration": 0,
    "start_time": "2024-04-09T20:50:40.875Z"
   },
   {
    "duration": 1434,
    "start_time": "2024-04-09T20:56:14.844Z"
   },
   {
    "duration": 838,
    "start_time": "2024-04-09T20:56:16.279Z"
   },
   {
    "duration": 10,
    "start_time": "2024-04-09T20:56:17.118Z"
   },
   {
    "duration": 29,
    "start_time": "2024-04-09T20:56:17.130Z"
   },
   {
    "duration": 15,
    "start_time": "2024-04-09T20:56:17.160Z"
   },
   {
    "duration": 26,
    "start_time": "2024-04-09T20:56:17.176Z"
   },
   {
    "duration": 221,
    "start_time": "2024-04-09T20:56:17.204Z"
   },
   {
    "duration": 122,
    "start_time": "2024-04-09T20:56:17.426Z"
   },
   {
    "duration": 234,
    "start_time": "2024-04-09T20:56:17.550Z"
   },
   {
    "duration": 120,
    "start_time": "2024-04-09T20:56:17.786Z"
   },
   {
    "duration": 28,
    "start_time": "2024-04-09T20:56:17.907Z"
   },
   {
    "duration": 99,
    "start_time": "2024-04-09T20:56:17.937Z"
   },
   {
    "duration": 233,
    "start_time": "2024-04-09T20:56:18.037Z"
   },
   {
    "duration": 3,
    "start_time": "2024-04-09T20:56:18.271Z"
   },
   {
    "duration": 314,
    "start_time": "2024-04-09T20:56:18.275Z"
   },
   {
    "duration": 4,
    "start_time": "2024-04-09T20:56:18.591Z"
   },
   {
    "duration": 6,
    "start_time": "2024-04-09T20:56:18.597Z"
   },
   {
    "duration": 82,
    "start_time": "2024-04-09T20:56:18.605Z"
   },
   {
    "duration": 22,
    "start_time": "2024-04-09T20:56:18.689Z"
   },
   {
    "duration": 24,
    "start_time": "2024-04-09T20:56:18.713Z"
   },
   {
    "duration": 29,
    "start_time": "2024-04-09T20:56:18.739Z"
   },
   {
    "duration": 6,
    "start_time": "2024-04-09T20:56:18.770Z"
   },
   {
    "duration": 22,
    "start_time": "2024-04-09T20:56:18.778Z"
   },
   {
    "duration": 2190,
    "start_time": "2024-04-09T20:56:18.801Z"
   },
   {
    "duration": 2021,
    "start_time": "2024-04-09T20:56:20.993Z"
   },
   {
    "duration": 2055,
    "start_time": "2024-04-09T20:56:23.016Z"
   },
   {
    "duration": 204,
    "start_time": "2024-04-09T20:56:25.073Z"
   },
   {
    "duration": 108,
    "start_time": "2024-04-09T20:56:25.282Z"
   },
   {
    "duration": 31,
    "start_time": "2024-04-09T20:56:25.392Z"
   },
   {
    "duration": 5,
    "start_time": "2024-04-09T20:56:25.425Z"
   },
   {
    "duration": 16,
    "start_time": "2024-04-09T20:56:25.431Z"
   },
   {
    "duration": 20,
    "start_time": "2024-04-09T20:56:25.465Z"
   },
   {
    "duration": 7,
    "start_time": "2024-04-09T20:56:25.487Z"
   },
   {
    "duration": 6,
    "start_time": "2024-04-09T20:56:25.496Z"
   },
   {
    "duration": 111,
    "start_time": "2024-04-09T20:56:25.504Z"
   },
   {
    "duration": 0,
    "start_time": "2024-04-09T20:56:25.617Z"
   },
   {
    "duration": 0,
    "start_time": "2024-04-09T20:56:25.618Z"
   },
   {
    "duration": 0,
    "start_time": "2024-04-09T20:56:25.620Z"
   },
   {
    "duration": 0,
    "start_time": "2024-04-09T20:56:25.621Z"
   },
   {
    "duration": 0,
    "start_time": "2024-04-09T20:56:25.622Z"
   },
   {
    "duration": 0,
    "start_time": "2024-04-09T20:56:25.625Z"
   },
   {
    "duration": 0,
    "start_time": "2024-04-09T20:56:25.626Z"
   },
   {
    "duration": 0,
    "start_time": "2024-04-09T20:56:25.627Z"
   },
   {
    "duration": 1342,
    "start_time": "2024-04-09T21:02:34.012Z"
   },
   {
    "duration": 870,
    "start_time": "2024-04-09T21:02:35.356Z"
   },
   {
    "duration": 11,
    "start_time": "2024-04-09T21:02:36.228Z"
   },
   {
    "duration": 27,
    "start_time": "2024-04-09T21:02:36.241Z"
   },
   {
    "duration": 13,
    "start_time": "2024-04-09T21:02:36.270Z"
   },
   {
    "duration": 15,
    "start_time": "2024-04-09T21:02:36.285Z"
   },
   {
    "duration": 238,
    "start_time": "2024-04-09T21:02:36.302Z"
   },
   {
    "duration": 134,
    "start_time": "2024-04-09T21:02:36.541Z"
   },
   {
    "duration": 241,
    "start_time": "2024-04-09T21:02:36.677Z"
   },
   {
    "duration": 120,
    "start_time": "2024-04-09T21:02:36.920Z"
   },
   {
    "duration": 36,
    "start_time": "2024-04-09T21:02:37.042Z"
   },
   {
    "duration": 93,
    "start_time": "2024-04-09T21:02:37.080Z"
   },
   {
    "duration": 228,
    "start_time": "2024-04-09T21:02:37.175Z"
   },
   {
    "duration": 3,
    "start_time": "2024-04-09T21:02:37.404Z"
   },
   {
    "duration": 304,
    "start_time": "2024-04-09T21:02:37.408Z"
   },
   {
    "duration": 4,
    "start_time": "2024-04-09T21:02:37.714Z"
   },
   {
    "duration": 8,
    "start_time": "2024-04-09T21:02:37.719Z"
   },
   {
    "duration": 62,
    "start_time": "2024-04-09T21:02:37.728Z"
   },
   {
    "duration": 20,
    "start_time": "2024-04-09T21:02:37.792Z"
   },
   {
    "duration": 39,
    "start_time": "2024-04-09T21:02:37.813Z"
   },
   {
    "duration": 17,
    "start_time": "2024-04-09T21:02:37.854Z"
   },
   {
    "duration": 6,
    "start_time": "2024-04-09T21:02:37.873Z"
   },
   {
    "duration": 12,
    "start_time": "2024-04-09T21:02:37.880Z"
   },
   {
    "duration": 2143,
    "start_time": "2024-04-09T21:02:37.894Z"
   },
   {
    "duration": 2029,
    "start_time": "2024-04-09T21:02:40.039Z"
   },
   {
    "duration": 2091,
    "start_time": "2024-04-09T21:02:42.070Z"
   },
   {
    "duration": 201,
    "start_time": "2024-04-09T21:02:44.164Z"
   },
   {
    "duration": 106,
    "start_time": "2024-04-09T21:02:44.368Z"
   },
   {
    "duration": 29,
    "start_time": "2024-04-09T21:02:44.476Z"
   },
   {
    "duration": 4,
    "start_time": "2024-04-09T21:02:44.506Z"
   },
   {
    "duration": 10,
    "start_time": "2024-04-09T21:02:44.512Z"
   },
   {
    "duration": 7,
    "start_time": "2024-04-09T21:02:44.524Z"
   },
   {
    "duration": 7,
    "start_time": "2024-04-09T21:02:44.532Z"
   },
   {
    "duration": 7,
    "start_time": "2024-04-09T21:02:44.541Z"
   },
   {
    "duration": 117,
    "start_time": "2024-04-09T21:02:44.565Z"
   },
   {
    "duration": 0,
    "start_time": "2024-04-09T21:02:44.683Z"
   },
   {
    "duration": 0,
    "start_time": "2024-04-09T21:02:44.684Z"
   },
   {
    "duration": 0,
    "start_time": "2024-04-09T21:02:44.685Z"
   },
   {
    "duration": 0,
    "start_time": "2024-04-09T21:02:44.686Z"
   },
   {
    "duration": 0,
    "start_time": "2024-04-09T21:02:44.688Z"
   },
   {
    "duration": 0,
    "start_time": "2024-04-09T21:02:44.689Z"
   },
   {
    "duration": 0,
    "start_time": "2024-04-09T21:02:44.690Z"
   },
   {
    "duration": 0,
    "start_time": "2024-04-09T21:02:44.692Z"
   },
   {
    "duration": 1419,
    "start_time": "2024-04-09T21:08:24.446Z"
   },
   {
    "duration": 896,
    "start_time": "2024-04-09T21:08:25.867Z"
   },
   {
    "duration": 10,
    "start_time": "2024-04-09T21:08:26.764Z"
   },
   {
    "duration": 24,
    "start_time": "2024-04-09T21:08:26.776Z"
   },
   {
    "duration": 12,
    "start_time": "2024-04-09T21:08:26.801Z"
   },
   {
    "duration": 21,
    "start_time": "2024-04-09T21:08:26.814Z"
   },
   {
    "duration": 231,
    "start_time": "2024-04-09T21:08:26.836Z"
   },
   {
    "duration": 128,
    "start_time": "2024-04-09T21:08:27.069Z"
   },
   {
    "duration": 242,
    "start_time": "2024-04-09T21:08:27.198Z"
   },
   {
    "duration": 123,
    "start_time": "2024-04-09T21:08:27.443Z"
   },
   {
    "duration": 29,
    "start_time": "2024-04-09T21:08:27.568Z"
   },
   {
    "duration": 101,
    "start_time": "2024-04-09T21:08:27.598Z"
   },
   {
    "duration": 215,
    "start_time": "2024-04-09T21:08:27.701Z"
   },
   {
    "duration": 3,
    "start_time": "2024-04-09T21:08:27.918Z"
   },
   {
    "duration": 314,
    "start_time": "2024-04-09T21:08:27.922Z"
   },
   {
    "duration": 5,
    "start_time": "2024-04-09T21:08:28.238Z"
   },
   {
    "duration": 23,
    "start_time": "2024-04-09T21:08:28.245Z"
   },
   {
    "duration": 52,
    "start_time": "2024-04-09T21:08:28.270Z"
   },
   {
    "duration": 22,
    "start_time": "2024-04-09T21:08:28.324Z"
   },
   {
    "duration": 41,
    "start_time": "2024-04-09T21:08:28.348Z"
   },
   {
    "duration": 23,
    "start_time": "2024-04-09T21:08:28.391Z"
   },
   {
    "duration": 10,
    "start_time": "2024-04-09T21:08:28.415Z"
   },
   {
    "duration": 8,
    "start_time": "2024-04-09T21:08:28.426Z"
   },
   {
    "duration": 2364,
    "start_time": "2024-04-09T21:08:28.436Z"
   },
   {
    "duration": 2187,
    "start_time": "2024-04-09T21:08:30.802Z"
   },
   {
    "duration": 2210,
    "start_time": "2024-04-09T21:08:32.990Z"
   },
   {
    "duration": 209,
    "start_time": "2024-04-09T21:08:35.202Z"
   },
   {
    "duration": 124,
    "start_time": "2024-04-09T21:08:35.414Z"
   },
   {
    "duration": 48,
    "start_time": "2024-04-09T21:08:35.539Z"
   },
   {
    "duration": 4,
    "start_time": "2024-04-09T21:08:35.589Z"
   },
   {
    "duration": 47,
    "start_time": "2024-04-09T21:08:35.594Z"
   },
   {
    "duration": 8,
    "start_time": "2024-04-09T21:08:35.643Z"
   },
   {
    "duration": 21,
    "start_time": "2024-04-09T21:08:35.653Z"
   },
   {
    "duration": 12,
    "start_time": "2024-04-09T21:08:35.676Z"
   },
   {
    "duration": 116,
    "start_time": "2024-04-09T21:08:35.690Z"
   },
   {
    "duration": 0,
    "start_time": "2024-04-09T21:08:35.807Z"
   },
   {
    "duration": 0,
    "start_time": "2024-04-09T21:08:35.809Z"
   },
   {
    "duration": 0,
    "start_time": "2024-04-09T21:08:35.810Z"
   },
   {
    "duration": 0,
    "start_time": "2024-04-09T21:08:35.812Z"
   },
   {
    "duration": 0,
    "start_time": "2024-04-09T21:08:35.813Z"
   },
   {
    "duration": 0,
    "start_time": "2024-04-09T21:08:35.816Z"
   },
   {
    "duration": 0,
    "start_time": "2024-04-09T21:08:35.817Z"
   },
   {
    "duration": 0,
    "start_time": "2024-04-09T21:08:35.819Z"
   },
   {
    "duration": 1388,
    "start_time": "2024-04-09T21:17:58.187Z"
   },
   {
    "duration": 845,
    "start_time": "2024-04-09T21:17:59.577Z"
   },
   {
    "duration": 11,
    "start_time": "2024-04-09T21:18:00.423Z"
   },
   {
    "duration": 93,
    "start_time": "2024-04-09T21:18:00.435Z"
   },
   {
    "duration": 45,
    "start_time": "2024-04-09T21:18:00.530Z"
   },
   {
    "duration": 47,
    "start_time": "2024-04-09T21:18:00.576Z"
   },
   {
    "duration": 292,
    "start_time": "2024-04-09T21:18:00.625Z"
   },
   {
    "duration": 129,
    "start_time": "2024-04-09T21:18:00.919Z"
   },
   {
    "duration": 248,
    "start_time": "2024-04-09T21:18:01.050Z"
   },
   {
    "duration": 128,
    "start_time": "2024-04-09T21:18:01.300Z"
   },
   {
    "duration": 28,
    "start_time": "2024-04-09T21:18:01.429Z"
   },
   {
    "duration": 125,
    "start_time": "2024-04-09T21:18:01.466Z"
   },
   {
    "duration": 214,
    "start_time": "2024-04-09T21:18:01.593Z"
   },
   {
    "duration": 4,
    "start_time": "2024-04-09T21:18:01.808Z"
   },
   {
    "duration": 334,
    "start_time": "2024-04-09T21:18:01.813Z"
   },
   {
    "duration": 5,
    "start_time": "2024-04-09T21:18:02.148Z"
   },
   {
    "duration": 43,
    "start_time": "2024-04-09T21:18:02.154Z"
   },
   {
    "duration": 58,
    "start_time": "2024-04-09T21:18:02.199Z"
   },
   {
    "duration": 21,
    "start_time": "2024-04-09T21:18:02.258Z"
   },
   {
    "duration": 43,
    "start_time": "2024-04-09T21:18:02.280Z"
   },
   {
    "duration": 43,
    "start_time": "2024-04-09T21:18:02.324Z"
   },
   {
    "duration": 16,
    "start_time": "2024-04-09T21:18:02.368Z"
   },
   {
    "duration": 17,
    "start_time": "2024-04-09T21:18:02.386Z"
   },
   {
    "duration": 2212,
    "start_time": "2024-04-09T21:18:02.404Z"
   },
   {
    "duration": 2107,
    "start_time": "2024-04-09T21:18:04.617Z"
   },
   {
    "duration": 2101,
    "start_time": "2024-04-09T21:18:06.726Z"
   },
   {
    "duration": 203,
    "start_time": "2024-04-09T21:18:08.829Z"
   },
   {
    "duration": 103,
    "start_time": "2024-04-09T21:18:09.035Z"
   },
   {
    "duration": 41,
    "start_time": "2024-04-09T21:18:09.140Z"
   },
   {
    "duration": 5,
    "start_time": "2024-04-09T21:18:09.182Z"
   },
   {
    "duration": 24,
    "start_time": "2024-04-09T21:18:09.188Z"
   },
   {
    "duration": 12,
    "start_time": "2024-04-09T21:18:09.213Z"
   },
   {
    "duration": 10,
    "start_time": "2024-04-09T21:18:09.226Z"
   },
   {
    "duration": 15,
    "start_time": "2024-04-09T21:18:09.237Z"
   },
   {
    "duration": 7,
    "start_time": "2024-04-09T21:18:09.253Z"
   },
   {
    "duration": 113,
    "start_time": "2024-04-09T21:18:09.261Z"
   },
   {
    "duration": 1,
    "start_time": "2024-04-09T21:18:09.375Z"
   },
   {
    "duration": 0,
    "start_time": "2024-04-09T21:18:09.377Z"
   },
   {
    "duration": 0,
    "start_time": "2024-04-09T21:18:09.378Z"
   },
   {
    "duration": 0,
    "start_time": "2024-04-09T21:18:09.379Z"
   },
   {
    "duration": 0,
    "start_time": "2024-04-09T21:18:09.381Z"
   },
   {
    "duration": 0,
    "start_time": "2024-04-09T21:18:09.382Z"
   },
   {
    "duration": 0,
    "start_time": "2024-04-09T21:18:09.383Z"
   },
   {
    "duration": 10,
    "start_time": "2024-04-09T21:19:08.988Z"
   },
   {
    "duration": 7,
    "start_time": "2024-04-09T21:19:27.288Z"
   },
   {
    "duration": 119,
    "start_time": "2024-04-09T21:20:08.617Z"
   },
   {
    "duration": 10,
    "start_time": "2024-04-09T21:20:29.267Z"
   },
   {
    "duration": 1385,
    "start_time": "2024-04-09T21:36:51.462Z"
   },
   {
    "duration": 830,
    "start_time": "2024-04-09T21:36:52.848Z"
   },
   {
    "duration": 14,
    "start_time": "2024-04-09T21:36:53.680Z"
   },
   {
    "duration": 10,
    "start_time": "2024-04-09T21:36:53.696Z"
   },
   {
    "duration": 16,
    "start_time": "2024-04-09T21:36:53.708Z"
   },
   {
    "duration": 241,
    "start_time": "2024-04-09T21:36:53.726Z"
   },
   {
    "duration": 125,
    "start_time": "2024-04-09T21:36:53.969Z"
   },
   {
    "duration": 241,
    "start_time": "2024-04-09T21:36:54.095Z"
   },
   {
    "duration": 118,
    "start_time": "2024-04-09T21:36:54.338Z"
   },
   {
    "duration": 32,
    "start_time": "2024-04-09T21:36:54.458Z"
   },
   {
    "duration": 96,
    "start_time": "2024-04-09T21:36:54.492Z"
   },
   {
    "duration": 225,
    "start_time": "2024-04-09T21:36:54.589Z"
   },
   {
    "duration": 3,
    "start_time": "2024-04-09T21:36:54.816Z"
   },
   {
    "duration": 295,
    "start_time": "2024-04-09T21:36:54.822Z"
   },
   {
    "duration": 5,
    "start_time": "2024-04-09T21:36:55.118Z"
   },
   {
    "duration": 8,
    "start_time": "2024-04-09T21:36:55.124Z"
   },
   {
    "duration": 65,
    "start_time": "2024-04-09T21:36:55.134Z"
   },
   {
    "duration": 121,
    "start_time": "2024-04-09T21:36:55.200Z"
   },
   {
    "duration": 0,
    "start_time": "2024-04-09T21:36:55.323Z"
   },
   {
    "duration": 0,
    "start_time": "2024-04-09T21:36:55.324Z"
   },
   {
    "duration": 0,
    "start_time": "2024-04-09T21:36:55.325Z"
   },
   {
    "duration": 0,
    "start_time": "2024-04-09T21:36:55.326Z"
   },
   {
    "duration": 0,
    "start_time": "2024-04-09T21:36:55.327Z"
   },
   {
    "duration": 0,
    "start_time": "2024-04-09T21:36:55.328Z"
   },
   {
    "duration": 0,
    "start_time": "2024-04-09T21:36:55.328Z"
   },
   {
    "duration": 0,
    "start_time": "2024-04-09T21:36:55.329Z"
   },
   {
    "duration": 0,
    "start_time": "2024-04-09T21:36:55.330Z"
   },
   {
    "duration": 0,
    "start_time": "2024-04-09T21:36:55.332Z"
   },
   {
    "duration": 0,
    "start_time": "2024-04-09T21:36:55.332Z"
   },
   {
    "duration": 0,
    "start_time": "2024-04-09T21:36:55.334Z"
   },
   {
    "duration": 0,
    "start_time": "2024-04-09T21:36:55.334Z"
   },
   {
    "duration": 0,
    "start_time": "2024-04-09T21:36:55.335Z"
   },
   {
    "duration": 0,
    "start_time": "2024-04-09T21:36:55.336Z"
   },
   {
    "duration": 0,
    "start_time": "2024-04-09T21:36:55.365Z"
   },
   {
    "duration": 0,
    "start_time": "2024-04-09T21:36:55.366Z"
   },
   {
    "duration": 0,
    "start_time": "2024-04-09T21:36:55.367Z"
   },
   {
    "duration": 0,
    "start_time": "2024-04-09T21:36:55.368Z"
   },
   {
    "duration": 0,
    "start_time": "2024-04-09T21:36:55.369Z"
   },
   {
    "duration": 0,
    "start_time": "2024-04-09T21:36:55.370Z"
   },
   {
    "duration": 0,
    "start_time": "2024-04-09T21:36:55.371Z"
   },
   {
    "duration": 26,
    "start_time": "2024-04-09T21:40:13.547Z"
   },
   {
    "duration": 20,
    "start_time": "2024-04-09T21:40:19.480Z"
   },
   {
    "duration": 20,
    "start_time": "2024-04-09T21:41:50.698Z"
   },
   {
    "duration": 1371,
    "start_time": "2024-04-09T21:44:39.579Z"
   },
   {
    "duration": 824,
    "start_time": "2024-04-09T21:44:40.952Z"
   },
   {
    "duration": 17,
    "start_time": "2024-04-09T21:44:41.778Z"
   },
   {
    "duration": 12,
    "start_time": "2024-04-09T21:44:41.797Z"
   },
   {
    "duration": 17,
    "start_time": "2024-04-09T21:44:41.811Z"
   },
   {
    "duration": 239,
    "start_time": "2024-04-09T21:44:41.829Z"
   },
   {
    "duration": 118,
    "start_time": "2024-04-09T21:44:42.069Z"
   },
   {
    "duration": 234,
    "start_time": "2024-04-09T21:44:42.188Z"
   },
   {
    "duration": 118,
    "start_time": "2024-04-09T21:44:42.424Z"
   },
   {
    "duration": 27,
    "start_time": "2024-04-09T21:44:42.544Z"
   },
   {
    "duration": 94,
    "start_time": "2024-04-09T21:44:42.572Z"
   },
   {
    "duration": 229,
    "start_time": "2024-04-09T21:44:42.668Z"
   },
   {
    "duration": 4,
    "start_time": "2024-04-09T21:44:42.899Z"
   },
   {
    "duration": 352,
    "start_time": "2024-04-09T21:44:42.906Z"
   },
   {
    "duration": 9,
    "start_time": "2024-04-09T21:44:43.260Z"
   },
   {
    "duration": 30,
    "start_time": "2024-04-09T21:44:43.271Z"
   },
   {
    "duration": 64,
    "start_time": "2024-04-09T21:44:43.302Z"
   },
   {
    "duration": 18,
    "start_time": "2024-04-09T21:44:43.368Z"
   },
   {
    "duration": 42,
    "start_time": "2024-04-09T21:44:43.388Z"
   },
   {
    "duration": 29,
    "start_time": "2024-04-09T21:44:43.432Z"
   },
   {
    "duration": 35,
    "start_time": "2024-04-09T21:44:43.462Z"
   },
   {
    "duration": 19,
    "start_time": "2024-04-09T21:44:43.498Z"
   },
   {
    "duration": 2223,
    "start_time": "2024-04-09T21:44:43.519Z"
   },
   {
    "duration": 2065,
    "start_time": "2024-04-09T21:44:45.744Z"
   },
   {
    "duration": 2124,
    "start_time": "2024-04-09T21:44:47.810Z"
   },
   {
    "duration": 207,
    "start_time": "2024-04-09T21:44:49.936Z"
   },
   {
    "duration": 195,
    "start_time": "2024-04-09T21:44:50.144Z"
   },
   {
    "duration": 43,
    "start_time": "2024-04-09T21:44:50.341Z"
   },
   {
    "duration": 5,
    "start_time": "2024-04-09T21:44:50.385Z"
   },
   {
    "duration": 31,
    "start_time": "2024-04-09T21:44:50.391Z"
   },
   {
    "duration": 15,
    "start_time": "2024-04-09T21:44:50.424Z"
   },
   {
    "duration": 19,
    "start_time": "2024-04-09T21:44:50.440Z"
   },
   {
    "duration": 26,
    "start_time": "2024-04-09T21:44:50.460Z"
   },
   {
    "duration": 17,
    "start_time": "2024-04-09T21:44:50.487Z"
   },
   {
    "duration": 34,
    "start_time": "2024-04-09T21:44:50.506Z"
   },
   {
    "duration": 138,
    "start_time": "2024-04-09T21:44:50.542Z"
   },
   {
    "duration": 0,
    "start_time": "2024-04-09T21:44:50.682Z"
   },
   {
    "duration": 0,
    "start_time": "2024-04-09T21:44:50.683Z"
   },
   {
    "duration": 0,
    "start_time": "2024-04-09T21:44:50.685Z"
   },
   {
    "duration": 0,
    "start_time": "2024-04-09T21:44:50.686Z"
   },
   {
    "duration": 0,
    "start_time": "2024-04-09T21:44:50.688Z"
   },
   {
    "duration": 0,
    "start_time": "2024-04-09T21:44:50.689Z"
   },
   {
    "duration": 1409,
    "start_time": "2024-04-09T21:45:30.365Z"
   },
   {
    "duration": 814,
    "start_time": "2024-04-09T21:45:31.776Z"
   },
   {
    "duration": 17,
    "start_time": "2024-04-09T21:45:32.591Z"
   },
   {
    "duration": 11,
    "start_time": "2024-04-09T21:45:32.610Z"
   },
   {
    "duration": 48,
    "start_time": "2024-04-09T21:45:32.623Z"
   },
   {
    "duration": 240,
    "start_time": "2024-04-09T21:45:32.673Z"
   },
   {
    "duration": 130,
    "start_time": "2024-04-09T21:45:32.915Z"
   },
   {
    "duration": 241,
    "start_time": "2024-04-09T21:45:33.047Z"
   },
   {
    "duration": 115,
    "start_time": "2024-04-09T21:45:33.290Z"
   },
   {
    "duration": 25,
    "start_time": "2024-04-09T21:45:33.407Z"
   },
   {
    "duration": 102,
    "start_time": "2024-04-09T21:45:33.433Z"
   },
   {
    "duration": 211,
    "start_time": "2024-04-09T21:45:33.537Z"
   },
   {
    "duration": 3,
    "start_time": "2024-04-09T21:45:33.749Z"
   },
   {
    "duration": 355,
    "start_time": "2024-04-09T21:45:33.754Z"
   },
   {
    "duration": 5,
    "start_time": "2024-04-09T21:45:34.111Z"
   },
   {
    "duration": 8,
    "start_time": "2024-04-09T21:45:34.117Z"
   },
   {
    "duration": 60,
    "start_time": "2024-04-09T21:45:34.126Z"
   },
   {
    "duration": 19,
    "start_time": "2024-04-09T21:45:34.187Z"
   },
   {
    "duration": 40,
    "start_time": "2024-04-09T21:45:34.208Z"
   },
   {
    "duration": 21,
    "start_time": "2024-04-09T21:45:34.249Z"
   },
   {
    "duration": 18,
    "start_time": "2024-04-09T21:45:34.272Z"
   },
   {
    "duration": 11,
    "start_time": "2024-04-09T21:45:34.292Z"
   },
   {
    "duration": 2266,
    "start_time": "2024-04-09T21:45:34.304Z"
   },
   {
    "duration": 2016,
    "start_time": "2024-04-09T21:45:36.571Z"
   },
   {
    "duration": 2105,
    "start_time": "2024-04-09T21:45:38.589Z"
   },
   {
    "duration": 209,
    "start_time": "2024-04-09T21:45:40.696Z"
   },
   {
    "duration": 187,
    "start_time": "2024-04-09T21:45:40.907Z"
   },
   {
    "duration": 29,
    "start_time": "2024-04-09T21:45:41.095Z"
   },
   {
    "duration": 5,
    "start_time": "2024-04-09T21:45:41.126Z"
   },
   {
    "duration": 33,
    "start_time": "2024-04-09T21:45:41.132Z"
   },
   {
    "duration": 40,
    "start_time": "2024-04-09T21:45:41.167Z"
   },
   {
    "duration": 38,
    "start_time": "2024-04-09T21:45:41.209Z"
   },
   {
    "duration": 24,
    "start_time": "2024-04-09T21:45:41.249Z"
   },
   {
    "duration": 26,
    "start_time": "2024-04-09T21:45:41.274Z"
   },
   {
    "duration": 41,
    "start_time": "2024-04-09T21:45:41.302Z"
   },
   {
    "duration": 124,
    "start_time": "2024-04-09T21:45:41.345Z"
   },
   {
    "duration": 0,
    "start_time": "2024-04-09T21:45:41.471Z"
   },
   {
    "duration": 0,
    "start_time": "2024-04-09T21:45:41.472Z"
   },
   {
    "duration": 0,
    "start_time": "2024-04-09T21:45:41.473Z"
   },
   {
    "duration": 0,
    "start_time": "2024-04-09T21:45:41.474Z"
   },
   {
    "duration": 0,
    "start_time": "2024-04-09T21:45:41.475Z"
   },
   {
    "duration": 0,
    "start_time": "2024-04-09T21:45:41.476Z"
   },
   {
    "duration": 1317,
    "start_time": "2024-04-09T21:46:43.151Z"
   },
   {
    "duration": 813,
    "start_time": "2024-04-09T21:46:44.470Z"
   },
   {
    "duration": 16,
    "start_time": "2024-04-09T21:46:45.285Z"
   },
   {
    "duration": 32,
    "start_time": "2024-04-09T21:46:45.304Z"
   },
   {
    "duration": 49,
    "start_time": "2024-04-09T21:46:45.338Z"
   },
   {
    "duration": 255,
    "start_time": "2024-04-09T21:46:45.388Z"
   },
   {
    "duration": 130,
    "start_time": "2024-04-09T21:46:45.645Z"
   },
   {
    "duration": 270,
    "start_time": "2024-04-09T21:46:45.776Z"
   },
   {
    "duration": 125,
    "start_time": "2024-04-09T21:46:46.048Z"
   },
   {
    "duration": 25,
    "start_time": "2024-04-09T21:46:46.175Z"
   },
   {
    "duration": 98,
    "start_time": "2024-04-09T21:46:46.201Z"
   },
   {
    "duration": 227,
    "start_time": "2024-04-09T21:46:46.301Z"
   },
   {
    "duration": 4,
    "start_time": "2024-04-09T21:46:46.530Z"
   },
   {
    "duration": 323,
    "start_time": "2024-04-09T21:46:46.535Z"
   },
   {
    "duration": 10,
    "start_time": "2024-04-09T21:46:46.859Z"
   },
   {
    "duration": 16,
    "start_time": "2024-04-09T21:46:46.870Z"
   },
   {
    "duration": 66,
    "start_time": "2024-04-09T21:46:46.888Z"
   },
   {
    "duration": 20,
    "start_time": "2024-04-09T21:46:46.956Z"
   },
   {
    "duration": 31,
    "start_time": "2024-04-09T21:46:46.978Z"
   },
   {
    "duration": 131,
    "start_time": "2024-04-09T21:46:47.011Z"
   },
   {
    "duration": 0,
    "start_time": "2024-04-09T21:46:47.144Z"
   },
   {
    "duration": 0,
    "start_time": "2024-04-09T21:46:47.145Z"
   },
   {
    "duration": 0,
    "start_time": "2024-04-09T21:46:47.146Z"
   },
   {
    "duration": 0,
    "start_time": "2024-04-09T21:46:47.147Z"
   },
   {
    "duration": 0,
    "start_time": "2024-04-09T21:46:47.149Z"
   },
   {
    "duration": 0,
    "start_time": "2024-04-09T21:46:47.150Z"
   },
   {
    "duration": 1,
    "start_time": "2024-04-09T21:46:47.150Z"
   },
   {
    "duration": 0,
    "start_time": "2024-04-09T21:46:47.165Z"
   },
   {
    "duration": 1,
    "start_time": "2024-04-09T21:46:47.166Z"
   },
   {
    "duration": 0,
    "start_time": "2024-04-09T21:46:47.168Z"
   },
   {
    "duration": 0,
    "start_time": "2024-04-09T21:46:47.169Z"
   },
   {
    "duration": 0,
    "start_time": "2024-04-09T21:46:47.170Z"
   },
   {
    "duration": 0,
    "start_time": "2024-04-09T21:46:47.171Z"
   },
   {
    "duration": 0,
    "start_time": "2024-04-09T21:46:47.172Z"
   },
   {
    "duration": 0,
    "start_time": "2024-04-09T21:46:47.174Z"
   },
   {
    "duration": 0,
    "start_time": "2024-04-09T21:46:47.175Z"
   },
   {
    "duration": 0,
    "start_time": "2024-04-09T21:46:47.177Z"
   },
   {
    "duration": 0,
    "start_time": "2024-04-09T21:46:47.178Z"
   },
   {
    "duration": 0,
    "start_time": "2024-04-09T21:46:47.179Z"
   },
   {
    "duration": 0,
    "start_time": "2024-04-09T21:46:47.180Z"
   },
   {
    "duration": 0,
    "start_time": "2024-04-09T21:46:47.182Z"
   },
   {
    "duration": 0,
    "start_time": "2024-04-09T21:46:47.183Z"
   },
   {
    "duration": 1311,
    "start_time": "2024-04-09T21:52:22.110Z"
   },
   {
    "duration": 829,
    "start_time": "2024-04-09T21:52:23.423Z"
   },
   {
    "duration": 17,
    "start_time": "2024-04-09T21:52:24.254Z"
   },
   {
    "duration": 11,
    "start_time": "2024-04-09T21:52:24.273Z"
   },
   {
    "duration": 18,
    "start_time": "2024-04-09T21:52:24.285Z"
   },
   {
    "duration": 240,
    "start_time": "2024-04-09T21:52:24.304Z"
   },
   {
    "duration": 131,
    "start_time": "2024-04-09T21:52:24.546Z"
   },
   {
    "duration": 248,
    "start_time": "2024-04-09T21:52:24.679Z"
   },
   {
    "duration": 122,
    "start_time": "2024-04-09T21:52:24.929Z"
   },
   {
    "duration": 32,
    "start_time": "2024-04-09T21:52:25.053Z"
   },
   {
    "duration": 98,
    "start_time": "2024-04-09T21:52:25.086Z"
   },
   {
    "duration": 219,
    "start_time": "2024-04-09T21:52:25.185Z"
   },
   {
    "duration": 3,
    "start_time": "2024-04-09T21:52:25.405Z"
   },
   {
    "duration": 334,
    "start_time": "2024-04-09T21:52:25.409Z"
   },
   {
    "duration": 5,
    "start_time": "2024-04-09T21:52:25.744Z"
   },
   {
    "duration": 27,
    "start_time": "2024-04-09T21:52:25.750Z"
   },
   {
    "duration": 66,
    "start_time": "2024-04-09T21:52:25.778Z"
   },
   {
    "duration": 20,
    "start_time": "2024-04-09T21:52:25.846Z"
   },
   {
    "duration": 32,
    "start_time": "2024-04-09T21:52:25.868Z"
   },
   {
    "duration": 58,
    "start_time": "2024-04-09T21:52:25.902Z"
   },
   {
    "duration": 0,
    "start_time": "2024-04-09T21:52:25.962Z"
   },
   {
    "duration": 0,
    "start_time": "2024-04-09T21:52:25.963Z"
   },
   {
    "duration": 0,
    "start_time": "2024-04-09T21:52:25.964Z"
   },
   {
    "duration": 0,
    "start_time": "2024-04-09T21:52:25.966Z"
   },
   {
    "duration": 0,
    "start_time": "2024-04-09T21:52:25.967Z"
   },
   {
    "duration": 0,
    "start_time": "2024-04-09T21:52:25.969Z"
   },
   {
    "duration": 0,
    "start_time": "2024-04-09T21:52:25.970Z"
   },
   {
    "duration": 0,
    "start_time": "2024-04-09T21:52:25.972Z"
   },
   {
    "duration": 0,
    "start_time": "2024-04-09T21:52:25.973Z"
   },
   {
    "duration": 0,
    "start_time": "2024-04-09T21:52:25.975Z"
   },
   {
    "duration": 0,
    "start_time": "2024-04-09T21:52:25.976Z"
   },
   {
    "duration": 0,
    "start_time": "2024-04-09T21:52:25.977Z"
   },
   {
    "duration": 0,
    "start_time": "2024-04-09T21:52:25.978Z"
   },
   {
    "duration": 0,
    "start_time": "2024-04-09T21:52:25.979Z"
   },
   {
    "duration": 0,
    "start_time": "2024-04-09T21:52:25.981Z"
   },
   {
    "duration": 0,
    "start_time": "2024-04-09T21:52:25.982Z"
   },
   {
    "duration": 0,
    "start_time": "2024-04-09T21:52:25.982Z"
   },
   {
    "duration": 0,
    "start_time": "2024-04-09T21:52:25.983Z"
   },
   {
    "duration": 0,
    "start_time": "2024-04-09T21:52:25.984Z"
   },
   {
    "duration": 0,
    "start_time": "2024-04-09T21:52:25.985Z"
   },
   {
    "duration": 0,
    "start_time": "2024-04-09T21:52:25.986Z"
   },
   {
    "duration": 0,
    "start_time": "2024-04-09T21:52:25.987Z"
   },
   {
    "duration": 1407,
    "start_time": "2024-04-09T21:53:07.478Z"
   },
   {
    "duration": 826,
    "start_time": "2024-04-09T21:53:08.887Z"
   },
   {
    "duration": 16,
    "start_time": "2024-04-09T21:53:09.715Z"
   },
   {
    "duration": 20,
    "start_time": "2024-04-09T21:53:09.733Z"
   },
   {
    "duration": 39,
    "start_time": "2024-04-09T21:53:09.755Z"
   },
   {
    "duration": 234,
    "start_time": "2024-04-09T21:53:09.796Z"
   },
   {
    "duration": 126,
    "start_time": "2024-04-09T21:53:10.032Z"
   },
   {
    "duration": 236,
    "start_time": "2024-04-09T21:53:10.159Z"
   },
   {
    "duration": 111,
    "start_time": "2024-04-09T21:53:10.397Z"
   },
   {
    "duration": 23,
    "start_time": "2024-04-09T21:53:10.511Z"
   },
   {
    "duration": 95,
    "start_time": "2024-04-09T21:53:10.535Z"
   },
   {
    "duration": 218,
    "start_time": "2024-04-09T21:53:10.632Z"
   },
   {
    "duration": 2,
    "start_time": "2024-04-09T21:53:10.852Z"
   },
   {
    "duration": 340,
    "start_time": "2024-04-09T21:53:10.856Z"
   },
   {
    "duration": 4,
    "start_time": "2024-04-09T21:53:11.198Z"
   },
   {
    "duration": 24,
    "start_time": "2024-04-09T21:53:11.204Z"
   },
   {
    "duration": 63,
    "start_time": "2024-04-09T21:53:11.229Z"
   },
   {
    "duration": 20,
    "start_time": "2024-04-09T21:53:11.293Z"
   },
   {
    "duration": 25,
    "start_time": "2024-04-09T21:53:11.314Z"
   },
   {
    "duration": 55,
    "start_time": "2024-04-09T21:53:11.340Z"
   },
   {
    "duration": 18,
    "start_time": "2024-04-09T21:53:11.397Z"
   },
   {
    "duration": 22,
    "start_time": "2024-04-09T21:53:11.417Z"
   },
   {
    "duration": 2224,
    "start_time": "2024-04-09T21:53:11.441Z"
   },
   {
    "duration": 2003,
    "start_time": "2024-04-09T21:53:13.666Z"
   },
   {
    "duration": 2180,
    "start_time": "2024-04-09T21:53:15.671Z"
   },
   {
    "duration": 197,
    "start_time": "2024-04-09T21:53:17.853Z"
   },
   {
    "duration": 190,
    "start_time": "2024-04-09T21:53:18.052Z"
   },
   {
    "duration": 40,
    "start_time": "2024-04-09T21:53:18.246Z"
   },
   {
    "duration": 5,
    "start_time": "2024-04-09T21:53:18.287Z"
   },
   {
    "duration": 7,
    "start_time": "2024-04-09T21:53:18.293Z"
   },
   {
    "duration": 8,
    "start_time": "2024-04-09T21:53:18.301Z"
   },
   {
    "duration": 23,
    "start_time": "2024-04-09T21:53:18.311Z"
   },
   {
    "duration": 13,
    "start_time": "2024-04-09T21:53:18.336Z"
   },
   {
    "duration": 11,
    "start_time": "2024-04-09T21:53:18.351Z"
   },
   {
    "duration": 13,
    "start_time": "2024-04-09T21:53:18.363Z"
   },
   {
    "duration": 115,
    "start_time": "2024-04-09T21:53:18.377Z"
   },
   {
    "duration": 0,
    "start_time": "2024-04-09T21:53:18.494Z"
   },
   {
    "duration": 0,
    "start_time": "2024-04-09T21:53:18.496Z"
   },
   {
    "duration": 0,
    "start_time": "2024-04-09T21:53:18.497Z"
   },
   {
    "duration": 0,
    "start_time": "2024-04-09T21:53:18.499Z"
   },
   {
    "duration": 0,
    "start_time": "2024-04-09T21:53:18.502Z"
   },
   {
    "duration": 0,
    "start_time": "2024-04-09T21:53:18.503Z"
   },
   {
    "duration": 20,
    "start_time": "2024-04-09T21:55:32.512Z"
   },
   {
    "duration": 1414,
    "start_time": "2024-04-09T21:56:15.565Z"
   },
   {
    "duration": 819,
    "start_time": "2024-04-09T21:56:16.981Z"
   },
   {
    "duration": 17,
    "start_time": "2024-04-09T21:56:17.802Z"
   },
   {
    "duration": 12,
    "start_time": "2024-04-09T21:56:17.820Z"
   },
   {
    "duration": 37,
    "start_time": "2024-04-09T21:56:17.833Z"
   },
   {
    "duration": 237,
    "start_time": "2024-04-09T21:56:17.871Z"
   },
   {
    "duration": 122,
    "start_time": "2024-04-09T21:56:18.109Z"
   },
   {
    "duration": 249,
    "start_time": "2024-04-09T21:56:18.233Z"
   },
   {
    "duration": 113,
    "start_time": "2024-04-09T21:56:18.484Z"
   },
   {
    "duration": 22,
    "start_time": "2024-04-09T21:56:18.599Z"
   },
   {
    "duration": 101,
    "start_time": "2024-04-09T21:56:18.623Z"
   },
   {
    "duration": 227,
    "start_time": "2024-04-09T21:56:18.725Z"
   },
   {
    "duration": 11,
    "start_time": "2024-04-09T21:56:18.954Z"
   },
   {
    "duration": 339,
    "start_time": "2024-04-09T21:56:18.968Z"
   },
   {
    "duration": 4,
    "start_time": "2024-04-09T21:56:19.309Z"
   },
   {
    "duration": 19,
    "start_time": "2024-04-09T21:56:19.315Z"
   },
   {
    "duration": 65,
    "start_time": "2024-04-09T21:56:19.335Z"
   },
   {
    "duration": 19,
    "start_time": "2024-04-09T21:56:19.402Z"
   },
   {
    "duration": 23,
    "start_time": "2024-04-09T21:56:19.423Z"
   },
   {
    "duration": 39,
    "start_time": "2024-04-09T21:56:19.447Z"
   },
   {
    "duration": 23,
    "start_time": "2024-04-09T21:56:19.488Z"
   },
   {
    "duration": 21,
    "start_time": "2024-04-09T21:56:19.513Z"
   },
   {
    "duration": 30,
    "start_time": "2024-04-09T21:56:19.536Z"
   },
   {
    "duration": 2199,
    "start_time": "2024-04-09T21:56:19.568Z"
   },
   {
    "duration": 2020,
    "start_time": "2024-04-09T21:56:21.768Z"
   },
   {
    "duration": 2122,
    "start_time": "2024-04-09T21:56:23.789Z"
   },
   {
    "duration": 204,
    "start_time": "2024-04-09T21:56:25.913Z"
   },
   {
    "duration": 182,
    "start_time": "2024-04-09T21:56:26.119Z"
   },
   {
    "duration": 30,
    "start_time": "2024-04-09T21:56:26.303Z"
   },
   {
    "duration": 4,
    "start_time": "2024-04-09T21:56:26.334Z"
   },
   {
    "duration": 13,
    "start_time": "2024-04-09T21:56:26.340Z"
   },
   {
    "duration": 13,
    "start_time": "2024-04-09T21:56:26.355Z"
   },
   {
    "duration": 7,
    "start_time": "2024-04-09T21:56:26.369Z"
   },
   {
    "duration": 7,
    "start_time": "2024-04-09T21:56:26.377Z"
   },
   {
    "duration": 6,
    "start_time": "2024-04-09T21:56:26.385Z"
   },
   {
    "duration": 7,
    "start_time": "2024-04-09T21:56:26.393Z"
   },
   {
    "duration": 119,
    "start_time": "2024-04-09T21:56:26.401Z"
   },
   {
    "duration": 1,
    "start_time": "2024-04-09T21:56:26.521Z"
   },
   {
    "duration": 0,
    "start_time": "2024-04-09T21:56:26.523Z"
   },
   {
    "duration": 0,
    "start_time": "2024-04-09T21:56:26.524Z"
   },
   {
    "duration": 0,
    "start_time": "2024-04-09T21:56:26.525Z"
   },
   {
    "duration": 0,
    "start_time": "2024-04-09T21:56:26.526Z"
   },
   {
    "duration": 0,
    "start_time": "2024-04-09T21:56:26.527Z"
   },
   {
    "duration": 11,
    "start_time": "2024-04-09T21:57:21.700Z"
   },
   {
    "duration": 922,
    "start_time": "2024-04-09T21:57:27.429Z"
   },
   {
    "duration": 11,
    "start_time": "2024-04-09T21:58:19.117Z"
   },
   {
    "duration": 1359,
    "start_time": "2024-04-09T22:00:46.746Z"
   },
   {
    "duration": 813,
    "start_time": "2024-04-09T22:00:48.107Z"
   },
   {
    "duration": 17,
    "start_time": "2024-04-09T22:00:48.921Z"
   },
   {
    "duration": 28,
    "start_time": "2024-04-09T22:00:48.940Z"
   },
   {
    "duration": 17,
    "start_time": "2024-04-09T22:00:48.970Z"
   },
   {
    "duration": 251,
    "start_time": "2024-04-09T22:00:48.988Z"
   },
   {
    "duration": 128,
    "start_time": "2024-04-09T22:00:49.241Z"
   },
   {
    "duration": 235,
    "start_time": "2024-04-09T22:00:49.371Z"
   },
   {
    "duration": 113,
    "start_time": "2024-04-09T22:00:49.607Z"
   },
   {
    "duration": 23,
    "start_time": "2024-04-09T22:00:49.723Z"
   },
   {
    "duration": 90,
    "start_time": "2024-04-09T22:00:49.748Z"
   },
   {
    "duration": 219,
    "start_time": "2024-04-09T22:00:49.839Z"
   },
   {
    "duration": 6,
    "start_time": "2024-04-09T22:00:50.060Z"
   },
   {
    "duration": 329,
    "start_time": "2024-04-09T22:00:50.067Z"
   },
   {
    "duration": 4,
    "start_time": "2024-04-09T22:00:50.397Z"
   },
   {
    "duration": 33,
    "start_time": "2024-04-09T22:00:50.403Z"
   },
   {
    "duration": 58,
    "start_time": "2024-04-09T22:00:50.437Z"
   },
   {
    "duration": 21,
    "start_time": "2024-04-09T22:00:50.497Z"
   },
   {
    "duration": 37,
    "start_time": "2024-04-09T22:00:50.520Z"
   },
   {
    "duration": 34,
    "start_time": "2024-04-09T22:00:50.558Z"
   },
   {
    "duration": 20,
    "start_time": "2024-04-09T22:00:50.594Z"
   },
   {
    "duration": 160,
    "start_time": "2024-04-09T22:00:50.616Z"
   },
   {
    "duration": 0,
    "start_time": "2024-04-09T22:00:50.779Z"
   },
   {
    "duration": 0,
    "start_time": "2024-04-09T22:00:50.781Z"
   },
   {
    "duration": 0,
    "start_time": "2024-04-09T22:00:50.782Z"
   },
   {
    "duration": 0,
    "start_time": "2024-04-09T22:00:50.783Z"
   },
   {
    "duration": 0,
    "start_time": "2024-04-09T22:00:50.785Z"
   },
   {
    "duration": 0,
    "start_time": "2024-04-09T22:00:50.786Z"
   },
   {
    "duration": 0,
    "start_time": "2024-04-09T22:00:50.788Z"
   },
   {
    "duration": 0,
    "start_time": "2024-04-09T22:00:50.790Z"
   },
   {
    "duration": 0,
    "start_time": "2024-04-09T22:00:50.791Z"
   },
   {
    "duration": 0,
    "start_time": "2024-04-09T22:00:50.793Z"
   },
   {
    "duration": 0,
    "start_time": "2024-04-09T22:00:50.794Z"
   },
   {
    "duration": 0,
    "start_time": "2024-04-09T22:00:50.795Z"
   },
   {
    "duration": 0,
    "start_time": "2024-04-09T22:00:50.797Z"
   },
   {
    "duration": 0,
    "start_time": "2024-04-09T22:00:50.798Z"
   },
   {
    "duration": 0,
    "start_time": "2024-04-09T22:00:50.800Z"
   },
   {
    "duration": 0,
    "start_time": "2024-04-09T22:00:50.801Z"
   },
   {
    "duration": 0,
    "start_time": "2024-04-09T22:00:50.802Z"
   },
   {
    "duration": 0,
    "start_time": "2024-04-09T22:00:50.804Z"
   },
   {
    "duration": 0,
    "start_time": "2024-04-09T22:00:50.805Z"
   },
   {
    "duration": 0,
    "start_time": "2024-04-09T22:00:50.806Z"
   },
   {
    "duration": 0,
    "start_time": "2024-04-09T22:00:50.808Z"
   },
   {
    "duration": 0,
    "start_time": "2024-04-09T22:00:50.810Z"
   },
   {
    "duration": 1333,
    "start_time": "2024-04-09T22:01:17.991Z"
   },
   {
    "duration": 810,
    "start_time": "2024-04-09T22:01:19.326Z"
   },
   {
    "duration": 17,
    "start_time": "2024-04-09T22:01:20.137Z"
   },
   {
    "duration": 18,
    "start_time": "2024-04-09T22:01:20.156Z"
   },
   {
    "duration": 45,
    "start_time": "2024-04-09T22:01:20.176Z"
   },
   {
    "duration": 232,
    "start_time": "2024-04-09T22:01:20.223Z"
   },
   {
    "duration": 136,
    "start_time": "2024-04-09T22:01:20.457Z"
   },
   {
    "duration": 252,
    "start_time": "2024-04-09T22:01:20.594Z"
   },
   {
    "duration": 118,
    "start_time": "2024-04-09T22:01:20.848Z"
   },
   {
    "duration": 24,
    "start_time": "2024-04-09T22:01:20.969Z"
   },
   {
    "duration": 97,
    "start_time": "2024-04-09T22:01:20.994Z"
   },
   {
    "duration": 223,
    "start_time": "2024-04-09T22:01:21.092Z"
   },
   {
    "duration": 3,
    "start_time": "2024-04-09T22:01:21.316Z"
   },
   {
    "duration": 346,
    "start_time": "2024-04-09T22:01:21.320Z"
   },
   {
    "duration": 5,
    "start_time": "2024-04-09T22:01:21.667Z"
   },
   {
    "duration": 16,
    "start_time": "2024-04-09T22:01:21.673Z"
   },
   {
    "duration": 51,
    "start_time": "2024-04-09T22:01:21.690Z"
   },
   {
    "duration": 24,
    "start_time": "2024-04-09T22:01:21.742Z"
   },
   {
    "duration": 21,
    "start_time": "2024-04-09T22:01:21.768Z"
   },
   {
    "duration": 134,
    "start_time": "2024-04-09T22:01:21.791Z"
   },
   {
    "duration": 0,
    "start_time": "2024-04-09T22:01:21.927Z"
   },
   {
    "duration": 0,
    "start_time": "2024-04-09T22:01:21.929Z"
   },
   {
    "duration": 0,
    "start_time": "2024-04-09T22:01:21.930Z"
   },
   {
    "duration": 0,
    "start_time": "2024-04-09T22:01:21.931Z"
   },
   {
    "duration": 0,
    "start_time": "2024-04-09T22:01:21.932Z"
   },
   {
    "duration": 0,
    "start_time": "2024-04-09T22:01:21.933Z"
   },
   {
    "duration": 0,
    "start_time": "2024-04-09T22:01:21.934Z"
   },
   {
    "duration": 0,
    "start_time": "2024-04-09T22:01:21.936Z"
   },
   {
    "duration": 0,
    "start_time": "2024-04-09T22:01:21.937Z"
   },
   {
    "duration": 0,
    "start_time": "2024-04-09T22:01:21.938Z"
   },
   {
    "duration": 0,
    "start_time": "2024-04-09T22:01:21.939Z"
   },
   {
    "duration": 0,
    "start_time": "2024-04-09T22:01:21.940Z"
   },
   {
    "duration": 0,
    "start_time": "2024-04-09T22:01:21.941Z"
   },
   {
    "duration": 0,
    "start_time": "2024-04-09T22:01:21.942Z"
   },
   {
    "duration": 0,
    "start_time": "2024-04-09T22:01:21.966Z"
   },
   {
    "duration": 0,
    "start_time": "2024-04-09T22:01:21.967Z"
   },
   {
    "duration": 0,
    "start_time": "2024-04-09T22:01:21.968Z"
   },
   {
    "duration": 0,
    "start_time": "2024-04-09T22:01:21.970Z"
   },
   {
    "duration": 0,
    "start_time": "2024-04-09T22:01:21.972Z"
   },
   {
    "duration": 0,
    "start_time": "2024-04-09T22:01:21.973Z"
   },
   {
    "duration": 0,
    "start_time": "2024-04-09T22:01:21.975Z"
   },
   {
    "duration": 0,
    "start_time": "2024-04-09T22:01:21.976Z"
   },
   {
    "duration": 0,
    "start_time": "2024-04-09T22:01:21.978Z"
   },
   {
    "duration": 0,
    "start_time": "2024-04-09T22:01:21.979Z"
   },
   {
    "duration": 20,
    "start_time": "2024-04-09T22:02:40.643Z"
   },
   {
    "duration": 1374,
    "start_time": "2024-04-09T22:02:45.269Z"
   },
   {
    "duration": 825,
    "start_time": "2024-04-09T22:02:46.644Z"
   },
   {
    "duration": 15,
    "start_time": "2024-04-09T22:02:47.471Z"
   },
   {
    "duration": 18,
    "start_time": "2024-04-09T22:02:47.488Z"
   },
   {
    "duration": 42,
    "start_time": "2024-04-09T22:02:47.508Z"
   },
   {
    "duration": 215,
    "start_time": "2024-04-09T22:02:47.552Z"
   },
   {
    "duration": 127,
    "start_time": "2024-04-09T22:02:47.768Z"
   },
   {
    "duration": 245,
    "start_time": "2024-04-09T22:02:47.897Z"
   },
   {
    "duration": 114,
    "start_time": "2024-04-09T22:02:48.144Z"
   },
   {
    "duration": 29,
    "start_time": "2024-04-09T22:02:48.259Z"
   },
   {
    "duration": 99,
    "start_time": "2024-04-09T22:02:48.289Z"
   },
   {
    "duration": 234,
    "start_time": "2024-04-09T22:02:48.389Z"
   },
   {
    "duration": 3,
    "start_time": "2024-04-09T22:02:48.625Z"
   },
   {
    "duration": 362,
    "start_time": "2024-04-09T22:02:48.631Z"
   },
   {
    "duration": 4,
    "start_time": "2024-04-09T22:02:48.995Z"
   },
   {
    "duration": 20,
    "start_time": "2024-04-09T22:02:49.000Z"
   },
   {
    "duration": 74,
    "start_time": "2024-04-09T22:02:49.022Z"
   },
   {
    "duration": 20,
    "start_time": "2024-04-09T22:02:49.097Z"
   },
   {
    "duration": 61,
    "start_time": "2024-04-09T22:02:49.119Z"
   },
   {
    "duration": 143,
    "start_time": "2024-04-09T22:02:49.181Z"
   },
   {
    "duration": 0,
    "start_time": "2024-04-09T22:02:49.326Z"
   },
   {
    "duration": 0,
    "start_time": "2024-04-09T22:02:49.327Z"
   },
   {
    "duration": 0,
    "start_time": "2024-04-09T22:02:49.329Z"
   },
   {
    "duration": 0,
    "start_time": "2024-04-09T22:02:49.331Z"
   },
   {
    "duration": 0,
    "start_time": "2024-04-09T22:02:49.332Z"
   },
   {
    "duration": 0,
    "start_time": "2024-04-09T22:02:49.332Z"
   },
   {
    "duration": 0,
    "start_time": "2024-04-09T22:02:49.333Z"
   },
   {
    "duration": 0,
    "start_time": "2024-04-09T22:02:49.334Z"
   },
   {
    "duration": 0,
    "start_time": "2024-04-09T22:02:49.335Z"
   },
   {
    "duration": 0,
    "start_time": "2024-04-09T22:02:49.336Z"
   },
   {
    "duration": 0,
    "start_time": "2024-04-09T22:02:49.337Z"
   },
   {
    "duration": 0,
    "start_time": "2024-04-09T22:02:49.338Z"
   },
   {
    "duration": 0,
    "start_time": "2024-04-09T22:02:49.339Z"
   },
   {
    "duration": 0,
    "start_time": "2024-04-09T22:02:49.366Z"
   },
   {
    "duration": 0,
    "start_time": "2024-04-09T22:02:49.367Z"
   },
   {
    "duration": 0,
    "start_time": "2024-04-09T22:02:49.368Z"
   },
   {
    "duration": 0,
    "start_time": "2024-04-09T22:02:49.369Z"
   },
   {
    "duration": 0,
    "start_time": "2024-04-09T22:02:49.370Z"
   },
   {
    "duration": 0,
    "start_time": "2024-04-09T22:02:49.371Z"
   },
   {
    "duration": 0,
    "start_time": "2024-04-09T22:02:49.372Z"
   },
   {
    "duration": 0,
    "start_time": "2024-04-09T22:02:49.373Z"
   },
   {
    "duration": 0,
    "start_time": "2024-04-09T22:02:49.373Z"
   },
   {
    "duration": 0,
    "start_time": "2024-04-09T22:02:49.374Z"
   },
   {
    "duration": 0,
    "start_time": "2024-04-09T22:02:49.376Z"
   },
   {
    "duration": 19,
    "start_time": "2024-04-09T22:03:38.510Z"
   },
   {
    "duration": 1358,
    "start_time": "2024-04-09T22:04:21.488Z"
   },
   {
    "duration": 809,
    "start_time": "2024-04-09T22:04:22.848Z"
   },
   {
    "duration": 16,
    "start_time": "2024-04-09T22:04:23.659Z"
   },
   {
    "duration": 52,
    "start_time": "2024-04-09T22:04:23.677Z"
   },
   {
    "duration": 41,
    "start_time": "2024-04-09T22:04:23.731Z"
   },
   {
    "duration": 257,
    "start_time": "2024-04-09T22:04:23.773Z"
   },
   {
    "duration": 127,
    "start_time": "2024-04-09T22:04:24.032Z"
   },
   {
    "duration": 237,
    "start_time": "2024-04-09T22:04:24.161Z"
   },
   {
    "duration": 113,
    "start_time": "2024-04-09T22:04:24.399Z"
   },
   {
    "duration": 24,
    "start_time": "2024-04-09T22:04:24.514Z"
   },
   {
    "duration": 96,
    "start_time": "2024-04-09T22:04:24.539Z"
   },
   {
    "duration": 219,
    "start_time": "2024-04-09T22:04:24.637Z"
   },
   {
    "duration": 7,
    "start_time": "2024-04-09T22:04:24.858Z"
   },
   {
    "duration": 390,
    "start_time": "2024-04-09T22:04:24.866Z"
   },
   {
    "duration": 10,
    "start_time": "2024-04-09T22:04:25.258Z"
   },
   {
    "duration": 19,
    "start_time": "2024-04-09T22:04:25.269Z"
   },
   {
    "duration": 65,
    "start_time": "2024-04-09T22:04:25.289Z"
   },
   {
    "duration": 27,
    "start_time": "2024-04-09T22:04:25.356Z"
   },
   {
    "duration": 20,
    "start_time": "2024-04-09T22:04:25.384Z"
   },
   {
    "duration": 30,
    "start_time": "2024-04-09T22:04:25.406Z"
   },
   {
    "duration": 32,
    "start_time": "2024-04-09T22:04:25.437Z"
   },
   {
    "duration": 19,
    "start_time": "2024-04-09T22:04:25.470Z"
   },
   {
    "duration": 19,
    "start_time": "2024-04-09T22:04:25.491Z"
   },
   {
    "duration": 16,
    "start_time": "2024-04-09T22:04:25.511Z"
   },
   {
    "duration": 2208,
    "start_time": "2024-04-09T22:04:25.529Z"
   },
   {
    "duration": 2031,
    "start_time": "2024-04-09T22:04:27.738Z"
   },
   {
    "duration": 2128,
    "start_time": "2024-04-09T22:04:29.771Z"
   },
   {
    "duration": 207,
    "start_time": "2024-04-09T22:04:31.903Z"
   },
   {
    "duration": 193,
    "start_time": "2024-04-09T22:04:32.112Z"
   },
   {
    "duration": 25,
    "start_time": "2024-04-09T22:04:32.307Z"
   },
   {
    "duration": 19,
    "start_time": "2024-04-09T22:04:32.334Z"
   },
   {
    "duration": 12,
    "start_time": "2024-04-09T22:04:32.355Z"
   },
   {
    "duration": 23,
    "start_time": "2024-04-09T22:04:32.368Z"
   },
   {
    "duration": 33,
    "start_time": "2024-04-09T22:04:32.392Z"
   },
   {
    "duration": 38,
    "start_time": "2024-04-09T22:04:32.427Z"
   },
   {
    "duration": 17,
    "start_time": "2024-04-09T22:04:32.467Z"
   },
   {
    "duration": 14,
    "start_time": "2024-04-09T22:04:32.486Z"
   },
   {
    "duration": 24,
    "start_time": "2024-04-09T22:04:32.502Z"
   },
   {
    "duration": 1343,
    "start_time": "2024-04-09T22:04:32.528Z"
   },
   {
    "duration": 1344,
    "start_time": "2024-04-09T22:04:50.954Z"
   },
   {
    "duration": 818,
    "start_time": "2024-04-09T22:04:52.300Z"
   },
   {
    "duration": 16,
    "start_time": "2024-04-09T22:04:53.120Z"
   },
   {
    "duration": 22,
    "start_time": "2024-04-09T22:04:53.138Z"
   },
   {
    "duration": 23,
    "start_time": "2024-04-09T22:04:53.161Z"
   },
   {
    "duration": 230,
    "start_time": "2024-04-09T22:04:53.185Z"
   },
   {
    "duration": 125,
    "start_time": "2024-04-09T22:04:53.416Z"
   },
   {
    "duration": 250,
    "start_time": "2024-04-09T22:04:53.543Z"
   },
   {
    "duration": 116,
    "start_time": "2024-04-09T22:04:53.795Z"
   },
   {
    "duration": 33,
    "start_time": "2024-04-09T22:04:53.914Z"
   },
   {
    "duration": 93,
    "start_time": "2024-04-09T22:04:53.949Z"
   },
   {
    "duration": 223,
    "start_time": "2024-04-09T22:04:54.044Z"
   },
   {
    "duration": 3,
    "start_time": "2024-04-09T22:04:54.269Z"
   },
   {
    "duration": 343,
    "start_time": "2024-04-09T22:04:54.273Z"
   },
   {
    "duration": 4,
    "start_time": "2024-04-09T22:04:54.617Z"
   },
   {
    "duration": 26,
    "start_time": "2024-04-09T22:04:54.623Z"
   },
   {
    "duration": 64,
    "start_time": "2024-04-09T22:04:54.651Z"
   },
   {
    "duration": 20,
    "start_time": "2024-04-09T22:04:54.716Z"
   },
   {
    "duration": 37,
    "start_time": "2024-04-09T22:04:54.737Z"
   },
   {
    "duration": 40,
    "start_time": "2024-04-09T22:04:54.775Z"
   },
   {
    "duration": 19,
    "start_time": "2024-04-09T22:04:54.817Z"
   },
   {
    "duration": 14,
    "start_time": "2024-04-09T22:04:54.837Z"
   },
   {
    "duration": 33,
    "start_time": "2024-04-09T22:04:54.852Z"
   },
   {
    "duration": 19,
    "start_time": "2024-04-09T22:04:54.887Z"
   },
   {
    "duration": 2240,
    "start_time": "2024-04-09T22:04:54.907Z"
   },
   {
    "duration": 2011,
    "start_time": "2024-04-09T22:04:57.148Z"
   },
   {
    "duration": 2107,
    "start_time": "2024-04-09T22:04:59.160Z"
   },
   {
    "duration": 219,
    "start_time": "2024-04-09T22:05:01.270Z"
   },
   {
    "duration": 196,
    "start_time": "2024-04-09T22:05:01.491Z"
   },
   {
    "duration": 31,
    "start_time": "2024-04-09T22:05:01.689Z"
   },
   {
    "duration": 46,
    "start_time": "2024-04-09T22:05:01.721Z"
   },
   {
    "duration": 70,
    "start_time": "2024-04-09T22:05:01.769Z"
   },
   {
    "duration": 35,
    "start_time": "2024-04-09T22:05:01.840Z"
   },
   {
    "duration": 48,
    "start_time": "2024-04-09T22:05:01.877Z"
   },
   {
    "duration": 34,
    "start_time": "2024-04-09T22:05:01.927Z"
   },
   {
    "duration": 19,
    "start_time": "2024-04-09T22:05:01.962Z"
   },
   {
    "duration": 30,
    "start_time": "2024-04-09T22:05:01.982Z"
   },
   {
    "duration": 31,
    "start_time": "2024-04-09T22:05:02.014Z"
   },
   {
    "duration": 1220,
    "start_time": "2024-04-09T22:05:02.047Z"
   },
   {
    "duration": 33781,
    "start_time": "2024-04-09T22:05:03.269Z"
   },
   {
    "duration": 6,
    "start_time": "2024-04-09T22:05:37.052Z"
   },
   {
    "duration": 254372,
    "start_time": "2024-04-09T22:05:37.065Z"
   },
   {
    "duration": 66384,
    "start_time": "2024-04-09T22:09:51.438Z"
   },
   {
    "duration": 8,
    "start_time": "2024-04-09T22:10:57.823Z"
   },
   {
    "duration": 862,
    "start_time": "2024-04-09T22:10:57.834Z"
   },
   {
    "duration": 1371,
    "start_time": "2024-04-09T22:13:20.877Z"
   },
   {
    "duration": 830,
    "start_time": "2024-04-09T22:13:22.249Z"
   },
   {
    "duration": 16,
    "start_time": "2024-04-09T22:13:23.081Z"
   },
   {
    "duration": 46,
    "start_time": "2024-04-09T22:13:23.099Z"
   },
   {
    "duration": 42,
    "start_time": "2024-04-09T22:13:23.147Z"
   },
   {
    "duration": 235,
    "start_time": "2024-04-09T22:13:23.191Z"
   },
   {
    "duration": 128,
    "start_time": "2024-04-09T22:13:23.428Z"
   },
   {
    "duration": 238,
    "start_time": "2024-04-09T22:13:23.558Z"
   },
   {
    "duration": 114,
    "start_time": "2024-04-09T22:13:23.797Z"
   },
   {
    "duration": 23,
    "start_time": "2024-04-09T22:13:23.914Z"
   },
   {
    "duration": 97,
    "start_time": "2024-04-09T22:13:23.939Z"
   },
   {
    "duration": 219,
    "start_time": "2024-04-09T22:13:24.037Z"
   },
   {
    "duration": 3,
    "start_time": "2024-04-09T22:13:24.257Z"
   },
   {
    "duration": 354,
    "start_time": "2024-04-09T22:13:24.265Z"
   },
   {
    "duration": 6,
    "start_time": "2024-04-09T22:13:24.621Z"
   },
   {
    "duration": 22,
    "start_time": "2024-04-09T22:13:24.628Z"
   },
   {
    "duration": 69,
    "start_time": "2024-04-09T22:13:24.652Z"
   },
   {
    "duration": 20,
    "start_time": "2024-04-09T22:13:24.722Z"
   },
   {
    "duration": 36,
    "start_time": "2024-04-09T22:13:24.744Z"
   },
   {
    "duration": 7,
    "start_time": "2024-04-09T22:13:24.782Z"
   },
   {
    "duration": 46,
    "start_time": "2024-04-09T22:13:24.790Z"
   },
   {
    "duration": 24,
    "start_time": "2024-04-09T22:13:24.838Z"
   },
   {
    "duration": 2308,
    "start_time": "2024-04-09T22:13:24.864Z"
   },
   {
    "duration": 2038,
    "start_time": "2024-04-09T22:13:27.174Z"
   },
   {
    "duration": 2173,
    "start_time": "2024-04-09T22:13:29.214Z"
   },
   {
    "duration": 211,
    "start_time": "2024-04-09T22:13:31.388Z"
   },
   {
    "duration": 196,
    "start_time": "2024-04-09T22:13:31.600Z"
   },
   {
    "duration": 31,
    "start_time": "2024-04-09T22:13:31.799Z"
   },
   {
    "duration": 32,
    "start_time": "2024-04-09T22:13:31.832Z"
   },
   {
    "duration": 32,
    "start_time": "2024-04-09T22:13:31.866Z"
   },
   {
    "duration": 38,
    "start_time": "2024-04-09T22:13:31.899Z"
   },
   {
    "duration": 35,
    "start_time": "2024-04-09T22:13:31.938Z"
   },
   {
    "duration": 31,
    "start_time": "2024-04-09T22:13:31.975Z"
   },
   {
    "duration": 38,
    "start_time": "2024-04-09T22:13:32.008Z"
   },
   {
    "duration": 60,
    "start_time": "2024-04-09T22:13:32.048Z"
   },
   {
    "duration": 21,
    "start_time": "2024-04-09T22:13:32.110Z"
   },
   {
    "duration": 1543,
    "start_time": "2024-04-09T22:13:32.132Z"
   },
   {
    "duration": 34057,
    "start_time": "2024-04-09T22:13:33.767Z"
   },
   {
    "duration": 6,
    "start_time": "2024-04-09T22:14:07.826Z"
   },
   {
    "duration": 1392,
    "start_time": "2024-04-09T22:14:13.473Z"
   },
   {
    "duration": 808,
    "start_time": "2024-04-09T22:14:14.867Z"
   },
   {
    "duration": 17,
    "start_time": "2024-04-09T22:14:15.676Z"
   },
   {
    "duration": 17,
    "start_time": "2024-04-09T22:14:15.694Z"
   },
   {
    "duration": 27,
    "start_time": "2024-04-09T22:14:15.713Z"
   },
   {
    "duration": 273,
    "start_time": "2024-04-09T22:14:15.742Z"
   },
   {
    "duration": 132,
    "start_time": "2024-04-09T22:14:16.017Z"
   },
   {
    "duration": 242,
    "start_time": "2024-04-09T22:14:16.151Z"
   },
   {
    "duration": 121,
    "start_time": "2024-04-09T22:14:16.394Z"
   },
   {
    "duration": 26,
    "start_time": "2024-04-09T22:14:16.516Z"
   },
   {
    "duration": 96,
    "start_time": "2024-04-09T22:14:16.544Z"
   },
   {
    "duration": 227,
    "start_time": "2024-04-09T22:14:16.642Z"
   },
   {
    "duration": 3,
    "start_time": "2024-04-09T22:14:16.871Z"
   },
   {
    "duration": 333,
    "start_time": "2024-04-09T22:14:16.876Z"
   },
   {
    "duration": 5,
    "start_time": "2024-04-09T22:14:17.210Z"
   },
   {
    "duration": 8,
    "start_time": "2024-04-09T22:14:17.216Z"
   },
   {
    "duration": 64,
    "start_time": "2024-04-09T22:14:17.225Z"
   },
   {
    "duration": 20,
    "start_time": "2024-04-09T22:14:17.290Z"
   },
   {
    "duration": 28,
    "start_time": "2024-04-09T22:14:17.311Z"
   },
   {
    "duration": 7,
    "start_time": "2024-04-09T22:14:17.341Z"
   },
   {
    "duration": 33,
    "start_time": "2024-04-09T22:14:17.349Z"
   },
   {
    "duration": 11,
    "start_time": "2024-04-09T22:14:17.383Z"
   },
   {
    "duration": 2189,
    "start_time": "2024-04-09T22:14:17.396Z"
   },
   {
    "duration": 2037,
    "start_time": "2024-04-09T22:14:19.586Z"
   },
   {
    "duration": 2347,
    "start_time": "2024-04-09T22:14:21.624Z"
   },
   {
    "duration": 200,
    "start_time": "2024-04-09T22:14:23.972Z"
   },
   {
    "duration": 184,
    "start_time": "2024-04-09T22:14:24.173Z"
   },
   {
    "duration": 33,
    "start_time": "2024-04-09T22:14:24.358Z"
   },
   {
    "duration": 5,
    "start_time": "2024-04-09T22:14:24.392Z"
   },
   {
    "duration": 6,
    "start_time": "2024-04-09T22:14:24.398Z"
   },
   {
    "duration": 9,
    "start_time": "2024-04-09T22:14:24.405Z"
   },
   {
    "duration": 7,
    "start_time": "2024-04-09T22:14:24.415Z"
   },
   {
    "duration": 5,
    "start_time": "2024-04-09T22:14:24.423Z"
   },
   {
    "duration": 7,
    "start_time": "2024-04-09T22:14:24.429Z"
   },
   {
    "duration": 28,
    "start_time": "2024-04-09T22:14:24.437Z"
   },
   {
    "duration": 9,
    "start_time": "2024-04-09T22:14:24.467Z"
   },
   {
    "duration": 1495,
    "start_time": "2024-04-09T22:14:24.477Z"
   },
   {
    "duration": 33728,
    "start_time": "2024-04-09T22:14:25.974Z"
   },
   {
    "duration": 7,
    "start_time": "2024-04-09T22:14:59.703Z"
   },
   {
    "duration": 1405,
    "start_time": "2024-04-09T22:17:41.884Z"
   },
   {
    "duration": 825,
    "start_time": "2024-04-09T22:17:43.292Z"
   },
   {
    "duration": 17,
    "start_time": "2024-04-09T22:17:44.119Z"
   },
   {
    "duration": 11,
    "start_time": "2024-04-09T22:17:44.138Z"
   },
   {
    "duration": 18,
    "start_time": "2024-04-09T22:17:44.165Z"
   },
   {
    "duration": 230,
    "start_time": "2024-04-09T22:17:44.185Z"
   },
   {
    "duration": 130,
    "start_time": "2024-04-09T22:17:44.417Z"
   },
   {
    "duration": 253,
    "start_time": "2024-04-09T22:17:44.548Z"
   },
   {
    "duration": 122,
    "start_time": "2024-04-09T22:17:44.803Z"
   },
   {
    "duration": 24,
    "start_time": "2024-04-09T22:17:44.928Z"
   },
   {
    "duration": 92,
    "start_time": "2024-04-09T22:17:44.953Z"
   },
   {
    "duration": 226,
    "start_time": "2024-04-09T22:17:45.047Z"
   },
   {
    "duration": 3,
    "start_time": "2024-04-09T22:17:45.275Z"
   },
   {
    "duration": 365,
    "start_time": "2024-04-09T22:17:45.280Z"
   },
   {
    "duration": 6,
    "start_time": "2024-04-09T22:17:45.647Z"
   },
   {
    "duration": 27,
    "start_time": "2024-04-09T22:17:45.665Z"
   },
   {
    "duration": 33,
    "start_time": "2024-04-09T22:17:45.694Z"
   },
   {
    "duration": 49,
    "start_time": "2024-04-09T22:17:45.729Z"
   },
   {
    "duration": 19,
    "start_time": "2024-04-09T22:17:45.779Z"
   },
   {
    "duration": 40,
    "start_time": "2024-04-09T22:17:45.800Z"
   },
   {
    "duration": 28,
    "start_time": "2024-04-09T22:17:45.841Z"
   },
   {
    "duration": 15,
    "start_time": "2024-04-09T22:17:45.871Z"
   },
   {
    "duration": 2203,
    "start_time": "2024-04-09T22:17:45.888Z"
   },
   {
    "duration": 2067,
    "start_time": "2024-04-09T22:17:48.093Z"
   },
   {
    "duration": 2126,
    "start_time": "2024-04-09T22:17:50.165Z"
   },
   {
    "duration": 204,
    "start_time": "2024-04-09T22:17:52.293Z"
   },
   {
    "duration": 207,
    "start_time": "2024-04-09T22:17:52.499Z"
   },
   {
    "duration": 33,
    "start_time": "2024-04-09T22:17:52.710Z"
   },
   {
    "duration": 25,
    "start_time": "2024-04-09T22:17:52.744Z"
   },
   {
    "duration": 20,
    "start_time": "2024-04-09T22:17:52.770Z"
   },
   {
    "duration": 19,
    "start_time": "2024-04-09T22:17:52.791Z"
   },
   {
    "duration": 25,
    "start_time": "2024-04-09T22:17:52.812Z"
   },
   {
    "duration": 24,
    "start_time": "2024-04-09T22:17:52.838Z"
   },
   {
    "duration": 12,
    "start_time": "2024-04-09T22:17:52.863Z"
   },
   {
    "duration": 18,
    "start_time": "2024-04-09T22:17:52.877Z"
   },
   {
    "duration": 29,
    "start_time": "2024-04-09T22:17:52.896Z"
   },
   {
    "duration": 1441,
    "start_time": "2024-04-09T22:17:52.927Z"
   },
   {
    "duration": 34159,
    "start_time": "2024-04-09T22:17:54.369Z"
   },
   {
    "duration": 8,
    "start_time": "2024-04-09T22:18:28.530Z"
   },
   {
    "duration": 1413,
    "start_time": "2024-04-09T22:20:32.578Z"
   },
   {
    "duration": 837,
    "start_time": "2024-04-09T22:20:33.993Z"
   },
   {
    "duration": 16,
    "start_time": "2024-04-09T22:20:34.832Z"
   },
   {
    "duration": 23,
    "start_time": "2024-04-09T22:20:34.850Z"
   },
   {
    "duration": 17,
    "start_time": "2024-04-09T22:20:34.875Z"
   },
   {
    "duration": 240,
    "start_time": "2024-04-09T22:20:34.893Z"
   },
   {
    "duration": 131,
    "start_time": "2024-04-09T22:20:35.134Z"
   },
   {
    "duration": 246,
    "start_time": "2024-04-09T22:20:35.267Z"
   },
   {
    "duration": 118,
    "start_time": "2024-04-09T22:20:35.515Z"
   },
   {
    "duration": 33,
    "start_time": "2024-04-09T22:20:35.635Z"
   },
   {
    "duration": 99,
    "start_time": "2024-04-09T22:20:35.669Z"
   },
   {
    "duration": 243,
    "start_time": "2024-04-09T22:20:35.770Z"
   },
   {
    "duration": 2,
    "start_time": "2024-04-09T22:20:36.015Z"
   },
   {
    "duration": 339,
    "start_time": "2024-04-09T22:20:36.020Z"
   },
   {
    "duration": 8,
    "start_time": "2024-04-09T22:20:36.361Z"
   },
   {
    "duration": 10,
    "start_time": "2024-04-09T22:20:36.371Z"
   },
   {
    "duration": 23,
    "start_time": "2024-04-09T22:20:36.382Z"
   },
   {
    "duration": 38,
    "start_time": "2024-04-09T22:20:36.407Z"
   },
   {
    "duration": 20,
    "start_time": "2024-04-09T22:20:36.466Z"
   },
   {
    "duration": 28,
    "start_time": "2024-04-09T22:20:36.487Z"
   },
   {
    "duration": 19,
    "start_time": "2024-04-09T22:20:36.516Z"
   },
   {
    "duration": 5,
    "start_time": "2024-04-09T22:20:36.536Z"
   },
   {
    "duration": 2207,
    "start_time": "2024-04-09T22:20:36.542Z"
   },
   {
    "duration": 2036,
    "start_time": "2024-04-09T22:20:38.750Z"
   },
   {
    "duration": 2097,
    "start_time": "2024-04-09T22:20:40.787Z"
   },
   {
    "duration": 213,
    "start_time": "2024-04-09T22:20:42.886Z"
   },
   {
    "duration": 195,
    "start_time": "2024-04-09T22:20:43.100Z"
   },
   {
    "duration": 31,
    "start_time": "2024-04-09T22:20:43.297Z"
   },
   {
    "duration": 4,
    "start_time": "2024-04-09T22:20:43.330Z"
   },
   {
    "duration": 33,
    "start_time": "2024-04-09T22:20:43.335Z"
   },
   {
    "duration": 5,
    "start_time": "2024-04-09T22:20:43.370Z"
   },
   {
    "duration": 9,
    "start_time": "2024-04-09T22:20:43.376Z"
   },
   {
    "duration": 6,
    "start_time": "2024-04-09T22:20:43.386Z"
   },
   {
    "duration": 7,
    "start_time": "2024-04-09T22:20:43.394Z"
   },
   {
    "duration": 8,
    "start_time": "2024-04-09T22:20:43.402Z"
   },
   {
    "duration": 12,
    "start_time": "2024-04-09T22:20:43.412Z"
   },
   {
    "duration": 1240,
    "start_time": "2024-04-09T22:20:43.426Z"
   },
   {
    "duration": 1400,
    "start_time": "2024-04-09T22:21:04.871Z"
   },
   {
    "duration": 808,
    "start_time": "2024-04-09T22:21:06.273Z"
   },
   {
    "duration": 16,
    "start_time": "2024-04-09T22:21:07.082Z"
   },
   {
    "duration": 12,
    "start_time": "2024-04-09T22:21:07.100Z"
   },
   {
    "duration": 16,
    "start_time": "2024-04-09T22:21:07.113Z"
   },
   {
    "duration": 262,
    "start_time": "2024-04-09T22:21:07.131Z"
   },
   {
    "duration": 131,
    "start_time": "2024-04-09T22:21:07.394Z"
   },
   {
    "duration": 233,
    "start_time": "2024-04-09T22:21:07.526Z"
   },
   {
    "duration": 116,
    "start_time": "2024-04-09T22:21:07.761Z"
   },
   {
    "duration": 25,
    "start_time": "2024-04-09T22:21:07.879Z"
   },
   {
    "duration": 95,
    "start_time": "2024-04-09T22:21:07.905Z"
   },
   {
    "duration": 217,
    "start_time": "2024-04-09T22:21:08.002Z"
   },
   {
    "duration": 3,
    "start_time": "2024-04-09T22:21:08.220Z"
   },
   {
    "duration": 331,
    "start_time": "2024-04-09T22:21:08.224Z"
   },
   {
    "duration": 9,
    "start_time": "2024-04-09T22:21:08.557Z"
   },
   {
    "duration": 14,
    "start_time": "2024-04-09T22:21:08.567Z"
   },
   {
    "duration": 36,
    "start_time": "2024-04-09T22:21:08.583Z"
   },
   {
    "duration": 50,
    "start_time": "2024-04-09T22:21:08.620Z"
   },
   {
    "duration": 21,
    "start_time": "2024-04-09T22:21:08.672Z"
   },
   {
    "duration": 46,
    "start_time": "2024-04-09T22:21:08.695Z"
   },
   {
    "duration": 20,
    "start_time": "2024-04-09T22:21:08.742Z"
   },
   {
    "duration": 18,
    "start_time": "2024-04-09T22:21:08.765Z"
   },
   {
    "duration": 2213,
    "start_time": "2024-04-09T22:21:08.784Z"
   },
   {
    "duration": 1959,
    "start_time": "2024-04-09T22:21:10.998Z"
   },
   {
    "duration": 2212,
    "start_time": "2024-04-09T22:21:12.959Z"
   },
   {
    "duration": 201,
    "start_time": "2024-04-09T22:21:15.173Z"
   },
   {
    "duration": 194,
    "start_time": "2024-04-09T22:21:15.376Z"
   },
   {
    "duration": 30,
    "start_time": "2024-04-09T22:21:15.573Z"
   },
   {
    "duration": 4,
    "start_time": "2024-04-09T22:21:15.605Z"
   },
   {
    "duration": 9,
    "start_time": "2024-04-09T22:21:15.610Z"
   },
   {
    "duration": 12,
    "start_time": "2024-04-09T22:21:15.621Z"
   },
   {
    "duration": 18,
    "start_time": "2024-04-09T22:21:15.634Z"
   },
   {
    "duration": 14,
    "start_time": "2024-04-09T22:21:15.653Z"
   },
   {
    "duration": 12,
    "start_time": "2024-04-09T22:21:15.668Z"
   },
   {
    "duration": 12,
    "start_time": "2024-04-09T22:21:15.681Z"
   },
   {
    "duration": 16,
    "start_time": "2024-04-09T22:21:15.695Z"
   },
   {
    "duration": 1256,
    "start_time": "2024-04-09T22:21:15.712Z"
   },
   {
    "duration": 1317,
    "start_time": "2024-04-09T22:21:42.030Z"
   },
   {
    "duration": 827,
    "start_time": "2024-04-09T22:21:43.349Z"
   },
   {
    "duration": 17,
    "start_time": "2024-04-09T22:21:44.178Z"
   },
   {
    "duration": 13,
    "start_time": "2024-04-09T22:21:44.197Z"
   },
   {
    "duration": 17,
    "start_time": "2024-04-09T22:21:44.212Z"
   },
   {
    "duration": 253,
    "start_time": "2024-04-09T22:21:44.231Z"
   },
   {
    "duration": 132,
    "start_time": "2024-04-09T22:21:44.486Z"
   },
   {
    "duration": 251,
    "start_time": "2024-04-09T22:21:44.620Z"
   },
   {
    "duration": 116,
    "start_time": "2024-04-09T22:21:44.872Z"
   },
   {
    "duration": 25,
    "start_time": "2024-04-09T22:21:44.989Z"
   },
   {
    "duration": 100,
    "start_time": "2024-04-09T22:21:45.015Z"
   },
   {
    "duration": 227,
    "start_time": "2024-04-09T22:21:45.116Z"
   },
   {
    "duration": 3,
    "start_time": "2024-04-09T22:21:45.344Z"
   },
   {
    "duration": 330,
    "start_time": "2024-04-09T22:21:45.350Z"
   },
   {
    "duration": 4,
    "start_time": "2024-04-09T22:21:45.682Z"
   },
   {
    "duration": 19,
    "start_time": "2024-04-09T22:21:45.688Z"
   },
   {
    "duration": 44,
    "start_time": "2024-04-09T22:21:45.709Z"
   },
   {
    "duration": 35,
    "start_time": "2024-04-09T22:21:45.754Z"
   },
   {
    "duration": 20,
    "start_time": "2024-04-09T22:21:45.791Z"
   },
   {
    "duration": 53,
    "start_time": "2024-04-09T22:21:45.812Z"
   },
   {
    "duration": 38,
    "start_time": "2024-04-09T22:21:45.867Z"
   },
   {
    "duration": 11,
    "start_time": "2024-04-09T22:21:45.908Z"
   },
   {
    "duration": 2134,
    "start_time": "2024-04-09T22:21:45.920Z"
   },
   {
    "duration": 2031,
    "start_time": "2024-04-09T22:21:48.055Z"
   },
   {
    "duration": 2080,
    "start_time": "2024-04-09T22:21:50.087Z"
   },
   {
    "duration": 197,
    "start_time": "2024-04-09T22:21:52.168Z"
   },
   {
    "duration": 199,
    "start_time": "2024-04-09T22:21:52.366Z"
   },
   {
    "duration": 33,
    "start_time": "2024-04-09T22:21:52.567Z"
   },
   {
    "duration": 5,
    "start_time": "2024-04-09T22:21:52.601Z"
   },
   {
    "duration": 8,
    "start_time": "2024-04-09T22:21:52.607Z"
   },
   {
    "duration": 9,
    "start_time": "2024-04-09T22:21:52.616Z"
   },
   {
    "duration": 17,
    "start_time": "2024-04-09T22:21:52.626Z"
   },
   {
    "duration": 22,
    "start_time": "2024-04-09T22:21:52.644Z"
   },
   {
    "duration": 4,
    "start_time": "2024-04-09T22:21:52.668Z"
   },
   {
    "duration": 11,
    "start_time": "2024-04-09T22:21:52.674Z"
   },
   {
    "duration": 12,
    "start_time": "2024-04-09T22:21:52.687Z"
   },
   {
    "duration": 1472,
    "start_time": "2024-04-09T22:21:52.700Z"
   },
   {
    "duration": 1516,
    "start_time": "2024-04-09T22:22:21.371Z"
   },
   {
    "duration": 792,
    "start_time": "2024-04-09T22:22:22.888Z"
   },
   {
    "duration": 16,
    "start_time": "2024-04-09T22:22:23.681Z"
   },
   {
    "duration": 11,
    "start_time": "2024-04-09T22:22:23.699Z"
   },
   {
    "duration": 20,
    "start_time": "2024-04-09T22:22:23.712Z"
   },
   {
    "duration": 235,
    "start_time": "2024-04-09T22:22:23.733Z"
   },
   {
    "duration": 125,
    "start_time": "2024-04-09T22:22:23.970Z"
   },
   {
    "duration": 241,
    "start_time": "2024-04-09T22:22:24.096Z"
   },
   {
    "duration": 124,
    "start_time": "2024-04-09T22:22:24.339Z"
   },
   {
    "duration": 27,
    "start_time": "2024-04-09T22:22:24.467Z"
   },
   {
    "duration": 93,
    "start_time": "2024-04-09T22:22:24.496Z"
   },
   {
    "duration": 217,
    "start_time": "2024-04-09T22:22:24.590Z"
   },
   {
    "duration": 3,
    "start_time": "2024-04-09T22:22:24.808Z"
   },
   {
    "duration": 343,
    "start_time": "2024-04-09T22:22:24.813Z"
   },
   {
    "duration": 8,
    "start_time": "2024-04-09T22:22:25.158Z"
   },
   {
    "duration": 11,
    "start_time": "2024-04-09T22:22:25.168Z"
   },
   {
    "duration": 21,
    "start_time": "2024-04-09T22:22:25.181Z"
   },
   {
    "duration": 20,
    "start_time": "2024-04-09T22:22:25.204Z"
   },
   {
    "duration": 40,
    "start_time": "2024-04-09T22:22:25.226Z"
   },
   {
    "duration": 19,
    "start_time": "2024-04-09T22:22:25.268Z"
   },
   {
    "duration": 18,
    "start_time": "2024-04-09T22:22:25.288Z"
   },
   {
    "duration": 7,
    "start_time": "2024-04-09T22:22:25.308Z"
   },
   {
    "duration": 2250,
    "start_time": "2024-04-09T22:22:25.316Z"
   },
   {
    "duration": 1964,
    "start_time": "2024-04-09T22:22:27.567Z"
   },
   {
    "duration": 2111,
    "start_time": "2024-04-09T22:22:29.533Z"
   },
   {
    "duration": 222,
    "start_time": "2024-04-09T22:22:31.645Z"
   },
   {
    "duration": 212,
    "start_time": "2024-04-09T22:22:31.868Z"
   },
   {
    "duration": 34,
    "start_time": "2024-04-09T22:22:32.084Z"
   },
   {
    "duration": 4,
    "start_time": "2024-04-09T22:22:32.119Z"
   },
   {
    "duration": 7,
    "start_time": "2024-04-09T22:22:32.125Z"
   },
   {
    "duration": 6,
    "start_time": "2024-04-09T22:22:32.134Z"
   },
   {
    "duration": 3,
    "start_time": "2024-04-09T22:22:32.166Z"
   },
   {
    "duration": 8,
    "start_time": "2024-04-09T22:22:32.171Z"
   },
   {
    "duration": 8,
    "start_time": "2024-04-09T22:22:32.181Z"
   },
   {
    "duration": 12,
    "start_time": "2024-04-09T22:22:32.190Z"
   },
   {
    "duration": 117,
    "start_time": "2024-04-09T22:22:32.203Z"
   },
   {
    "duration": 0,
    "start_time": "2024-04-09T22:22:32.322Z"
   },
   {
    "duration": 0,
    "start_time": "2024-04-09T22:22:32.323Z"
   },
   {
    "duration": 0,
    "start_time": "2024-04-09T22:22:32.324Z"
   },
   {
    "duration": 0,
    "start_time": "2024-04-09T22:22:32.325Z"
   },
   {
    "duration": 0,
    "start_time": "2024-04-09T22:22:32.328Z"
   },
   {
    "duration": 0,
    "start_time": "2024-04-09T22:22:32.329Z"
   },
   {
    "duration": 1427,
    "start_time": "2024-04-09T22:23:51.641Z"
   },
   {
    "duration": 825,
    "start_time": "2024-04-09T22:23:53.070Z"
   },
   {
    "duration": 19,
    "start_time": "2024-04-09T22:23:53.896Z"
   },
   {
    "duration": 13,
    "start_time": "2024-04-09T22:23:53.917Z"
   },
   {
    "duration": 41,
    "start_time": "2024-04-09T22:23:53.933Z"
   },
   {
    "duration": 222,
    "start_time": "2024-04-09T22:23:53.975Z"
   },
   {
    "duration": 120,
    "start_time": "2024-04-09T22:23:54.199Z"
   },
   {
    "duration": 238,
    "start_time": "2024-04-09T22:23:54.321Z"
   },
   {
    "duration": 121,
    "start_time": "2024-04-09T22:23:54.561Z"
   },
   {
    "duration": 24,
    "start_time": "2024-04-09T22:23:54.684Z"
   },
   {
    "duration": 98,
    "start_time": "2024-04-09T22:23:54.709Z"
   },
   {
    "duration": 215,
    "start_time": "2024-04-09T22:23:54.808Z"
   },
   {
    "duration": 3,
    "start_time": "2024-04-09T22:23:55.024Z"
   },
   {
    "duration": 340,
    "start_time": "2024-04-09T22:23:55.030Z"
   },
   {
    "duration": 5,
    "start_time": "2024-04-09T22:23:55.372Z"
   },
   {
    "duration": 9,
    "start_time": "2024-04-09T22:23:55.379Z"
   },
   {
    "duration": 28,
    "start_time": "2024-04-09T22:23:55.389Z"
   },
   {
    "duration": 47,
    "start_time": "2024-04-09T22:23:55.418Z"
   },
   {
    "duration": 19,
    "start_time": "2024-04-09T22:23:55.467Z"
   },
   {
    "duration": 35,
    "start_time": "2024-04-09T22:23:55.487Z"
   },
   {
    "duration": 4,
    "start_time": "2024-04-09T22:23:55.524Z"
   },
   {
    "duration": 2214,
    "start_time": "2024-04-09T22:23:55.529Z"
   },
   {
    "duration": 2074,
    "start_time": "2024-04-09T22:23:57.745Z"
   },
   {
    "duration": 2105,
    "start_time": "2024-04-09T22:23:59.821Z"
   },
   {
    "duration": 196,
    "start_time": "2024-04-09T22:24:01.927Z"
   },
   {
    "duration": 193,
    "start_time": "2024-04-09T22:24:02.125Z"
   },
   {
    "duration": 31,
    "start_time": "2024-04-09T22:24:02.320Z"
   },
   {
    "duration": 5,
    "start_time": "2024-04-09T22:24:02.365Z"
   },
   {
    "duration": 51,
    "start_time": "2024-04-09T22:24:02.371Z"
   },
   {
    "duration": 20,
    "start_time": "2024-04-09T22:24:02.423Z"
   },
   {
    "duration": 31,
    "start_time": "2024-04-09T22:24:02.445Z"
   },
   {
    "duration": 20,
    "start_time": "2024-04-09T22:24:02.478Z"
   },
   {
    "duration": 26,
    "start_time": "2024-04-09T22:24:02.500Z"
   },
   {
    "duration": 26,
    "start_time": "2024-04-09T22:24:02.528Z"
   },
   {
    "duration": 141,
    "start_time": "2024-04-09T22:24:02.556Z"
   },
   {
    "duration": 0,
    "start_time": "2024-04-09T22:24:02.699Z"
   },
   {
    "duration": 0,
    "start_time": "2024-04-09T22:24:02.700Z"
   },
   {
    "duration": 0,
    "start_time": "2024-04-09T22:24:02.701Z"
   },
   {
    "duration": 0,
    "start_time": "2024-04-09T22:24:02.702Z"
   },
   {
    "duration": 0,
    "start_time": "2024-04-09T22:24:02.704Z"
   },
   {
    "duration": 0,
    "start_time": "2024-04-09T22:24:02.705Z"
   },
   {
    "duration": 1407,
    "start_time": "2024-04-09T22:28:56.543Z"
   },
   {
    "duration": 805,
    "start_time": "2024-04-09T22:28:57.952Z"
   },
   {
    "duration": 21,
    "start_time": "2024-04-09T22:28:58.758Z"
   },
   {
    "duration": 12,
    "start_time": "2024-04-09T22:28:58.781Z"
   },
   {
    "duration": 16,
    "start_time": "2024-04-09T22:28:58.795Z"
   },
   {
    "duration": 242,
    "start_time": "2024-04-09T22:28:58.813Z"
   },
   {
    "duration": 136,
    "start_time": "2024-04-09T22:28:59.056Z"
   },
   {
    "duration": 258,
    "start_time": "2024-04-09T22:28:59.194Z"
   },
   {
    "duration": 116,
    "start_time": "2024-04-09T22:28:59.453Z"
   },
   {
    "duration": 24,
    "start_time": "2024-04-09T22:28:59.571Z"
   },
   {
    "duration": 100,
    "start_time": "2024-04-09T22:28:59.596Z"
   },
   {
    "duration": 222,
    "start_time": "2024-04-09T22:28:59.698Z"
   },
   {
    "duration": 3,
    "start_time": "2024-04-09T22:28:59.921Z"
   },
   {
    "duration": 359,
    "start_time": "2024-04-09T22:28:59.927Z"
   },
   {
    "duration": 4,
    "start_time": "2024-04-09T22:29:00.288Z"
   },
   {
    "duration": 42,
    "start_time": "2024-04-09T22:29:00.294Z"
   },
   {
    "duration": 43,
    "start_time": "2024-04-09T22:29:00.337Z"
   },
   {
    "duration": 36,
    "start_time": "2024-04-09T22:29:00.382Z"
   },
   {
    "duration": 34,
    "start_time": "2024-04-09T22:29:00.420Z"
   },
   {
    "duration": 50,
    "start_time": "2024-04-09T22:29:00.455Z"
   },
   {
    "duration": 41,
    "start_time": "2024-04-09T22:29:00.506Z"
   },
   {
    "duration": 2223,
    "start_time": "2024-04-09T22:29:00.549Z"
   },
   {
    "duration": 2043,
    "start_time": "2024-04-09T22:29:02.774Z"
   },
   {
    "duration": 2120,
    "start_time": "2024-04-09T22:29:04.819Z"
   },
   {
    "duration": 204,
    "start_time": "2024-04-09T22:29:06.942Z"
   },
   {
    "duration": 183,
    "start_time": "2024-04-09T22:29:07.148Z"
   },
   {
    "duration": 43,
    "start_time": "2024-04-09T22:29:07.333Z"
   },
   {
    "duration": 5,
    "start_time": "2024-04-09T22:29:07.378Z"
   },
   {
    "duration": 11,
    "start_time": "2024-04-09T22:29:07.385Z"
   },
   {
    "duration": 7,
    "start_time": "2024-04-09T22:29:07.398Z"
   },
   {
    "duration": 8,
    "start_time": "2024-04-09T22:29:07.406Z"
   },
   {
    "duration": 7,
    "start_time": "2024-04-09T22:29:07.415Z"
   },
   {
    "duration": 7,
    "start_time": "2024-04-09T22:29:07.423Z"
   },
   {
    "duration": 14,
    "start_time": "2024-04-09T22:29:07.431Z"
   },
   {
    "duration": 22,
    "start_time": "2024-04-09T22:29:07.447Z"
   },
   {
    "duration": 1197,
    "start_time": "2024-04-09T22:29:07.470Z"
   },
   {
    "duration": 33632,
    "start_time": "2024-04-09T22:29:08.668Z"
   },
   {
    "duration": 7,
    "start_time": "2024-04-09T22:29:42.301Z"
   },
   {
    "duration": 254758,
    "start_time": "2024-04-09T22:29:42.309Z"
   },
   {
    "duration": 66538,
    "start_time": "2024-04-09T22:33:57.068Z"
   },
   {
    "duration": 8,
    "start_time": "2024-04-09T22:35:03.609Z"
   }
  ],
  "kernelspec": {
   "display_name": "Python 3 (ipykernel)",
   "language": "python",
   "name": "python3"
  },
  "language_info": {
   "codemirror_mode": {
    "name": "ipython",
    "version": 3
   },
   "file_extension": ".py",
   "mimetype": "text/x-python",
   "name": "python",
   "nbconvert_exporter": "python",
   "pygments_lexer": "ipython3",
   "version": "3.9.5"
  },
  "toc": {
   "base_numbering": 1,
   "nav_menu": {},
   "number_sections": true,
   "sideBar": true,
   "skip_h1_title": true,
   "title_cell": "Содержание",
   "title_sidebar": "Contents",
   "toc_cell": true,
   "toc_position": {
    "height": "calc(100% - 180px)",
    "left": "10px",
    "top": "150px",
    "width": "165px"
   },
   "toc_section_display": true,
   "toc_window_display": true
  }
 },
 "nbformat": 4,
 "nbformat_minor": 2
}
